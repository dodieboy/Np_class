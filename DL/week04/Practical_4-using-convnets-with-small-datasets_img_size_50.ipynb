{
 "cells": [
  {
   "cell_type": "markdown",
   "metadata": {},
   "source": [
    "<table class=\"table table-bordered\">\n",
    "    <tr>\n",
    "        <th style=\"text-align:center; width:25%\"><img src='https://www.np.edu.sg/PublishingImages/Pages/default/odp/ICT.jpg' style=\"width: 250px; height: 125px; \"></th>\n",
    "        <th style=\"text-align:center;\"><h1>Deep Learning</h1><h2>Practical 4 - Using Convnets with Small Datasets</h2><h3>AY2020/21 Semester</h3></th>\n",
    "    </tr>\n",
    "</table>"
   ]
  },
  {
   "cell_type": "code",
   "execution_count": 1,
   "metadata": {},
   "outputs": [
    {
     "name": "stdout",
     "output_type": "stream",
     "text": [
      "keras:  2.2.4-tf\n"
     ]
    },
    {
     "data": {
      "text/html": [
       "<style>.container { width:95% !important; }</style>"
      ],
      "text/plain": [
       "<IPython.core.display.HTML object>"
      ]
     },
     "metadata": {},
     "output_type": "display_data"
    }
   ],
   "source": [
    "from tensorflow import keras\n",
    "print('keras: ', keras.__version__)\n",
    "\n",
    "from IPython.core.display import display, HTML\n",
    "display(HTML(\"<style>.container { width:95% !important; }</style>\"))"
   ]
  },
  {
   "cell_type": "markdown",
   "metadata": {},
   "source": [
    "## Objectives\n",
    "After completing this practical exercise, students should be able to:\n",
    "1. [Train a convnet from scratch on a small dataset](#demo)\n",
    "2. [Exercise: Tune parameters of a convnet model](#exc)"
   ]
  },
  {
   "cell_type": "markdown",
   "metadata": {},
   "source": [
    "## 1. Training a convnet from scratch on a small dataset <a id='demo' />\n",
    "\n",
    "In this practical example, we will focus on classifying images as \"dogs\" or \"cats\". We will start by naively training a small convnet on our training samples, without any regularization, to set a baseline for what can be achieved. This will get us to a classification accuracy of around 70%. At that point, our main issue will be overfitting. Then we will introduce *data augmentation*, a powerful technique for mitigating overfitting in computer vision. By leveraging data augmentation, we will improve our network to reach an accuracy of around 80%."
   ]
  },
  {
   "cell_type": "markdown",
   "metadata": {},
   "source": [
    "### 1.1 Downloading the data\n",
    "\n",
    "The cats vs. dogs dataset that we will use isn't packaged with Keras. It was made available by Kaggle.com as part of a computer vision competition in late 2013, back when convnets weren't quite mainstream. The original dataset is available at: \n",
    "`https://www.kaggle.com/c/dogs-vs-cats/data`."
   ]
  },
  {
   "cell_type": "markdown",
   "metadata": {},
   "source": [
    "This original dataset contains 25,000 images of dogs and cats (12,500 from each class) and is 543MB large (compressed). In this Practical we will use a subset (\"cats_and_dogs_small.zip\") of the original dataset. It contains 4000 pictures of cats and dogs (2000 cats, 2000 dogs) and we will use 2000 pictures (1000 cats, 1000 dogs) for training, 1000 (500 cats, 500 dogs) for validation, and finally 1000 (500 cats, 500 dogs) for testing. You can download this small dataset (\"cats_and_dogs_small.zip\", around 90MB) from MEL and then unzip it. After that please assign directory you save the images to base_dir as shown below."
   ]
  },
  {
   "cell_type": "code",
   "execution_count": 2,
   "metadata": {},
   "outputs": [],
   "source": [
    "import os\n",
    "#base_dir is the directory where you stored the cats and dogs dataset\n",
    "base_dir = 'C:/Users/lji6/Desktop/Modules_Local/DL/Data/cats_and_dogs_small'\n",
    "\n",
    "train_dir = os.path.join(base_dir, 'train')\n",
    "validation_dir = os.path.join(base_dir, 'validation')\n",
    "test_dir = os.path.join(base_dir, 'test')"
   ]
  },
  {
   "cell_type": "markdown",
   "metadata": {},
   "source": [
    "### 1.2 Building our network\n",
    "\n",
    "Our convnet will be a stack of alternated `Conv2D` (with `relu` activation) and `MaxPooling2D` layers. We start from inputs of size 50x50 (a somewhat arbitrary choice), we end up with output of size 1x1 right before the `Flatten` layer.\n",
    "\n",
    "Note that the depth of the output is progressively increasing in the network (from 32 to 128), while the size of the output is \n",
    "decreasing (from 48x48 to 1x1). This is a pattern that you will see in almost all convnets.\n",
    "\n",
    "Since we are attacking a binary classification problem, we are ending the network with a single unit (a `Dense` layer of size 1) and a `sigmoid` activation. This unit will output the classification probability of one class or the other."
   ]
  },
  {
   "cell_type": "code",
   "execution_count": 3,
   "metadata": {},
   "outputs": [
    {
     "name": "stdout",
     "output_type": "stream",
     "text": [
      "WARNING:tensorflow:From C:\\Users\\lji6\\AppData\\Local\\Continuum\\anaconda3\\lib\\site-packages\\tensorflow_core\\python\\ops\\resource_variable_ops.py:1630: calling BaseResourceVariable.__init__ (from tensorflow.python.ops.resource_variable_ops) with constraint is deprecated and will be removed in a future version.\n",
      "Instructions for updating:\n",
      "If using Keras pass *_constraint arguments to layers.\n"
     ]
    }
   ],
   "source": [
    "from tensorflow.keras import layers\n",
    "from tensorflow.keras import models\n",
    "\n",
    "# We set image size as 50*50.\n",
    "img_size = 50\n",
    "\n",
    "model = models.Sequential()\n",
    "model.add(layers.Conv2D(32, (3, 3), activation='relu',\n",
    "                        input_shape=(img_size, img_size, 3)))\n",
    "model.add(layers.MaxPooling2D((2, 2)))\n",
    "model.add(layers.Conv2D(64, (3, 3), activation='relu'))\n",
    "model.add(layers.MaxPooling2D((2, 2)))\n",
    "model.add(layers.Conv2D(128, (3, 3), activation='relu'))\n",
    "model.add(layers.MaxPooling2D((2, 2)))\n",
    "model.add(layers.Conv2D(128, (3, 3), activation='relu'))\n",
    "model.add(layers.MaxPooling2D((2, 2)))\n",
    "model.add(layers.Flatten())\n",
    "model.add(layers.Dense(512, activation='relu'))\n",
    "model.add(layers.Dense(1, activation='sigmoid'))"
   ]
  },
  {
   "cell_type": "markdown",
   "metadata": {},
   "source": [
    "Let's take a look at how the dimensions of the Output Shape change with every successive layer:"
   ]
  },
  {
   "cell_type": "code",
   "execution_count": 4,
   "metadata": {},
   "outputs": [
    {
     "name": "stdout",
     "output_type": "stream",
     "text": [
      "Model: \"sequential\"\n",
      "_________________________________________________________________\n",
      "Layer (type)                 Output Shape              Param #   \n",
      "=================================================================\n",
      "conv2d (Conv2D)              (None, 48, 48, 32)        896       \n",
      "_________________________________________________________________\n",
      "max_pooling2d (MaxPooling2D) (None, 24, 24, 32)        0         \n",
      "_________________________________________________________________\n",
      "conv2d_1 (Conv2D)            (None, 22, 22, 64)        18496     \n",
      "_________________________________________________________________\n",
      "max_pooling2d_1 (MaxPooling2 (None, 11, 11, 64)        0         \n",
      "_________________________________________________________________\n",
      "conv2d_2 (Conv2D)            (None, 9, 9, 128)         73856     \n",
      "_________________________________________________________________\n",
      "max_pooling2d_2 (MaxPooling2 (None, 4, 4, 128)         0         \n",
      "_________________________________________________________________\n",
      "conv2d_3 (Conv2D)            (None, 2, 2, 128)         147584    \n",
      "_________________________________________________________________\n",
      "max_pooling2d_3 (MaxPooling2 (None, 1, 1, 128)         0         \n",
      "_________________________________________________________________\n",
      "flatten (Flatten)            (None, 128)               0         \n",
      "_________________________________________________________________\n",
      "dense (Dense)                (None, 512)               66048     \n",
      "_________________________________________________________________\n",
      "dense_1 (Dense)              (None, 1)                 513       \n",
      "=================================================================\n",
      "Total params: 307,393\n",
      "Trainable params: 307,393\n",
      "Non-trainable params: 0\n",
      "_________________________________________________________________\n"
     ]
    }
   ],
   "source": [
    "model.summary()"
   ]
  },
  {
   "cell_type": "markdown",
   "metadata": {},
   "source": [
    "For our compilation step, we'll go with the `RMSprop` optimizer as usual. Since we ended our network with a single sigmoid unit, we will use binary crossentropy as our loss."
   ]
  },
  {
   "cell_type": "code",
   "execution_count": 5,
   "metadata": {},
   "outputs": [
    {
     "name": "stdout",
     "output_type": "stream",
     "text": [
      "WARNING:tensorflow:From C:\\Users\\lji6\\AppData\\Local\\Continuum\\anaconda3\\lib\\site-packages\\tensorflow_core\\python\\ops\\nn_impl.py:183: where (from tensorflow.python.ops.array_ops) is deprecated and will be removed in a future version.\n",
      "Instructions for updating:\n",
      "Use tf.where in 2.0, which has the same broadcast rule as np.where\n"
     ]
    }
   ],
   "source": [
    "from tensorflow.keras import optimizers\n",
    "\n",
    "model.compile(loss='binary_crossentropy',\n",
    "              optimizer=optimizers.RMSprop(lr=1e-4),\n",
    "              metrics=['acc'])"
   ]
  },
  {
   "cell_type": "markdown",
   "metadata": {},
   "source": [
    "### 1.3 Data preprocessing\n",
    "\n",
    "As you already know by now, data should be formatted into appropriately pre-processed floating point tensors before being fed into our \n",
    "network. Currently, our data sits on a drive as JPEG files, so the steps for getting it into our network are roughly:\n",
    "\n",
    "* Read the picture files.\n",
    "* Decode the JPEG content to RBG grids of pixels.\n",
    "* Convert these into floating point tensors.\n",
    "* Rescale the pixel values (between 0 and 255) to the [0, 1] interval\n",
    "\n",
    "It may seem a bit daunting, but thankfully Keras has utilities to take care of these steps automatically. Keras has a module with image \n",
    "processing helper tools, located at `tensorflow.keras.preprocessing.image`. It contains the class `ImageDataGenerator` which allows to \n",
    "quickly set up Python generators that can automatically turn image files on disk into batches of pre-processed tensors. This is what we will use here."
   ]
  },
  {
   "cell_type": "code",
   "execution_count": 6,
   "metadata": {},
   "outputs": [
    {
     "name": "stdout",
     "output_type": "stream",
     "text": [
      "Found 2000 images belonging to 2 classes.\n",
      "Found 1000 images belonging to 2 classes.\n"
     ]
    }
   ],
   "source": [
    "from tensorflow.keras.preprocessing.image import ImageDataGenerator\n",
    "\n",
    "# All images will be rescaled by 1./255\n",
    "train_datagen = ImageDataGenerator(rescale=1./255)\n",
    "test_datagen = ImageDataGenerator(rescale=1./255)\n",
    "\n",
    "train_generator = train_datagen.flow_from_directory(\n",
    "        # This is the target directory\n",
    "        train_dir,\n",
    "        # All images will be resized to 50x50\n",
    "        target_size=(img_size, img_size),\n",
    "        batch_size=20,\n",
    "        # Since we use binary_crossentropy loss, we need binary labels\n",
    "        class_mode='binary')\n",
    "\n",
    "validation_generator = test_datagen.flow_from_directory(\n",
    "        validation_dir,\n",
    "        target_size=(img_size, img_size),\n",
    "        batch_size=20,\n",
    "        class_mode='binary')"
   ]
  },
  {
   "cell_type": "markdown",
   "metadata": {},
   "source": [
    "Let's take a look at the output of one of these generators: it yields batches of 50x50 RGB images (shape `(20, 50, 50, 3)`) and binary \n",
    "labels (shape `(20,)`). 20 is the number of samples in each batch (the batch size). Note that the generator yields these batches \n",
    "indefinitely: it just loops endlessly over the images present in the target folder, so we need to `break` the iteration loop at some point."
   ]
  },
  {
   "cell_type": "code",
   "execution_count": 7,
   "metadata": {},
   "outputs": [
    {
     "name": "stdout",
     "output_type": "stream",
     "text": [
      "data batch shape: (20, 50, 50, 3)\n",
      "labels batch shape: (20,)\n"
     ]
    }
   ],
   "source": [
    "for data_batch, labels_batch in train_generator:\n",
    "    print('data batch shape:', data_batch.shape)\n",
    "    print('labels batch shape:', labels_batch.shape)\n",
    "    break"
   ]
  },
  {
   "cell_type": "markdown",
   "metadata": {},
   "source": [
    "Let's fit our model to the data using the generator. We do it using the `fit_generator` method, the equivalent of `fit` for data generators like ours. It expects as first argument a Python generator that will yield batches of inputs and targets indefinitely. \n",
    "Because the data is being generated endlessly, the generator needs to know how many samples to draw from the generator before declaring an epoch over. This is the role of the `steps_per_epoch` argument: after having drawn `steps_per_epoch` batches from the generator, i.e. after having run for `steps_per_epoch` gradient descent steps, the fitting process will go to the next epoch. In our case, batches are 20-sample large, so it will take 100 batches (=20*100 samples) until we see our target of 2000 samples.\n",
    "\n",
    "When using `fit_generator`, one may pass a `validation_data` argument, much like with the `fit` method. Importantly, this argument is mostly a data generator.  After you pass a generator to `validation_data`, then \n",
    "this generator is expected to yield batches of validation data endlessly, and thus you should also specify the `validation_steps` argument, which tells the process how many batches to draw from the validation generator for evaluation."
   ]
  },
  {
   "cell_type": "code",
   "execution_count": 8,
   "metadata": {},
   "outputs": [
    {
     "name": "stdout",
     "output_type": "stream",
     "text": [
      "Epoch 1/30\n",
      " 99/100 [============================>.] - ETA: 0s - loss: 0.6898 - acc: 0.5227Epoch 1/30\n",
      "100/100 [==============================] - 8s 84ms/step - loss: 0.6897 - acc: 0.5230 - val_loss: 0.6956 - val_acc: 0.5000\n",
      "Epoch 2/30\n",
      " 98/100 [============================>.] - ETA: 0s - loss: 0.6839 - acc: 0.5689Epoch 1/30\n",
      "100/100 [==============================] - 6s 58ms/step - loss: 0.6844 - acc: 0.5660 - val_loss: 0.6758 - val_acc: 0.5890\n",
      "Epoch 3/30\n",
      " 98/100 [============================>.] - ETA: 0s - loss: 0.6705 - acc: 0.5969Epoch 1/30\n",
      "100/100 [==============================] - 6s 59ms/step - loss: 0.6696 - acc: 0.5985 - val_loss: 0.6632 - val_acc: 0.6030\n",
      "Epoch 4/30\n",
      " 99/100 [============================>.] - ETA: 0s - loss: 0.6552 - acc: 0.6247Epoch 1/30\n",
      "100/100 [==============================] - 6s 59ms/step - loss: 0.6559 - acc: 0.6235 - val_loss: 0.6586 - val_acc: 0.6010\n",
      "Epoch 5/30\n",
      " 99/100 [============================>.] - ETA: 0s - loss: 0.6454 - acc: 0.6374Epoch 1/30\n",
      "100/100 [==============================] - 6s 59ms/step - loss: 0.6455 - acc: 0.6375 - val_loss: 0.6975 - val_acc: 0.5610\n",
      "Epoch 6/30\n",
      " 98/100 [============================>.] - ETA: 0s - loss: 0.6398 - acc: 0.6352Epoch 1/30\n",
      "100/100 [==============================] - 6s 59ms/step - loss: 0.6399 - acc: 0.6350 - val_loss: 0.6399 - val_acc: 0.6260\n",
      "Epoch 7/30\n",
      " 98/100 [============================>.] - ETA: 0s - loss: 0.6302 - acc: 0.6500Epoch 1/30\n",
      "100/100 [==============================] - 6s 59ms/step - loss: 0.6298 - acc: 0.6505 - val_loss: 0.6470 - val_acc: 0.6170\n",
      "Epoch 8/30\n",
      " 98/100 [============================>.] - ETA: 0s - loss: 0.6236 - acc: 0.6648Epoch 1/30\n",
      "100/100 [==============================] - 6s 59ms/step - loss: 0.6240 - acc: 0.6625 - val_loss: 0.6421 - val_acc: 0.6320\n",
      "Epoch 9/30\n",
      " 99/100 [============================>.] - ETA: 0s - loss: 0.6137 - acc: 0.6677Epoch 1/30\n",
      "100/100 [==============================] - 6s 59ms/step - loss: 0.6135 - acc: 0.6670 - val_loss: 0.6297 - val_acc: 0.6460\n",
      "Epoch 10/30\n",
      " 98/100 [============================>.] - ETA: 0s - loss: 0.5989 - acc: 0.6781Epoch 1/30\n",
      "100/100 [==============================] - 6s 58ms/step - loss: 0.5996 - acc: 0.6785 - val_loss: 0.6202 - val_acc: 0.6380\n",
      "Epoch 11/30\n",
      " 98/100 [============================>.] - ETA: 0s - loss: 0.5956 - acc: 0.6801Epoch 1/30\n",
      "100/100 [==============================] - 6s 58ms/step - loss: 0.5971 - acc: 0.6785 - val_loss: 0.6147 - val_acc: 0.6430\n",
      "Epoch 12/30\n",
      " 99/100 [============================>.] - ETA: 0s - loss: 0.5827 - acc: 0.6914Epoch 1/30\n",
      "100/100 [==============================] - 7s 70ms/step - loss: 0.5837 - acc: 0.6895 - val_loss: 0.6784 - val_acc: 0.6130\n",
      "Epoch 13/30\n",
      " 99/100 [============================>.] - ETA: 0s - loss: 0.5800 - acc: 0.6909Epoch 1/30\n",
      "100/100 [==============================] - 6s 59ms/step - loss: 0.5808 - acc: 0.6890 - val_loss: 0.6388 - val_acc: 0.6350\n",
      "Epoch 14/30\n",
      " 99/100 [============================>.] - ETA: 0s - loss: 0.5654 - acc: 0.7091Epoch 1/30\n",
      "100/100 [==============================] - 6s 60ms/step - loss: 0.5649 - acc: 0.7100 - val_loss: 0.6927 - val_acc: 0.6010\n",
      "Epoch 15/30\n",
      " 98/100 [============================>.] - ETA: 0s - loss: 0.5478 - acc: 0.7327Epoch 1/30\n",
      "100/100 [==============================] - 6s 62ms/step - loss: 0.5472 - acc: 0.7330 - val_loss: 0.5982 - val_acc: 0.6610\n",
      "Epoch 16/30\n",
      " 99/100 [============================>.] - ETA: 0s - loss: 0.5366 - acc: 0.7323Epoch 1/30\n",
      "100/100 [==============================] - 6s 62ms/step - loss: 0.5365 - acc: 0.7325 - val_loss: 0.5981 - val_acc: 0.6640\n",
      "Epoch 17/30\n",
      " 98/100 [============================>.] - ETA: 0s - loss: 0.5112 - acc: 0.7541Epoch 1/30\n",
      "100/100 [==============================] - 6s 61ms/step - loss: 0.5099 - acc: 0.7540 - val_loss: 0.5892 - val_acc: 0.6850\n",
      "Epoch 18/30\n",
      " 99/100 [============================>.] - ETA: 0s - loss: 0.5028 - acc: 0.7505Epoch 1/30\n",
      "100/100 [==============================] - 6s 62ms/step - loss: 0.5020 - acc: 0.7520 - val_loss: 0.5892 - val_acc: 0.6780\n",
      "Epoch 19/30\n",
      " 98/100 [============================>.] - ETA: 0s - loss: 0.4876 - acc: 0.7689Epoch 1/30\n",
      "100/100 [==============================] - 7s 66ms/step - loss: 0.4903 - acc: 0.7650 - val_loss: 0.6191 - val_acc: 0.6580\n",
      "Epoch 20/30\n",
      " 99/100 [============================>.] - ETA: 0s - loss: 0.4691 - acc: 0.7843Epoch 1/30\n",
      "100/100 [==============================] - 6s 60ms/step - loss: 0.4686 - acc: 0.7850 - val_loss: 0.6786 - val_acc: 0.6350\n",
      "Epoch 21/30\n",
      " 99/100 [============================>.] - ETA: 0s - loss: 0.4552 - acc: 0.7965Epoch 1/30\n",
      "100/100 [==============================] - 6s 59ms/step - loss: 0.4547 - acc: 0.7965 - val_loss: 0.5538 - val_acc: 0.7160\n",
      "Epoch 22/30\n",
      " 98/100 [============================>.] - ETA: 0s - loss: 0.4353 - acc: 0.8020Epoch 1/30\n",
      "100/100 [==============================] - 6s 58ms/step - loss: 0.4393 - acc: 0.7995 - val_loss: 0.5669 - val_acc: 0.7040\n",
      "Epoch 23/30\n",
      " 98/100 [============================>.] - ETA: 0s - loss: 0.4122 - acc: 0.8112Epoch 1/30\n",
      "100/100 [==============================] - 6s 59ms/step - loss: 0.4132 - acc: 0.8120 - val_loss: 0.7175 - val_acc: 0.6260\n",
      "Epoch 24/30\n",
      " 98/100 [============================>.] - ETA: 0s - loss: 0.4126 - acc: 0.8153Epoch 1/30\n",
      "100/100 [==============================] - 6s 58ms/step - loss: 0.4117 - acc: 0.8155 - val_loss: 0.5486 - val_acc: 0.7140\n",
      "Epoch 25/30\n",
      " 99/100 [============================>.] - ETA: 0s - loss: 0.3901 - acc: 0.8308Epoch 1/30\n",
      "100/100 [==============================] - 6s 58ms/step - loss: 0.3894 - acc: 0.8310 - val_loss: 0.5628 - val_acc: 0.7220\n",
      "Epoch 26/30\n",
      " 99/100 [============================>.] - ETA: 0s - loss: 0.3813 - acc: 0.8359Epoch 1/30\n",
      "100/100 [==============================] - 6s 58ms/step - loss: 0.3799 - acc: 0.8375 - val_loss: 0.5536 - val_acc: 0.7170\n",
      "Epoch 27/30\n",
      " 99/100 [============================>.] - ETA: 0s - loss: 0.3570 - acc: 0.8505Epoch 1/30\n",
      "100/100 [==============================] - 6s 58ms/step - loss: 0.3561 - acc: 0.8510 - val_loss: 0.5508 - val_acc: 0.7290\n",
      "Epoch 28/30\n",
      " 98/100 [============================>.] - ETA: 0s - loss: 0.3490 - acc: 0.8515Epoch 1/30\n",
      "100/100 [==============================] - 6s 58ms/step - loss: 0.3490 - acc: 0.8510 - val_loss: 0.6070 - val_acc: 0.6900\n",
      "Epoch 29/30\n",
      " 98/100 [============================>.] - ETA: 0s - loss: 0.3166 - acc: 0.8699Epoch 1/30\n",
      "100/100 [==============================] - 6s 58ms/step - loss: 0.3173 - acc: 0.8695 - val_loss: 0.5552 - val_acc: 0.7240\n",
      "Epoch 30/30\n",
      " 99/100 [============================>.] - ETA: 0s - loss: 0.3152 - acc: 0.8717Epoch 1/30\n",
      "100/100 [==============================] - 6s 58ms/step - loss: 0.3144 - acc: 0.8715 - val_loss: 0.5664 - val_acc: 0.7270\n"
     ]
    }
   ],
   "source": [
    "history = model.fit_generator(\n",
    "      train_generator,\n",
    "      steps_per_epoch=100, # batch: 20 * 100 = 2000 training images\n",
    "      epochs=30,\n",
    "      validation_data=validation_generator,\n",
    "      validation_steps=50) # 20 * 50 = 1000 = 1000 validation images"
   ]
  },
  {
   "cell_type": "markdown",
   "metadata": {
    "collapsed": true
   },
   "source": [
    "It is good practice to always save your models after training:"
   ]
  },
  {
   "cell_type": "code",
   "execution_count": 9,
   "metadata": {},
   "outputs": [],
   "source": [
    "#model.save('cats_and_dogs_small_1.h5')"
   ]
  },
  {
   "cell_type": "markdown",
   "metadata": {},
   "source": [
    "Let's plot the loss and accuracy of the model over the training and validation data during training:"
   ]
  },
  {
   "cell_type": "code",
   "execution_count": 10,
   "metadata": {},
   "outputs": [
    {
     "data": {
      "image/png": "[encoded data removed]",
      "text/plain": [
       "<Figure size 432x288 with 1 Axes>"
      ]
     },
     "metadata": {
      "needs_background": "light"
     },
     "output_type": "display_data"
    },
    {
     "data": {
      "image/png": "[encoded data removed]",
      "text/plain": [
       "<Figure size 432x288 with 1 Axes>"
      ]
     },
     "metadata": {
      "needs_background": "light"
     },
     "output_type": "display_data"
    }
   ],
   "source": [
    "import matplotlib.pyplot as plt\n",
    "%matplotlib inline\n",
    "\n",
    "acc = history.history['acc']\n",
    "val_acc = history.history['val_acc']\n",
    "loss = history.history['loss']\n",
    "val_loss = history.history['val_loss']\n",
    "\n",
    "epochs = range(len(acc))\n",
    "\n",
    "plt.plot(epochs, acc, 'bo', label='Training acc')\n",
    "plt.plot(epochs, val_acc, 'b', label='Validation acc')\n",
    "plt.title('Training and validation accuracy')\n",
    "plt.legend()\n",
    "\n",
    "plt.figure()\n",
    "\n",
    "plt.plot(epochs, loss, 'bo', label='Training loss')\n",
    "plt.plot(epochs, val_loss, 'b', label='Validation loss')\n",
    "plt.title('Training and validation loss')\n",
    "plt.legend()\n",
    "\n",
    "plt.show()"
   ]
  },
  {
   "cell_type": "markdown",
   "metadata": {},
   "source": [
    "We can easily see overfitting through these plots. Our training accuracy increases linearly over time, until it reaches nearly 90%, while our validation accuracy stalls at around 70%. Our validation loss reaches its minimum after only a few epochs then stalls, while the training loss keeps decreasing linearly until it reaches nearly 0.\n",
    "\n",
    "Because we only have relatively few training samples (2000), overfitting is going to be our number one concern. You already know about a number of techniques that can help mitigate overfitting, such as dropout and weight decay (L2 regularization). We are now going to introduce a new one, specific to computer vision, and used almost universally when processing images with deep learning models: *data augmentation*."
   ]
  },
  {
   "cell_type": "markdown",
   "metadata": {},
   "source": [
    "### 1.4 Using data augmentation\n",
    "\n",
    "Overfitting is caused by having too few samples to learn from, rendering us unable to train a model able to generalize to new data. \n",
    "Given infinite data, our model would be exposed to every possible aspect of the data distribution at hand: we would never overfit. Data \n",
    "augmentation takes the approach of generating more training data from existing training samples, by \"augmenting\" the samples via a number \n",
    "of random transformations that yield believable-looking images. The goal is that at training time, our model would never see the exact same \n",
    "picture twice. This helps the model get exposed to more aspects of the data and generalize better.\n",
    "\n",
    "In Keras, this can be done by configuring a number of random transformations to be performed on the images read by our `ImageDataGenerator` \n",
    "instance. Let's get started with an example:"
   ]
  },
  {
   "cell_type": "code",
   "execution_count": 11,
   "metadata": {},
   "outputs": [],
   "source": [
    "datagen = ImageDataGenerator(\n",
    "      rotation_range=40,\n",
    "      width_shift_range=0.2,\n",
    "      height_shift_range=0.2,\n",
    "      shear_range=0.2,\n",
    "      zoom_range=0.2,\n",
    "      horizontal_flip=True,\n",
    "      fill_mode='nearest')"
   ]
  },
  {
   "cell_type": "markdown",
   "metadata": {},
   "source": [
    "These are just a few of the options available (for more, see the Keras documentation). Let's quickly go over what we just wrote:\n",
    "\n",
    "* `rotation_range` is a value in degrees (0-180), a range within which to randomly rotate pictures.\n",
    "* `width_shift` and `height_shift` are ranges (as a fraction of total width or height) within which to randomly translate pictures \n",
    "vertically or horizontally.\n",
    "* `shear_range` is for randomly applying shearing transformations.\n",
    "* `zoom_range` is for randomly zooming inside pictures.\n",
    "* `horizontal_flip` is for randomly flipping half of the images horizontally -- relevant when there are no assumptions of horizontal \n",
    "asymmetry (e.g. real-world pictures).\n",
    "* `fill_mode` is the strategy used for filling in newly created pixels, which can appear after a rotation or a width/height shift.\n",
    "\n",
    "Let's take a look at our augmented images:"
   ]
  },
  {
   "cell_type": "code",
   "execution_count": 12,
   "metadata": {},
   "outputs": [
    {
     "name": "stderr",
     "output_type": "stream",
     "text": [
      "Using TensorFlow backend.\n"
     ]
    },
    {
     "data": {
      "image/png": "[encoded data removed]",
      "text/plain": [
       "<Figure size 432x288 with 1 Axes>"
      ]
     },
     "metadata": {
      "needs_background": "light"
     },
     "output_type": "display_data"
    },
    {
     "data": {
      "image/png": "[encoded data removed]",
      "text/plain": [
       "<Figure size 432x288 with 1 Axes>"
      ]
     },
     "metadata": {
      "needs_background": "light"
     },
     "output_type": "display_data"
    },
    {
     "data": {
      "image/png": "[encoded data removed]",
      "text/plain": [
       "<Figure size 432x288 with 1 Axes>"
      ]
     },
     "metadata": {
      "needs_background": "light"
     },
     "output_type": "display_data"
    },
    {
     "data": {
      "image/png": "[encoded data removed]",
      "text/plain": [
       "<Figure size 432x288 with 1 Axes>"
      ]
     },
     "metadata": {
      "needs_background": "light"
     },
     "output_type": "display_data"
    }
   ],
   "source": [
    "# This is module with image preprocessing utilities\n",
    "# import os\n",
    "# import matplotlib.pyplot as plt\n",
    "\n",
    "from tensorflow.keras.preprocessing import image\n",
    "train_cats_dir = os.path.join(base_dir, 'train/cats')\n",
    "\n",
    "fnames = [os.path.join(train_cats_dir, fname) for fname in os.listdir(train_cats_dir)]\n",
    "\n",
    "# We pick one image to \"augment\"\n",
    "img_path = fnames[9]\n",
    "\n",
    "# Read the image and resize it\n",
    "img = image.load_img(img_path, target_size=(img_size, img_size))\n",
    "\n",
    "# Convert it to a Numpy array with shape (50, 50, 3)\n",
    "x = image.img_to_array(img)\n",
    "\n",
    "# Reshape it to (1, 50, 50, 3)\n",
    "x = x.reshape((1,) + x.shape)\n",
    "\n",
    "# The .flow() command below generates batches of randomly transformed images.\n",
    "# It will loop indefinitely, so we need to `break` the loop at some point!\n",
    "i = 0\n",
    "for batch in datagen.flow(x, batch_size=1):\n",
    "    plt.figure(i)\n",
    "    imgplot = plt.imshow(image.array_to_img(batch[0]))\n",
    "    i += 1\n",
    "    if i % 4 == 0:\n",
    "        break\n",
    "        \n",
    "\n",
    "plt.show()"
   ]
  },
  {
   "cell_type": "markdown",
   "metadata": {},
   "source": [
    "If we train a new network using this data augmentation configuration, our network will never see twice the same input. However, the inputs \n",
    "that it sees are still heavily intercorrelated, since they come from a small number of original images -- we cannot produce new information, \n",
    "we can only remix existing information. As such, this might not be quite enough to completely get rid of overfitting. To further fight \n",
    "overfitting, we will also add a Dropout layer to our model, right before the densely-connected classifier:"
   ]
  },
  {
   "cell_type": "code",
   "execution_count": 13,
   "metadata": {},
   "outputs": [],
   "source": [
    "model = models.Sequential()\n",
    "model.add(layers.Conv2D(32, (3, 3), activation='relu',\n",
    "                        input_shape=(img_size, img_size, 3)))\n",
    "model.add(layers.MaxPooling2D((2, 2)))\n",
    "model.add(layers.Conv2D(64, (3, 3), activation='relu'))\n",
    "model.add(layers.MaxPooling2D((2, 2)))\n",
    "model.add(layers.Conv2D(128, (3, 3), activation='relu'))\n",
    "model.add(layers.MaxPooling2D((2, 2)))\n",
    "model.add(layers.Conv2D(128, (3, 3), activation='relu'))\n",
    "model.add(layers.MaxPooling2D((2, 2)))\n",
    "model.add(layers.Flatten())\n",
    "model.add(layers.Dropout(0.5))\n",
    "model.add(layers.Dense(512, activation='relu'))\n",
    "model.add(layers.Dense(1, activation='sigmoid'))\n",
    "\n",
    "model.compile(loss='binary_crossentropy',\n",
    "              optimizer=optimizers.RMSprop(lr=1e-4),\n",
    "              metrics=['acc'])"
   ]
  },
  {
   "cell_type": "markdown",
   "metadata": {},
   "source": [
    "Let's train our network using data augmentation and dropout:"
   ]
  },
  {
   "cell_type": "code",
   "execution_count": 14,
   "metadata": {},
   "outputs": [
    {
     "name": "stdout",
     "output_type": "stream",
     "text": [
      "Found 2000 images belonging to 2 classes.\n",
      "Found 1000 images belonging to 2 classes.\n",
      "Epoch 1/100\n",
      " 98/100 [============================>.] - ETA: 0s - loss: 0.6938 - acc: 0.5026Epoch 1/100\n",
      "100/100 [==============================] - 8s 80ms/step - loss: 0.6936 - acc: 0.5035 - val_loss: 0.6920 - val_acc: 0.4990\n",
      "Epoch 2/100\n",
      " 98/100 [============================>.] - ETA: 0s - loss: 0.6918 - acc: 0.5260Epoch 1/100\n",
      "100/100 [==============================] - 7s 71ms/step - loss: 0.6917 - acc: 0.5265 - val_loss: 0.6895 - val_acc: 0.5240\n",
      "Epoch 3/100\n",
      " 99/100 [============================>.] - ETA: 0s - loss: 0.6899 - acc: 0.5369Epoch 1/100\n",
      "100/100 [==============================] - 7s 72ms/step - loss: 0.6899 - acc: 0.5370 - val_loss: 0.6883 - val_acc: 0.5050\n",
      "Epoch 4/100\n",
      " 99/100 [============================>.] - ETA: 0s - loss: 0.6874 - acc: 0.5384Epoch 1/100\n",
      "100/100 [==============================] - 7s 71ms/step - loss: 0.6874 - acc: 0.5370 - val_loss: 0.6849 - val_acc: 0.5320\n",
      "Epoch 5/100\n",
      " 98/100 [============================>.] - ETA: 0s - loss: 0.6835 - acc: 0.5418Epoch 1/100\n",
      "100/100 [==============================] - 7s 72ms/step - loss: 0.6830 - acc: 0.5435 - val_loss: 0.6734 - val_acc: 0.5790\n",
      "Epoch 6/100\n",
      " 99/100 [============================>.] - ETA: 0s - loss: 0.6778 - acc: 0.5818Epoch 1/100\n",
      "100/100 [==============================] - 7s 73ms/step - loss: 0.6776 - acc: 0.5825 - val_loss: 0.6737 - val_acc: 0.5650\n",
      "Epoch 7/100\n",
      " 99/100 [============================>.] - ETA: 0s - loss: 0.6730 - acc: 0.5717Epoch 1/100\n",
      "100/100 [==============================] - 7s 72ms/step - loss: 0.6734 - acc: 0.5715 - val_loss: 0.6725 - val_acc: 0.5690\n",
      "Epoch 8/100\n",
      " 99/100 [============================>.] - ETA: 0s - loss: 0.6731 - acc: 0.5818Epoch 1/100\n",
      "100/100 [==============================] - 8s 82ms/step - loss: 0.6729 - acc: 0.5825 - val_loss: 0.6623 - val_acc: 0.6010\n",
      "Epoch 9/100\n",
      " 99/100 [============================>.] - ETA: 0s - loss: 0.6678 - acc: 0.6051Epoch 1/100\n",
      "100/100 [==============================] - 8s 80ms/step - loss: 0.6691 - acc: 0.6035 - val_loss: 0.6736 - val_acc: 0.5720\n",
      "Epoch 10/100\n",
      " 99/100 [============================>.] - ETA: 0s - loss: 0.6597 - acc: 0.6010Epoch 1/100\n",
      "100/100 [==============================] - 8s 83ms/step - loss: 0.6591 - acc: 0.6015 - val_loss: 0.6612 - val_acc: 0.5930\n",
      "Epoch 11/100\n",
      " 99/100 [============================>.] - ETA: 0s - loss: 0.6633 - acc: 0.5899Epoch 1/100\n",
      "100/100 [==============================] - 8s 81ms/step - loss: 0.6628 - acc: 0.5910 - val_loss: 0.6505 - val_acc: 0.6180\n",
      "Epoch 12/100\n",
      " 99/100 [============================>.] - ETA: 0s - loss: 0.6542 - acc: 0.6172- ETA: 0s - loss: 0.6547 - Epoch 1/100\n",
      "100/100 [==============================] - 8s 81ms/step - loss: 0.6540 - acc: 0.6170 - val_loss: 0.7076 - val_acc: 0.5660\n",
      "Epoch 13/100\n",
      " 99/100 [============================>.] - ETA: 0s - loss: 0.6489 - acc: 0.6283Epoch 1/100\n",
      "100/100 [==============================] - 8s 80ms/step - loss: 0.6492 - acc: 0.6285 - val_loss: 0.7062 - val_acc: 0.5700\n",
      "Epoch 14/100\n",
      " 99/100 [============================>.] - ETA: 0s - loss: 0.6515 - acc: 0.6141Epoch 1/100\n",
      "100/100 [==============================] - 8s 81ms/step - loss: 0.6522 - acc: 0.6135 - val_loss: 0.6888 - val_acc: 0.5820\n",
      "Epoch 15/100\n",
      " 99/100 [============================>.] - ETA: 0s - loss: 0.6490 - acc: 0.6298Epoch 1/100\n",
      "100/100 [==============================] - 8s 83ms/step - loss: 0.6487 - acc: 0.6310 - val_loss: 0.7223 - val_acc: 0.5550\n",
      "Epoch 16/100\n",
      " 99/100 [============================>.] - ETA: 0s - loss: 0.6519 - acc: 0.6237Epoch 1/100\n",
      "100/100 [==============================] - 9s 90ms/step - loss: 0.6522 - acc: 0.6230 - val_loss: 0.6343 - val_acc: 0.6330\n",
      "Epoch 17/100\n",
      " 99/100 [============================>.] - ETA: 0s - loss: 0.6378 - acc: 0.6354Epoch 1/100\n",
      "100/100 [==============================] - 9s 88ms/step - loss: 0.6372 - acc: 0.6360 - val_loss: 0.7392 - val_acc: 0.5710\n",
      "Epoch 18/100\n",
      " 99/100 [============================>.] - ETA: 0s - loss: 0.6447 - acc: 0.6318Epoch 1/100\n",
      "100/100 [==============================] - 8s 83ms/step - loss: 0.6444 - acc: 0.6325 - val_loss: 0.6913 - val_acc: 0.6010\n",
      "Epoch 19/100\n",
      " 99/100 [============================>.] - ETA: 0s - loss: 0.6422 - acc: 0.6399Epoch 1/100\n",
      "100/100 [==============================] - 9s 87ms/step - loss: 0.6427 - acc: 0.6390 - val_loss: 0.6567 - val_acc: 0.6240\n",
      "Epoch 20/100\n",
      " 99/100 [============================>.] - ETA: 0s - loss: 0.6383 - acc: 0.6384Epoch 1/100\n",
      "100/100 [==============================] - 9s 85ms/step - loss: 0.6391 - acc: 0.6370 - val_loss: 0.6446 - val_acc: 0.6390\n",
      "Epoch 21/100\n",
      " 99/100 [============================>.] - ETA: 0s - loss: 0.6417 - acc: 0.6328Epoch 1/100\n",
      "100/100 [==============================] - 8s 82ms/step - loss: 0.6416 - acc: 0.6325 - val_loss: 0.7056 - val_acc: 0.5830\n",
      "Epoch 22/100\n",
      " 99/100 [============================>.] - ETA: 0s - loss: 0.6347 - acc: 0.6460Epoch 1/100\n",
      "100/100 [==============================] - 9s 85ms/step - loss: 0.6342 - acc: 0.6460 - val_loss: 0.6315 - val_acc: 0.6470\n",
      "Epoch 23/100\n",
      " 99/100 [============================>.] - ETA: 0s - loss: 0.6376 - acc: 0.6354Epoch 1/100\n",
      "100/100 [==============================] - 9s 86ms/step - loss: 0.6375 - acc: 0.6350 - val_loss: 0.7190 - val_acc: 0.5890\n",
      "Epoch 24/100\n",
      " 99/100 [============================>.] - ETA: 0s - loss: 0.6311 - acc: 0.6369Epoch 1/100\n",
      "100/100 [==============================] - 8s 83ms/step - loss: 0.6305 - acc: 0.6385 - val_loss: 0.6260 - val_acc: 0.6490\n",
      "Epoch 25/100\n",
      " 99/100 [============================>.] - ETA: 0s - loss: 0.6404 - acc: 0.6485Epoch 1/100\n",
      "100/100 [==============================] - 8s 79ms/step - loss: 0.6406 - acc: 0.6495 - val_loss: 0.6480 - val_acc: 0.6300\n",
      "Epoch 26/100\n",
      " 99/100 [============================>.] - ETA: 0s - loss: 0.6271 - acc: 0.6470Epoch 1/100\n",
      "100/100 [==============================] - 8s 77ms/step - loss: 0.6271 - acc: 0.6470 - val_loss: 0.6182 - val_acc: 0.6500\n",
      "Epoch 27/100\n",
      " 99/100 [============================>.] - ETA: 0s - loss: 0.6240 - acc: 0.6505Epoch 1/100\n",
      "100/100 [==============================] - 8s 76ms/step - loss: 0.6229 - acc: 0.6530 - val_loss: 0.6094 - val_acc: 0.6590\n",
      "Epoch 28/100\n",
      " 99/100 [============================>.] - ETA: 0s - loss: 0.6235 - acc: 0.6631Epoch 1/100\n",
      "100/100 [==============================] - 8s 77ms/step - loss: 0.6243 - acc: 0.6630 - val_loss: 0.6707 - val_acc: 0.6210\n",
      "Epoch 29/100\n",
      " 99/100 [============================>.] - ETA: 0s - loss: 0.6104 - acc: 0.6636Epoch 1/100\n",
      "100/100 [==============================] - 8s 79ms/step - loss: 0.6098 - acc: 0.6640 - val_loss: 0.7248 - val_acc: 0.5900\n",
      "Epoch 30/100\n",
      " 99/100 [============================>.] - ETA: 0s - loss: 0.6247 - acc: 0.6591Epoch 1/100\n",
      "100/100 [==============================] - 8s 76ms/step - loss: 0.6246 - acc: 0.6595 - val_loss: 0.6532 - val_acc: 0.6270\n",
      "Epoch 31/100\n",
      " 99/100 [============================>.] - ETA: 0s - loss: 0.6150 - acc: 0.6626Epoch 1/100\n",
      "100/100 [==============================] - 8s 76ms/step - loss: 0.6143 - acc: 0.6640 - val_loss: 0.6215 - val_acc: 0.6570\n",
      "Epoch 32/100\n",
      " 99/100 [============================>.] - ETA: 0s - loss: 0.6037 - acc: 0.6788Epoch 1/100\n",
      "100/100 [==============================] - 8s 81ms/step - loss: 0.6040 - acc: 0.6780 - val_loss: 0.6262 - val_acc: 0.6520\n",
      "Epoch 33/100\n",
      " 99/100 [============================>.] - ETA: 0s - loss: 0.6084 - acc: 0.6778- ETA: 1s - loss: 0Epoch 1/100\n",
      "100/100 [==============================] - 9s 86ms/step - loss: 0.6084 - acc: 0.6775 - val_loss: 0.6296 - val_acc: 0.6530\n",
      "Epoch 34/100\n",
      " 99/100 [============================>.] - ETA: 0s - loss: 0.6073 - acc: 0.6803Epoch 1/100\n",
      "100/100 [==============================] - 8s 82ms/step - loss: 0.6074 - acc: 0.6795 - val_loss: 0.6158 - val_acc: 0.6580\n",
      "Epoch 35/100\n",
      " 99/100 [============================>.] - ETA: 0s - loss: 0.5985 - acc: 0.6919Epoch 1/100\n",
      "100/100 [==============================] - 9s 86ms/step - loss: 0.5997 - acc: 0.6915 - val_loss: 0.6732 - val_acc: 0.6280\n",
      "Epoch 36/100\n",
      " 99/100 [============================>.] - ETA: 0s - loss: 0.5934 - acc: 0.6859- ETA: 1s - loss:Epoch 1/100\n",
      "100/100 [==============================] - 8s 83ms/step - loss: 0.5926 - acc: 0.6865 - val_loss: 0.6296 - val_acc: 0.6550\n",
      "Epoch 37/100\n",
      " 99/100 [============================>.] - ETA: 0s - loss: 0.6038 - acc: 0.6742Epoch 1/100\n",
      "100/100 [==============================] - 8s 78ms/step - loss: 0.6037 - acc: 0.6740 - val_loss: 0.5686 - val_acc: 0.6930\n",
      "Epoch 38/100\n",
      " 99/100 [============================>.] - ETA: 0s - loss: 0.5878 - acc: 0.6894Epoch 1/100\n",
      "100/100 [==============================] - 8s 78ms/step - loss: 0.5867 - acc: 0.6910 - val_loss: 0.7371 - val_acc: 0.5940\n",
      "Epoch 39/100\n",
      " 99/100 [============================>.] - ETA: 0s - loss: 0.5905 - acc: 0.6848Epoch 1/100\n",
      "100/100 [==============================] - 8s 81ms/step - loss: 0.5915 - acc: 0.6835 - val_loss: 0.5989 - val_acc: 0.6700\n",
      "Epoch 40/100\n",
      " 99/100 [============================>.] - ETA: 0s - loss: 0.5831 - acc: 0.6934Epoch 1/100\n",
      "100/100 [==============================] - 8s 81ms/step - loss: 0.5817 - acc: 0.6950 - val_loss: 0.6191 - val_acc: 0.6670\n",
      "Epoch 41/100\n",
      " 99/100 [============================>.] - ETA: 0s - loss: 0.5835 - acc: 0.6965Epoch 1/100\n",
      "100/100 [==============================] - 8s 78ms/step - loss: 0.5844 - acc: 0.6950 - val_loss: 0.5784 - val_acc: 0.7000\n",
      "Epoch 42/100\n",
      " 99/100 [============================>.] - ETA: 0s - loss: 0.5808 - acc: 0.7035Epoch 1/100\n",
      "100/100 [==============================] - 9s 89ms/step - loss: 0.5809 - acc: 0.7035 - val_loss: 0.6118 - val_acc: 0.6610\n",
      "Epoch 43/100\n",
      " 99/100 [============================>.] - ETA: 0s - loss: 0.5785 - acc: 0.6944Epoch 1/100\n",
      "100/100 [==============================] - 8s 81ms/step - loss: 0.5776 - acc: 0.6950 - val_loss: 0.6648 - val_acc: 0.6400\n",
      "Epoch 44/100\n",
      " 99/100 [============================>.] - ETA: 0s - loss: 0.5818 - acc: 0.6944Epoch 1/100\n",
      "100/100 [==============================] - 8s 79ms/step - loss: 0.5823 - acc: 0.6935 - val_loss: 0.6150 - val_acc: 0.6680\n",
      "Epoch 45/100\n",
      " 99/100 [============================>.] - ETA: 0s - loss: 0.5742 - acc: 0.7030Epoch 1/100\n",
      "100/100 [==============================] - 8s 77ms/step - loss: 0.5754 - acc: 0.7025 - val_loss: 0.5750 - val_acc: 0.6870\n",
      "Epoch 46/100\n",
      " 99/100 [============================>.] - ETA: 0s - loss: 0.5777 - acc: 0.6929Epoch 1/100\n",
      "100/100 [==============================] - 7s 75ms/step - loss: 0.5773 - acc: 0.6940 - val_loss: 0.5680 - val_acc: 0.7050\n",
      "Epoch 47/100\n",
      " 99/100 [============================>.] - ETA: 0s - loss: 0.5752 - acc: 0.7086Epoch 1/100\n",
      "100/100 [==============================] - 8s 78ms/step - loss: 0.5757 - acc: 0.7080 - val_loss: 0.5933 - val_acc: 0.6830\n",
      "Epoch 48/100\n",
      " 99/100 [============================>.] - ETA: 0s - loss: 0.5654 - acc: 0.7061Epoch 1/100\n",
      "100/100 [==============================] - 7s 74ms/step - loss: 0.5672 - acc: 0.7045 - val_loss: 0.5450 - val_acc: 0.7160\n",
      "Epoch 49/100\n",
      " 99/100 [============================>.] - ETA: 0s - loss: 0.5588 - acc: 0.7177Epoch 1/100\n",
      "100/100 [==============================] - 8s 76ms/step - loss: 0.5582 - acc: 0.7180 - val_loss: 0.5418 - val_acc: 0.7120\n",
      "Epoch 50/100\n",
      " 99/100 [============================>.] - ETA: 0s - loss: 0.5779 - acc: 0.7000Epoch 1/100\n",
      "100/100 [==============================] - 7s 75ms/step - loss: 0.5782 - acc: 0.6995 - val_loss: 0.6002 - val_acc: 0.6720\n",
      "Epoch 51/100\n",
      " 99/100 [============================>.] - ETA: 0s - loss: 0.5614 - acc: 0.7121Epoch 1/100\n",
      "100/100 [==============================] - 8s 77ms/step - loss: 0.5611 - acc: 0.7125 - val_loss: 0.5505 - val_acc: 0.7100\n",
      "Epoch 52/100\n",
      " 99/100 [============================>.] - ETA: 0s - loss: 0.5687 - acc: 0.7131Epoch 1/100\n",
      "100/100 [==============================] - 9s 87ms/step - loss: 0.5695 - acc: 0.7125 - val_loss: 0.6272 - val_acc: 0.6690\n",
      "Epoch 53/100\n",
      " 99/100 [============================>.] - ETA: 0s - loss: 0.5529 - acc: 0.7258Epoch 1/100\n",
      "100/100 [==============================] - 8s 84ms/step - loss: 0.5530 - acc: 0.7245 - val_loss: 0.5854 - val_acc: 0.6870\n",
      "Epoch 54/100\n",
      " 99/100 [============================>.] - ETA: 0s - loss: 0.5480 - acc: 0.7222Epoch 1/100\n",
      "100/100 [==============================] - 8s 78ms/step - loss: 0.5484 - acc: 0.7225 - val_loss: 0.5299 - val_acc: 0.7310\n",
      "Epoch 55/100\n",
      " 99/100 [============================>.] - ETA: 0s - loss: 0.5555 - acc: 0.7237Epoch 1/100\n",
      "100/100 [==============================] - 8s 78ms/step - loss: 0.5535 - acc: 0.7260 - val_loss: 0.7083 - val_acc: 0.6440\n",
      "Epoch 56/100\n",
      " 99/100 [============================>.] - ETA: 0s - loss: 0.5531 - acc: 0.7278Epoch 1/100\n",
      "100/100 [==============================] - 7s 75ms/step - loss: 0.5509 - acc: 0.7290 - val_loss: 0.5358 - val_acc: 0.7200\n",
      "Epoch 57/100\n",
      " 99/100 [============================>.] - ETA: 0s - loss: 0.5475 - acc: 0.7202Epoch 1/100\n",
      "100/100 [==============================] - 8s 77ms/step - loss: 0.5479 - acc: 0.7205 - val_loss: 0.5399 - val_acc: 0.7140\n",
      "Epoch 58/100\n",
      " 98/100 [============================>.] - ETA: 0s - loss: 0.5461 - acc: 0.7189Epoch 1/100\n",
      "100/100 [==============================] - 8s 77ms/step - loss: 0.5474 - acc: 0.7180 - val_loss: 0.5400 - val_acc: 0.7170\n",
      "Epoch 59/100\n",
      " 99/100 [============================>.] - ETA: 0s - loss: 0.5564 - acc: 0.7298Epoch 1/100\n",
      "100/100 [==============================] - 8s 78ms/step - loss: 0.5550 - acc: 0.7305 - val_loss: 0.5373 - val_acc: 0.7180\n",
      "Epoch 60/100\n",
      " 99/100 [============================>.] - ETA: 0s - loss: 0.5433 - acc: 0.7288Epoch 1/100\n",
      "100/100 [==============================] - 9s 88ms/step - loss: 0.5436 - acc: 0.7285 - val_loss: 0.6084 - val_acc: 0.6790\n",
      "Epoch 61/100\n",
      " 99/100 [============================>.] - ETA: 0s - loss: 0.5383 - acc: 0.7384- ETA: 1s - loss: 0Epoch 1/100\n",
      "100/100 [==============================] - 8s 82ms/step - loss: 0.5375 - acc: 0.7390 - val_loss: 0.5779 - val_acc: 0.6910\n",
      "Epoch 62/100\n",
      " 99/100 [============================>.] - ETA: 0s - loss: 0.5304 - acc: 0.7348Epoch 1/100\n",
      "100/100 [==============================] - 8s 80ms/step - loss: 0.5307 - acc: 0.7340 - val_loss: 0.6787 - val_acc: 0.6540\n",
      "Epoch 63/100\n",
      " 99/100 [============================>.] - ETA: 0s - loss: 0.5467 - acc: 0.7192Epoch 1/100\n",
      "100/100 [==============================] - 8s 79ms/step - loss: 0.5452 - acc: 0.7205 - val_loss: 0.5827 - val_acc: 0.6860\n",
      "Epoch 64/100\n",
      " 99/100 [============================>.] - ETA: 0s - loss: 0.5379 - acc: 0.7318Epoch 1/100\n",
      "100/100 [==============================] - 8s 83ms/step - loss: 0.5390 - acc: 0.7315 - val_loss: 0.5241 - val_acc: 0.7310\n",
      "Epoch 65/100\n",
      " 99/100 [============================>.] - ETA: 0s - loss: 0.5220 - acc: 0.7510Epoch 1/100\n",
      "100/100 [==============================] - 8s 81ms/step - loss: 0.5222 - acc: 0.7510 - val_loss: 0.6636 - val_acc: 0.6570\n",
      "Epoch 66/100\n",
      " 99/100 [============================>.] - ETA: 0s - loss: 0.5369 - acc: 0.7348Epoch 1/100\n",
      "100/100 [==============================] - 8s 79ms/step - loss: 0.5373 - acc: 0.7350 - val_loss: 0.5197 - val_acc: 0.7310\n",
      "Epoch 67/100\n",
      " 99/100 [============================>.] - ETA: 0s - loss: 0.5240 - acc: 0.7439Epoch 1/100\n",
      "100/100 [==============================] - 8s 80ms/step - loss: 0.5236 - acc: 0.7445 - val_loss: 0.6305 - val_acc: 0.6780\n",
      "Epoch 68/100\n",
      " 99/100 [============================>.] - ETA: 0s - loss: 0.5126 - acc: 0.7475Epoch 1/100\n",
      "100/100 [==============================] - 8s 79ms/step - loss: 0.5146 - acc: 0.7465 - val_loss: 0.5775 - val_acc: 0.6750\n",
      "Epoch 69/100\n",
      " 99/100 [============================>.] - ETA: 0s - loss: 0.5201 - acc: 0.7409Epoch 1/100\n",
      "100/100 [==============================] - 8s 81ms/step - loss: 0.5203 - acc: 0.7415 - val_loss: 0.5285 - val_acc: 0.7300\n",
      "Epoch 70/100\n",
      " 99/100 [============================>.] - ETA: 0s - loss: 0.5182 - acc: 0.7374Epoch 1/100\n",
      "100/100 [==============================] - 8s 80ms/step - loss: 0.5188 - acc: 0.7365 - val_loss: 0.6297 - val_acc: 0.6750\n",
      "Epoch 71/100\n",
      " 99/100 [============================>.] - ETA: 0s - loss: 0.5141 - acc: 0.7495Epoch 1/100\n",
      "100/100 [==============================] - 8s 80ms/step - loss: 0.5153 - acc: 0.7485 - val_loss: 0.5207 - val_acc: 0.7340\n",
      "Epoch 72/100\n",
      " 99/100 [============================>.] - ETA: 0s - loss: 0.5239 - acc: 0.7460- Epoch 1/100\n"
     ]
    },
    {
     "name": "stdout",
     "output_type": "stream",
     "text": [
      "100/100 [==============================] - 8s 82ms/step - loss: 0.5242 - acc: 0.7465 - val_loss: 0.5490 - val_acc: 0.7070\n",
      "Epoch 73/100\n",
      " 99/100 [============================>.] - ETA: 0s - loss: 0.5145 - acc: 0.7470Epoch 1/100\n",
      "100/100 [==============================] - 8s 83ms/step - loss: 0.5131 - acc: 0.7480 - val_loss: 0.5296 - val_acc: 0.7250\n",
      "Epoch 74/100\n",
      " 99/100 [============================>.] - ETA: 0s - loss: 0.5133 - acc: 0.7480Epoch 1/100\n",
      "100/100 [==============================] - 8s 83ms/step - loss: 0.5123 - acc: 0.7485 - val_loss: 0.5196 - val_acc: 0.7290\n",
      "Epoch 75/100\n",
      " 99/100 [============================>.] - ETA: 0s - loss: 0.5120 - acc: 0.7485Epoch 1/100\n",
      "100/100 [==============================] - 8s 81ms/step - loss: 0.5116 - acc: 0.7485 - val_loss: 0.5289 - val_acc: 0.7230\n",
      "Epoch 76/100\n",
      " 99/100 [============================>.] - ETA: 0s - loss: 0.5120 - acc: 0.7616Epoch 1/100\n",
      "100/100 [==============================] - 8s 82ms/step - loss: 0.5121 - acc: 0.7605 - val_loss: 0.5714 - val_acc: 0.7060\n",
      "Epoch 77/100\n",
      " 99/100 [============================>.] - ETA: 0s - loss: 0.5154 - acc: 0.7520Epoch 1/100\n",
      "100/100 [==============================] - 8s 81ms/step - loss: 0.5138 - acc: 0.7535 - val_loss: 0.5656 - val_acc: 0.7080\n",
      "Epoch 78/100\n",
      " 99/100 [============================>.] - ETA: 0s - loss: 0.4935 - acc: 0.7540Epoch 1/100\n",
      "100/100 [==============================] - 8s 82ms/step - loss: 0.4957 - acc: 0.7525 - val_loss: 0.4935 - val_acc: 0.7520\n",
      "Epoch 79/100\n",
      " 99/100 [============================>.] - ETA: 0s - loss: 0.4948 - acc: 0.7652Epoch 1/100\n",
      "100/100 [==============================] - 8s 79ms/step - loss: 0.4958 - acc: 0.7650 - val_loss: 0.4918 - val_acc: 0.7540\n",
      "Epoch 80/100\n",
      " 99/100 [============================>.] - ETA: 0s - loss: 0.5012 - acc: 0.7662Epoch 1/100\n",
      "100/100 [==============================] - 8s 79ms/step - loss: 0.5020 - acc: 0.7660 - val_loss: 0.4977 - val_acc: 0.7450\n",
      "Epoch 81/100\n",
      " 99/100 [============================>.] - ETA: 0s - loss: 0.5012 - acc: 0.7581Epoch 1/100\n",
      "100/100 [==============================] - 8s 79ms/step - loss: 0.5006 - acc: 0.7585 - val_loss: 0.7800 - val_acc: 0.6250\n",
      "Epoch 82/100\n",
      " 99/100 [============================>.] - ETA: 0s - loss: 0.5059 - acc: 0.7657Epoch 1/100\n",
      "100/100 [==============================] - 8s 79ms/step - loss: 0.5039 - acc: 0.7675 - val_loss: 0.6204 - val_acc: 0.6880\n",
      "Epoch 83/100\n",
      " 99/100 [============================>.] - ETA: 0s - loss: 0.5013 - acc: 0.7500Epoch 1/100\n",
      "100/100 [==============================] - 10s 99ms/step - loss: 0.5020 - acc: 0.7495 - val_loss: 0.4896 - val_acc: 0.7610\n",
      "Epoch 84/100\n",
      " 99/100 [============================>.] - ETA: 0s - loss: 0.5016 - acc: 0.7520Epoch 1/100\n",
      "100/100 [==============================] - 9s 94ms/step - loss: 0.5011 - acc: 0.7505 - val_loss: 0.4954 - val_acc: 0.7530\n",
      "Epoch 85/100\n",
      " 99/100 [============================>.] - ETA: 0s - loss: 0.5030 - acc: 0.7556Epoch 1/100\n",
      "100/100 [==============================] - 8s 81ms/step - loss: 0.5038 - acc: 0.7550 - val_loss: 0.5933 - val_acc: 0.6890\n",
      "Epoch 86/100\n",
      " 99/100 [============================>.] - ETA: 0s - loss: 0.5046 - acc: 0.7601Epoch 1/100\n",
      "100/100 [==============================] - 9s 86ms/step - loss: 0.5035 - acc: 0.7610 - val_loss: 0.5042 - val_acc: 0.7510\n",
      "Epoch 87/100\n",
      " 99/100 [============================>.] - ETA: 0s - loss: 0.4857 - acc: 0.7697Epoch 1/100\n",
      "100/100 [==============================] - 8s 82ms/step - loss: 0.4855 - acc: 0.7700 - val_loss: 0.4718 - val_acc: 0.7540\n",
      "Epoch 88/100\n",
      " 99/100 [============================>.] - ETA: 0s - loss: 0.5087 - acc: 0.7551Epoch 1/100\n",
      "100/100 [==============================] - 8s 77ms/step - loss: 0.5103 - acc: 0.7545 - val_loss: 0.5016 - val_acc: 0.7470\n",
      "Epoch 89/100\n",
      " 99/100 [============================>.] - ETA: 0s - loss: 0.4915 - acc: 0.7561Epoch 1/100\n",
      "100/100 [==============================] - 8s 78ms/step - loss: 0.4921 - acc: 0.7555 - val_loss: 0.4862 - val_acc: 0.7510\n",
      "Epoch 90/100\n",
      " 99/100 [============================>.] - ETA: 0s - loss: 0.4895 - acc: 0.7596Epoch 1/100\n",
      "100/100 [==============================] - 9s 90ms/step - loss: 0.4876 - acc: 0.7615 - val_loss: 0.4666 - val_acc: 0.7550\n",
      "Epoch 91/100\n",
      " 99/100 [============================>.] - ETA: 0s - loss: 0.4965 - acc: 0.7662Epoch 1/100\n",
      "100/100 [==============================] - 8s 79ms/step - loss: 0.4972 - acc: 0.7655 - val_loss: 0.5240 - val_acc: 0.7300\n",
      "Epoch 92/100\n",
      " 99/100 [============================>.] - ETA: 0s - loss: 0.4938 - acc: 0.7556Epoch 1/100\n",
      "100/100 [==============================] - 8s 77ms/step - loss: 0.4938 - acc: 0.7560 - val_loss: 0.5007 - val_acc: 0.7560\n",
      "Epoch 93/100\n",
      " 99/100 [============================>.] - ETA: 0s - loss: 0.4805 - acc: 0.7677Epoch 1/100\n",
      "100/100 [==============================] - 8s 80ms/step - loss: 0.4792 - acc: 0.7685 - val_loss: 0.5774 - val_acc: 0.7160\n",
      "Epoch 94/100\n",
      " 99/100 [============================>.] - ETA: 0s - loss: 0.4847 - acc: 0.7702- ETA: 0s - loss: 0.4818 - acc: Epoch 1/100\n",
      "100/100 [==============================] - 8s 79ms/step - loss: 0.4865 - acc: 0.7690 - val_loss: 0.4841 - val_acc: 0.7560\n",
      "Epoch 95/100\n",
      " 99/100 [============================>.] - ETA: 0s - loss: 0.4826 - acc: 0.7717Epoch 1/100\n",
      "100/100 [==============================] - 8s 79ms/step - loss: 0.4817 - acc: 0.7720 - val_loss: 0.6491 - val_acc: 0.6830\n",
      "Epoch 96/100\n",
      " 99/100 [============================>.] - ETA: 0s - loss: 0.4795 - acc: 0.7758Epoch 1/100\n",
      "100/100 [==============================] - 9s 90ms/step - loss: 0.4781 - acc: 0.7770 - val_loss: 0.5430 - val_acc: 0.7350\n",
      "Epoch 97/100\n",
      " 99/100 [============================>.] - ETA: 0s - loss: 0.4772 - acc: 0.7732Epoch 1/100\n",
      "100/100 [==============================] - 8s 80ms/step - loss: 0.4762 - acc: 0.7740 - val_loss: 0.5688 - val_acc: 0.7190\n",
      "Epoch 98/100\n",
      " 99/100 [============================>.] - ETA: 0s - loss: 0.4723 - acc: 0.7747Epoch 1/100\n",
      "100/100 [==============================] - 8s 77ms/step - loss: 0.4737 - acc: 0.7735 - val_loss: 0.4792 - val_acc: 0.7630\n",
      "Epoch 99/100\n",
      " 99/100 [============================>.] - ETA: 0s - loss: 0.4791 - acc: 0.7697Epoch 1/100\n",
      "100/100 [==============================] - 8s 79ms/step - loss: 0.4776 - acc: 0.7710 - val_loss: 0.4740 - val_acc: 0.7690\n",
      "Epoch 100/100\n",
      " 99/100 [============================>.] - ETA: 0s - loss: 0.4700 - acc: 0.7758Epoch 1/100\n",
      "100/100 [==============================] - 8s 78ms/step - loss: 0.4708 - acc: 0.7755 - val_loss: 0.5561 - val_acc: 0.7190\n"
     ]
    }
   ],
   "source": [
    "train_datagen = ImageDataGenerator(\n",
    "    rescale=1./255,\n",
    "    rotation_range=40,\n",
    "    width_shift_range=0.2,\n",
    "    height_shift_range=0.2,\n",
    "    shear_range=0.2,\n",
    "    zoom_range=0.2,\n",
    "    horizontal_flip=True,)\n",
    "\n",
    "# Note that the validation data should not be augmented!\n",
    "test_datagen = ImageDataGenerator(rescale=1./255)\n",
    "\n",
    "train_generator = train_datagen.flow_from_directory(\n",
    "        # This is the target directory\n",
    "        train_dir,\n",
    "        # All images will be resized to 50x50\n",
    "        target_size=(img_size, img_size),\n",
    "        batch_size=20,\n",
    "        # Since we use binary_crossentropy loss, we need binary labels\n",
    "        class_mode='binary')\n",
    "\n",
    "validation_generator = test_datagen.flow_from_directory(\n",
    "        validation_dir,\n",
    "        target_size=(img_size, img_size),\n",
    "        batch_size=20,\n",
    "        class_mode='binary')\n",
    "\n",
    "history = model.fit_generator(\n",
    "      train_generator,\n",
    "      steps_per_epoch=100,\n",
    "      epochs=100,\n",
    "      validation_data=validation_generator,\n",
    "      validation_steps=50)"
   ]
  },
  {
   "cell_type": "code",
   "execution_count": 15,
   "metadata": {},
   "outputs": [],
   "source": [
    "#model.save('cats_and_dogs_small_2.h5')"
   ]
  },
  {
   "cell_type": "markdown",
   "metadata": {},
   "source": [
    "Let's plot our results again:"
   ]
  },
  {
   "cell_type": "code",
   "execution_count": 16,
   "metadata": {},
   "outputs": [
    {
     "data": {
      "image/png": "[encoded data removed]",
      "text/plain": [
       "<Figure size 432x288 with 1 Axes>"
      ]
     },
     "metadata": {
      "needs_background": "light"
     },
     "output_type": "display_data"
    },
    {
     "data": {
      "image/png": "[encoded data removed]",
      "text/plain": [
       "<Figure size 432x288 with 1 Axes>"
      ]
     },
     "metadata": {
      "needs_background": "light"
     },
     "output_type": "display_data"
    }
   ],
   "source": [
    "acc = history.history['acc']\n",
    "val_acc = history.history['val_acc']\n",
    "loss = history.history['loss']\n",
    "val_loss = history.history['val_loss']\n",
    "\n",
    "epochs = range(len(acc))\n",
    "\n",
    "plt.plot(epochs, acc, 'bo', label='Training acc')\n",
    "plt.plot(epochs, val_acc, 'b', label='Validation acc')\n",
    "plt.title('Training and validation accuracy')\n",
    "plt.legend()\n",
    "\n",
    "plt.figure()\n",
    "\n",
    "plt.plot(epochs, loss, 'bo', label='Training loss')\n",
    "plt.plot(epochs, val_loss, 'b', label='Validation loss')\n",
    "plt.title('Training and validation loss')\n",
    "plt.legend()\n",
    "\n",
    "plt.show()"
   ]
  },
  {
   "cell_type": "markdown",
   "metadata": {},
   "source": [
    "Thanks to data augmentation and dropout, we are no longer overfitting: the training curves are rather closely tracking the validation curves. We are now able to reach an accuracy of 75%, a 5% relative improvement over the non-regularized model."
   ]
  },
  {
   "cell_type": "markdown",
   "metadata": {},
   "source": [
    "## 2. Exercise - Tuning model parameters <a id='exc' />\n",
    "\n",
    "Please try below two scenerios, make changes accordingly and train the models for 100 epochs as above:\n",
    "\n",
    "**Scenerio A:** \n",
    "\n",
    "* Reduce training `batch_size` from 20 to 10 and increase `steps_per_epoch` from 100 to 200 \n",
    "\n",
    "(remember `steps_per_epoch` = total number of samples // `batch_size`)\n",
    "\n",
    "**Scenerio B:** \n",
    "\n",
    "* Increase the Optimizer Learning Rate (`optimizers.RMSprop(lr=1e-4)`) from `1e-4` to `2*1e-4`. \n",
    "\n",
    "Observe the training and validation accuracy curves for both scenerios. \n",
    "\n",
    "Provide your codes & comments in the below boxes."
   ]
  },
  {
   "cell_type": "markdown",
   "metadata": {},
   "source": [
    "### 2.1 Scenerio A"
   ]
  },
  {
   "cell_type": "code",
   "execution_count": null,
   "metadata": {},
   "outputs": [],
   "source": [
    "# Task 1: Build and Compile the Model\n"
   ]
  },
  {
   "cell_type": "code",
   "execution_count": null,
   "metadata": {},
   "outputs": [],
   "source": [
    "# Task 2: Use ImageDataGenerator to do Data preprocessing and Data Augmentation\n",
    "# Remember to reduce training batch_size from 20 to 10 and increase steps_per_epoch from 100 to 200\n",
    "\n",
    "\n",
    "# Note that the validation data should not be augmented!\n"
   ]
  },
  {
   "cell_type": "code",
   "execution_count": null,
   "metadata": {},
   "outputs": [],
   "source": [
    "# Task 3: Fit the model \n"
   ]
  },
  {
   "cell_type": "code",
   "execution_count": null,
   "metadata": {},
   "outputs": [],
   "source": [
    "# Task 4: Plot the accuracy (training and validation) and loss curves (training and validation)\n"
   ]
  },
  {
   "cell_type": "code",
   "execution_count": null,
   "metadata": {},
   "outputs": [],
   "source": [
    "# Task 5: Comments\n"
   ]
  },
  {
   "cell_type": "markdown",
   "metadata": {},
   "source": [
    "### 2.2 Scenerio B"
   ]
  },
  {
   "cell_type": "code",
   "execution_count": null,
   "metadata": {},
   "outputs": [],
   "source": [
    "# Task 1: Build and Compile the Model\n",
    "# Remember to reduce the Optimizer learning rate from 1e-4 to 2*1e-4\n"
   ]
  },
  {
   "cell_type": "code",
   "execution_count": null,
   "metadata": {},
   "outputs": [],
   "source": [
    "# Task 2: Use ImageDataGenerator to do Data preprocessing and Data Augmentation\n"
   ]
  },
  {
   "cell_type": "code",
   "execution_count": null,
   "metadata": {},
   "outputs": [],
   "source": [
    "# Task 3: Fit the model \n"
   ]
  },
  {
   "cell_type": "code",
   "execution_count": null,
   "metadata": {},
   "outputs": [],
   "source": [
    "# Task 4: Plot the accuracy (training and validation) and loss curves (training and validation)\n"
   ]
  },
  {
   "cell_type": "code",
   "execution_count": null,
   "metadata": {},
   "outputs": [],
   "source": [
    "# Task 5: Comments\n"
   ]
  }
 ],
 "metadata": {
  "kernelspec": {
   "display_name": "Python 3",
   "language": "python",
   "name": "python3"
  },
  "language_info": {
   "codemirror_mode": {
    "name": "ipython",
    "version": 3
   },
   "file_extension": ".py",
   "mimetype": "text/x-python",
   "name": "python",
   "nbconvert_exporter": "python",
   "pygments_lexer": "ipython3",
   "version": "3.7.4"
  }
 },
 "nbformat": 4,
 "nbformat_minor": 2
}
