{
 "cells": [
  {
   "cell_type": "markdown",
   "metadata": {},
   "source": [
    "<table class=\"table table-bordered\">\n",
    "    <tr>\n",
    "        <th style=\"text-align:center; width:25%\"><img src='https://www.np.edu.sg/PublishingImages/Pages/default/odp/ICT.jpg' style=\"width: 250px; height: 125px; \"></th>\n",
    "        <th style=\"text-align:center;\"><h1>Deep Learning</h1><h2>Practical 4 - Using Convnets with Small Datasets</h2><h3>AY2020/21 Semester</h3></th>\n",
    "    </tr>\n",
    "</table>"
   ]
  },
  {
   "cell_type": "code",
   "execution_count": 1,
   "metadata": {},
   "outputs": [
    {
     "name": "stdout",
     "output_type": "stream",
     "text": [
      "keras:  2.2.4-tf\n"
     ]
    },
    {
     "data": {
      "text/html": [
       "<style>.container { width:95% !important; }</style>"
      ],
      "text/plain": [
       "<IPython.core.display.HTML object>"
      ]
     },
     "metadata": {},
     "output_type": "display_data"
    }
   ],
   "source": [
    "from tensorflow import keras\n",
    "print('keras: ', keras.__version__)\n",
    "\n",
    "from IPython.core.display import display, HTML\n",
    "display(HTML(\"<style>.container { width:95% !important; }</style>\"))"
   ]
  },
  {
   "cell_type": "markdown",
   "metadata": {},
   "source": [
    "## Objectives\n",
    "After completing this practical exercise, students should be able to:\n",
    "1. [Train a convnet from scratch on a small dataset](#demo)\n",
    "2. [Exercise: Tune parameters of a convnet model](#exc)"
   ]
  },
  {
   "cell_type": "markdown",
   "metadata": {},
   "source": [
    "## 1. Training a convnet from scratch on a small dataset <a id='demo' />\n",
    "\n",
    "In this practical example, we will focus on classifying images as \"dogs\" or \"cats\". We will start by naively training a small convnet on our training samples, without any regularization, to set a baseline for what can be achieved. This will get us to a classification accuracy of around 70%. At that point, our main issue will be overfitting. Then we will introduce *data augmentation*, a powerful technique for mitigating overfitting in computer vision. By leveraging data augmentation, we will improve our network to reach an accuracy of around 80%."
   ]
  },
  {
   "cell_type": "markdown",
   "metadata": {},
   "source": [
    "### 1.1 Downloading the data\n",
    "\n",
    "The cats vs. dogs dataset that we will use isn't packaged with Keras. It was made available by Kaggle.com as part of a computer vision competition in late 2013, back when convnets weren't quite mainstream. The original dataset is available at: \n",
    "`https://www.kaggle.com/c/dogs-vs-cats/data`."
   ]
  },
  {
   "cell_type": "markdown",
   "metadata": {},
   "source": [
    "This original dataset contains 25,000 images of dogs and cats (12,500 from each class) and is 543MB large (compressed). In this Practical we will use a subset (\"cats_and_dogs_small.zip\") of the original dataset. It contains 4000 pictures of cats and dogs (2000 cats, 2000 dogs) and we will use 2000 pictures (1000 cats, 1000 dogs) for training, 1000 (500 cats, 500 dogs) for validation, and finally 1000 (500 cats, 500 dogs) for testing. You can download this small dataset (\"cats_and_dogs_small.zip\", around 90MB) from MEL and then unzip it. After that please assign directory you save the images to base_dir as shown below."
   ]
  },
  {
   "cell_type": "code",
   "execution_count": 2,
   "metadata": {},
   "outputs": [],
   "source": [
    "import os\n",
    "#base_dir is the directory where you stored the cats and dogs dataset\n",
    "base_dir = 'C:/School/NP/Np_class/DL/week04/cats_and_dogs_small'\n",
    "\n",
    "train_dir = os.path.join(base_dir, 'train')\n",
    "validation_dir = os.path.join(base_dir, 'validation')\n",
    "test_dir = os.path.join(base_dir, 'test')"
   ]
  },
  {
   "cell_type": "markdown",
   "metadata": {},
   "source": [
    "### 1.2 Building our network\n",
    "\n",
    "Our convnet will be a stack of alternated `Conv2D` (with `relu` activation) and `MaxPooling2D` layers. We start from inputs of size 50x50 (a somewhat arbitrary choice), we end up with output of size 1x1 right before the `Flatten` layer.\n",
    "\n",
    "Note that the depth of the output is progressively increasing in the network (from 32 to 128), while the size of the output is \n",
    "decreasing (from 48x48 to 1x1). This is a pattern that you will see in almost all convnets.\n",
    "\n",
    "Since we are attacking a binary classification problem, we are ending the network with a single unit (a `Dense` layer of size 1) and a `sigmoid` activation. This unit will output the classification probability of one class or the other."
   ]
  },
  {
   "cell_type": "code",
   "execution_count": 3,
   "metadata": {},
   "outputs": [],
   "source": [
    "from tensorflow.keras import layers\n",
    "from tensorflow.keras import models\n",
    "\n",
    "# We set image size as 50*50.\n",
    "img_size = 50\n",
    "\n",
    "model = models.Sequential()\n",
    "model.add(layers.Conv2D(32, (3, 3), activation='relu',\n",
    "                        input_shape=(img_size, img_size, 3)))\n",
    "model.add(layers.MaxPooling2D((2, 2)))\n",
    "model.add(layers.Conv2D(64, (3, 3), activation='relu'))\n",
    "model.add(layers.MaxPooling2D((2, 2)))\n",
    "model.add(layers.Conv2D(128, (3, 3), activation='relu'))\n",
    "model.add(layers.MaxPooling2D((2, 2)))\n",
    "model.add(layers.Conv2D(128, (3, 3), activation='relu'))\n",
    "model.add(layers.MaxPooling2D((2, 2)))\n",
    "model.add(layers.Flatten())\n",
    "model.add(layers.Dense(512, activation='relu'))\n",
    "model.add(layers.Dense(1, activation='sigmoid'))"
   ]
  },
  {
   "cell_type": "markdown",
   "metadata": {},
   "source": [
    "Let's take a look at how the dimensions of the Output Shape change with every successive layer:"
   ]
  },
  {
   "cell_type": "code",
   "execution_count": 4,
   "metadata": {},
   "outputs": [
    {
     "name": "stdout",
     "output_type": "stream",
     "text": [
      "Model: \"sequential\"\n",
      "_________________________________________________________________\n",
      "Layer (type)                 Output Shape              Param #   \n",
      "=================================================================\n",
      "conv2d (Conv2D)              (None, 48, 48, 32)        896       \n",
      "_________________________________________________________________\n",
      "max_pooling2d (MaxPooling2D) (None, 24, 24, 32)        0         \n",
      "_________________________________________________________________\n",
      "conv2d_1 (Conv2D)            (None, 22, 22, 64)        18496     \n",
      "_________________________________________________________________\n",
      "max_pooling2d_1 (MaxPooling2 (None, 11, 11, 64)        0         \n",
      "_________________________________________________________________\n",
      "conv2d_2 (Conv2D)            (None, 9, 9, 128)         73856     \n",
      "_________________________________________________________________\n",
      "max_pooling2d_2 (MaxPooling2 (None, 4, 4, 128)         0         \n",
      "_________________________________________________________________\n",
      "conv2d_3 (Conv2D)            (None, 2, 2, 128)         147584    \n",
      "_________________________________________________________________\n",
      "max_pooling2d_3 (MaxPooling2 (None, 1, 1, 128)         0         \n",
      "_________________________________________________________________\n",
      "flatten (Flatten)            (None, 128)               0         \n",
      "_________________________________________________________________\n",
      "dense (Dense)                (None, 512)               66048     \n",
      "_________________________________________________________________\n",
      "dense_1 (Dense)              (None, 1)                 513       \n",
      "=================================================================\n",
      "Total params: 307,393\n",
      "Trainable params: 307,393\n",
      "Non-trainable params: 0\n",
      "_________________________________________________________________\n"
     ]
    }
   ],
   "source": [
    "model.summary()"
   ]
  },
  {
   "cell_type": "markdown",
   "metadata": {},
   "source": [
    "For our compilation step, we'll go with the `RMSprop` optimizer as usual. Since we ended our network with a single sigmoid unit, we will use binary crossentropy as our loss."
   ]
  },
  {
   "cell_type": "code",
   "execution_count": 5,
   "metadata": {},
   "outputs": [],
   "source": [
    "from tensorflow.keras import optimizers\n",
    "\n",
    "model.compile(loss='binary_crossentropy',\n",
    "              optimizer=optimizers.RMSprop(lr=1e-4),\n",
    "              metrics=['acc'])"
   ]
  },
  {
   "cell_type": "markdown",
   "metadata": {},
   "source": [
    "### 1.3 Data preprocessing\n",
    "\n",
    "As you already know by now, data should be formatted into appropriately pre-processed floating point tensors before being fed into our \n",
    "network. Currently, our data sits on a drive as JPEG files, so the steps for getting it into our network are roughly:\n",
    "\n",
    "* Read the picture files.\n",
    "* Decode the JPEG content to RBG grids of pixels.\n",
    "* Convert these into floating point tensors.\n",
    "* Rescale the pixel values (between 0 and 255) to the [0, 1] interval\n",
    "\n",
    "It may seem a bit daunting, but thankfully Keras has utilities to take care of these steps automatically. Keras has a module with image \n",
    "processing helper tools, located at `tensorflow.keras.preprocessing.image`. It contains the class `ImageDataGenerator` which allows to \n",
    "quickly set up Python generators that can automatically turn image files on disk into batches of pre-processed tensors. This is what we will use here."
   ]
  },
  {
   "cell_type": "code",
   "execution_count": 6,
   "metadata": {},
   "outputs": [
    {
     "name": "stdout",
     "output_type": "stream",
     "text": [
      "Found 2000 images belonging to 2 classes.\n",
      "Found 1000 images belonging to 2 classes.\n"
     ]
    }
   ],
   "source": [
    "from tensorflow.keras.preprocessing.image import ImageDataGenerator\n",
    "\n",
    "# All images will be rescaled by 1./255\n",
    "train_datagen = ImageDataGenerator(rescale=1./255)\n",
    "test_datagen = ImageDataGenerator(rescale=1./255)\n",
    "\n",
    "train_generator = train_datagen.flow_from_directory(\n",
    "        # This is the target directory\n",
    "        train_dir,\n",
    "        # All images will be resized to 50x50\n",
    "        target_size=(img_size, img_size),\n",
    "        batch_size=20,\n",
    "        # Since we use binary_crossentropy loss, we need binary labels\n",
    "        class_mode='binary')\n",
    "\n",
    "validation_generator = test_datagen.flow_from_directory(\n",
    "        validation_dir,\n",
    "        target_size=(img_size, img_size),\n",
    "        batch_size=20,\n",
    "        class_mode='binary')"
   ]
  },
  {
   "cell_type": "markdown",
   "metadata": {},
   "source": [
    "Let's take a look at the output of one of these generators: it yields batches of 50x50 RGB images (shape `(20, 50, 50, 3)`) and binary \n",
    "labels (shape `(20,)`). 20 is the number of samples in each batch (the batch size). Note that the generator yields these batches \n",
    "indefinitely: it just loops endlessly over the images present in the target folder, so we need to `break` the iteration loop at some point."
   ]
  },
  {
   "cell_type": "code",
   "execution_count": 7,
   "metadata": {},
   "outputs": [
    {
     "name": "stdout",
     "output_type": "stream",
     "text": [
      "data batch shape: (20, 50, 50, 3)\n",
      "labels batch shape: (20,)\n"
     ]
    }
   ],
   "source": [
    "for data_batch, labels_batch in train_generator:\n",
    "    print('data batch shape:', data_batch.shape)\n",
    "    print('labels batch shape:', labels_batch.shape)\n",
    "    break"
   ]
  },
  {
   "cell_type": "markdown",
   "metadata": {},
   "source": [
    "Let's fit our model to the data using the generator. We do it using the `fit_generator` method, the equivalent of `fit` for data generators like ours. It expects as first argument a Python generator that will yield batches of inputs and targets indefinitely. \n",
    "Because the data is being generated endlessly, the generator needs to know how many samples to draw from the generator before declaring an epoch over. This is the role of the `steps_per_epoch` argument: after having drawn `steps_per_epoch` batches from the generator, i.e. after having run for `steps_per_epoch` gradient descent steps, the fitting process will go to the next epoch. In our case, batches are 20-sample large, so it will take 100 batches (=20*100 samples) until we see our target of 2000 samples.\n",
    "\n",
    "When using `fit_generator`, one may pass a `validation_data` argument, much like with the `fit` method. Importantly, this argument is mostly a data generator.  After you pass a generator to `validation_data`, then \n",
    "this generator is expected to yield batches of validation data endlessly, and thus you should also specify the `validation_steps` argument, which tells the process how many batches to draw from the validation generator for evaluation."
   ]
  },
  {
   "cell_type": "code",
   "execution_count": 8,
   "metadata": {},
   "outputs": [
    {
     "name": "stdout",
     "output_type": "stream",
     "text": [
      "WARNING:tensorflow:From <ipython-input-8-9467847ee2b6>:6: Model.fit_generator (from tensorflow.python.keras.engine.training) is deprecated and will be removed in a future version.\n",
      "Instructions for updating:\n",
      "Please use Model.fit, which supports generators.\n",
      "WARNING:tensorflow:sample_weight modes were coerced from\n",
      "  ...\n",
      "    to  \n",
      "  ['...']\n",
      "WARNING:tensorflow:sample_weight modes were coerced from\n",
      "  ...\n",
      "    to  \n",
      "  ['...']\n",
      "Train for 100 steps, validate for 50 steps\n",
      "Epoch 1/30\n",
      "100/100 [==============================] - 21s 213ms/step - loss: 0.6923 - acc: 0.5150 - val_loss: 0.6913 - val_acc: 0.5040\n",
      "Epoch 2/30\n",
      "100/100 [==============================] - 6s 64ms/step - loss: 0.6827 - acc: 0.5630 - val_loss: 0.6862 - val_acc: 0.5030\n",
      "Epoch 3/30\n",
      "100/100 [==============================] - 6s 64ms/step - loss: 0.6715 - acc: 0.6020 - val_loss: 0.6811 - val_acc: 0.5530\n",
      "Epoch 4/30\n",
      "100/100 [==============================] - 6s 64ms/step - loss: 0.6576 - acc: 0.6115 - val_loss: 0.6614 - val_acc: 0.5840\n",
      "Epoch 5/30\n",
      "100/100 [==============================] - 6s 64ms/step - loss: 0.6449 - acc: 0.6380 - val_loss: 0.6743 - val_acc: 0.5780\n",
      "Epoch 6/30\n",
      "100/100 [==============================] - 6s 65ms/step - loss: 0.6327 - acc: 0.6505 - val_loss: 0.6424 - val_acc: 0.6270\n",
      "Epoch 7/30\n",
      "100/100 [==============================] - 7s 66ms/step - loss: 0.6204 - acc: 0.6555 - val_loss: 0.6335 - val_acc: 0.6400\n",
      "Epoch 8/30\n",
      "100/100 [==============================] - 7s 66ms/step - loss: 0.6071 - acc: 0.6695 - val_loss: 0.6816 - val_acc: 0.5860\n",
      "Epoch 9/30\n",
      "100/100 [==============================] - 7s 66ms/step - loss: 0.5944 - acc: 0.6895 - val_loss: 0.6272 - val_acc: 0.6470\n",
      "Epoch 10/30\n",
      "100/100 [==============================] - 6s 65ms/step - loss: 0.5803 - acc: 0.6980 - val_loss: 0.6160 - val_acc: 0.6510\n",
      "Epoch 11/30\n",
      "100/100 [==============================] - 6s 65ms/step - loss: 0.5645 - acc: 0.7145 - val_loss: 0.6140 - val_acc: 0.6560\n",
      "Epoch 12/30\n",
      "100/100 [==============================] - 6s 65ms/step - loss: 0.5542 - acc: 0.7145 - val_loss: 0.5861 - val_acc: 0.6830\n",
      "Epoch 13/30\n",
      "100/100 [==============================] - 7s 65ms/step - loss: 0.5330 - acc: 0.7325 - val_loss: 0.7817 - val_acc: 0.5670\n",
      "Epoch 14/30\n",
      "100/100 [==============================] - 7s 65ms/step - loss: 0.5142 - acc: 0.7375 - val_loss: 0.6086 - val_acc: 0.6660\n",
      "Epoch 15/30\n",
      "100/100 [==============================] - 6s 65ms/step - loss: 0.5015 - acc: 0.7590 - val_loss: 0.6448 - val_acc: 0.6480\n",
      "Epoch 16/30\n",
      "100/100 [==============================] - 6s 65ms/step - loss: 0.4843 - acc: 0.7680 - val_loss: 0.7182 - val_acc: 0.6240\n",
      "Epoch 17/30\n",
      "100/100 [==============================] - 6s 65ms/step - loss: 0.4645 - acc: 0.7835 - val_loss: 0.5588 - val_acc: 0.7020\n",
      "Epoch 18/30\n",
      "100/100 [==============================] - 6s 65ms/step - loss: 0.4444 - acc: 0.7990 - val_loss: 0.6345 - val_acc: 0.6620\n",
      "Epoch 19/30\n",
      "100/100 [==============================] - 6s 65ms/step - loss: 0.4342 - acc: 0.7985 - val_loss: 0.5553 - val_acc: 0.7040\n",
      "Epoch 20/30\n",
      "100/100 [==============================] - 6s 65ms/step - loss: 0.4108 - acc: 0.8145 - val_loss: 0.5454 - val_acc: 0.7170\n",
      "Epoch 21/30\n",
      "100/100 [==============================] - 6s 65ms/step - loss: 0.3903 - acc: 0.8345 - val_loss: 0.5549 - val_acc: 0.7070\n",
      "Epoch 22/30\n",
      "100/100 [==============================] - 6s 65ms/step - loss: 0.3743 - acc: 0.8370 - val_loss: 0.5702 - val_acc: 0.7030\n",
      "Epoch 23/30\n",
      "100/100 [==============================] - 6s 65ms/step - loss: 0.3544 - acc: 0.8555 - val_loss: 0.6803 - val_acc: 0.6730\n",
      "Epoch 24/30\n",
      "100/100 [==============================] - 7s 65ms/step - loss: 0.3440 - acc: 0.8595 - val_loss: 0.5675 - val_acc: 0.7060\n",
      "Epoch 25/30\n",
      "100/100 [==============================] - 6s 65ms/step - loss: 0.3167 - acc: 0.8745 - val_loss: 0.6091 - val_acc: 0.7010\n",
      "Epoch 26/30\n",
      "100/100 [==============================] - 6s 65ms/step - loss: 0.3108 - acc: 0.8720 - val_loss: 0.5916 - val_acc: 0.7150\n",
      "Epoch 27/30\n",
      "100/100 [==============================] - 6s 65ms/step - loss: 0.2882 - acc: 0.8740 - val_loss: 0.5924 - val_acc: 0.7080\n",
      "Epoch 28/30\n",
      "100/100 [==============================] - 6s 65ms/step - loss: 0.2669 - acc: 0.8990 - val_loss: 0.5879 - val_acc: 0.7140\n",
      "Epoch 29/30\n",
      "100/100 [==============================] - 6s 65ms/step - loss: 0.2495 - acc: 0.9020 - val_loss: 0.6918 - val_acc: 0.6770\n",
      "Epoch 30/30\n",
      "100/100 [==============================] - 6s 65ms/step - loss: 0.2346 - acc: 0.9115 - val_loss: 0.5924 - val_acc: 0.7240\n"
     ]
    }
   ],
   "source": [
    "history = model.fit_generator(\n",
    "      train_generator,\n",
    "      steps_per_epoch=100, # batch: 20 * 100 = 2000 training images\n",
    "      epochs=30,\n",
    "      validation_data=validation_generator,\n",
    "      validation_steps=50) # 20 * 50 = 1000 = 1000 validation images"
   ]
  },
  {
   "cell_type": "markdown",
   "metadata": {
    "collapsed": true
   },
   "source": [
    "It is good practice to always save your models after training:"
   ]
  },
  {
   "cell_type": "code",
   "execution_count": 9,
   "metadata": {},
   "outputs": [],
   "source": [
    "#model.save('cats_and_dogs_small_1.h5')"
   ]
  },
  {
   "cell_type": "markdown",
   "metadata": {},
   "source": [
    "Let's plot the loss and accuracy of the model over the training and validation data during training:"
   ]
  },
  {
   "cell_type": "code",
   "execution_count": 10,
   "metadata": {},
   "outputs": [
    {
     "data": {
      "image/png": "[encoded data removed]",
      "text/plain": [
       "<Figure size 432x288 with 1 Axes>"
      ]
     },
     "metadata": {
      "needs_background": "light"
     },
     "output_type": "display_data"
    },
    {
     "data": {
      "image/png": "[encoded data removed]",
      "text/plain": [
       "<Figure size 432x288 with 1 Axes>"
      ]
     },
     "metadata": {
      "needs_background": "light"
     },
     "output_type": "display_data"
    }
   ],
   "source": [
    "import matplotlib.pyplot as plt\n",
    "%matplotlib inline\n",
    "\n",
    "acc = history.history['acc']\n",
    "val_acc = history.history['val_acc']\n",
    "loss = history.history['loss']\n",
    "val_loss = history.history['val_loss']\n",
    "\n",
    "epochs = range(len(acc))\n",
    "\n",
    "plt.plot(epochs, acc, 'bo', label='Training acc')\n",
    "plt.plot(epochs, val_acc, 'b', label='Validation acc')\n",
    "plt.title('Training and validation accuracy')\n",
    "plt.legend()\n",
    "\n",
    "plt.figure()\n",
    "\n",
    "plt.plot(epochs, loss, 'bo', label='Training loss')\n",
    "plt.plot(epochs, val_loss, 'b', label='Validation loss')\n",
    "plt.title('Training and validation loss')\n",
    "plt.legend()\n",
    "\n",
    "plt.show()"
   ]
  },
  {
   "cell_type": "markdown",
   "metadata": {},
   "source": [
    "We can easily see overfitting through these plots. Our training accuracy increases linearly over time, until it reaches nearly 90%, while our validation accuracy stalls at around 70%. Our validation loss reaches its minimum after only a few epochs then stalls, while the training loss keeps decreasing linearly until it reaches nearly 0.\n",
    "\n",
    "Because we only have relatively few training samples (2000), overfitting is going to be our number one concern. You already know about a number of techniques that can help mitigate overfitting, such as dropout and weight decay (L2 regularization). We are now going to introduce a new one, specific to computer vision, and used almost universally when processing images with deep learning models: *data augmentation*."
   ]
  },
  {
   "cell_type": "markdown",
   "metadata": {},
   "source": [
    "### 1.4 Using data augmentation\n",
    "\n",
    "Overfitting is caused by having too few samples to learn from, rendering us unable to train a model able to generalize to new data. \n",
    "Given infinite data, our model would be exposed to every possible aspect of the data distribution at hand: we would never overfit. Data \n",
    "augmentation takes the approach of generating more training data from existing training samples, by \"augmenting\" the samples via a number \n",
    "of random transformations that yield believable-looking images. The goal is that at training time, our model would never see the exact same \n",
    "picture twice. This helps the model get exposed to more aspects of the data and generalize better.\n",
    "\n",
    "In Keras, this can be done by configuring a number of random transformations to be performed on the images read by our `ImageDataGenerator` \n",
    "instance. Let's get started with an example:"
   ]
  },
  {
   "cell_type": "code",
   "execution_count": 11,
   "metadata": {},
   "outputs": [],
   "source": [
    "datagen = ImageDataGenerator(\n",
    "      rotation_range=40,\n",
    "      width_shift_range=0.2,\n",
    "      height_shift_range=0.2,\n",
    "      shear_range=0.2,\n",
    "      zoom_range=0.2,\n",
    "      horizontal_flip=True,\n",
    "      fill_mode='nearest')"
   ]
  },
  {
   "cell_type": "markdown",
   "metadata": {},
   "source": [
    "These are just a few of the options available (for more, see the Keras documentation). Let's quickly go over what we just wrote:\n",
    "\n",
    "* `rotation_range` is a value in degrees (0-180), a range within which to randomly rotate pictures.\n",
    "* `width_shift` and `height_shift` are ranges (as a fraction of total width or height) within which to randomly translate pictures \n",
    "vertically or horizontally.\n",
    "* `shear_range` is for randomly applying shearing transformations.\n",
    "* `zoom_range` is for randomly zooming inside pictures.\n",
    "* `horizontal_flip` is for randomly flipping half of the images horizontally -- relevant when there are no assumptions of horizontal \n",
    "asymmetry (e.g. real-world pictures).\n",
    "* `fill_mode` is the strategy used for filling in newly created pixels, which can appear after a rotation or a width/height shift.\n",
    "\n",
    "Let's take a look at our augmented images:"
   ]
  },
  {
   "cell_type": "code",
   "execution_count": 12,
   "metadata": {},
   "outputs": [
    {
     "data": {
      "image/png": "[encoded data removed]",
      "text/plain": [
       "<Figure size 432x288 with 1 Axes>"
      ]
     },
     "metadata": {
      "needs_background": "light"
     },
     "output_type": "display_data"
    },
    {
     "data": {
      "image/png": "[encoded data removed]",
      "text/plain": [
       "<Figure size 432x288 with 1 Axes>"
      ]
     },
     "metadata": {
      "needs_background": "light"
     },
     "output_type": "display_data"
    },
    {
     "data": {
      "image/png": "[encoded data removed]",
      "text/plain": [
       "<Figure size 432x288 with 1 Axes>"
      ]
     },
     "metadata": {
      "needs_background": "light"
     },
     "output_type": "display_data"
    },
    {
     "data": {
      "image/png": "[encoded data removed]",
      "text/plain": [
       "<Figure size 432x288 with 1 Axes>"
      ]
     },
     "metadata": {
      "needs_background": "light"
     },
     "output_type": "display_data"
    }
   ],
   "source": [
    "# This is module with image preprocessing utilities\n",
    "# import os\n",
    "# import matplotlib.pyplot as plt\n",
    "\n",
    "from tensorflow.keras.preprocessing import image\n",
    "train_cats_dir = os.path.join(base_dir, 'train/cats')\n",
    "\n",
    "fnames = [os.path.join(train_cats_dir, fname) for fname in os.listdir(train_cats_dir)]\n",
    "\n",
    "# We pick one image to \"augment\"\n",
    "img_path = fnames[9]\n",
    "\n",
    "# Read the image and resize it\n",
    "img = image.load_img(img_path, target_size=(img_size, img_size))\n",
    "\n",
    "# Convert it to a Numpy array with shape (50, 50, 3)\n",
    "x = image.img_to_array(img)\n",
    "\n",
    "# Reshape it to (1, 50, 50, 3)\n",
    "x = x.reshape((1,) + x.shape)\n",
    "\n",
    "# The .flow() command below generates batches of randomly transformed images.\n",
    "# It will loop indefinitely, so we need to `break` the loop at some point!\n",
    "i = 0\n",
    "for batch in datagen.flow(x, batch_size=1):\n",
    "    plt.figure(i)\n",
    "    imgplot = plt.imshow(image.array_to_img(batch[0]))\n",
    "    i += 1\n",
    "    if i % 4 == 0:\n",
    "        break\n",
    "        \n",
    "\n",
    "plt.show()"
   ]
  },
  {
   "cell_type": "markdown",
   "metadata": {},
   "source": [
    "If we train a new network using this data augmentation configuration, our network will never see twice the same input. However, the inputs \n",
    "that it sees are still heavily intercorrelated, since they come from a small number of original images -- we cannot produce new information, \n",
    "we can only remix existing information. As such, this might not be quite enough to completely get rid of overfitting. To further fight \n",
    "overfitting, we will also add a Dropout layer to our model, right before the densely-connected classifier:"
   ]
  },
  {
   "cell_type": "code",
   "execution_count": 13,
   "metadata": {},
   "outputs": [],
   "source": [
    "model = models.Sequential()\n",
    "model.add(layers.Conv2D(32, (3, 3), activation='relu',\n",
    "                        input_shape=(img_size, img_size, 3)))\n",
    "model.add(layers.MaxPooling2D((2, 2)))\n",
    "model.add(layers.Conv2D(64, (3, 3), activation='relu'))\n",
    "model.add(layers.MaxPooling2D((2, 2)))\n",
    "model.add(layers.Conv2D(128, (3, 3), activation='relu'))\n",
    "model.add(layers.MaxPooling2D((2, 2)))\n",
    "model.add(layers.Conv2D(128, (3, 3), activation='relu'))\n",
    "model.add(layers.MaxPooling2D((2, 2)))\n",
    "model.add(layers.Flatten())\n",
    "model.add(layers.Dropout(0.5))\n",
    "model.add(layers.Dense(512, activation='relu'))\n",
    "model.add(layers.Dense(1, activation='sigmoid'))\n",
    "\n",
    "model.compile(loss='binary_crossentropy',\n",
    "              optimizer=optimizers.RMSprop(lr=1e-4),\n",
    "              metrics=['acc'])"
   ]
  },
  {
   "cell_type": "markdown",
   "metadata": {},
   "source": [
    "Let's train our network using data augmentation and dropout:"
   ]
  },
  {
   "cell_type": "code",
   "execution_count": 14,
   "metadata": {},
   "outputs": [
    {
     "name": "stdout",
     "output_type": "stream",
     "text": [
      "Found 2000 images belonging to 2 classes.\n",
      "Found 1000 images belonging to 2 classes.\n",
      "WARNING:tensorflow:sample_weight modes were coerced from\n",
      "  ...\n",
      "    to  \n",
      "  ['...']\n",
      "WARNING:tensorflow:sample_weight modes were coerced from\n",
      "  ...\n",
      "    to  \n",
      "  ['...']\n",
      "Train for 100 steps, validate for 50 steps\n",
      "Epoch 1/100\n",
      "100/100 [==============================] - 9s 87ms/step - loss: 0.6938 - acc: 0.4925 - val_loss: 0.6921 - val_acc: 0.4990\n",
      "Epoch 2/100\n",
      "100/100 [==============================] - 8s 78ms/step - loss: 0.6928 - acc: 0.5055 - val_loss: 0.6908 - val_acc: 0.5560\n",
      "Epoch 3/100\n",
      "100/100 [==============================] - 8s 78ms/step - loss: 0.6919 - acc: 0.5230 - val_loss: 0.6874 - val_acc: 0.5850\n",
      "Epoch 4/100\n",
      "100/100 [==============================] - 8s 78ms/step - loss: 0.6871 - acc: 0.5450 - val_loss: 0.6824 - val_acc: 0.5770\n",
      "Epoch 5/100\n",
      "100/100 [==============================] - 8s 78ms/step - loss: 0.6809 - acc: 0.5550 - val_loss: 0.6751 - val_acc: 0.5570\n",
      "Epoch 6/100\n",
      "100/100 [==============================] - 8s 78ms/step - loss: 0.6760 - acc: 0.5835 - val_loss: 0.7280 - val_acc: 0.5100\n",
      "Epoch 7/100\n",
      "100/100 [==============================] - 8s 78ms/step - loss: 0.6695 - acc: 0.5870 - val_loss: 0.6630 - val_acc: 0.5940\n",
      "Epoch 8/100\n",
      "100/100 [==============================] - 8s 78ms/step - loss: 0.6736 - acc: 0.5815 - val_loss: 0.6600 - val_acc: 0.6080\n",
      "Epoch 9/100\n",
      "100/100 [==============================] - 8s 78ms/step - loss: 0.6696 - acc: 0.5995 - val_loss: 0.6662 - val_acc: 0.5810\n",
      "Epoch 10/100\n",
      "100/100 [==============================] - 8s 78ms/step - loss: 0.6623 - acc: 0.6010 - val_loss: 0.6632 - val_acc: 0.5930\n",
      "Epoch 11/100\n",
      "100/100 [==============================] - 8s 79ms/step - loss: 0.6607 - acc: 0.6090 - val_loss: 0.6582 - val_acc: 0.6080\n",
      "Epoch 12/100\n",
      "100/100 [==============================] - 8s 78ms/step - loss: 0.6557 - acc: 0.6150 - val_loss: 0.6741 - val_acc: 0.5820\n",
      "Epoch 13/100\n",
      "100/100 [==============================] - 8s 78ms/step - loss: 0.6544 - acc: 0.6055 - val_loss: 0.6793 - val_acc: 0.5770\n",
      "Epoch 14/100\n",
      "100/100 [==============================] - 9s 91ms/step - loss: 0.6523 - acc: 0.6165 - val_loss: 0.7692 - val_acc: 0.5160\n",
      "Epoch 15/100\n",
      "100/100 [==============================] - 9s 89ms/step - loss: 0.6460 - acc: 0.6290 - val_loss: 0.6603 - val_acc: 0.6110\n",
      "Epoch 16/100\n",
      "100/100 [==============================] - 9s 88ms/step - loss: 0.6447 - acc: 0.6305 - val_loss: 0.6596 - val_acc: 0.6240\n",
      "Epoch 17/100\n",
      "100/100 [==============================] - 9s 90ms/step - loss: 0.6474 - acc: 0.6260 - val_loss: 0.6391 - val_acc: 0.6300\n",
      "Epoch 18/100\n",
      "100/100 [==============================] - 9s 89ms/step - loss: 0.6386 - acc: 0.6425 - val_loss: 0.7154 - val_acc: 0.5720\n",
      "Epoch 19/100\n",
      "100/100 [==============================] - 9s 91ms/step - loss: 0.6498 - acc: 0.6225 - val_loss: 0.6608 - val_acc: 0.6090\n",
      "Epoch 20/100\n",
      "100/100 [==============================] - 9s 89ms/step - loss: 0.6409 - acc: 0.6410 - val_loss: 0.6499 - val_acc: 0.6200\n",
      "Epoch 21/100\n",
      "100/100 [==============================] - 9s 89ms/step - loss: 0.6436 - acc: 0.6300 - val_loss: 0.6742 - val_acc: 0.6020\n",
      "Epoch 22/100\n",
      "100/100 [==============================] - 9s 89ms/step - loss: 0.6376 - acc: 0.6360 - val_loss: 0.6870 - val_acc: 0.5880\n",
      "Epoch 23/100\n",
      "100/100 [==============================] - 9s 89ms/step - loss: 0.6332 - acc: 0.6385 - val_loss: 0.6500 - val_acc: 0.6340\n",
      "Epoch 24/100\n",
      "100/100 [==============================] - 9s 89ms/step - loss: 0.6328 - acc: 0.6460 - val_loss: 0.6978 - val_acc: 0.5860\n",
      "Epoch 25/100\n",
      "100/100 [==============================] - 9s 88ms/step - loss: 0.6326 - acc: 0.6370 - val_loss: 0.6187 - val_acc: 0.6420\n",
      "Epoch 26/100\n",
      "100/100 [==============================] - 9s 88ms/step - loss: 0.6263 - acc: 0.6515 - val_loss: 0.6693 - val_acc: 0.6100\n",
      "Epoch 27/100\n",
      "100/100 [==============================] - 9s 94ms/step - loss: 0.6262 - acc: 0.6520 - val_loss: 0.7120 - val_acc: 0.5820\n",
      "Epoch 28/100\n",
      "100/100 [==============================] - 9s 90ms/step - loss: 0.6162 - acc: 0.6610 - val_loss: 0.6038 - val_acc: 0.6640\n",
      "Epoch 29/100\n",
      "100/100 [==============================] - 9s 88ms/step - loss: 0.6263 - acc: 0.6565 - val_loss: 0.6953 - val_acc: 0.6060\n",
      "Epoch 30/100\n",
      "100/100 [==============================] - 9s 87ms/step - loss: 0.6140 - acc: 0.6610 - val_loss: 0.6659 - val_acc: 0.6220\n",
      "Epoch 31/100\n",
      "100/100 [==============================] - 9s 86ms/step - loss: 0.6218 - acc: 0.6610 - val_loss: 0.6395 - val_acc: 0.6310\n",
      "Epoch 32/100\n",
      "100/100 [==============================] - 9s 87ms/step - loss: 0.6067 - acc: 0.6605 - val_loss: 0.6962 - val_acc: 0.6100\n",
      "Epoch 33/100\n",
      "100/100 [==============================] - 9s 88ms/step - loss: 0.6066 - acc: 0.6750 - val_loss: 0.6467 - val_acc: 0.6460\n",
      "Epoch 34/100\n",
      "100/100 [==============================] - 9s 86ms/step - loss: 0.6063 - acc: 0.6755 - val_loss: 0.6469 - val_acc: 0.6290\n",
      "Epoch 35/100\n",
      "100/100 [==============================] - 9s 87ms/step - loss: 0.5953 - acc: 0.6820 - val_loss: 0.5904 - val_acc: 0.6900\n",
      "Epoch 36/100\n",
      "100/100 [==============================] - 9s 87ms/step - loss: 0.5951 - acc: 0.6800 - val_loss: 0.7174 - val_acc: 0.6120\n",
      "Epoch 37/100\n",
      "100/100 [==============================] - 9s 87ms/step - loss: 0.5899 - acc: 0.6955 - val_loss: 0.5722 - val_acc: 0.7000\n",
      "Epoch 38/100\n",
      "100/100 [==============================] - 9s 86ms/step - loss: 0.5962 - acc: 0.6895 - val_loss: 0.6326 - val_acc: 0.6570\n",
      "Epoch 39/100\n",
      "100/100 [==============================] - 9s 88ms/step - loss: 0.5973 - acc: 0.6835 - val_loss: 0.7417 - val_acc: 0.5810\n",
      "Epoch 40/100\n",
      "100/100 [==============================] - 9s 87ms/step - loss: 0.5955 - acc: 0.6880 - val_loss: 0.6329 - val_acc: 0.6460\n",
      "Epoch 41/100\n",
      "100/100 [==============================] - 9s 86ms/step - loss: 0.5788 - acc: 0.7025 - val_loss: 0.6131 - val_acc: 0.6640\n",
      "Epoch 42/100\n",
      "100/100 [==============================] - 9s 88ms/step - loss: 0.5916 - acc: 0.6940 - val_loss: 0.7609 - val_acc: 0.5930\n",
      "Epoch 43/100\n",
      "100/100 [==============================] - 8s 85ms/step - loss: 0.5849 - acc: 0.6895 - val_loss: 0.5514 - val_acc: 0.7260\n",
      "Epoch 44/100\n",
      "100/100 [==============================] - 9s 85ms/step - loss: 0.5717 - acc: 0.7035 - val_loss: 0.5497 - val_acc: 0.7160\n",
      "Epoch 45/100\n",
      "100/100 [==============================] - 9s 92ms/step - loss: 0.5740 - acc: 0.6965 - val_loss: 0.5444 - val_acc: 0.7240\n",
      "Epoch 46/100\n",
      "100/100 [==============================] - 9s 86ms/step - loss: 0.5549 - acc: 0.7195 - val_loss: 0.6055 - val_acc: 0.6670\n",
      "Epoch 47/100\n",
      "100/100 [==============================] - 8s 84ms/step - loss: 0.5710 - acc: 0.6910 - val_loss: 0.5716 - val_acc: 0.7020\n",
      "Epoch 48/100\n",
      "100/100 [==============================] - 9s 88ms/step - loss: 0.5613 - acc: 0.7065 - val_loss: 0.7297 - val_acc: 0.6190\n",
      "Epoch 49/100\n",
      "100/100 [==============================] - 9s 90ms/step - loss: 0.5674 - acc: 0.7065 - val_loss: 0.5710 - val_acc: 0.7040\n",
      "Epoch 50/100\n",
      "100/100 [==============================] - 9s 87ms/step - loss: 0.5623 - acc: 0.7065 - val_loss: 0.5835 - val_acc: 0.6980\n",
      "Epoch 51/100\n",
      "100/100 [==============================] - 9s 88ms/step - loss: 0.5602 - acc: 0.7095 - val_loss: 0.5646 - val_acc: 0.6890\n",
      "Epoch 52/100\n",
      "100/100 [==============================] - 9s 86ms/step - loss: 0.5625 - acc: 0.7080 - val_loss: 0.5391 - val_acc: 0.7190\n",
      "Epoch 53/100\n",
      "100/100 [==============================] - 9s 88ms/step - loss: 0.5520 - acc: 0.7200 - val_loss: 0.5543 - val_acc: 0.7210\n",
      "Epoch 54/100\n",
      "100/100 [==============================] - 9s 88ms/step - loss: 0.5590 - acc: 0.7120 - val_loss: 0.5557 - val_acc: 0.7170\n",
      "Epoch 55/100\n",
      "100/100 [==============================] - 9s 87ms/step - loss: 0.5421 - acc: 0.7335 - val_loss: 0.6611 - val_acc: 0.6530\n",
      "Epoch 56/100\n",
      "100/100 [==============================] - 9s 86ms/step - loss: 0.5455 - acc: 0.7265 - val_loss: 0.5593 - val_acc: 0.7240\n",
      "Epoch 57/100\n",
      "100/100 [==============================] - 9s 86ms/step - loss: 0.5413 - acc: 0.7275 - val_loss: 0.5652 - val_acc: 0.7010\n",
      "Epoch 58/100\n",
      "100/100 [==============================] - 9s 87ms/step - loss: 0.5514 - acc: 0.7230 - val_loss: 0.6575 - val_acc: 0.6550\n",
      "Epoch 59/100\n"
     ]
    },
    {
     "name": "stdout",
     "output_type": "stream",
     "text": [
      "100/100 [==============================] - 9s 86ms/step - loss: 0.5420 - acc: 0.7355 - val_loss: 0.5319 - val_acc: 0.7230\n",
      "Epoch 60/100\n",
      "100/100 [==============================] - 9s 87ms/step - loss: 0.5390 - acc: 0.7290 - val_loss: 0.6083 - val_acc: 0.6770\n",
      "Epoch 61/100\n",
      "100/100 [==============================] - 9s 85ms/step - loss: 0.5428 - acc: 0.7270 - val_loss: 0.5988 - val_acc: 0.6890\n",
      "Epoch 62/100\n",
      "100/100 [==============================] - 9s 92ms/step - loss: 0.5428 - acc: 0.7195 - val_loss: 0.5771 - val_acc: 0.7100\n",
      "Epoch 63/100\n",
      "100/100 [==============================] - 9s 86ms/step - loss: 0.5382 - acc: 0.7325 - val_loss: 0.6102 - val_acc: 0.6730\n",
      "Epoch 64/100\n",
      "100/100 [==============================] - 9s 86ms/step - loss: 0.5283 - acc: 0.7355 - val_loss: 0.5142 - val_acc: 0.7440\n",
      "Epoch 65/100\n",
      "100/100 [==============================] - 9s 85ms/step - loss: 0.5198 - acc: 0.7465 - val_loss: 0.5121 - val_acc: 0.7460\n",
      "Epoch 66/100\n",
      "100/100 [==============================] - 9s 86ms/step - loss: 0.5348 - acc: 0.7240 - val_loss: 0.5531 - val_acc: 0.7240\n",
      "Epoch 67/100\n",
      "100/100 [==============================] - 9s 86ms/step - loss: 0.5331 - acc: 0.7420 - val_loss: 0.5324 - val_acc: 0.7390\n",
      "Epoch 68/100\n",
      "100/100 [==============================] - 9s 87ms/step - loss: 0.5285 - acc: 0.7330 - val_loss: 0.5914 - val_acc: 0.6970\n",
      "Epoch 69/100\n",
      "100/100 [==============================] - 9s 86ms/step - loss: 0.5114 - acc: 0.7410 - val_loss: 0.5007 - val_acc: 0.7490- ETA: 0s - loss: 0.5148 - \n",
      "Epoch 70/100\n",
      "100/100 [==============================] - 9s 86ms/step - loss: 0.5235 - acc: 0.7335 - val_loss: 0.5230 - val_acc: 0.7500\n",
      "Epoch 71/100\n",
      "100/100 [==============================] - 9s 86ms/step - loss: 0.5268 - acc: 0.7330 - val_loss: 0.5102 - val_acc: 0.7440\n",
      "Epoch 72/100\n",
      "100/100 [==============================] - 9s 85ms/step - loss: 0.5242 - acc: 0.7450 - val_loss: 0.5359 - val_acc: 0.7260\n",
      "Epoch 73/100\n",
      "100/100 [==============================] - 9s 87ms/step - loss: 0.5099 - acc: 0.7485 - val_loss: 0.5392 - val_acc: 0.7210\n",
      "Epoch 74/100\n",
      "100/100 [==============================] - 9s 86ms/step - loss: 0.5121 - acc: 0.7460 - val_loss: 0.5172 - val_acc: 0.7460\n",
      "Epoch 75/100\n",
      "100/100 [==============================] - 9s 87ms/step - loss: 0.5041 - acc: 0.7600 - val_loss: 0.5166 - val_acc: 0.7280\n",
      "Epoch 76/100\n",
      "100/100 [==============================] - 9s 86ms/step - loss: 0.5076 - acc: 0.7535 - val_loss: 0.6203 - val_acc: 0.6850\n",
      "Epoch 77/100\n",
      "100/100 [==============================] - 9s 87ms/step - loss: 0.5247 - acc: 0.7325 - val_loss: 0.5977 - val_acc: 0.7010\n",
      "Epoch 78/100\n",
      "100/100 [==============================] - 9s 87ms/step - loss: 0.5092 - acc: 0.7540 - val_loss: 0.6053 - val_acc: 0.6910\n",
      "Epoch 79/100\n",
      "100/100 [==============================] - 9s 87ms/step - loss: 0.5067 - acc: 0.7460 - val_loss: 0.4957 - val_acc: 0.7560\n",
      "Epoch 80/100\n",
      "100/100 [==============================] - 9s 87ms/step - loss: 0.5077 - acc: 0.7560 - val_loss: 0.5033 - val_acc: 0.7500\n",
      "Epoch 81/100\n",
      "100/100 [==============================] - 9s 87ms/step - loss: 0.4983 - acc: 0.7615 - val_loss: 0.5431 - val_acc: 0.7240\n",
      "Epoch 82/100\n",
      "100/100 [==============================] - 9s 86ms/step - loss: 0.4867 - acc: 0.7620 - val_loss: 0.5187 - val_acc: 0.7500\n",
      "Epoch 83/100\n",
      "100/100 [==============================] - 9s 87ms/step - loss: 0.5060 - acc: 0.7435 - val_loss: 0.5604 - val_acc: 0.7180\n",
      "Epoch 84/100\n",
      "100/100 [==============================] - 9s 88ms/step - loss: 0.4968 - acc: 0.7645 - val_loss: 0.5016 - val_acc: 0.7610\n",
      "Epoch 85/100\n",
      "100/100 [==============================] - 9s 87ms/step - loss: 0.4978 - acc: 0.7505 - val_loss: 0.4827 - val_acc: 0.7710\n",
      "Epoch 86/100\n",
      "100/100 [==============================] - 9s 87ms/step - loss: 0.5112 - acc: 0.7585 - val_loss: 0.5919 - val_acc: 0.7050\n",
      "Epoch 87/100\n",
      "100/100 [==============================] - 9s 88ms/step - loss: 0.5004 - acc: 0.7590 - val_loss: 0.5290 - val_acc: 0.7290\n",
      "Epoch 88/100\n",
      "100/100 [==============================] - 9s 88ms/step - loss: 0.4931 - acc: 0.7630 - val_loss: 0.5207 - val_acc: 0.7390\n",
      "Epoch 89/100\n",
      "100/100 [==============================] - 9s 88ms/step - loss: 0.4851 - acc: 0.7610 - val_loss: 0.4910 - val_acc: 0.7650\n",
      "Epoch 90/100\n",
      "100/100 [==============================] - 9s 88ms/step - loss: 0.4935 - acc: 0.7655 - val_loss: 0.5433 - val_acc: 0.7250\n",
      "Epoch 91/100\n",
      "100/100 [==============================] - 9s 87ms/step - loss: 0.4855 - acc: 0.7670 - val_loss: 0.4812 - val_acc: 0.7740\n",
      "Epoch 92/100\n",
      "100/100 [==============================] - 9s 87ms/step - loss: 0.4894 - acc: 0.7575 - val_loss: 0.4637 - val_acc: 0.7690\n",
      "Epoch 93/100\n",
      "100/100 [==============================] - 9s 87ms/step - loss: 0.4887 - acc: 0.7665 - val_loss: 0.5310 - val_acc: 0.7400\n",
      "Epoch 94/100\n",
      "100/100 [==============================] - 10s 97ms/step - loss: 0.4765 - acc: 0.7700 - val_loss: 0.5011 - val_acc: 0.7610\n",
      "Epoch 95/100\n",
      "100/100 [==============================] - 9s 89ms/step - loss: 0.4874 - acc: 0.7630 - val_loss: 0.5243 - val_acc: 0.7550\n",
      "Epoch 96/100\n",
      "100/100 [==============================] - 9s 90ms/step - loss: 0.4835 - acc: 0.7640 - val_loss: 0.5923 - val_acc: 0.7120\n",
      "Epoch 97/100\n",
      "100/100 [==============================] - 9s 94ms/step - loss: 0.4881 - acc: 0.7690 - val_loss: 0.6009 - val_acc: 0.6970\n",
      "Epoch 98/100\n",
      "100/100 [==============================] - 9s 89ms/step - loss: 0.4943 - acc: 0.7585 - val_loss: 0.4947 - val_acc: 0.7610\n",
      "Epoch 99/100\n",
      "100/100 [==============================] - 9s 86ms/step - loss: 0.4851 - acc: 0.7655 - val_loss: 0.5091 - val_acc: 0.7590\n",
      "Epoch 100/100\n",
      "100/100 [==============================] - 9s 85ms/step - loss: 0.4751 - acc: 0.7830 - val_loss: 0.5197 - val_acc: 0.7510\n"
     ]
    }
   ],
   "source": [
    "train_datagen = ImageDataGenerator(\n",
    "    rescale=1./255,\n",
    "    rotation_range=40,\n",
    "    width_shift_range=0.2,\n",
    "    height_shift_range=0.2,\n",
    "    shear_range=0.2,\n",
    "    zoom_range=0.2,\n",
    "    horizontal_flip=True,)\n",
    "\n",
    "# Note that the validation data should not be augmented!\n",
    "test_datagen = ImageDataGenerator(rescale=1./255)\n",
    "\n",
    "train_generator = train_datagen.flow_from_directory(\n",
    "        # This is the target directory\n",
    "        train_dir,\n",
    "        # All images will be resized to 50x50\n",
    "        target_size=(img_size, img_size),\n",
    "        batch_size=20,\n",
    "        # Since we use binary_crossentropy loss, we need binary labels\n",
    "        class_mode='binary')\n",
    "\n",
    "validation_generator = test_datagen.flow_from_directory(\n",
    "        validation_dir,\n",
    "        target_size=(img_size, img_size),\n",
    "        batch_size=20,\n",
    "        class_mode='binary')\n",
    "\n",
    "history = model.fit_generator(\n",
    "      train_generator,\n",
    "      steps_per_epoch=100,\n",
    "      epochs=100,\n",
    "      validation_data=validation_generator,\n",
    "      validation_steps=50)"
   ]
  },
  {
   "cell_type": "code",
   "execution_count": 15,
   "metadata": {},
   "outputs": [],
   "source": [
    "#model.save('cats_and_dogs_small_2.h5')"
   ]
  },
  {
   "cell_type": "markdown",
   "metadata": {},
   "source": [
    "Let's plot our results again:"
   ]
  },
  {
   "cell_type": "code",
   "execution_count": 16,
   "metadata": {},
   "outputs": [
    {
     "data": {
      "image/png": "[encoded data removed]",
      "text/plain": [
       "<Figure size 432x288 with 1 Axes>"
      ]
     },
     "metadata": {
      "needs_background": "light"
     },
     "output_type": "display_data"
    },
    {
     "data": {
      "image/png": "[encoded data removed]",
      "text/plain": [
       "<Figure size 432x288 with 1 Axes>"
      ]
     },
     "metadata": {
      "needs_background": "light"
     },
     "output_type": "display_data"
    }
   ],
   "source": [
    "acc = history.history['acc']\n",
    "val_acc = history.history['val_acc']\n",
    "loss = history.history['loss']\n",
    "val_loss = history.history['val_loss']\n",
    "\n",
    "epochs = range(len(acc))\n",
    "\n",
    "plt.plot(epochs, acc, 'bo', label='Training acc')\n",
    "plt.plot(epochs, val_acc, 'b', label='Validation acc')\n",
    "plt.title('Training and validation accuracy')\n",
    "plt.legend()\n",
    "\n",
    "plt.figure()\n",
    "\n",
    "plt.plot(epochs, loss, 'bo', label='Training loss')\n",
    "plt.plot(epochs, val_loss, 'b', label='Validation loss')\n",
    "plt.title('Training and validation loss')\n",
    "plt.legend()\n",
    "\n",
    "plt.show()"
   ]
  },
  {
   "cell_type": "markdown",
   "metadata": {},
   "source": [
    "Thanks to data augmentation and dropout, we are no longer overfitting: the training curves are rather closely tracking the validation curves. We are now able to reach an accuracy of 75%, a 5% relative improvement over the non-regularized model."
   ]
  },
  {
   "cell_type": "markdown",
   "metadata": {},
   "source": [
    "## 2. Exercise - Tuning model parameters <a id='exc' />\n",
    "\n",
    "Please try below two scenerios, make changes accordingly and train the models for 100 epochs as above:\n",
    "\n",
    "**Scenerio A:** \n",
    "\n",
    "* Reduce training `batch_size` from 20 to 10 and increase `steps_per_epoch` from 100 to 200 \n",
    "\n",
    "(remember `steps_per_epoch` = total number of samples // `batch_size`)\n",
    "\n",
    "**Scenerio B:** \n",
    "\n",
    "* Increase the Optimizer Learning Rate (`optimizers.RMSprop(lr=1e-4)`) from `1e-4` to `2*1e-4`. \n",
    "\n",
    "Observe the training and validation accuracy curves for both scenerios. \n",
    "\n",
    "Provide your codes & comments in the below boxes."
   ]
  },
  {
   "cell_type": "markdown",
   "metadata": {},
   "source": [
    "### 2.1 Scenerio A"
   ]
  },
  {
   "cell_type": "code",
   "execution_count": 17,
   "metadata": {},
   "outputs": [],
   "source": [
    "# Task 1: Build and Compile the Model\n"
   ]
  },
  {
   "cell_type": "code",
   "execution_count": 18,
   "metadata": {},
   "outputs": [],
   "source": [
    "# Task 2: Use ImageDataGenerator to do Data preprocessing and Data Augmentation\n",
    "# Remember to reduce training batch_size from 20 to 10 and increase steps_per_epoch from 100 to 200\n",
    "\n",
    "\n",
    "# Note that the validation data should not be augmented!\n"
   ]
  },
  {
   "cell_type": "code",
   "execution_count": 19,
   "metadata": {},
   "outputs": [],
   "source": [
    "# Task 3: Fit the model \n"
   ]
  },
  {
   "cell_type": "code",
   "execution_count": 20,
   "metadata": {},
   "outputs": [],
   "source": [
    "# Task 4: Plot the accuracy (training and validation) and loss curves (training and validation)\n"
   ]
  },
  {
   "cell_type": "code",
   "execution_count": 21,
   "metadata": {},
   "outputs": [],
   "source": [
    "# Task 5: Comments\n"
   ]
  },
  {
   "cell_type": "markdown",
   "metadata": {},
   "source": [
    "### 2.2 Scenerio B"
   ]
  },
  {
   "cell_type": "code",
   "execution_count": 22,
   "metadata": {},
   "outputs": [],
   "source": [
    "# Task 1: Build and Compile the Model\n",
    "# Remember to reduce the Optimizer learning rate from 1e-4 to 2*1e-4\n"
   ]
  },
  {
   "cell_type": "code",
   "execution_count": 23,
   "metadata": {},
   "outputs": [],
   "source": [
    "# Task 2: Use ImageDataGenerator to do Data preprocessing and Data Augmentation\n"
   ]
  },
  {
   "cell_type": "code",
   "execution_count": 24,
   "metadata": {},
   "outputs": [],
   "source": [
    "# Task 3: Fit the model \n"
   ]
  },
  {
   "cell_type": "code",
   "execution_count": 25,
   "metadata": {},
   "outputs": [],
   "source": [
    "# Task 4: Plot the accuracy (training and validation) and loss curves (training and validation)\n"
   ]
  },
  {
   "cell_type": "code",
   "execution_count": 26,
   "metadata": {},
   "outputs": [],
   "source": [
    "# Task 5: Comments\n"
   ]
  }
 ],
 "metadata": {
  "kernelspec": {
   "display_name": "Python 3",
   "language": "python",
   "name": "python3"
  },
  "language_info": {
   "codemirror_mode": {
    "name": "ipython",
    "version": 3
   },
   "file_extension": ".py",
   "mimetype": "text/x-python",
   "name": "python",
   "nbconvert_exporter": "python",
   "pygments_lexer": "ipython3",
   "version": "3.7.7"
  }
 },
 "nbformat": 4,
 "nbformat_minor": 2
}
