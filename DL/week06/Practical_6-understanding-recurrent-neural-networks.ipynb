{
 "cells": [
  {
   "cell_type": "markdown",
   "metadata": {},
   "source": [
    "<table class=\"table table-bordered\">\n",
    "    <tr>\n",
    "        <th style=\"text-align:center; width:25%\"><img src='https://www.np.edu.sg/PublishingImages/Pages/default/odp/ICT.jpg' style=\"width: 250px; height: 125px; \"></th>\n",
    "        <th style=\"text-align:center;\"><h1>Deep Learning</h1><h2>Practical 6 - Understanding Recurrent Neural Networks</h2><h3>AY2020/21 Semester</h3></th>\n",
    "    </tr>\n",
    "</table>"
   ]
  },
  {
   "cell_type": "code",
   "execution_count": 1,
   "metadata": {},
   "outputs": [
    {
     "name": "stdout",
     "output_type": "stream",
     "text": [
      "keras:  2.2.4-tf\n"
     ]
    },
    {
     "data": {
      "text/html": [
       "<style>.container { width:95% !important; }</style>"
      ],
      "text/plain": [
       "<IPython.core.display.HTML object>"
      ]
     },
     "metadata": {},
     "output_type": "display_data"
    }
   ],
   "source": [
    "from tensorflow import keras\n",
    "print('keras: ', keras.__version__)\n",
    "\n",
    "from IPython.core.display import display, HTML\n",
    "display(HTML(\"<style>.container { width:95% !important; }</style>\"))"
   ]
  },
  {
   "cell_type": "code",
   "execution_count": 2,
   "metadata": {},
   "outputs": [
    {
     "data": {
      "text/html": [
       "<style>.container { width:95% !important; }</style>"
      ],
      "text/plain": [
       "<IPython.core.display.HTML object>"
      ]
     },
     "metadata": {},
     "output_type": "display_data"
    }
   ],
   "source": [
    "from IPython.core.display import display, HTML\n",
    "display(HTML(\"<style>.container { width:95% !important; }</style>\"))"
   ]
  },
  {
   "cell_type": "markdown",
   "metadata": {},
   "source": [
    "## Objectives\n",
    "After completing this practical exercise, students should be able to:\n",
    "1. [Understand how to use the simple recurrent layer](#simple)\n",
    "2. [Understand how to use LSTM layers to build RNN ](#lstm)\n",
    "3. [Exercise: Use GRU layers to build RNN](#exc)"
   ]
  },
  {
   "cell_type": "markdown",
   "metadata": {},
   "source": [
    "## 1. Understand the simple recurrent layer in Keras <a id='simple' />\n",
    "\n",
    "We will start by using a simple RNN layer in Keras: the `SimpleRNN` layer:\n"
   ]
  },
  {
   "cell_type": "code",
   "execution_count": 3,
   "metadata": {},
   "outputs": [],
   "source": [
    "from tensorflow.keras.layers import SimpleRNN"
   ]
  },
  {
   "cell_type": "markdown",
   "metadata": {},
   "source": [
    "`SimpleRNN` processes batches of sequences, like all other Keras layers. This means that it takes inputs of shape `(batch_size, timesteps, input_features)`.`SimpleRNN` can be run in two different modes: it can return either the full sequences of successive \n",
    "outputs for each timestep (a 3D tensor of shape `(batch_size, timesteps, output_features)`), or it can return only the last output for each input sequence (a 2D tensor of shape `(batch_size, output_features)`). These two modes are controlled by the `return_sequences` constructor argument. Let's take a look at an example:"
   ]
  },
  {
   "cell_type": "code",
   "execution_count": 4,
   "metadata": {},
   "outputs": [
    {
     "name": "stdout",
     "output_type": "stream",
     "text": [
      "Model: \"sequential\"\n",
      "_________________________________________________________________\n",
      "Layer (type)                 Output Shape              Param #   \n",
      "=================================================================\n",
      "embedding (Embedding)        (None, None, 16)          160000    \n",
      "_________________________________________________________________\n",
      "simple_rnn (SimpleRNN)       (None, 32)                1568      \n",
      "=================================================================\n",
      "Total params: 161,568\n",
      "Trainable params: 161,568\n",
      "Non-trainable params: 0\n",
      "_________________________________________________________________\n"
     ]
    }
   ],
   "source": [
    "from tensorflow.keras.models import Sequential\n",
    "from tensorflow.keras.layers import Embedding, SimpleRNN\n",
    "#Embedding is a popular method to process text data.\n",
    "#We will cover more on word embedding in Practical 7.\n",
    "\n",
    "model = Sequential()\n",
    "model.add(Embedding(10000, 16)) #receive word embedding as input\n",
    "model.add(SimpleRNN(32))\n",
    "model.summary()"
   ]
  },
  {
   "cell_type": "code",
   "execution_count": 5,
   "metadata": {},
   "outputs": [
    {
     "name": "stdout",
     "output_type": "stream",
     "text": [
      "Model: \"sequential_1\"\n",
      "_________________________________________________________________\n",
      "Layer (type)                 Output Shape              Param #   \n",
      "=================================================================\n",
      "embedding_1 (Embedding)      (None, None, 16)          160000    \n",
      "_________________________________________________________________\n",
      "simple_rnn_1 (SimpleRNN)     (None, None, 32)          1568      \n",
      "=================================================================\n",
      "Total params: 161,568\n",
      "Trainable params: 161,568\n",
      "Non-trainable params: 0\n",
      "_________________________________________________________________\n"
     ]
    }
   ],
   "source": [
    "model = Sequential()\n",
    "model.add(Embedding(10000, 16))\n",
    "model.add(SimpleRNN(32, return_sequences=True))\n",
    "model.summary()"
   ]
  },
  {
   "cell_type": "markdown",
   "metadata": {},
   "source": [
    "It is sometimes useful to stack several recurrent layers one after the other in order to increase the representational power of a network. \n",
    "In such a setup, you have to get all intermediate layers to return full sequences:"
   ]
  },
  {
   "cell_type": "code",
   "execution_count": 6,
   "metadata": {},
   "outputs": [
    {
     "name": "stdout",
     "output_type": "stream",
     "text": [
      "Model: \"sequential_2\"\n",
      "_________________________________________________________________\n",
      "Layer (type)                 Output Shape              Param #   \n",
      "=================================================================\n",
      "embedding_2 (Embedding)      (None, None, 16)          160000    \n",
      "_________________________________________________________________\n",
      "simple_rnn_2 (SimpleRNN)     (None, None, 32)          1568      \n",
      "_________________________________________________________________\n",
      "simple_rnn_3 (SimpleRNN)     (None, None, 32)          2080      \n",
      "_________________________________________________________________\n",
      "simple_rnn_4 (SimpleRNN)     (None, 32)                2080      \n",
      "=================================================================\n",
      "Total params: 165,728\n",
      "Trainable params: 165,728\n",
      "Non-trainable params: 0\n",
      "_________________________________________________________________\n"
     ]
    }
   ],
   "source": [
    "model = Sequential()\n",
    "model.add(Embedding(10000, 16))\n",
    "model.add(SimpleRNN(32, return_sequences=True))\n",
    "model.add(SimpleRNN(32, return_sequences=True))\n",
    "model.add(SimpleRNN(32))  # This last layer only returns the last outputs.\n",
    "model.summary()"
   ]
  },
  {
   "cell_type": "markdown",
   "metadata": {},
   "source": [
    "Now let's try to use such a model on the IMDB movie review classification problem. First, let's preprocess the data:"
   ]
  },
  {
   "cell_type": "code",
   "execution_count": 7,
   "metadata": {},
   "outputs": [
    {
     "name": "stdout",
     "output_type": "stream",
     "text": [
      "Loading data...\n",
      "25000 train sequences\n",
      "25000 test sequences\n",
      "Pad sequences (samples x time)\n",
      "input_train shape: (25000, 200)\n",
      "input_test shape: (25000, 200)\n"
     ]
    }
   ],
   "source": [
    "from tensorflow.keras.datasets import imdb\n",
    "from tensorflow.keras.preprocessing import sequence\n",
    "\n",
    "max_features = 10000  # number of words to consider as features\n",
    "maxlen = 200  # cut texts after this number of words (among top max_features most common words)\n",
    "batch_size = 128\n",
    "\n",
    "print('Loading data...')\n",
    "(input_train, y_train), (input_test, y_test) = imdb.load_data(num_words=max_features)\n",
    "print(len(input_train), 'train sequences')\n",
    "print(len(input_test), 'test sequences')\n",
    "\n",
    "print('Pad sequences (samples x time)')\n",
    "input_train = sequence.pad_sequences(input_train, maxlen=maxlen)\n",
    "input_test = sequence.pad_sequences(input_test, maxlen=maxlen)\n",
    "print('input_train shape:', input_train.shape)\n",
    "print('input_test shape:', input_test.shape)"
   ]
  },
  {
   "cell_type": "markdown",
   "metadata": {},
   "source": [
    "Let's train a simple recurrent network using an `Embedding` layer and a `SimpleRNN` layer:"
   ]
  },
  {
   "cell_type": "code",
   "execution_count": 8,
   "metadata": {},
   "outputs": [
    {
     "name": "stdout",
     "output_type": "stream",
     "text": [
      "Model: \"sequential_3\"\n",
      "_________________________________________________________________\n",
      "Layer (type)                 Output Shape              Param #   \n",
      "=================================================================\n",
      "embedding_3 (Embedding)      (None, 200, 16)           160000    \n",
      "_________________________________________________________________\n",
      "simple_rnn_5 (SimpleRNN)     (None, 200, 32)           1568      \n",
      "_________________________________________________________________\n",
      "simple_rnn_6 (SimpleRNN)     (None, 32)                2080      \n",
      "_________________________________________________________________\n",
      "dense (Dense)                (None, 1)                 33        \n",
      "=================================================================\n",
      "Total params: 163,681\n",
      "Trainable params: 163,681\n",
      "Non-trainable params: 0\n",
      "_________________________________________________________________\n",
      "Train on 20000 samples, validate on 5000 samples\n",
      "Epoch 1/10\n",
      "20000/20000 [==============================] - 32s 2ms/sample - loss: 0.6681 - acc: 0.5705 - val_loss: 0.7602 - val_acc: 0.6222\n",
      "Epoch 2/10\n",
      "20000/20000 [==============================] - 30s 1ms/sample - loss: 0.4179 - acc: 0.8135 - val_loss: 0.3919 - val_acc: 0.8320\n",
      "Epoch 3/10\n",
      "20000/20000 [==============================] - 30s 1ms/sample - loss: 0.2755 - acc: 0.8906 - val_loss: 0.3820 - val_acc: 0.8562\n",
      "Epoch 4/10\n",
      "20000/20000 [==============================] - 30s 1ms/sample - loss: 0.1923 - acc: 0.9252 - val_loss: 0.4135 - val_acc: 0.8388\n",
      "Epoch 5/10\n",
      "20000/20000 [==============================] - 30s 1ms/sample - loss: 0.1183 - acc: 0.9585 - val_loss: 0.5201 - val_acc: 0.8198\n",
      "Epoch 6/10\n",
      "20000/20000 [==============================] - 30s 1ms/sample - loss: 0.0697 - acc: 0.9775 - val_loss: 0.6296 - val_acc: 0.8280\n",
      "Epoch 7/10\n",
      "20000/20000 [==============================] - 30s 1ms/sample - loss: 0.0392 - acc: 0.9870 - val_loss: 0.7451 - val_acc: 0.8074\n",
      "Epoch 8/10\n",
      "20000/20000 [==============================] - 30s 1ms/sample - loss: 0.0251 - acc: 0.9917 - val_loss: 0.7988 - val_acc: 0.8006\n",
      "Epoch 9/10\n",
      "20000/20000 [==============================] - 30s 1ms/sample - loss: 0.0147 - acc: 0.9958 - val_loss: 1.1624 - val_acc: 0.7838\n",
      "Epoch 10/10\n",
      "20000/20000 [==============================] - 30s 1ms/sample - loss: 0.0171 - acc: 0.9946 - val_loss: 1.2559 - val_acc: 0.7294\n"
     ]
    }
   ],
   "source": [
    "from tensorflow.keras.layers import Dense\n",
    "\n",
    "model = Sequential()\n",
    "model.add(Embedding(max_features, 16, input_length=maxlen))\n",
    "model.add(SimpleRNN(32, return_sequences=True))\n",
    "model.add(SimpleRNN(32))\n",
    "model.add(Dense(1, activation='sigmoid'))\n",
    "\n",
    "model.summary()\n",
    "\n",
    "model.compile(optimizer='rmsprop', loss='binary_crossentropy', metrics=['acc'])\n",
    "\n",
    "history = model.fit(input_train, y_train,\n",
    "                    epochs=10,\n",
    "                    batch_size=128,\n",
    "                    validation_split=0.2)"
   ]
  },
  {
   "cell_type": "markdown",
   "metadata": {},
   "source": [
    "Let's display the training and validation loss and accuracy:"
   ]
  },
  {
   "cell_type": "code",
   "execution_count": 9,
   "metadata": {},
   "outputs": [
    {
     "data": {
      "image/png": "[encoded data removed]",
      "text/plain": [
       "<Figure size 432x288 with 1 Axes>"
      ]
     },
     "metadata": {
      "needs_background": "light"
     },
     "output_type": "display_data"
    },
    {
     "data": {
      "image/png": "[encoded data removed]",
      "text/plain": [
       "<Figure size 432x288 with 1 Axes>"
      ]
     },
     "metadata": {
      "needs_background": "light"
     },
     "output_type": "display_data"
    }
   ],
   "source": [
    "import matplotlib.pyplot as plt\n",
    "%matplotlib inline\n",
    "\n",
    "acc = history.history['acc']\n",
    "val_acc = history.history['val_acc']\n",
    "loss = history.history['loss']\n",
    "val_loss = history.history['val_loss']\n",
    "\n",
    "epochs = range(len(acc))\n",
    "\n",
    "plt.plot(epochs, acc, 'bo', label='Training acc')\n",
    "plt.plot(epochs, val_acc, 'b', label='Validation acc')\n",
    "plt.title('Training and validation accuracy')\n",
    "plt.legend()\n",
    "\n",
    "plt.figure()\n",
    "\n",
    "plt.plot(epochs, loss, 'bo', label='Training loss')\n",
    "plt.plot(epochs, val_loss, 'b', label='Validation loss')\n",
    "plt.title('Training and validation loss')\n",
    "plt.legend()\n",
    "\n",
    "plt.show()"
   ]
  },
  {
   "cell_type": "markdown",
   "metadata": {},
   "source": [
    "As a reminder, in week 3, our very first naive approach to this very dataset got us to 88% test accuracy. Unfortunately, our small recurrent network doesn't perform very well at all compared to this baseline (only around 80% validation accuracy). Part of the problem is that our inputs only consider 200 words rather the full sequences -- \n",
    "hence our RNN has access to less information than our earlier baseline model. The remainder of the problem is simply that `SimpleRNN` isn't very good at processing long sequences, like text. Other types of recurrent layers perform much better. Let's take a look at some more advanced layers."
   ]
  },
  {
   "cell_type": "markdown",
   "metadata": {},
   "source": [
    "## 2. Understand the LSTM layer in Keras <a id='lstm' />\n",
    "\n",
    "We will set up a model using a LSTM layer and train it on the IMDB data. Here's the network, similar to the one with `SimpleRNN` that we just presented. We only specify the output dimensionality of the LSTM layer, and leave every other argument (there are lots) to the Keras defaults. Keras has good defaults, and things will almost always \"just work\" without you \n",
    "having to spend time tuning parameters by hand."
   ]
  },
  {
   "cell_type": "code",
   "execution_count": 10,
   "metadata": {},
   "outputs": [
    {
     "name": "stdout",
     "output_type": "stream",
     "text": [
      "Model: \"sequential_4\"\n",
      "_________________________________________________________________\n",
      "Layer (type)                 Output Shape              Param #   \n",
      "=================================================================\n",
      "embedding_4 (Embedding)      (None, 200, 16)           160000    \n",
      "_________________________________________________________________\n",
      "lstm (LSTM)                  (None, 200, 32)           6272      \n",
      "_________________________________________________________________\n",
      "lstm_1 (LSTM)                (None, 32)                8320      \n",
      "_________________________________________________________________\n",
      "dense_1 (Dense)              (None, 1)                 33        \n",
      "=================================================================\n",
      "Total params: 174,625\n",
      "Trainable params: 174,625\n",
      "Non-trainable params: 0\n",
      "_________________________________________________________________\n"
     ]
    }
   ],
   "source": [
    "from tensorflow.keras.layers import LSTM\n",
    "\n",
    "model = Sequential()\n",
    "model.add(Embedding(max_features, 16, input_length=maxlen))\n",
    "model.add(LSTM(32, return_sequences=True))\n",
    "model.add(LSTM(32))\n",
    "model.add(Dense(1, activation='sigmoid'))\n",
    "model.summary()"
   ]
  },
  {
   "cell_type": "code",
   "execution_count": 11,
   "metadata": {
    "scrolled": true
   },
   "outputs": [
    {
     "name": "stdout",
     "output_type": "stream",
     "text": [
      "Train on 20000 samples, validate on 5000 samples\n",
      "Epoch 1/10\n",
      "20000/20000 [==============================] - 9s 426us/sample - loss: 0.4970 - acc: 0.7457 - val_loss: 0.4170 - val_acc: 0.8348\n",
      "Epoch 2/10\n",
      "20000/20000 [==============================] - 4s 199us/sample - loss: 0.3026 - acc: 0.8784 - val_loss: 0.3216 - val_acc: 0.8670\n",
      "Epoch 3/10\n",
      "20000/20000 [==============================] - 4s 200us/sample - loss: 0.2386 - acc: 0.9074 - val_loss: 0.2964 - val_acc: 0.8752\n",
      "Epoch 4/10\n",
      "20000/20000 [==============================] - 4s 201us/sample - loss: 0.2050 - acc: 0.9238 - val_loss: 0.3731 - val_acc: 0.8434\n",
      "Epoch 5/10\n",
      "20000/20000 [==============================] - 4s 203us/sample - loss: 0.1795 - acc: 0.9342 - val_loss: 0.2984 - val_acc: 0.8814\n",
      "Epoch 6/10\n",
      "20000/20000 [==============================] - 4s 202us/sample - loss: 0.1580 - acc: 0.9423 - val_loss: 0.3245 - val_acc: 0.8606\n",
      "Epoch 7/10\n",
      "20000/20000 [==============================] - 4s 203us/sample - loss: 0.1441 - acc: 0.9488 - val_loss: 0.3287 - val_acc: 0.8730\n",
      "Epoch 8/10\n",
      "20000/20000 [==============================] - 4s 201us/sample - loss: 0.1336 - acc: 0.9522 - val_loss: 0.3275 - val_acc: 0.8788\n",
      "Epoch 9/10\n",
      "20000/20000 [==============================] - 4s 202us/sample - loss: 0.1212 - acc: 0.9565 - val_loss: 0.4214 - val_acc: 0.8666\n",
      "Epoch 10/10\n",
      "20000/20000 [==============================] - 4s 204us/sample - loss: 0.1124 - acc: 0.9607 - val_loss: 0.3830 - val_acc: 0.8762\n"
     ]
    }
   ],
   "source": [
    "model.compile(optimizer='rmsprop',\n",
    "              loss='binary_crossentropy',\n",
    "              metrics=['acc'])\n",
    "\n",
    "history = model.fit(input_train, y_train,\n",
    "                    epochs=10,\n",
    "                    batch_size=128,\n",
    "                    validation_split=0.2)"
   ]
  },
  {
   "cell_type": "code",
   "execution_count": 12,
   "metadata": {},
   "outputs": [
    {
     "data": {
      "image/png": "[encoded data removed]",
      "text/plain": [
       "<Figure size 432x288 with 1 Axes>"
      ]
     },
     "metadata": {
      "needs_background": "light"
     },
     "output_type": "display_data"
    },
    {
     "data": {
      "image/png": "[encoded data removed]",
      "text/plain": [
       "<Figure size 432x288 with 1 Axes>"
      ]
     },
     "metadata": {
      "needs_background": "light"
     },
     "output_type": "display_data"
    }
   ],
   "source": [
    "acc = history.history['acc']\n",
    "val_acc = history.history['val_acc']\n",
    "loss = history.history['loss']\n",
    "val_loss = history.history['val_loss']\n",
    "\n",
    "epochs = range(len(acc))\n",
    "\n",
    "plt.plot(epochs, acc, 'bo', label='Training acc')\n",
    "plt.plot(epochs, val_acc, 'b', label='Validation acc')\n",
    "plt.title('Training and validation accuracy')\n",
    "plt.legend()\n",
    "\n",
    "plt.figure()\n",
    "\n",
    "plt.plot(epochs, loss, 'bo', label='Training loss')\n",
    "plt.plot(epochs, val_loss, 'b', label='Validation loss')\n",
    "plt.title('Training and validation loss')\n",
    "plt.legend()\n",
    "\n",
    "plt.show()"
   ]
  },
  {
   "cell_type": "markdown",
   "metadata": {},
   "source": [
    "This time you achieve around 85% validation accuracy, much better than the `SimpleRNN` network because LSTM suffers much less from the vanishing-gradient problem (i.e. perform better on long sequences inputs). "
   ]
  },
  {
   "cell_type": "markdown",
   "metadata": {},
   "source": [
    "## 3. Exercise <a id='exc'/>\n",
    "We would like you to further improve the above model performance by tuning different parametars. Below are a few suggestions you can try but feel free to adjust other parametars if required.\n",
    "\n",
    "1) Stack more recurrent layers on top of each other or remove recurrent layers. (Remember to set `return_sequences=True` for all the recurrent layers except the last one).\n",
    "\n",
    "2) Add in dropout regularization. In RNN, there are two types of dropout regularization:\n",
    "* dropout: the normal dropout which randomly drops the inputs of the layer;\n",
    "* recurrent_dropout: special dropout for recurrent layer only, where the dropout happens within reccurnt unit between different Sates (t-1, t, t+1)\n",
    "\n",
    "\n",
    "3) Use a different type of recurrent layer, e.g. **GRU(Gated Recurrent Units)**. Don't know what is GRU, please check out this [**website**](https://towardsdatascience.com/illustrated-guide-to-lstms-and-gru-s-a-step-by-step-explanation-44e9eb85bf21).\n",
    "\n",
    "Provide your codes & observations in the below code boxes & markdown boxes respectively."
   ]
  },
  {
   "cell_type": "code",
   "execution_count": 22,
   "metadata": {},
   "outputs": [
    {
     "name": "stdout",
     "output_type": "stream",
     "text": [
      "Model: \"sequential_8\"\n",
      "_________________________________________________________________\n",
      "Layer (type)                 Output Shape              Param #   \n",
      "=================================================================\n",
      "embedding_8 (Embedding)      (None, 200, 16)           160000    \n",
      "_________________________________________________________________\n",
      "gru_6 (GRU)                  (None, 200, 32)           4800      \n",
      "_________________________________________________________________\n",
      "gru_7 (GRU)                  (None, 200, 32)           6336      \n",
      "_________________________________________________________________\n",
      "gru_8 (GRU)                  (None, 32)                6336      \n",
      "_________________________________________________________________\n",
      "dense_5 (Dense)              (None, 1)                 33        \n",
      "=================================================================\n",
      "Total params: 177,505\n",
      "Trainable params: 177,505\n",
      "Non-trainable params: 0\n",
      "_________________________________________________________________\n"
     ]
    }
   ],
   "source": [
    "# Task 1: Build the Model\n",
    "from tensorflow.keras.models import Sequential\n",
    "from tensorflow.keras.layers import Embedding, GRU\n",
    "from tensorflow.keras.layers import Dense\n",
    "\n",
    "model = Sequential()\n",
    "model.add(Embedding(max_features, 16, input_length=maxlen))\n",
    "model.add(GRU(32, return_sequences=True, dropout=0.5, recurrent_dropout=0.5))\n",
    "model.add(GRU(32, return_sequences=True, dropout=0.5, recurrent_dropout=0.5))\n",
    "model.add(GRU(32))\n",
    "model.add(Dense(1, activation='sigmoid'))\n",
    "\n",
    "model.summary()"
   ]
  },
  {
   "cell_type": "code",
   "execution_count": 23,
   "metadata": {
    "scrolled": true
   },
   "outputs": [
    {
     "name": "stdout",
     "output_type": "stream",
     "text": [
      "Train on 20000 samples, validate on 5000 samples\n",
      "Epoch 1/10\n",
      "20000/20000 [==============================] - 120s 6ms/sample - loss: 0.6198 - acc: 0.6353 - val_loss: 0.5386 - val_acc: 0.7172\n",
      "Epoch 2/10\n",
      "20000/20000 [==============================] - 112s 6ms/sample - loss: 0.4252 - acc: 0.8073 - val_loss: 0.4570 - val_acc: 0.8044\n",
      "Epoch 3/10\n",
      "20000/20000 [==============================] - 116s 6ms/sample - loss: 0.3463 - acc: 0.8540 - val_loss: 0.3522 - val_acc: 0.8534\n",
      "Epoch 4/10\n",
      "20000/20000 [==============================] - 116s 6ms/sample - loss: 0.3025 - acc: 0.8731 - val_loss: 0.3146 - val_acc: 0.8704\n",
      "Epoch 5/10\n",
      "20000/20000 [==============================] - 113s 6ms/sample - loss: 0.2616 - acc: 0.8969 - val_loss: 0.4416 - val_acc: 0.8380\n",
      "Epoch 6/10\n",
      "20000/20000 [==============================] - 115s 6ms/sample - loss: 0.2397 - acc: 0.9064 - val_loss: 0.3255 - val_acc: 0.8652\n",
      "Epoch 7/10\n",
      "20000/20000 [==============================] - 113s 6ms/sample - loss: 0.2216 - acc: 0.9148 - val_loss: 0.3053 - val_acc: 0.8798\n",
      "Epoch 8/10\n",
      "20000/20000 [==============================] - 116s 6ms/sample - loss: 0.2111 - acc: 0.9193 - val_loss: 0.3425 - val_acc: 0.8712\n",
      "Epoch 9/10\n",
      "20000/20000 [==============================] - 113s 6ms/sample - loss: 0.1996 - acc: 0.9248 - val_loss: 0.3132 - val_acc: 0.8794\n",
      "Epoch 10/10\n",
      "20000/20000 [==============================] - 117s 6ms/sample - loss: 0.1839 - acc: 0.9324 - val_loss: 0.4163 - val_acc: 0.8572\n"
     ]
    }
   ],
   "source": [
    "# Task 2: Compile and Fit the Model\n",
    "model.compile(optimizer='rmsprop', loss='binary_crossentropy', metrics=['acc'])\n",
    "\n",
    "history = model.fit(input_train, y_train,\n",
    "                    epochs=10,\n",
    "                    batch_size=128,\n",
    "                    validation_split=0.2)"
   ]
  },
  {
   "cell_type": "code",
   "execution_count": 24,
   "metadata": {},
   "outputs": [
    {
     "data": {
      "image/png": "[encoded data removed]",
      "text/plain": [
       "<Figure size 432x288 with 1 Axes>"
      ]
     },
     "metadata": {
      "needs_background": "light"
     },
     "output_type": "display_data"
    },
    {
     "data": {
      "image/png": "[encoded data removed]",
      "text/plain": [
       "<Figure size 432x288 with 1 Axes>"
      ]
     },
     "metadata": {
      "needs_background": "light"
     },
     "output_type": "display_data"
    }
   ],
   "source": [
    "#Task 3: polt the model\n",
    "acc = history.history['acc']\n",
    "val_acc = history.history['val_acc']\n",
    "loss = history.history['loss']\n",
    "val_loss = history.history['val_loss']\n",
    "\n",
    "epochs = range(len(acc))\n",
    "\n",
    "plt.plot(epochs, acc, 'bo', label='Training acc')\n",
    "plt.plot(epochs, val_acc, 'b', label='Validation acc')\n",
    "plt.title('Training and validation accuracy')\n",
    "plt.legend()\n",
    "\n",
    "plt.figure()\n",
    "\n",
    "plt.plot(epochs, loss, 'bo', label='Training loss')\n",
    "plt.plot(epochs, val_loss, 'b', label='Validation loss')\n",
    "plt.title('Training and validation loss')\n",
    "plt.legend()\n",
    "\n",
    "plt.show()"
   ]
  },
  {
   "cell_type": "markdown",
   "metadata": {},
   "source": [
    "# Task 4: Comments on the model performance\n",
    "After changing to GRU and adding 1 layer, the training and validation accuracy is closer and more stable(no random jump)"
   ]
  }
 ],
 "metadata": {
  "kernelspec": {
   "display_name": "Python 3",
   "language": "python",
   "name": "python3"
  },
  "language_info": {
   "codemirror_mode": {
    "name": "ipython",
    "version": 3
   },
   "file_extension": ".py",
   "mimetype": "text/x-python",
   "name": "python",
   "nbconvert_exporter": "python",
   "pygments_lexer": "ipython3",
   "version": "3.7.7"
  }
 },
 "nbformat": 4,
 "nbformat_minor": 2
}
