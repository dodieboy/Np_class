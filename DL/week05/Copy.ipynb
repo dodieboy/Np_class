{
 "cells": [
  {
   "cell_type": "markdown",
   "metadata": {},
   "source": [
    "<table class=\"table table-bordered\">\n",
    "    <tr>\n",
    "        <th style=\"text-align:center; width:25%\"><img src='https://www.np.edu.sg/PublishingImages/Pages/default/odp/ICT.jpg' style=\"width: 250px; height: 125px; \"></th>\n",
    "        <th style=\"text-align:center;\"><h1>Deep Learning</h1><h2>Practical 5 - Using a pre-trained convnet</h2><h3>AY2020/21 Semester</h3></th>\n",
    "    </tr>\n",
    "</table>"
   ]
  },
  {
   "cell_type": "code",
   "execution_count": 1,
   "metadata": {},
   "outputs": [
    {
     "name": "stdout",
     "output_type": "stream",
     "text": [
      "keras:  2.2.4-tf\n"
     ]
    },
    {
     "data": {
      "text/html": [
       "<style>.container { width:95% !important; }</style>"
      ],
      "text/plain": [
       "<IPython.core.display.HTML object>"
      ]
     },
     "metadata": {},
     "output_type": "display_data"
    }
   ],
   "source": [
    "from tensorflow import keras\n",
    "print('keras: ', keras.__version__)\n",
    "\n",
    "from IPython.core.display import display, HTML\n",
    "display(HTML(\"<style>.container { width:95% !important; }</style>\"))\n",
    "\n",
    "import tensorflow as tf\n",
    "physical_devices = tf.config.experimental.list_physical_devices('GPU')\n",
    "tf.config.experimental.set_memory_growth(physical_devices[0], True)"
   ]
  },
  {
   "cell_type": "markdown",
   "metadata": {},
   "source": [
    "## Objectives\n",
    "After completing this practical exercise, students should be able to utilize a pre-trained convnet through:\n",
    "1. [Feature extraction without and with data augmentation](#fea)\n",
    "2. [Fine Tuning](#fine)\n",
    "3. [Exercise- utilize another pre-trained model](#exc)"
   ]
  },
  {
   "cell_type": "markdown",
   "metadata": {},
   "source": [
    "## 1. Feature extraction <a id='fea' />\n",
    "\n",
    "Feature extraction consists of using the representations learned by a previous network to extract interesting features from new samples. These features are then run through a new classifier, which is trained from scratch."
   ]
  },
  {
   "cell_type": "markdown",
   "metadata": {},
   "source": [
    "In our case, we use the convolutional base of the VGG16 network, trained on ImageNet, to extract interesting features from \n",
    "our cat and dog images, and then training a cat vs. dog classifier on top of these features.\n",
    "\n",
    "The VGG16 model, among others, comes pre-packaged with Keras. You can import it from the `tensorflow.keras.applications` module. Here's the list of image classification models (all pre-trained on the ImageNet dataset) that are available as part of `tensorflow.keras.applications`:\n",
    "\n",
    "* Xception\n",
    "* InceptionV3\n",
    "* ResNet50\n",
    "* VGG16\n",
    "* VGG19\n",
    "* MobileNet\n",
    "\n",
    "Let's instantiate the VGG16 model:"
   ]
  },
  {
   "cell_type": "code",
   "execution_count": 2,
   "metadata": {},
   "outputs": [],
   "source": [
    "from tensorflow.keras.applications import VGG16\n",
    "img_size = 50\n",
    "\n",
    "conv_base = VGG16(weights='imagenet',\n",
    "                  include_top=False,\n",
    "                  input_shape=(img_size, img_size, 3))"
   ]
  },
  {
   "cell_type": "markdown",
   "metadata": {},
   "source": [
    "We passed three arguments to the constructor:\n",
    "\n",
    "* `weights`, to specify which weight checkpoint to initialize the model from\n",
    "* `include_top`, which refers to including or not the densely-connected classifier on top of the network. By default, this \n",
    "densely-connected classifier would correspond to the 1000 classes from ImageNet. Since we intend to use our own densely-connected \n",
    "classifier (with only two classes, cat and dog), we don't need to include it.\n",
    "* `input_shape`, the shape of the image tensors that we will feed to the network. This argument is purely optional: if we don't pass it, \n",
    "then the network will be able to process inputs of any size.\n",
    "\n",
    "Here's the detail of the architecture of the VGG16 convolutional base: it's very similar to the simple convnets that you are already \n",
    "familiar with."
   ]
  },
  {
   "cell_type": "code",
   "execution_count": 3,
   "metadata": {},
   "outputs": [
    {
     "name": "stdout",
     "output_type": "stream",
     "text": [
      "Model: \"vgg16\"\n",
      "_________________________________________________________________\n",
      "Layer (type)                 Output Shape              Param #   \n",
      "=================================================================\n",
      "input_1 (InputLayer)         [(None, 50, 50, 3)]       0         \n",
      "_________________________________________________________________\n",
      "block1_conv1 (Conv2D)        (None, 50, 50, 64)        1792      \n",
      "_________________________________________________________________\n",
      "block1_conv2 (Conv2D)        (None, 50, 50, 64)        36928     \n",
      "_________________________________________________________________\n",
      "block1_pool (MaxPooling2D)   (None, 25, 25, 64)        0         \n",
      "_________________________________________________________________\n",
      "block2_conv1 (Conv2D)        (None, 25, 25, 128)       73856     \n",
      "_________________________________________________________________\n",
      "block2_conv2 (Conv2D)        (None, 25, 25, 128)       147584    \n",
      "_________________________________________________________________\n",
      "block2_pool (MaxPooling2D)   (None, 12, 12, 128)       0         \n",
      "_________________________________________________________________\n",
      "block3_conv1 (Conv2D)        (None, 12, 12, 256)       295168    \n",
      "_________________________________________________________________\n",
      "block3_conv2 (Conv2D)        (None, 12, 12, 256)       590080    \n",
      "_________________________________________________________________\n",
      "block3_conv3 (Conv2D)        (None, 12, 12, 256)       590080    \n",
      "_________________________________________________________________\n",
      "block3_pool (MaxPooling2D)   (None, 6, 6, 256)         0         \n",
      "_________________________________________________________________\n",
      "block4_conv1 (Conv2D)        (None, 6, 6, 512)         1180160   \n",
      "_________________________________________________________________\n",
      "block4_conv2 (Conv2D)        (None, 6, 6, 512)         2359808   \n",
      "_________________________________________________________________\n",
      "block4_conv3 (Conv2D)        (None, 6, 6, 512)         2359808   \n",
      "_________________________________________________________________\n",
      "block4_pool (MaxPooling2D)   (None, 3, 3, 512)         0         \n",
      "_________________________________________________________________\n",
      "block5_conv1 (Conv2D)        (None, 3, 3, 512)         2359808   \n",
      "_________________________________________________________________\n",
      "block5_conv2 (Conv2D)        (None, 3, 3, 512)         2359808   \n",
      "_________________________________________________________________\n",
      "block5_conv3 (Conv2D)        (None, 3, 3, 512)         2359808   \n",
      "_________________________________________________________________\n",
      "block5_pool (MaxPooling2D)   (None, 1, 1, 512)         0         \n",
      "=================================================================\n",
      "Total params: 14,714,688\n",
      "Trainable params: 14,714,688\n",
      "Non-trainable params: 0\n",
      "_________________________________________________________________\n"
     ]
    }
   ],
   "source": [
    "conv_base.summary()"
   ]
  },
  {
   "cell_type": "markdown",
   "metadata": {},
   "source": [
    "The final feature map has shape `(1, 1, 512)`. That's the feature on top of which we will stick a densely-connected classifier.\n",
    "\n",
    "At this point, there are two ways we could proceed: \n",
    "\n",
    "* Feature extraction without data augmentation:\n",
    "Running the convolutional base over our dataset, recording its output to a Numpy array on disk, then using this data as input to a standalone densely-connected classifier. This solution is very fast and cheap to run, because it only requires running the convolutional base once for every input image, and the convolutional base is by far the most expensive part of the pipeline. However, for the exact same reason, this technique would not allow us to leverage data augmentation at all.\n",
    "\n",
    "* Feature extraction with data augmentation:\n",
    "Extending the model we have (`conv_base`) by adding `Dense` layers on top, and running the whole thing end-to-end on the input data. This allows us to use data augmentation, because every input image is going through the convolutional base every time it is seen by the model. However, for this same reason, this technique is far more expensive than the first one.\n",
    "\n",
    "We will cover both techniques. \n",
    "\n",
    "### 1.1 Feature extraction without data augmentation\n",
    "We will record the output of `conv_base` on our data and using these outputs as inputs to a new model.\n",
    "\n",
    "We will start by simply running instances of the previously-introduced `ImageDataGenerator` to extract images as Numpy arrays as well as their labels. We will extract features from these images simply by calling the `predict` method of the `conv_base` model."
   ]
  },
  {
   "cell_type": "code",
   "execution_count": 4,
   "metadata": {},
   "outputs": [
    {
     "name": "stdout",
     "output_type": "stream",
     "text": [
      "Found 2000 images belonging to 2 classes.\n",
      "Found 1000 images belonging to 2 classes.\n",
      "Found 1000 images belonging to 2 classes.\n"
     ]
    }
   ],
   "source": [
    "import os\n",
    "import numpy as np\n",
    "from tensorflow.keras.preprocessing.image import ImageDataGenerator\n",
    "\n",
    "#update base_dir to path where you saved the cats_and_dogs_small dataset\n",
    "base_dir = 'C:/School/NP/Np_class/DL/week04/cats_and_dogs_small'\n",
    "\n",
    "train_dir = os.path.join(base_dir, 'train')\n",
    "validation_dir = os.path.join(base_dir, 'validation')\n",
    "test_dir = os.path.join(base_dir, 'test')\n",
    "\n",
    "datagen = ImageDataGenerator(rescale=1./255)\n",
    "batch_size = 20\n",
    "\n",
    "def extract_features(directory, sample_count):\n",
    "    features = np.zeros(shape=(sample_count, 1, 1, 512))\n",
    "    labels = np.zeros(shape=(sample_count))\n",
    "    generator = datagen.flow_from_directory(\n",
    "        directory,\n",
    "        target_size=(img_size, img_size),\n",
    "        batch_size=batch_size,\n",
    "        class_mode='binary')\n",
    "    i = 0\n",
    "    for inputs_batch, labels_batch in generator:\n",
    "        features_batch = conv_base.predict(inputs_batch)\n",
    "        features[i * batch_size : (i + 1) * batch_size] = features_batch\n",
    "        labels[i * batch_size : (i + 1) * batch_size] = labels_batch\n",
    "        i += 1\n",
    "        if i * batch_size >= sample_count:\n",
    "            # Note that since generators yield data indefinitely in a loop,\n",
    "            # we must `break` after every image has been seen once.\n",
    "            break\n",
    "    return features, labels\n",
    "\n",
    "train_features, train_labels = extract_features(train_dir, 2000)\n",
    "validation_features, validation_labels = extract_features(validation_dir, 1000)\n",
    "test_features, test_labels = extract_features(test_dir, 1000)"
   ]
  },
  {
   "cell_type": "code",
   "execution_count": 5,
   "metadata": {},
   "outputs": [
    {
     "name": "stdout",
     "output_type": "stream",
     "text": [
      "(2000, 1, 1, 512)\n",
      "(2000,)\n"
     ]
    }
   ],
   "source": [
    "print(train_features.shape)\n",
    "print(train_labels.shape)"
   ]
  },
  {
   "cell_type": "markdown",
   "metadata": {},
   "source": [
    "The extracted features are currently of shape `(samples, 1, 1, 512)`. We will feed them to a densely-connected classifier, so first we must \n",
    "flatten them to `(samples, 1 * 1 * 512)`:"
   ]
  },
  {
   "cell_type": "code",
   "execution_count": 6,
   "metadata": {},
   "outputs": [],
   "source": [
    "train_features = np.reshape(train_features, (2000, 1 * 1 * 512))\n",
    "validation_features = np.reshape(validation_features, (1000, 1 * 1 * 512))\n",
    "test_features = np.reshape(test_features, (1000, 1 * 1 * 512))"
   ]
  },
  {
   "cell_type": "markdown",
   "metadata": {},
   "source": [
    "At this point, we can define our densely-connected classifier (note the use of dropout for regularization), and train it on the data and \n",
    "labels that we just recorded:"
   ]
  },
  {
   "cell_type": "code",
   "execution_count": 7,
   "metadata": {},
   "outputs": [
    {
     "name": "stdout",
     "output_type": "stream",
     "text": [
      "Model: \"sequential\"\n",
      "_________________________________________________________________\n",
      "Layer (type)                 Output Shape              Param #   \n",
      "=================================================================\n",
      "dense (Dense)                (None, 256)               131328    \n",
      "_________________________________________________________________\n",
      "dropout (Dropout)            (None, 256)               0         \n",
      "_________________________________________________________________\n",
      "dense_1 (Dense)              (None, 1)                 257       \n",
      "=================================================================\n",
      "Total params: 131,585\n",
      "Trainable params: 131,585\n",
      "Non-trainable params: 0\n",
      "_________________________________________________________________\n"
     ]
    }
   ],
   "source": [
    "from tensorflow.keras import models\n",
    "from tensorflow.keras import layers\n",
    "from tensorflow.keras import optimizers\n",
    "\n",
    "model = models.Sequential()\n",
    "model.add(layers.Dense(256, activation='relu', input_shape=(1 * 1 * 512,)))\n",
    "model.add(layers.Dropout(0.5))\n",
    "model.add(layers.Dense(1, activation='sigmoid'))\n",
    "\n",
    "model.summary()"
   ]
  },
  {
   "cell_type": "code",
   "execution_count": 8,
   "metadata": {},
   "outputs": [
    {
     "name": "stdout",
     "output_type": "stream",
     "text": [
      "Train on 2000 samples, validate on 1000 samples\n",
      "Epoch 1/30\n",
      "2000/2000 [==============================] - 1s 477us/sample - loss: 0.7557 - acc: 0.5120 - val_loss: 0.6866 - val_acc: 0.5650\n",
      "Epoch 2/30\n",
      "2000/2000 [==============================] - 0s 193us/sample - loss: 0.7438 - acc: 0.5315 - val_loss: 0.6745 - val_acc: 0.5920\n",
      "Epoch 3/30\n",
      "2000/2000 [==============================] - 0s 192us/sample - loss: 0.7177 - acc: 0.5470 - val_loss: 0.6627 - val_acc: 0.6120\n",
      "Epoch 4/30\n",
      "2000/2000 [==============================] - 0s 193us/sample - loss: 0.7121 - acc: 0.5590 - val_loss: 0.6531 - val_acc: 0.6210\n",
      "Epoch 5/30\n",
      "2000/2000 [==============================] - 0s 191us/sample - loss: 0.6925 - acc: 0.5890 - val_loss: 0.6447 - val_acc: 0.6340\n",
      "Epoch 6/30\n",
      "2000/2000 [==============================] - 0s 189us/sample - loss: 0.6639 - acc: 0.6225 - val_loss: 0.6372 - val_acc: 0.6460\n",
      "Epoch 7/30\n",
      "2000/2000 [==============================] - 0s 187us/sample - loss: 0.6731 - acc: 0.6010 - val_loss: 0.6303 - val_acc: 0.6570\n",
      "Epoch 8/30\n",
      "2000/2000 [==============================] - 0s 182us/sample - loss: 0.6539 - acc: 0.6215 - val_loss: 0.6241 - val_acc: 0.6630\n",
      "Epoch 9/30\n",
      "2000/2000 [==============================] - 0s 176us/sample - loss: 0.6477 - acc: 0.6250 - val_loss: 0.6182 - val_acc: 0.6660\n",
      "Epoch 10/30\n",
      "2000/2000 [==============================] - 0s 171us/sample - loss: 0.6480 - acc: 0.6250 - val_loss: 0.6127 - val_acc: 0.6830\n",
      "Epoch 11/30\n",
      "2000/2000 [==============================] - 0s 170us/sample - loss: 0.6279 - acc: 0.6555 - val_loss: 0.6076 - val_acc: 0.6810\n",
      "Epoch 12/30\n",
      "2000/2000 [==============================] - 0s 177us/sample - loss: 0.6266 - acc: 0.6320 - val_loss: 0.6035 - val_acc: 0.6930\n",
      "Epoch 13/30\n",
      "2000/2000 [==============================] - 0s 178us/sample - loss: 0.6169 - acc: 0.6540 - val_loss: 0.5987 - val_acc: 0.6980\n",
      "Epoch 14/30\n",
      "2000/2000 [==============================] - 0s 176us/sample - loss: 0.6160 - acc: 0.6505 - val_loss: 0.5949 - val_acc: 0.6930\n",
      "Epoch 15/30\n",
      "2000/2000 [==============================] - 0s 173us/sample - loss: 0.6215 - acc: 0.6525 - val_loss: 0.5911 - val_acc: 0.7000\n",
      "Epoch 16/30\n",
      "2000/2000 [==============================] - 0s 171us/sample - loss: 0.6116 - acc: 0.6720 - val_loss: 0.5877 - val_acc: 0.7040\n",
      "Epoch 17/30\n",
      "2000/2000 [==============================] - 0s 180us/sample - loss: 0.6037 - acc: 0.6685 - val_loss: 0.5841 - val_acc: 0.7030\n",
      "Epoch 18/30\n",
      "2000/2000 [==============================] - 0s 173us/sample - loss: 0.5832 - acc: 0.6855 - val_loss: 0.5811 - val_acc: 0.7060\n",
      "Epoch 19/30\n",
      "2000/2000 [==============================] - 0s 181us/sample - loss: 0.5877 - acc: 0.6810 - val_loss: 0.5777 - val_acc: 0.7070\n",
      "Epoch 20/30\n",
      "2000/2000 [==============================] - 0s 177us/sample - loss: 0.5810 - acc: 0.6955 - val_loss: 0.5747 - val_acc: 0.7070\n",
      "Epoch 21/30\n",
      "2000/2000 [==============================] - 0s 173us/sample - loss: 0.5779 - acc: 0.6870 - val_loss: 0.5719 - val_acc: 0.7120\n",
      "Epoch 22/30\n",
      "2000/2000 [==============================] - 0s 168us/sample - loss: 0.5879 - acc: 0.6910 - val_loss: 0.5698 - val_acc: 0.7090\n",
      "Epoch 23/30\n",
      "2000/2000 [==============================] - 0s 190us/sample - loss: 0.5807 - acc: 0.6940 - val_loss: 0.5672 - val_acc: 0.7100\n",
      "Epoch 24/30\n",
      "2000/2000 [==============================] - 0s 171us/sample - loss: 0.5617 - acc: 0.7045 - val_loss: 0.5646 - val_acc: 0.7060\n",
      "Epoch 25/30\n",
      "2000/2000 [==============================] - 0s 178us/sample - loss: 0.5595 - acc: 0.7030 - val_loss: 0.5623 - val_acc: 0.7040\n",
      "Epoch 26/30\n",
      "2000/2000 [==============================] - 0s 173us/sample - loss: 0.5571 - acc: 0.7180 - val_loss: 0.5602 - val_acc: 0.7090\n",
      "Epoch 27/30\n",
      "2000/2000 [==============================] - 0s 176us/sample - loss: 0.5570 - acc: 0.7025 - val_loss: 0.5580 - val_acc: 0.7100\n",
      "Epoch 28/30\n",
      "2000/2000 [==============================] - 0s 178us/sample - loss: 0.5615 - acc: 0.7050 - val_loss: 0.5562 - val_acc: 0.7130\n",
      "Epoch 29/30\n",
      "2000/2000 [==============================] - 0s 170us/sample - loss: 0.5606 - acc: 0.7160 - val_loss: 0.5543 - val_acc: 0.7140\n",
      "Epoch 30/30\n",
      "2000/2000 [==============================] - 0s 176us/sample - loss: 0.5497 - acc: 0.7215 - val_loss: 0.5526 - val_acc: 0.7230\n"
     ]
    }
   ],
   "source": [
    "model.compile(optimizer=optimizers.RMSprop(lr=2e-5),\n",
    "              loss='binary_crossentropy',\n",
    "              metrics=['acc'])\n",
    "\n",
    "history = model.fit(train_features, train_labels,\n",
    "                    epochs=30,\n",
    "                    batch_size=20,\n",
    "                    validation_data=(validation_features, validation_labels))"
   ]
  },
  {
   "cell_type": "markdown",
   "metadata": {},
   "source": [
    "Training is very fast, since we only have to deal with two `Dense` layers -- an epoch takes less than one second even on CPU.\n",
    "\n",
    "Let's take a look at the loss and accuracy curves during training:"
   ]
  },
  {
   "cell_type": "code",
   "execution_count": 9,
   "metadata": {},
   "outputs": [
    {
     "data": {
      "image/png": "[encoded data removed]",
      "text/plain": [
       "<Figure size 432x288 with 1 Axes>"
      ]
     },
     "metadata": {
      "needs_background": "light"
     },
     "output_type": "display_data"
    },
    {
     "data": {
      "image/png": "[encoded data removed]",
      "text/plain": [
       "<Figure size 432x288 with 1 Axes>"
      ]
     },
     "metadata": {
      "needs_background": "light"
     },
     "output_type": "display_data"
    }
   ],
   "source": [
    "import matplotlib.pyplot as plt\n",
    "%matplotlib inline\n",
    "\n",
    "acc = history.history['acc']\n",
    "val_acc = history.history['val_acc']\n",
    "loss = history.history['loss']\n",
    "val_loss = history.history['val_loss']\n",
    "\n",
    "epochs = range(len(acc))\n",
    "\n",
    "plt.plot(epochs, acc, 'bo', label='Training acc')\n",
    "plt.plot(epochs, val_acc, 'b', label='Validation acc')\n",
    "plt.title('Training and validation accuracy')\n",
    "plt.legend()\n",
    "\n",
    "plt.figure()\n",
    "\n",
    "plt.plot(epochs, loss, 'bo', label='Training loss')\n",
    "plt.plot(epochs, val_loss, 'b', label='Validation loss')\n",
    "plt.title('Training and validation loss')\n",
    "plt.legend()\n",
    "\n",
    "plt.show()"
   ]
  },
  {
   "cell_type": "markdown",
   "metadata": {},
   "source": [
    "\n",
    "We reach a validation accuracy of about 72%, much better than what we could achieve previously with our small model trained from \n",
    "scratch. However, our plots also indicate that we are overfitting almost from the start -- despite using dropout with a fairly large rate. \n",
    "This is because this technique does not leverage data augmentation, which is essential to preventing overfitting with small image datasets.\n",
    "\n",
    "### 1.2 Feature extraction with data augmentation\n",
    "\n",
    "Now, let's review the second technique we mentioned for doing feature extraction, which is much slower and more expensive, but which allows us to leverage data augmentation during training: extending the `conv_base` model and running it end-to-end on the inputs. Note that this technique is very computationally expensive and the below program may take very long time to complete.\n",
    "\n",
    "Because models behave just like layers, you can add a model (like our `conv_base`) to a `Sequential` model just like you would add a layer. \n",
    "So you can do the following:"
   ]
  },
  {
   "cell_type": "code",
   "execution_count": 10,
   "metadata": {},
   "outputs": [],
   "source": [
    "from tensorflow.keras import models\n",
    "from tensorflow.keras import layers\n",
    "\n",
    "model = models.Sequential()\n",
    "model.add(conv_base) #VGG16 pretrained\n",
    "model.add(layers.Flatten())\n",
    "model.add(layers.Dense(256, activation='relu'))\n",
    "model.add(layers.Dense(1, activation='sigmoid'))"
   ]
  },
  {
   "cell_type": "markdown",
   "metadata": {},
   "source": [
    "This is what our model looks like now:"
   ]
  },
  {
   "cell_type": "code",
   "execution_count": 11,
   "metadata": {},
   "outputs": [
    {
     "name": "stdout",
     "output_type": "stream",
     "text": [
      "Model: \"sequential_1\"\n",
      "_________________________________________________________________\n",
      "Layer (type)                 Output Shape              Param #   \n",
      "=================================================================\n",
      "vgg16 (Model)                (None, 1, 1, 512)         14714688  \n",
      "_________________________________________________________________\n",
      "flatten (Flatten)            (None, 512)               0         \n",
      "_________________________________________________________________\n",
      "dense_2 (Dense)              (None, 256)               131328    \n",
      "_________________________________________________________________\n",
      "dense_3 (Dense)              (None, 1)                 257       \n",
      "=================================================================\n",
      "Total params: 14,846,273\n",
      "Trainable params: 14,846,273\n",
      "Non-trainable params: 0\n",
      "_________________________________________________________________\n"
     ]
    }
   ],
   "source": [
    "model.summary()"
   ]
  },
  {
   "cell_type": "markdown",
   "metadata": {},
   "source": [
    "As you can see, the convolutional base of VGG16 has 14,714,688 parameters, which is very large. The classifier we are adding on top has 2 \n",
    "million parameters.\n",
    "\n",
    "Before we compile and train our model, a very important thing to do is to freeze the convolutional base. \"Freezing\" a layer or set of \n",
    "layers means preventing their weights from getting updated during training. If we don't do this, then the representations that were \n",
    "previously learned by the convolutional base would get modified during training. Since the `Dense` layers on top are randomly initialized, \n",
    "very large weight updates would be propagated through the network, effectively destroying the representations previously learned.\n",
    "\n",
    "In Keras, freezing a network is done by setting its `trainable` attribute to `False`:"
   ]
  },
  {
   "cell_type": "code",
   "execution_count": 12,
   "metadata": {},
   "outputs": [],
   "source": [
    "conv_base.trainable = False"
   ]
  },
  {
   "cell_type": "code",
   "execution_count": 13,
   "metadata": {
    "scrolled": false
   },
   "outputs": [
    {
     "name": "stdout",
     "output_type": "stream",
     "text": [
      "Model: \"sequential_1\"\n",
      "_________________________________________________________________\n",
      "Layer (type)                 Output Shape              Param #   \n",
      "=================================================================\n",
      "vgg16 (Model)                (None, 1, 1, 512)         14714688  \n",
      "_________________________________________________________________\n",
      "flatten (Flatten)            (None, 512)               0         \n",
      "_________________________________________________________________\n",
      "dense_2 (Dense)              (None, 256)               131328    \n",
      "_________________________________________________________________\n",
      "dense_3 (Dense)              (None, 1)                 257       \n",
      "=================================================================\n",
      "Total params: 14,846,273\n",
      "Trainable params: 131,585\n",
      "Non-trainable params: 14,714,688\n",
      "_________________________________________________________________\n"
     ]
    }
   ],
   "source": [
    "model.summary()"
   ]
  },
  {
   "cell_type": "markdown",
   "metadata": {},
   "source": [
    "With this setup, only the weights from the two `Dense` layers that we added will be trained. Note that in order for these changes to take effect, we must first compile the model. If you ever modify weight trainability after compilation, you should then re-compile the model, or these changes would be ignored.\n",
    "\n",
    "Now we can start training our model, with the same data augmentation configuration that we used in our previous example:"
   ]
  },
  {
   "cell_type": "code",
   "execution_count": 14,
   "metadata": {},
   "outputs": [
    {
     "name": "stdout",
     "output_type": "stream",
     "text": [
      "Found 2000 images belonging to 2 classes.\n",
      "Found 1000 images belonging to 2 classes.\n",
      "WARNING:tensorflow:From <ipython-input-14-32af6908ec90>:41: Model.fit_generator (from tensorflow.python.keras.engine.training) is deprecated and will be removed in a future version.\n",
      "Instructions for updating:\n",
      "Please use Model.fit, which supports generators.\n",
      "WARNING:tensorflow:sample_weight modes were coerced from\n",
      "  ...\n",
      "    to  \n",
      "  ['...']\n",
      "WARNING:tensorflow:sample_weight modes were coerced from\n",
      "  ...\n",
      "    to  \n",
      "  ['...']\n",
      "Train for 100 steps, validate for 50 steps\n",
      "Epoch 1/30\n",
      "100/100 [==============================] - 10s 103ms/step - loss: 0.6909 - acc: 0.5335 - val_loss: 0.6846 - val_acc: 0.5760\n",
      "Epoch 2/30\n",
      "100/100 [==============================] - 10s 103ms/step - loss: 0.6775 - acc: 0.5710 - val_loss: 0.6673 - val_acc: 0.6190\n",
      "Epoch 3/30\n",
      "100/100 [==============================] - 10s 97ms/step - loss: 0.6623 - acc: 0.6090 - val_loss: 0.6538 - val_acc: 0.6300\n",
      "Epoch 4/30\n",
      "100/100 [==============================] - 9s 90ms/step - loss: 0.6509 - acc: 0.6415 - val_loss: 0.6430 - val_acc: 0.6480loss: 0.6527 - \n",
      "Epoch 5/30\n",
      "100/100 [==============================] - 9s 89ms/step - loss: 0.6422 - acc: 0.6460 - val_loss: 0.6344 - val_acc: 0.6630\n",
      "Epoch 6/30\n",
      "100/100 [==============================] - 9s 88ms/step - loss: 0.6325 - acc: 0.6580 - val_loss: 0.6253 - val_acc: 0.6690\n",
      "Epoch 7/30\n",
      "100/100 [==============================] - 9s 90ms/step - loss: 0.6265 - acc: 0.6750 - val_loss: 0.6186 - val_acc: 0.6770\n",
      "Epoch 8/30\n",
      "100/100 [==============================] - 10s 100ms/step - loss: 0.6227 - acc: 0.6755 - val_loss: 0.6150 - val_acc: 0.6780\n",
      "Epoch 9/30\n",
      "100/100 [==============================] - 10s 104ms/step - loss: 0.6211 - acc: 0.6615 - val_loss: 0.6097 - val_acc: 0.6800\n",
      "Epoch 10/30\n",
      "100/100 [==============================] - 9s 92ms/step - loss: 0.6154 - acc: 0.6620 - val_loss: 0.6034 - val_acc: 0.6830\n",
      "Epoch 11/30\n",
      "100/100 [==============================] - 9s 91ms/step - loss: 0.6084 - acc: 0.6735 - val_loss: 0.5998 - val_acc: 0.6840\n",
      "Epoch 12/30\n",
      "100/100 [==============================] - 9s 94ms/step - loss: 0.6014 - acc: 0.6805 - val_loss: 0.5948 - val_acc: 0.6890\n",
      "Epoch 13/30\n",
      "100/100 [==============================] - 10s 102ms/step - loss: 0.6012 - acc: 0.6870 - val_loss: 0.5901 - val_acc: 0.6970\n",
      "Epoch 14/30\n",
      "100/100 [==============================] - 10s 104ms/step - loss: 0.5912 - acc: 0.7035 - val_loss: 0.5858 - val_acc: 0.6960\n",
      "Epoch 15/30\n",
      "100/100 [==============================] - 10s 102ms/step - loss: 0.5908 - acc: 0.6985 - val_loss: 0.5852 - val_acc: 0.6980\n",
      "Epoch 16/30\n",
      "100/100 [==============================] - 10s 98ms/step - loss: 0.5915 - acc: 0.6910 - val_loss: 0.5811 - val_acc: 0.6990\n",
      "Epoch 17/30\n",
      "100/100 [==============================] - 10s 95ms/step - loss: 0.5891 - acc: 0.6965 - val_loss: 0.5773 - val_acc: 0.7100\n",
      "Epoch 18/30\n",
      "100/100 [==============================] - 9s 94ms/step - loss: 0.5888 - acc: 0.6865 - val_loss: 0.5752 - val_acc: 0.7070\n",
      "Epoch 19/30\n",
      "100/100 [==============================] - 10s 101ms/step - loss: 0.5849 - acc: 0.7025 - val_loss: 0.5738 - val_acc: 0.7040\n",
      "Epoch 20/30\n",
      "100/100 [==============================] - 10s 100ms/step - loss: 0.5778 - acc: 0.7110 - val_loss: 0.5710 - val_acc: 0.7070\n",
      "Epoch 21/30\n",
      "100/100 [==============================] - 9s 89ms/step - loss: 0.5833 - acc: 0.6940 - val_loss: 0.5693 - val_acc: 0.7080\n",
      "Epoch 22/30\n",
      "100/100 [==============================] - 9s 87ms/step - loss: 0.5819 - acc: 0.6945 - val_loss: 0.5668 - val_acc: 0.7100\n",
      "Epoch 23/30\n",
      "100/100 [==============================] - 9s 87ms/step - loss: 0.5800 - acc: 0.7025 - val_loss: 0.5643 - val_acc: 0.7140\n",
      "Epoch 24/30\n",
      "100/100 [==============================] - 9s 85ms/step - loss: 0.5677 - acc: 0.7120 - val_loss: 0.5630 - val_acc: 0.7110\n",
      "Epoch 25/30\n",
      "100/100 [==============================] - 9s 86ms/step - loss: 0.5739 - acc: 0.6980 - val_loss: 0.5594 - val_acc: 0.7080\n",
      "Epoch 26/30\n",
      "100/100 [==============================] - 9s 85ms/step - loss: 0.5734 - acc: 0.7065 - val_loss: 0.5575 - val_acc: 0.7060\n",
      "Epoch 27/30\n",
      "100/100 [==============================] - 9s 85ms/step - loss: 0.5695 - acc: 0.7035 - val_loss: 0.5581 - val_acc: 0.7100\n",
      "Epoch 28/30\n",
      "100/100 [==============================] - 9s 86ms/step - loss: 0.5773 - acc: 0.6955 - val_loss: 0.5563 - val_acc: 0.7090TA: 1s - loss: 0.5\n",
      "Epoch 29/30\n",
      "100/100 [==============================] - 9s 86ms/step - loss: 0.5753 - acc: 0.7000 - val_loss: 0.5547 - val_acc: 0.7110\n",
      "Epoch 30/30\n",
      "100/100 [==============================] - 9s 90ms/step - loss: 0.5609 - acc: 0.7125 - val_loss: 0.5541 - val_acc: 0.7110\n"
     ]
    }
   ],
   "source": [
    "from tensorflow.keras.preprocessing.image import ImageDataGenerator\n",
    "\n",
    "train_datagen = ImageDataGenerator(\n",
    "      rescale=1./255,\n",
    "      rotation_range=40,\n",
    "      width_shift_range=0.2,\n",
    "      height_shift_range=0.2,\n",
    "      shear_range=0.2,\n",
    "      zoom_range=0.2,\n",
    "      horizontal_flip=True,\n",
    "      fill_mode='nearest')\n",
    "\n",
    "# Note that the validation data should not be augmented!\n",
    "test_datagen = ImageDataGenerator(rescale=1./255)\n",
    "\n",
    "train_generator = train_datagen.flow_from_directory(\n",
    "        # This is the target directory\n",
    "        train_dir,\n",
    "        # All images will be resized to 50x50\n",
    "        target_size=(img_size, img_size),\n",
    "        batch_size=20,\n",
    "        # Since we use binary_crossentropy loss, we need binary labels\n",
    "        class_mode='binary')\n",
    "\n",
    "validation_generator = test_datagen.flow_from_directory(\n",
    "        validation_dir,\n",
    "        target_size=(img_size, img_size),\n",
    "        batch_size=20,\n",
    "        class_mode='binary')\n",
    "\n",
    "model.compile(loss='binary_crossentropy',\n",
    "              optimizer=optimizers.RMSprop(lr=2e-5),\n",
    "              metrics=['acc'])\n",
    "\n",
    "history = model.fit_generator(\n",
    "      train_generator,\n",
    "      steps_per_epoch=100,\n",
    "      epochs=30,\n",
    "      validation_data=validation_generator,\n",
    "      validation_steps=50,\n",
    "      verbose=1)"
   ]
  },
  {
   "cell_type": "code",
   "execution_count": 15,
   "metadata": {},
   "outputs": [],
   "source": [
    "model.save('cats_and_dogs_small_3.h5')"
   ]
  },
  {
   "cell_type": "markdown",
   "metadata": {},
   "source": [
    "Let's plot our results again:"
   ]
  },
  {
   "cell_type": "code",
   "execution_count": 16,
   "metadata": {},
   "outputs": [
    {
     "data": {
      "image/png": "[encoded data removed]",
      "text/plain": [
       "<Figure size 432x288 with 1 Axes>"
      ]
     },
     "metadata": {
      "needs_background": "light"
     },
     "output_type": "display_data"
    },
    {
     "data": {
      "image/png": "[encoded data removed]",
      "text/plain": [
       "<Figure size 432x288 with 1 Axes>"
      ]
     },
     "metadata": {
      "needs_background": "light"
     },
     "output_type": "display_data"
    }
   ],
   "source": [
    "acc = history.history['acc']\n",
    "val_acc = history.history['val_acc']\n",
    "loss = history.history['loss']\n",
    "val_loss = history.history['val_loss']\n",
    "\n",
    "epochs = range(len(acc))\n",
    "\n",
    "plt.plot(epochs, acc, 'bo', label='Training acc')\n",
    "plt.plot(epochs, val_acc, 'b', label='Validation acc')\n",
    "plt.title('Training and validation accuracy')\n",
    "plt.legend()\n",
    "\n",
    "plt.figure()\n",
    "\n",
    "plt.plot(epochs, loss, 'bo', label='Training loss')\n",
    "plt.plot(epochs, val_loss, 'b', label='Validation loss')\n",
    "plt.title('Training and validation loss')\n",
    "plt.legend()\n",
    "\n",
    "plt.show()"
   ]
  },
  {
   "cell_type": "markdown",
   "metadata": {},
   "source": [
    "As you can see, we reach a validation accuracy of about 72%. This is much better than our small convnet trained from scratch."
   ]
  },
  {
   "cell_type": "markdown",
   "metadata": {},
   "source": [
    "## 2. Fine-tuning <a id='fine' />\n",
    "\n",
    "Another widely used technique for model reuse, complementary to feature extraction, is _fine-tuning_. \n",
    "Fine-tuning consists in unfreezing a few of the top layers \n",
    "of a frozen model base used for feature extraction, and jointly training both the newly added part of the model (in our case, the \n",
    "fully-connected classifier) and these top layers. This is called \"fine-tuning\" because it slightly adjusts the more abstract \n",
    "representations of the model being reused, in order to make them more relevant for the problem at hand.\n",
    "\n",
    "![fine-tuning VGG16](https://s3.amazonaws.com/book.keras.io/img/ch5/vgg16_fine_tuning.png)"
   ]
  },
  {
   "cell_type": "markdown",
   "metadata": {},
   "source": [
    "We have stated before that it was necessary to freeze the convolution base of VGG16 in order to be able to train a randomly initialized \n",
    "classifier on top. For the same reason, it is only possible to fine-tune the top layers of the convolutional base once the classifier on \n",
    "top has already been trained. If the classifier wasn't already trained, then the error signal propagating through the network during \n",
    "training would be too large, and the representations previously learned by the layers being fine-tuned would be destroyed. Thus the steps \n",
    "for fine-tuning a network are as follows:\n",
    "\n",
    "* 1) Add your custom network on top of an already trained base network.\n",
    "* 2) Freeze the base network.\n",
    "* 3) Train the part you added.\n",
    "* 4) Unfreeze some layers in the base network.\n",
    "* 5) Jointly train both these layers and the part you added.\n",
    "\n",
    "We have already completed the first 3 steps when doing feature extraction. Let's proceed with the 4th step: we will unfreeze our `conv_base`, \n",
    "and then freeze individual layers inside of it.\n",
    "\n",
    "As a reminder, this is what our convolutional base looks like:"
   ]
  },
  {
   "cell_type": "code",
   "execution_count": 17,
   "metadata": {},
   "outputs": [
    {
     "name": "stdout",
     "output_type": "stream",
     "text": [
      "Model: \"vgg16\"\n",
      "_________________________________________________________________\n",
      "Layer (type)                 Output Shape              Param #   \n",
      "=================================================================\n",
      "input_1 (InputLayer)         [(None, 50, 50, 3)]       0         \n",
      "_________________________________________________________________\n",
      "block1_conv1 (Conv2D)        (None, 50, 50, 64)        1792      \n",
      "_________________________________________________________________\n",
      "block1_conv2 (Conv2D)        (None, 50, 50, 64)        36928     \n",
      "_________________________________________________________________\n",
      "block1_pool (MaxPooling2D)   (None, 25, 25, 64)        0         \n",
      "_________________________________________________________________\n",
      "block2_conv1 (Conv2D)        (None, 25, 25, 128)       73856     \n",
      "_________________________________________________________________\n",
      "block2_conv2 (Conv2D)        (None, 25, 25, 128)       147584    \n",
      "_________________________________________________________________\n",
      "block2_pool (MaxPooling2D)   (None, 12, 12, 128)       0         \n",
      "_________________________________________________________________\n",
      "block3_conv1 (Conv2D)        (None, 12, 12, 256)       295168    \n",
      "_________________________________________________________________\n",
      "block3_conv2 (Conv2D)        (None, 12, 12, 256)       590080    \n",
      "_________________________________________________________________\n",
      "block3_conv3 (Conv2D)        (None, 12, 12, 256)       590080    \n",
      "_________________________________________________________________\n",
      "block3_pool (MaxPooling2D)   (None, 6, 6, 256)         0         \n",
      "_________________________________________________________________\n",
      "block4_conv1 (Conv2D)        (None, 6, 6, 512)         1180160   \n",
      "_________________________________________________________________\n",
      "block4_conv2 (Conv2D)        (None, 6, 6, 512)         2359808   \n",
      "_________________________________________________________________\n",
      "block4_conv3 (Conv2D)        (None, 6, 6, 512)         2359808   \n",
      "_________________________________________________________________\n",
      "block4_pool (MaxPooling2D)   (None, 3, 3, 512)         0         \n",
      "_________________________________________________________________\n",
      "block5_conv1 (Conv2D)        (None, 3, 3, 512)         2359808   \n",
      "_________________________________________________________________\n",
      "block5_conv2 (Conv2D)        (None, 3, 3, 512)         2359808   \n",
      "_________________________________________________________________\n",
      "block5_conv3 (Conv2D)        (None, 3, 3, 512)         2359808   \n",
      "_________________________________________________________________\n",
      "block5_pool (MaxPooling2D)   (None, 1, 1, 512)         0         \n",
      "=================================================================\n",
      "Total params: 14,714,688\n",
      "Trainable params: 0\n",
      "Non-trainable params: 14,714,688\n",
      "_________________________________________________________________\n"
     ]
    }
   ],
   "source": [
    "conv_base.summary()"
   ]
  },
  {
   "cell_type": "markdown",
   "metadata": {},
   "source": [
    "\n",
    "We will fine-tune the last 3 convolutional layers, which means that all layers up until `block4_pool` should be frozen, and the layers \n",
    "`block5_conv1`, `block5_conv2` and `block5_conv3` should be trainable.\n",
    "\n",
    "Why not fine-tune more layers? Why not fine-tune the entire convolutional base? We could. However, we need to consider that:\n",
    "\n",
    "* Earlier layers in the convolutional base encode more generic, reusable features, while layers higher up encode more specialized features. It is \n",
    "more useful to fine-tune the more specialized features, as these are the ones that need to be repurposed on our new problem. There would \n",
    "be fast-decreasing returns in fine-tuning lower layers.\n",
    "* The more parameters we are training, the more we are at risk of overfitting. The convolutional base has 15M parameters, so it would be \n",
    "risky to attempt to train it on our small dataset.\n",
    "\n",
    "Thus, in our situation, it is a good strategy to only fine-tune the top 2 to 3 layers in the convolutional base.\n",
    "\n",
    "Let's set this up, starting from where we left off in the previous example:"
   ]
  },
  {
   "cell_type": "code",
   "execution_count": 18,
   "metadata": {},
   "outputs": [
    {
     "name": "stdout",
     "output_type": "stream",
     "text": [
      "Model: \"sequential_1\"\n",
      "_________________________________________________________________\n",
      "Layer (type)                 Output Shape              Param #   \n",
      "=================================================================\n",
      "vgg16 (Model)                (None, 1, 1, 512)         14714688  \n",
      "_________________________________________________________________\n",
      "flatten (Flatten)            (None, 512)               0         \n",
      "_________________________________________________________________\n",
      "dense_2 (Dense)              (None, 256)               131328    \n",
      "_________________________________________________________________\n",
      "dense_3 (Dense)              (None, 1)                 257       \n",
      "=================================================================\n",
      "Total params: 14,846,273\n",
      "Trainable params: 7,211,009\n",
      "Non-trainable params: 7,635,264\n",
      "_________________________________________________________________\n"
     ]
    }
   ],
   "source": [
    "conv_base.trainable = True\n",
    "\n",
    "set_trainable = False\n",
    "for layer in conv_base.layers:\n",
    "    if layer.name == 'block5_conv1':\n",
    "        set_trainable = True # after black5_conv1, set_trainable becomes True\n",
    "    if set_trainable:\n",
    "        layer.trainable = True\n",
    "    else:\n",
    "        layer.trainable = False\n",
    "        \n",
    "        \n",
    "model.compile(loss='binary_crossentropy',\n",
    "              optimizer=optimizers.RMSprop(lr=1e-5),\n",
    "              metrics=['acc'])        \n",
    "model.summary()"
   ]
  },
  {
   "cell_type": "markdown",
   "metadata": {},
   "source": [
    "Now we can start fine-tuning our network. We will do this with the RMSprop optimizer, using a very low learning rate. The reason for using \n",
    "a low learning rate is that we want to limit the magnitude of the modifications we make to the representations of the 3 layers that we are \n",
    "fine-tuning. Updates that are too large may harm these representations.\n",
    "\n",
    "Now let's proceed with fine-tuning:"
   ]
  },
  {
   "cell_type": "code",
   "execution_count": 19,
   "metadata": {},
   "outputs": [
    {
     "name": "stdout",
     "output_type": "stream",
     "text": [
      "WARNING:tensorflow:sample_weight modes were coerced from\n",
      "  ...\n",
      "    to  \n",
      "  ['...']\n",
      "WARNING:tensorflow:sample_weight modes were coerced from\n",
      "  ...\n",
      "    to  \n",
      "  ['...']\n",
      "Train for 100 steps, validate for 50 steps\n",
      "Epoch 1/100\n",
      "100/100 [==============================] - 11s 107ms/step - loss: 0.5633 - acc: 0.7025 - val_loss: 0.5231 - val_acc: 0.7300\n",
      "Epoch 2/100\n",
      "100/100 [==============================] - 9s 90ms/step - loss: 0.5314 - acc: 0.7315 - val_loss: 0.4970 - val_acc: 0.7630\n",
      "Epoch 3/100\n",
      "100/100 [==============================] - 9s 94ms/step - loss: 0.5108 - acc: 0.7440 - val_loss: 0.4676 - val_acc: 0.7790\n",
      "Epoch 4/100\n",
      "100/100 [==============================] - 9s 90ms/step - loss: 0.5028 - acc: 0.7465 - val_loss: 0.4625 - val_acc: 0.7800\n",
      "Epoch 5/100\n",
      "100/100 [==============================] - 9s 90ms/step - loss: 0.4848 - acc: 0.7595 - val_loss: 0.4625 - val_acc: 0.7810\n",
      "Epoch 6/100\n",
      "100/100 [==============================] - 10s 97ms/step - loss: 0.4860 - acc: 0.7645 - val_loss: 0.4535 - val_acc: 0.7790\n",
      "Epoch 7/100\n",
      "100/100 [==============================] - 9s 91ms/step - loss: 0.4715 - acc: 0.7805 - val_loss: 0.4434 - val_acc: 0.8030\n",
      "Epoch 8/100\n",
      "100/100 [==============================] - 9s 92ms/step - loss: 0.4728 - acc: 0.7690 - val_loss: 0.4421 - val_acc: 0.7940\n",
      "Epoch 9/100\n",
      "100/100 [==============================] - 10s 95ms/step - loss: 0.4538 - acc: 0.7900 - val_loss: 0.4670 - val_acc: 0.7860\n",
      "Epoch 10/100\n",
      "100/100 [==============================] - 9s 93ms/step - loss: 0.4516 - acc: 0.7835 - val_loss: 0.4336 - val_acc: 0.8110\n",
      "Epoch 11/100\n",
      "100/100 [==============================] - 8s 83ms/step - loss: 0.4449 - acc: 0.7880 - val_loss: 0.4344 - val_acc: 0.8040\n",
      "Epoch 12/100\n",
      "100/100 [==============================] - 10s 97ms/step - loss: 0.4298 - acc: 0.7920 - val_loss: 0.4340 - val_acc: 0.8000\n",
      "Epoch 13/100\n",
      "100/100 [==============================] - 10s 98ms/step - loss: 0.4245 - acc: 0.7975 - val_loss: 0.4293 - val_acc: 0.8060\n",
      "Epoch 14/100\n",
      "100/100 [==============================] - 9s 91ms/step - loss: 0.4233 - acc: 0.8085 - val_loss: 0.4224 - val_acc: 0.8070\n",
      "Epoch 15/100\n",
      "100/100 [==============================] - 10s 95ms/step - loss: 0.4081 - acc: 0.8115 - val_loss: 0.4895 - val_acc: 0.7700\n",
      "Epoch 16/100\n",
      "100/100 [==============================] - 9s 93ms/step - loss: 0.4018 - acc: 0.8170 - val_loss: 0.4239 - val_acc: 0.8110\n",
      "Epoch 17/100\n",
      "100/100 [==============================] - 10s 98ms/step - loss: 0.4114 - acc: 0.8085 - val_loss: 0.4186 - val_acc: 0.8150\n",
      "Epoch 18/100\n",
      "100/100 [==============================] - 10s 98ms/step - loss: 0.4038 - acc: 0.8160 - val_loss: 0.4590 - val_acc: 0.7830\n",
      "Epoch 19/100\n",
      "100/100 [==============================] - 9s 90ms/step - loss: 0.3947 - acc: 0.8250 - val_loss: 0.4268 - val_acc: 0.8100\n",
      "Epoch 20/100\n",
      "100/100 [==============================] - 10s 98ms/step - loss: 0.3962 - acc: 0.8190 - val_loss: 0.4191 - val_acc: 0.8240\n",
      "Epoch 21/100\n",
      "100/100 [==============================] - 10s 98ms/step - loss: 0.3795 - acc: 0.8285 - val_loss: 0.4283 - val_acc: 0.8070\n",
      "Epoch 22/100\n",
      "100/100 [==============================] - 10s 98ms/step - loss: 0.3703 - acc: 0.8315 - val_loss: 0.4652 - val_acc: 0.7840\n",
      "Epoch 23/100\n",
      "100/100 [==============================] - 10s 98ms/step - loss: 0.3805 - acc: 0.8305 - val_loss: 0.4155 - val_acc: 0.8160\n",
      "Epoch 24/100\n",
      "100/100 [==============================] - 10s 98ms/step - loss: 0.3575 - acc: 0.8405 - val_loss: 0.4566 - val_acc: 0.7840\n",
      "Epoch 25/100\n",
      "100/100 [==============================] - 10s 98ms/step - loss: 0.3677 - acc: 0.8390 - val_loss: 0.4221 - val_acc: 0.8170\n",
      "Epoch 26/100\n",
      "100/100 [==============================] - 10s 99ms/step - loss: 0.3540 - acc: 0.8435 - val_loss: 0.4131 - val_acc: 0.8340\n",
      "Epoch 27/100\n",
      "100/100 [==============================] - 9s 90ms/step - loss: 0.3634 - acc: 0.8385 - val_loss: 0.4343 - val_acc: 0.8140\n",
      "Epoch 28/100\n",
      "100/100 [==============================] - 10s 98ms/step - loss: 0.3661 - acc: 0.8385 - val_loss: 0.4261 - val_acc: 0.8090\n",
      "Epoch 29/100\n",
      "100/100 [==============================] - 10s 98ms/step - loss: 0.3531 - acc: 0.8460 - val_loss: 0.4285 - val_acc: 0.8250\n",
      "Epoch 30/100\n",
      "100/100 [==============================] - 9s 92ms/step - loss: 0.3564 - acc: 0.8310 - val_loss: 0.4204 - val_acc: 0.8210\n",
      "Epoch 31/100\n",
      "100/100 [==============================] - 10s 97ms/step - loss: 0.3426 - acc: 0.8425 - val_loss: 0.4394 - val_acc: 0.8050\n",
      "Epoch 32/100\n",
      "100/100 [==============================] - 10s 98ms/step - loss: 0.3440 - acc: 0.8490 - val_loss: 0.4228 - val_acc: 0.8220\n",
      "Epoch 33/100\n",
      "100/100 [==============================] - 10s 98ms/step - loss: 0.3291 - acc: 0.8550 - val_loss: 0.4322 - val_acc: 0.8100\n",
      "Epoch 34/100\n",
      "100/100 [==============================] - 10s 98ms/step - loss: 0.3346 - acc: 0.8525 - val_loss: 0.4314 - val_acc: 0.8120\n",
      "Epoch 35/100\n",
      "100/100 [==============================] - 10s 95ms/step - loss: 0.3258 - acc: 0.8585 - val_loss: 0.4426 - val_acc: 0.8070\n",
      "Epoch 36/100\n",
      "100/100 [==============================] - 9s 94ms/step - loss: 0.3242 - acc: 0.8570 - val_loss: 0.4292 - val_acc: 0.8060\n",
      "Epoch 37/100\n",
      "100/100 [==============================] - 10s 96ms/step - loss: 0.3236 - acc: 0.8565 - val_loss: 0.4325 - val_acc: 0.8080\n",
      "Epoch 38/100\n",
      "100/100 [==============================] - 11s 105ms/step - loss: 0.3134 - acc: 0.8610 - val_loss: 0.4478 - val_acc: 0.8110\n",
      "Epoch 39/100\n",
      "100/100 [==============================] - 10s 98ms/step - loss: 0.3249 - acc: 0.8645 - val_loss: 0.4247 - val_acc: 0.8130\n",
      "Epoch 40/100\n",
      "100/100 [==============================] - 10s 97ms/step - loss: 0.3109 - acc: 0.8695 - val_loss: 0.4830 - val_acc: 0.7880\n",
      "Epoch 41/100\n",
      "100/100 [==============================] - 10s 100ms/step - loss: 0.3051 - acc: 0.8670 - val_loss: 0.4186 - val_acc: 0.8300\n",
      "Epoch 42/100\n",
      "100/100 [==============================] - 10s 98ms/step - loss: 0.3150 - acc: 0.8635 - val_loss: 0.4239 - val_acc: 0.8190\n",
      "Epoch 43/100\n",
      "100/100 [==============================] - 10s 98ms/step - loss: 0.3170 - acc: 0.8595 - val_loss: 0.4235 - val_acc: 0.8290\n",
      "Epoch 44/100\n",
      "100/100 [==============================] - 10s 98ms/step - loss: 0.2901 - acc: 0.8820 - val_loss: 0.4379 - val_acc: 0.8110\n",
      "Epoch 45/100\n",
      "100/100 [==============================] - 10s 98ms/step - loss: 0.2997 - acc: 0.8715 - val_loss: 0.4608 - val_acc: 0.7870\n",
      "Epoch 46/100\n",
      "100/100 [==============================] - 10s 98ms/step - loss: 0.2928 - acc: 0.8765 - val_loss: 0.4279 - val_acc: 0.8220\n",
      "Epoch 47/100\n",
      "100/100 [==============================] - 10s 97ms/step - loss: 0.2859 - acc: 0.8755 - val_loss: 0.4191 - val_acc: 0.8210\n",
      "Epoch 48/100\n",
      "100/100 [==============================] - 10s 97ms/step - loss: 0.2795 - acc: 0.8760 - val_loss: 0.4838 - val_acc: 0.7920\n",
      "Epoch 49/100\n",
      "100/100 [==============================] - 10s 98ms/step - loss: 0.2904 - acc: 0.8810 - val_loss: 0.4714 - val_acc: 0.7910\n",
      "Epoch 50/100\n",
      "100/100 [==============================] - 10s 98ms/step - loss: 0.2843 - acc: 0.8760 - val_loss: 0.4587 - val_acc: 0.7980\n",
      "Epoch 51/100\n",
      "100/100 [==============================] - 10s 98ms/step - loss: 0.2729 - acc: 0.8855 - val_loss: 0.4721 - val_acc: 0.7970\n",
      "Epoch 52/100\n",
      "100/100 [==============================] - 11s 105ms/step - loss: 0.2981 - acc: 0.8710 - val_loss: 0.4429 - val_acc: 0.8180\n",
      "Epoch 53/100\n",
      "100/100 [==============================] - 9s 93ms/step - loss: 0.2830 - acc: 0.8805 - val_loss: 0.4421 - val_acc: 0.8150\n",
      "Epoch 54/100\n",
      "100/100 [==============================] - 9s 94ms/step - loss: 0.2664 - acc: 0.8880 - val_loss: 0.4582 - val_acc: 0.8040\n",
      "Epoch 55/100\n",
      "100/100 [==============================] - 11s 105ms/step - loss: 0.2669 - acc: 0.8865 - val_loss: 0.4560 - val_acc: 0.8020\n",
      "Epoch 56/100\n",
      "100/100 [==============================] - 10s 97ms/step - loss: 0.2696 - acc: 0.8875 - val_loss: 0.4880 - val_acc: 0.7970\n",
      "Epoch 57/100\n",
      "100/100 [==============================] - 10s 98ms/step - loss: 0.2633 - acc: 0.8870 - val_loss: 0.4607 - val_acc: 0.8130\n",
      "Epoch 58/100\n",
      "100/100 [==============================] - 10s 98ms/step - loss: 0.2738 - acc: 0.8865 - val_loss: 0.5386 - val_acc: 0.7790\n",
      "Epoch 59/100\n"
     ]
    },
    {
     "name": "stdout",
     "output_type": "stream",
     "text": [
      "100/100 [==============================] - 10s 97ms/step - loss: 0.2633 - acc: 0.8820 - val_loss: 0.4465 - val_acc: 0.8170\n",
      "Epoch 60/100\n",
      "100/100 [==============================] - 10s 96ms/step - loss: 0.2584 - acc: 0.8825 - val_loss: 0.4453 - val_acc: 0.8190\n",
      "Epoch 61/100\n",
      "100/100 [==============================] - 10s 97ms/step - loss: 0.2589 - acc: 0.8925 - val_loss: 0.4424 - val_acc: 0.8080\n",
      "Epoch 62/100\n",
      "100/100 [==============================] - 10s 97ms/step - loss: 0.2490 - acc: 0.8925 - val_loss: 0.4739 - val_acc: 0.7980\n",
      "Epoch 63/100\n",
      "100/100 [==============================] - 10s 97ms/step - loss: 0.2565 - acc: 0.8895 - val_loss: 0.4951 - val_acc: 0.7990\n",
      "Epoch 64/100\n",
      "100/100 [==============================] - 10s 104ms/step - loss: 0.2382 - acc: 0.9020 - val_loss: 0.5135 - val_acc: 0.7920\n",
      "Epoch 65/100\n",
      "100/100 [==============================] - 10s 97ms/step - loss: 0.2439 - acc: 0.8960 - val_loss: 0.4644 - val_acc: 0.8030\n",
      "Epoch 66/100\n",
      "100/100 [==============================] - 10s 97ms/step - loss: 0.2412 - acc: 0.8995 - val_loss: 0.5246 - val_acc: 0.7900\n",
      "Epoch 67/100\n",
      "100/100 [==============================] - 10s 97ms/step - loss: 0.2495 - acc: 0.8990 - val_loss: 0.4689 - val_acc: 0.8070\n",
      "Epoch 68/100\n",
      "100/100 [==============================] - 10s 101ms/step - loss: 0.2419 - acc: 0.8990 - val_loss: 0.4670 - val_acc: 0.8040\n",
      "Epoch 69/100\n",
      "100/100 [==============================] - 10s 101ms/step - loss: 0.2417 - acc: 0.9020 - val_loss: 0.4681 - val_acc: 0.8120\n",
      "Epoch 70/100\n",
      "100/100 [==============================] - 10s 97ms/step - loss: 0.2416 - acc: 0.8930 - val_loss: 0.4736 - val_acc: 0.7990\n",
      "Epoch 71/100\n",
      "100/100 [==============================] - 10s 97ms/step - loss: 0.2188 - acc: 0.9135 - val_loss: 0.4997 - val_acc: 0.7930\n",
      "Epoch 72/100\n",
      "100/100 [==============================] - 10s 97ms/step - loss: 0.2445 - acc: 0.8935 - val_loss: 0.4740 - val_acc: 0.8040\n",
      "Epoch 73/100\n",
      "100/100 [==============================] - 10s 105ms/step - loss: 0.2306 - acc: 0.9055 - val_loss: 0.5117 - val_acc: 0.8030\n",
      "Epoch 74/100\n",
      "100/100 [==============================] - 10s 97ms/step - loss: 0.2414 - acc: 0.8995 - val_loss: 0.4481 - val_acc: 0.8090\n",
      "Epoch 75/100\n",
      "100/100 [==============================] - 10s 97ms/step - loss: 0.2329 - acc: 0.9030 - val_loss: 0.4745 - val_acc: 0.8020\n",
      "Epoch 76/100\n",
      "100/100 [==============================] - 10s 97ms/step - loss: 0.2049 - acc: 0.9205 - val_loss: 0.4859 - val_acc: 0.8150\n",
      "Epoch 77/100\n",
      "100/100 [==============================] - 10s 97ms/step - loss: 0.2259 - acc: 0.9010 - val_loss: 0.5789 - val_acc: 0.7950\n",
      "Epoch 78/100\n",
      "100/100 [==============================] - 10s 105ms/step - loss: 0.2179 - acc: 0.9090 - val_loss: 0.4920 - val_acc: 0.8060\n",
      "Epoch 79/100\n",
      "100/100 [==============================] - 10s 97ms/step - loss: 0.2245 - acc: 0.9040 - val_loss: 0.5111 - val_acc: 0.8110\n",
      "Epoch 80/100\n",
      "100/100 [==============================] - 10s 97ms/step - loss: 0.2088 - acc: 0.9125 - val_loss: 0.4952 - val_acc: 0.8080\n",
      "Epoch 81/100\n",
      "100/100 [==============================] - 10s 97ms/step - loss: 0.2013 - acc: 0.9210 - val_loss: 0.5433 - val_acc: 0.8010\n",
      "Epoch 82/100\n",
      "100/100 [==============================] - 10s 97ms/step - loss: 0.2224 - acc: 0.9095 - val_loss: 0.5305 - val_acc: 0.8060\n",
      "Epoch 83/100\n",
      "100/100 [==============================] - 10s 97ms/step - loss: 0.2064 - acc: 0.9180 - val_loss: 0.5332 - val_acc: 0.8050\n",
      "Epoch 84/100\n",
      "100/100 [==============================] - 10s 105ms/step - loss: 0.2273 - acc: 0.9080 - val_loss: 0.4965 - val_acc: 0.8060\n",
      "Epoch 85/100\n",
      "100/100 [==============================] - 10s 97ms/step - loss: 0.1955 - acc: 0.9190 - val_loss: 0.5747 - val_acc: 0.8050\n",
      "Epoch 86/100\n",
      "100/100 [==============================] - 10s 98ms/step - loss: 0.2068 - acc: 0.9135 - val_loss: 0.5640 - val_acc: 0.8010\n",
      "Epoch 87/100\n",
      "100/100 [==============================] - 10s 105ms/step - loss: 0.2006 - acc: 0.9210 - val_loss: 0.5085 - val_acc: 0.8030\n",
      "Epoch 88/100\n",
      "100/100 [==============================] - 10s 97ms/step - loss: 0.2108 - acc: 0.9135 - val_loss: 0.4996 - val_acc: 0.8030\n",
      "Epoch 89/100\n",
      "100/100 [==============================] - 10s 97ms/step - loss: 0.2109 - acc: 0.9130 - val_loss: 0.5260 - val_acc: 0.8020\n",
      "Epoch 90/100\n",
      "100/100 [==============================] - 10s 97ms/step - loss: 0.2070 - acc: 0.9155 - val_loss: 0.5616 - val_acc: 0.7970\n",
      "Epoch 91/100\n",
      "100/100 [==============================] - 10s 97ms/step - loss: 0.1961 - acc: 0.9215 - val_loss: 0.5073 - val_acc: 0.8210\n",
      "Epoch 92/100\n",
      "100/100 [==============================] - 10s 97ms/step - loss: 0.1884 - acc: 0.9255 - val_loss: 0.6104 - val_acc: 0.7960\n",
      "Epoch 93/100\n",
      "100/100 [==============================] - 10s 97ms/step - loss: 0.1919 - acc: 0.9255 - val_loss: 0.5099 - val_acc: 0.8130\n",
      "Epoch 94/100\n",
      "100/100 [==============================] - 10s 98ms/step - loss: 0.1965 - acc: 0.9185 - val_loss: 0.6778 - val_acc: 0.7680\n",
      "Epoch 95/100\n",
      "100/100 [==============================] - 10s 97ms/step - loss: 0.2047 - acc: 0.9115 - val_loss: 0.5257 - val_acc: 0.8030\n",
      "Epoch 96/100\n",
      "100/100 [==============================] - 10s 105ms/step - loss: 0.1697 - acc: 0.9310 - val_loss: 0.5578 - val_acc: 0.8040acc: 0.\n",
      "Epoch 97/100\n",
      "100/100 [==============================] - 10s 96ms/step - loss: 0.1906 - acc: 0.9205 - val_loss: 0.5722 - val_acc: 0.8100\n",
      "Epoch 98/100\n",
      "100/100 [==============================] - 10s 97ms/step - loss: 0.1855 - acc: 0.9245 - val_loss: 0.7630 - val_acc: 0.7620\n",
      "Epoch 99/100\n",
      "100/100 [==============================] - 10s 105ms/step - loss: 0.1951 - acc: 0.9180 - val_loss: 0.5828 - val_acc: 0.8010\n",
      "Epoch 100/100\n",
      "100/100 [==============================] - 10s 97ms/step - loss: 0.1652 - acc: 0.9310 - val_loss: 0.5578 - val_acc: 0.8070\n"
     ]
    }
   ],
   "source": [
    "model.compile(loss='binary_crossentropy',\n",
    "              optimizer=optimizers.RMSprop(lr=1e-5),\n",
    "              metrics=['acc'])\n",
    "\n",
    "history = model.fit_generator(\n",
    "      train_generator,\n",
    "      steps_per_epoch=100,\n",
    "      epochs=100,\n",
    "      validation_data=validation_generator,\n",
    "      validation_steps=50)"
   ]
  },
  {
   "cell_type": "code",
   "execution_count": 20,
   "metadata": {},
   "outputs": [],
   "source": [
    "#model.save('cats_and_dogs_small_4.h5')"
   ]
  },
  {
   "cell_type": "markdown",
   "metadata": {},
   "source": [
    "Let's plot our results using the same plotting code as before:"
   ]
  },
  {
   "cell_type": "code",
   "execution_count": 21,
   "metadata": {},
   "outputs": [
    {
     "data": {
      "image/png": "[encoded data removed]",
      "text/plain": [
       "<Figure size 432x288 with 1 Axes>"
      ]
     },
     "metadata": {
      "needs_background": "light"
     },
     "output_type": "display_data"
    },
    {
     "data": {
      "image/png": "[encoded data removed]",
      "text/plain": [
       "<Figure size 432x288 with 1 Axes>"
      ]
     },
     "metadata": {
      "needs_background": "light"
     },
     "output_type": "display_data"
    }
   ],
   "source": [
    "acc = history.history['acc']\n",
    "val_acc = history.history['val_acc']\n",
    "loss = history.history['loss']\n",
    "val_loss = history.history['val_loss']\n",
    "\n",
    "epochs = range(len(acc))\n",
    "\n",
    "plt.plot(epochs, acc, 'bo', label='Training acc')\n",
    "plt.plot(epochs, val_acc, 'b', label='Validation acc')\n",
    "plt.title('Training and validation accuracy')\n",
    "plt.legend()\n",
    "\n",
    "plt.figure()\n",
    "\n",
    "plt.plot(epochs, loss, 'bo', label='Training loss')\n",
    "plt.plot(epochs, val_loss, 'b', label='Validation loss')\n",
    "plt.title('Training and validation loss')\n",
    "plt.legend()\n",
    "\n",
    "plt.show()"
   ]
  },
  {
   "cell_type": "markdown",
   "metadata": {},
   "source": [
    "The model acuracy is now improved further to be around 80%.\n",
    "\n",
    "We can now finally evaluate this model on the test data:"
   ]
  },
  {
   "cell_type": "code",
   "execution_count": 22,
   "metadata": {},
   "outputs": [
    {
     "name": "stdout",
     "output_type": "stream",
     "text": [
      "Found 1000 images belonging to 2 classes.\n",
      "WARNING:tensorflow:From <ipython-input-22-045f6020024c>:7: Model.evaluate_generator (from tensorflow.python.keras.engine.training) is deprecated and will be removed in a future version.\n",
      "Instructions for updating:\n",
      "Please use Model.evaluate, which supports generators.\n",
      "WARNING:tensorflow:sample_weight modes were coerced from\n",
      "  ...\n",
      "    to  \n",
      "  ['...']\n",
      "test acc: 0.791\n"
     ]
    }
   ],
   "source": [
    "test_generator = test_datagen.flow_from_directory(\n",
    "        test_dir,\n",
    "        target_size=(img_size, img_size),\n",
    "        batch_size=20,\n",
    "        class_mode='binary')\n",
    "\n",
    "test_loss, test_acc = model.evaluate_generator(test_generator, steps=50)\n",
    "print('test acc:', test_acc)"
   ]
  },
  {
   "cell_type": "markdown",
   "metadata": {},
   "source": [
    "\n",
    "Here we get a test accuracy of 80%. "
   ]
  },
  {
   "cell_type": "markdown",
   "metadata": {},
   "source": [
    "## 3. Exercise - utilize another pretrained model <a id='exc' />\n",
    "\n",
    "Please utilize another pretrained model, e.g:\n",
    "(refer https://keras.io/applications/ for details)\n",
    "\n",
    "* Xception\n",
    "* InceptionV3\n",
    "* ResNet50\n",
    "* VGG19\n",
    "* MobileNet\n",
    "* DenseNet\n",
    "* NASNet\n",
    "\n",
    "(**Note**: Different models have different requirements on minimum image size so you may need to increase `img_size` accordingly)\n",
    "\n",
    "Implement the feature extraction, feature extraction with data augmentation and fine-tuning you learned through this practical. \n",
    "\n",
    "Observe the training and validation accuracy curves. \n",
    "\n",
    "Provide your codes & comments in the below boxes.\n"
   ]
  },
  {
   "cell_type": "code",
   "execution_count": 23,
   "metadata": {},
   "outputs": [],
   "source": [
    "# Task 1: Feature Extraction without data augmentation\n"
   ]
  },
  {
   "cell_type": "code",
   "execution_count": 24,
   "metadata": {},
   "outputs": [],
   "source": [
    "# Task 2: Feature Extraction with data augmentation\n"
   ]
  },
  {
   "cell_type": "code",
   "execution_count": 25,
   "metadata": {},
   "outputs": [],
   "source": [
    "# Task 3: Fine tuning\n"
   ]
  },
  {
   "cell_type": "code",
   "execution_count": 26,
   "metadata": {},
   "outputs": [],
   "source": [
    "# Task 4: Comments\n"
   ]
  },
  {
   "cell_type": "code",
   "execution_count": null,
   "metadata": {},
   "outputs": [],
   "source": []
  }
 ],
 "metadata": {
  "kernelspec": {
   "display_name": "Python 3",
   "language": "python",
   "name": "python3"
  },
  "language_info": {
   "codemirror_mode": {
    "name": "ipython",
    "version": 3
   },
   "file_extension": ".py",
   "mimetype": "text/x-python",
   "name": "python",
   "nbconvert_exporter": "python",
   "pygments_lexer": "ipython3",
   "version": "3.7.7"
  }
 },
 "nbformat": 4,
 "nbformat_minor": 2
}
