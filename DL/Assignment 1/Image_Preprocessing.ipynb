{
 "cells": [
  {
   "cell_type": "code",
   "execution_count": 1,
   "metadata": {},
   "outputs": [
    {
     "name": "stderr",
     "output_type": "stream",
     "text": [
      "Using TensorFlow backend.\n"
     ]
    }
   ],
   "source": [
    "import tensorflow.keras\n",
    "import os, shutil"
   ]
  },
  {
   "cell_type": "code",
   "execution_count": 2,
   "metadata": {},
   "outputs": [],
   "source": [
    " #Set the base directory as the current directory\n",
    "base_dir = os.getcwd()\n",
    "\n",
    "#Set the base directory as where you save the downloaded food_images\n",
    "image_dir = 'D:/DL/Data/food_images' "
   ]
  },
  {
   "cell_type": "code",
   "execution_count": 3,
   "metadata": {},
   "outputs": [],
   "source": [
    "# Directories for your training, validation and test splits\n",
    "train_dir = os.path.join(base_dir, 'train')\n",
    "os.mkdir(train_dir)\n",
    "validation_dir = os.path.join(base_dir, 'validation')\n",
    "os.mkdir(validation_dir)\n",
    "test_dir = os.path.join(base_dir, 'test')\n",
    "os.mkdir(test_dir)"
   ]
  },
  {
   "cell_type": "code",
   "execution_count": 4,
   "metadata": {},
   "outputs": [],
   "source": [
    "# Assign the 10 types of food from your .txt file to a list variable 'food_list'\n",
    "   \n",
    "label_file = os.path.join(base_dir, '?.txt') \n",
    "# Refer to the report Appendix\n",
    "# Please enter the name of .txt file which contains a list of food assigned to you\n",
    "# Make sure you save the .txt file in your base_dir\n",
    "\n",
    "with open(label_file, 'r') as f:\n",
    "    x = f.readlines()\n",
    "    \n",
    "food_list =[]\n",
    "for item in x:\n",
    "    if item == '\\n':\n",
    "        continue        \n",
    "    else:\n",
    "        food_list.append(item.strip('\\n'))"
   ]
  },
  {
   "cell_type": "code",
   "execution_count": 5,
   "metadata": {},
   "outputs": [],
   "source": [
    "#copy the first 750 images to train folder\n",
    "for item in food_list:\n",
    "    train_food_dir = os.path.join(train_dir, item)\n",
    "    os.mkdir(train_food_dir)\n",
    "    img_list = os.listdir(os.path.join(image_dir, item))[:750]\n",
    "    for fname in img_list:\n",
    "        src = os.path.join(image_dir, item, fname)\n",
    "        dst = os.path.join(train_food_dir, fname)\n",
    "        shutil.copyfile(src, dst)"
   ]
  },
  {
   "cell_type": "code",
   "execution_count": 6,
   "metadata": {},
   "outputs": [],
   "source": [
    "#copy the following 200 images [750:950] to validation folder\n",
    "for item in food_list:\n",
    "    validation_food_dir = os.path.join(validation_dir, item)\n",
    "    os.mkdir(validation_food_dir)\n",
    "    img_list = os.listdir(os.path.join(image_dir, item))[750:950]\n",
    "    for fname in img_list:\n",
    "        src = os.path.join(image_dir, item, fname)\n",
    "        dst = os.path.join(validation_food_dir, fname)\n",
    "        shutil.copyfile(src, dst)"
   ]
  },
  {
   "cell_type": "code",
   "execution_count": 7,
   "metadata": {},
   "outputs": [],
   "source": [
    "#copy the remaining 50 images [950:1000] to test folder\n",
    "for item in food_list:\n",
    "    test_food_dir = os.path.join(test_dir, item)\n",
    "    os.mkdir(test_food_dir)\n",
    "    img_list = os.listdir(os.path.join(image_dir, item))[950:1000]\n",
    "    for fname in img_list:\n",
    "        src = os.path.join(image_dir, item, fname)\n",
    "        dst = os.path.join(test_food_dir, fname)\n",
    "        shutil.copyfile(src, dst)"
   ]
  },
  {
   "cell_type": "code",
   "execution_count": null,
   "metadata": {},
   "outputs": [],
   "source": []
  }
 ],
 "metadata": {
  "kernelspec": {
   "display_name": "Python 3",
   "language": "python",
   "name": "python3"
  },
  "language_info": {
   "codemirror_mode": {
    "name": "ipython",
    "version": 3
   },
   "file_extension": ".py",
   "mimetype": "text/x-python",
   "name": "python",
   "nbconvert_exporter": "python",
   "pygments_lexer": "ipython3",
   "version": "3.7.4"
  }
 },
 "nbformat": 4,
 "nbformat_minor": 2
}
