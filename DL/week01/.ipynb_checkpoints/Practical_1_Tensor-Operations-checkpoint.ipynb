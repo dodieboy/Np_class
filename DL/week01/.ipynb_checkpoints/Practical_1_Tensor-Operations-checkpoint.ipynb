{
 "cells": [
  {
   "cell_type": "markdown",
   "metadata": {},
   "source": [
    "<table class=\"table table-bordered\">\n",
    "    <tr>\n",
    "        <th style=\"text-align:center; width:25%\"><img src='https://www.np.edu.sg/PublishingImages/Pages/default/odp/ICT.jpg' style=\"width: 250px; height: 125px; \"></th>\n",
    "        <th style=\"text-align:center;\"><h1>Deep Learning</h1><h2>Practical 1 - Tensor Operations</h2><h3>AY2020/21 Semester</h3></th>\n",
    "    </tr>\n",
    "</table>"
   ]
  },
  {
   "cell_type": "markdown",
   "metadata": {},
   "source": [
    "## Objectives\n",
    "After completing this practical exercise, students should be able to:\n",
    "1. [Understand how the data is represented using tensors](#rep)\n",
    "2. [Understand the basics of tensor operations](#ops)\n",
    "3. [Exercise: provide your own examples](#exc)\n"
   ]
  },
  {
   "cell_type": "markdown",
   "metadata": {},
   "source": [
    "## 1. Data Representations <a id='rep' />\n",
    "All current machine-learning systems use tensors as their basic data structure. A tensor is a container for data, almost always numeric data. "
   ]
  },
  {
   "cell_type": "markdown",
   "metadata": {},
   "source": [
    "### 1.1 Scalars (0D tensors)\n",
    "A tensor that contains only one number."
   ]
  },
  {
   "cell_type": "code",
   "execution_count": 1,
   "metadata": {},
   "outputs": [
    {
     "name": "stdout",
     "output_type": "stream",
     "text": [
      "x = \n",
      " 12 \n",
      "\n",
      "The dimension of x is:  0\n",
      "The shape of x is:  ()\n"
     ]
    }
   ],
   "source": [
    "import numpy as np\n",
    "x = np.array(12)\n",
    "print('x = \\n', x, '\\n')\n",
    "print('The dimension of x is: ', x.ndim)\n",
    "print('The shape of x is: ', x.shape)"
   ]
  },
  {
   "cell_type": "markdown",
   "metadata": {},
   "source": [
    "### 1.2 Vectors (1D tensors)\n",
    "An array of numbers."
   ]
  },
  {
   "cell_type": "code",
   "execution_count": 2,
   "metadata": {},
   "outputs": [
    {
     "name": "stdout",
     "output_type": "stream",
     "text": [
      "x = \n",
      " [12  3  6 14 25] \n",
      "\n",
      "The dimension of x is:  1\n",
      "The shape of x is:  (5,)\n"
     ]
    }
   ],
   "source": [
    "x = np.array([12,3,6,14,25])\n",
    "print('x = \\n', x, '\\n')\n",
    "print('The dimension of x is: ', x.ndim)\n",
    "print('The shape of x is: ', x.shape)"
   ]
  },
  {
   "cell_type": "markdown",
   "metadata": {},
   "source": [
    "This vector has five entries and so it is a 5-dimensional vector (5D vector), but a 1D tensor. "
   ]
  },
  {
   "cell_type": "markdown",
   "metadata": {},
   "source": [
    "### 1.3 Matrices (2D tensors)\n",
    "An array of vectors."
   ]
  },
  {
   "cell_type": "code",
   "execution_count": 3,
   "metadata": {},
   "outputs": [
    {
     "name": "stdout",
     "output_type": "stream",
     "text": [
      "x = \n",
      " [[ 5 78  2 34  0]\n",
      " [ 6 79  3 35  1]\n",
      " [ 7 80  4 36  2]] \n",
      "\n",
      "The dimension of x is:  2\n",
      "The shape of x is:  (3, 5)\n"
     ]
    }
   ],
   "source": [
    "x = np.array([[5, 78, 2, 34, 0],\n",
    "             [6, 79, 3, 35, 1],\n",
    "             [7, 80, 4, 36, 2]])\n",
    "print('x = \\n', x, '\\n')\n",
    "print('The dimension of x is: ', x.ndim)\n",
    "print('The shape of x is: ', x.shape)"
   ]
  },
  {
   "cell_type": "markdown",
   "metadata": {},
   "source": [
    "### 1.4 3D tensors and higher-dimentional tensors\n",
    "Pack matrices into a new array. "
   ]
  },
  {
   "cell_type": "code",
   "execution_count": 4,
   "metadata": {},
   "outputs": [
    {
     "name": "stdout",
     "output_type": "stream",
     "text": [
      "x = \n",
      " [[[ 5 78  2 34  0]\n",
      "  [ 6 79  3 35  1]\n",
      "  [ 7 80  4 36  2]]\n",
      "\n",
      " [[ 5 78  2 34  0]\n",
      "  [ 6 79  3 35  1]\n",
      "  [ 7 80  4 36  2]]\n",
      "\n",
      " [[ 5 78  2 34  0]\n",
      "  [ 6 79  3 35  1]\n",
      "  [ 7 80  4 36  2]]]\n",
      "\n",
      "The dimension of x is:  3\n",
      "The shape of x is:  (3, 3, 5)\n"
     ]
    }
   ],
   "source": [
    "x = np.array([[[5, 78, 2, 34, 0],\n",
    "               [6, 79, 3, 35, 1],\n",
    "               [7, 80, 4, 36, 2]],\n",
    "              [[5, 78, 2, 34, 0],\n",
    "               [6, 79, 3, 35, 1],\n",
    "               [7, 80, 4, 36, 2]],\n",
    "              [[5, 78, 2, 34, 0],\n",
    "               [6, 79, 3, 35, 1],\n",
    "               [7, 80, 4, 36, 2]]])\n",
    "print('x = \\n', x)\n",
    "print('\\nThe dimension of x is: ', x.ndim)\n",
    "print('The shape of x is: ', x.shape)"
   ]
  },
  {
   "cell_type": "markdown",
   "metadata": {},
   "source": [
    "### 1.5 Key attributes\n",
    "* Number of axes (rank or dimension): ndim in Numpy\n",
    "* Shape: how many dimensions the tensor has along each axis\n",
    "* Data type: dtype in Python. The type of the data contained in the tensor"
   ]
  },
  {
   "cell_type": "code",
   "execution_count": 5,
   "metadata": {},
   "outputs": [],
   "source": [
    "from tensorflow.keras.datasets import mnist\n",
    "(train_images, train_labels), (test_images, test_labels) = mnist.load_data()"
   ]
  },
  {
   "cell_type": "code",
   "execution_count": 6,
   "metadata": {},
   "outputs": [
    {
     "name": "stdout",
     "output_type": "stream",
     "text": [
      "3\n"
     ]
    }
   ],
   "source": [
    "print(train_images.ndim)"
   ]
  },
  {
   "cell_type": "code",
   "execution_count": 7,
   "metadata": {},
   "outputs": [
    {
     "name": "stdout",
     "output_type": "stream",
     "text": [
      "(60000, 28, 28)\n"
     ]
    }
   ],
   "source": [
    "print(train_images.shape)"
   ]
  },
  {
   "cell_type": "code",
   "execution_count": 8,
   "metadata": {},
   "outputs": [
    {
     "name": "stdout",
     "output_type": "stream",
     "text": [
      "uint8\n"
     ]
    }
   ],
   "source": [
    "print(train_images.dtype)"
   ]
  },
  {
   "cell_type": "markdown",
   "metadata": {},
   "source": [
    "So what we have here is a 3D tensor of 8-bit integers. More precisely, it’s an array of 60,000 matrices of 28 × 28 integers. Each such matrix is a grayscale image, with coefficients between 0 and 255. Let’s display the fourth digit in this 3D tensor, using the library Matplotlib."
   ]
  },
  {
   "cell_type": "code",
   "execution_count": 9,
   "metadata": {
    "scrolled": true
   },
   "outputs": [
    {
     "data": {
      "image/png": "[encoded data removed]",
      "text/plain": [
       "<Figure size 432x288 with 1 Axes>"
      ]
     },
     "metadata": {
      "needs_background": "light"
     },
     "output_type": "display_data"
    }
   ],
   "source": [
    "digit = train_images[4]\n",
    "import matplotlib.pyplot as plt\n",
    "%matplotlib inline\n",
    "\n",
    "plt.imshow(digit, cmap=plt.cm.binary)\n",
    "plt.show()\n",
    "#print(digit)"
   ]
  },
  {
   "cell_type": "markdown",
   "metadata": {},
   "source": [
    "### 1.6 Tensor Slicing\n",
    "Selecting specific elements in a tensor"
   ]
  },
  {
   "cell_type": "code",
   "execution_count": 10,
   "metadata": {},
   "outputs": [
    {
     "name": "stdout",
     "output_type": "stream",
     "text": [
      "(90, 28, 28)\n"
     ]
    }
   ],
   "source": [
    "#Select digits #10 to #100 (#100 isn't included)\n",
    "my_slice = train_images[10:100]\n",
    "print(my_slice.shape)"
   ]
  },
  {
   "cell_type": "code",
   "execution_count": 11,
   "metadata": {},
   "outputs": [
    {
     "data": {
      "text/plain": [
       "array([[[0, 0, 0, ..., 0, 0, 0],\n",
       "        [0, 0, 0, ..., 0, 0, 0],\n",
       "        [0, 0, 0, ..., 0, 0, 0],\n",
       "        ...,\n",
       "        [0, 0, 0, ..., 0, 0, 0],\n",
       "        [0, 0, 0, ..., 0, 0, 0],\n",
       "        [0, 0, 0, ..., 0, 0, 0]],\n",
       "\n",
       "       [[0, 0, 0, ..., 0, 0, 0],\n",
       "        [0, 0, 0, ..., 0, 0, 0],\n",
       "        [0, 0, 0, ..., 0, 0, 0],\n",
       "        ...,\n",
       "        [0, 0, 0, ..., 0, 0, 0],\n",
       "        [0, 0, 0, ..., 0, 0, 0],\n",
       "        [0, 0, 0, ..., 0, 0, 0]],\n",
       "\n",
       "       [[0, 0, 0, ..., 0, 0, 0],\n",
       "        [0, 0, 0, ..., 0, 0, 0],\n",
       "        [0, 0, 0, ..., 0, 0, 0],\n",
       "        ...,\n",
       "        [0, 0, 0, ..., 0, 0, 0],\n",
       "        [0, 0, 0, ..., 0, 0, 0],\n",
       "        [0, 0, 0, ..., 0, 0, 0]],\n",
       "\n",
       "       ...,\n",
       "\n",
       "       [[0, 0, 0, ..., 0, 0, 0],\n",
       "        [0, 0, 0, ..., 0, 0, 0],\n",
       "        [0, 0, 0, ..., 0, 0, 0],\n",
       "        ...,\n",
       "        [0, 0, 0, ..., 0, 0, 0],\n",
       "        [0, 0, 0, ..., 0, 0, 0],\n",
       "        [0, 0, 0, ..., 0, 0, 0]],\n",
       "\n",
       "       [[0, 0, 0, ..., 0, 0, 0],\n",
       "        [0, 0, 0, ..., 0, 0, 0],\n",
       "        [0, 0, 0, ..., 0, 0, 0],\n",
       "        ...,\n",
       "        [0, 0, 0, ..., 0, 0, 0],\n",
       "        [0, 0, 0, ..., 0, 0, 0],\n",
       "        [0, 0, 0, ..., 0, 0, 0]],\n",
       "\n",
       "       [[0, 0, 0, ..., 0, 0, 0],\n",
       "        [0, 0, 0, ..., 0, 0, 0],\n",
       "        [0, 0, 0, ..., 0, 0, 0],\n",
       "        ...,\n",
       "        [0, 0, 0, ..., 0, 0, 0],\n",
       "        [0, 0, 0, ..., 0, 0, 0],\n",
       "        [0, 0, 0, ..., 0, 0, 0]]], dtype=uint8)"
      ]
     },
     "execution_count": 11,
     "metadata": {},
     "output_type": "execute_result"
    }
   ],
   "source": [
    "#To see the slice\n",
    "my_slice"
   ]
  },
  {
   "cell_type": "code",
   "execution_count": 12,
   "metadata": {},
   "outputs": [
    {
     "name": "stdout",
     "output_type": "stream",
     "text": [
      "(90, 28, 28)\n"
     ]
    }
   ],
   "source": [
    "#Select digits #10 to #100 (#100 isn't included)\n",
    "my_slice = train_images[10:100, :, :]\n",
    "print(my_slice.shape)"
   ]
  },
  {
   "cell_type": "code",
   "execution_count": 13,
   "metadata": {},
   "outputs": [
    {
     "name": "stdout",
     "output_type": "stream",
     "text": [
      "(90, 28, 28)\n"
     ]
    }
   ],
   "source": [
    "#Select digits #10 to #100 (#100 isn't included)\n",
    "my_slice = train_images[10:100, 0:28, 0:28]\n",
    "print(my_slice.shape)"
   ]
  },
  {
   "cell_type": "code",
   "execution_count": 14,
   "metadata": {},
   "outputs": [
    {
     "name": "stdout",
     "output_type": "stream",
     "text": [
      "(60000, 14, 14)\n"
     ]
    }
   ],
   "source": [
    "#Select 14x14 pixels in the bottom-right corner of all images\n",
    "my_slice = train_images[:, 14:, 14:]\n",
    "print(my_slice.shape)"
   ]
  },
  {
   "cell_type": "code",
   "execution_count": 15,
   "metadata": {},
   "outputs": [
    {
     "name": "stdout",
     "output_type": "stream",
     "text": [
      "(60000, 14, 14)\n"
     ]
    }
   ],
   "source": [
    "#Crop the images to patches of 14x14 pixels centered in the middle\n",
    "my_slice = train_images[:, 7:-7, 7:-7]\n",
    "print(my_slice.shape)"
   ]
  },
  {
   "cell_type": "markdown",
   "metadata": {},
   "source": [
    "Deep-learning models don’t process an entire dataset at once; they break the data into small batches. Here’s one batch of our MNIST digits, with batch size of 128:"
   ]
  },
  {
   "cell_type": "code",
   "execution_count": 16,
   "metadata": {},
   "outputs": [
    {
     "name": "stdout",
     "output_type": "stream",
     "text": [
      "(128, 28, 28)\n"
     ]
    }
   ],
   "source": [
    "batch = train_images[:128] # 1st batch, n = 0\n",
    "batch = train_images[128:256] # 2nd batch, n = 1\n",
    "\n",
    "# the nth batch\n",
    "n=10\n",
    "batch = train_images[128 * n:128 * (n + 1)]\n",
    "print(batch.shape)"
   ]
  },
  {
   "cell_type": "markdown",
   "metadata": {},
   "source": [
    "When considering such a batch tensor, the first axis (axis 0) is called the batch axis or\n",
    "batch dimension."
   ]
  },
  {
   "cell_type": "markdown",
   "metadata": {},
   "source": [
    "## 2. Tensor Operations <a id='ops' />\n",
    "All transformations learned by deep neural networks can be reduced to a handful of tensor operations applied to tensors of numeric data, e.g. add tensors, multiply tensors and etc."
   ]
  },
  {
   "cell_type": "markdown",
   "metadata": {},
   "source": [
    "### 2.1 Element-wise operations\n",
    "Operations that are applied independently to each entry in the tensors."
   ]
  },
  {
   "cell_type": "code",
   "execution_count": 17,
   "metadata": {},
   "outputs": [
    {
     "name": "stdout",
     "output_type": "stream",
     "text": [
      "x is: \n",
      " [[[ 5 78  2 34  0]\n",
      "  [ 6 79  3 35  1]\n",
      "  [ 7 80  4 36  2]]\n",
      "\n",
      " [[ 5 78  2 34  0]\n",
      "  [ 6 79  3 35  1]\n",
      "  [ 7 80  4 36  2]]\n",
      "\n",
      " [[ 5 78  2 34  0]\n",
      "  [ 6 79  3 35  1]\n",
      "  [ 7 80  4 36  2]]]\n",
      "\n",
      "==Element-wise substraction==\n",
      "         y = x - 4          \n",
      "y is: \n",
      " [[[ 1 74 -2 30 -4]\n",
      "  [ 2 75 -1 31 -3]\n",
      "  [ 3 76  0 32 -2]]\n",
      "\n",
      " [[ 1 74 -2 30 -4]\n",
      "  [ 2 75 -1 31 -3]\n",
      "  [ 3 76  0 32 -2]]\n",
      "\n",
      " [[ 1 74 -2 30 -4]\n",
      "  [ 2 75 -1 31 -3]\n",
      "  [ 3 76  0 32 -2]]]\n",
      "\n",
      "==Element-wise addition==\n",
      "         z = x + y          \n",
      "z is: \n",
      " [[[  6 152   0  64  -4]\n",
      "  [  8 154   2  66  -2]\n",
      "  [ 10 156   4  68   0]]\n",
      "\n",
      " [[  6 152   0  64  -4]\n",
      "  [  8 154   2  66  -2]\n",
      "  [ 10 156   4  68   0]]\n",
      "\n",
      " [[  6 152   0  64  -4]\n",
      "  [  8 154   2  66  -2]\n",
      "  [ 10 156   4  68   0]]]\n",
      "\n",
      "==Element-wise relu==\n",
      "z2 is: \n",
      " [[[  6. 152.   0.  64.   0.]\n",
      "  [  8. 154.   2.  66.   0.]\n",
      "  [ 10. 156.   4.  68.   0.]]\n",
      "\n",
      " [[  6. 152.   0.  64.   0.]\n",
      "  [  8. 154.   2.  66.   0.]\n",
      "  [ 10. 156.   4.  68.   0.]]\n",
      "\n",
      " [[  6. 152.   0.  64.   0.]\n",
      "  [  8. 154.   2.  66.   0.]\n",
      "  [ 10. 156.   4.  68.   0.]]]\n"
     ]
    }
   ],
   "source": [
    "import numpy as np\n",
    "print('x is: \\n', x)\n",
    "#Element-wise substraction\n",
    "print(\"\\n==Element-wise substraction==\")\n",
    "print('{:^28}'.format(\"y = x - 4\"))\n",
    "y = x - 4 \n",
    "print('y is: \\n', y)\n",
    "\n",
    "#Element-wise addition\n",
    "print(\"\\n==Element-wise addition==\")\n",
    "print('{:^28}'.format(\"z = x + y\"))\n",
    "z = x + y\n",
    "print('z is: \\n', z)\n",
    "\n",
    "#Element-wise relu\n",
    "print(\"\\n==Element-wise relu==\")\n",
    "z2 = np.maximum(z, 0.)\n",
    "print('z2 is: \\n', z2)"
   ]
  },
  {
   "cell_type": "markdown",
   "metadata": {},
   "source": [
    "### 2.2 Broadcasting\n",
    "When the shapes of two tensors being added are different, if there's no ambiguity, the smaller tensor will be broadcasted to match the shape of the larger tensor."
   ]
  },
  {
   "cell_type": "code",
   "execution_count": 18,
   "metadata": {},
   "outputs": [
    {
     "name": "stdout",
     "output_type": "stream",
     "text": [
      "x is: \n",
      " [[[7 5 6 9 0]\n",
      "  [6 9 7 9 8]]\n",
      "\n",
      " [[6 0 9 6 7]\n",
      "  [8 8 7 8 4]]\n",
      "\n",
      " [[0 4 9 1 9]\n",
      "  [5 4 2 1 5]]] \n",
      "\n",
      "y is: \n",
      " [[6 7 1 7 3]\n",
      " [6 2 0 1 2]] \n",
      "\n",
      "z is: \n",
      " [[[13 12  7 16  3]\n",
      "  [12 11  7 10 10]]\n",
      "\n",
      " [[12  7 10 13 10]\n",
      "  [14 10  7  9  6]]\n",
      "\n",
      " [[ 6 11 10  8 12]\n",
      "  [11  6  2  2  7]]]\n"
     ]
    }
   ],
   "source": [
    "import numpy as np\n",
    "#Generate random numbers from 0 to 9 into a 3 x 2 x 5 array\n",
    "x = np.random.randint(10, size=(3, 2, 5))\n",
    "print('x is: \\n', x, '\\n')\n",
    "y = np.random.randint(10, size=(2, 5))\n",
    "print('y is: \\n', y, '\\n')\n",
    "z = x + y\n",
    "print('z is: \\n', z)"
   ]
  },
  {
   "cell_type": "markdown",
   "metadata": {},
   "source": [
    "### 2.3 Tensor dot\n",
    "The dot operations, also called tensor product, is very similiar to vector/matrix multiplication. "
   ]
  },
  {
   "cell_type": "code",
   "execution_count": 19,
   "metadata": {},
   "outputs": [
    {
     "name": "stdout",
     "output_type": "stream",
     "text": [
      "x is: \n",
      " [[4 2 9 9 7]\n",
      " [1 6 1 7 9]] \n",
      "\n",
      "y is: \n",
      " [[7 6 2]\n",
      " [8 1 3]\n",
      " [6 5 9]\n",
      " [5 5 6]\n",
      " [4 2 7]] \n",
      "\n",
      "z is: \n",
      " [[171 130 198]\n",
      " [132  70 134]]\n"
     ]
    }
   ],
   "source": [
    "import numpy as np\n",
    "x = np.random.randint(10, size=(2, 5))\n",
    "print('x is: \\n', x, '\\n')\n",
    "y = np.random.randint(10, size=(5, 3))\n",
    "print('y is: \\n', y, '\\n')\n",
    "z = np.dot(x, y)\n",
    "print('z is: \\n', z)"
   ]
  },
  {
   "cell_type": "code",
   "execution_count": 20,
   "metadata": {},
   "outputs": [
    {
     "name": "stdout",
     "output_type": "stream",
     "text": [
      "x is: \n",
      " [[1 4 2 6 1]\n",
      " [3 4 0 2 8]] \n",
      "\n",
      "y is: \n",
      " [[5 3 4 9 2]\n",
      " [1 4 5 2 6]] \n",
      "\n",
      "z is: \n",
      " [[ 5 12  8 54  2]\n",
      " [ 3 16  0  4 48]]\n"
     ]
    }
   ],
   "source": [
    "#element wise multiply\n",
    "x = np.random.randint(10, size=(2, 5))\n",
    "print('x is: \\n', x, '\\n')\n",
    "y = np.random.randint(10, size=(2, 5))\n",
    "print('y is: \\n', y, '\\n')\n",
    "z = x*y\n",
    "print('z is: \\n', z)"
   ]
  },
  {
   "cell_type": "markdown",
   "metadata": {},
   "source": [
    "### 2.4 Tensor reshaping\n",
    "Rearranging the rows and columns of a tensor to match a target shape."
   ]
  },
  {
   "cell_type": "code",
   "execution_count": 21,
   "metadata": {},
   "outputs": [
    {
     "name": "stdout",
     "output_type": "stream",
     "text": [
      "[[0. 1.]\n",
      " [2. 3.]\n",
      " [4. 5.]] \n",
      "\n",
      "The shape of x is: (3, 2)\n"
     ]
    }
   ],
   "source": [
    "x = np.array([[0., 1.],\n",
    "              [2., 3.],\n",
    "              [4., 5.]])\n",
    "print(x, '\\n')\n",
    "print('The shape of x is:', x.shape)"
   ]
  },
  {
   "cell_type": "code",
   "execution_count": 22,
   "metadata": {},
   "outputs": [
    {
     "data": {
      "text/plain": [
       "dtype('float64')"
      ]
     },
     "execution_count": 22,
     "metadata": {},
     "output_type": "execute_result"
    }
   ],
   "source": [
    "x.dtype"
   ]
  },
  {
   "cell_type": "code",
   "execution_count": 23,
   "metadata": {},
   "outputs": [
    {
     "name": "stdout",
     "output_type": "stream",
     "text": [
      "[[0.]\n",
      " [1.]\n",
      " [2.]\n",
      " [3.]\n",
      " [4.]\n",
      " [5.]] \n",
      "\n",
      "The shape of x is: (6, 1)\n"
     ]
    }
   ],
   "source": [
    "x = x.reshape((6, 1))\n",
    "print(x, '\\n')\n",
    "print('The shape of x is:', x.shape)"
   ]
  },
  {
   "cell_type": "markdown",
   "metadata": {},
   "source": [
    "A special case of reshaping that’s commonly encountered is transposition."
   ]
  },
  {
   "cell_type": "code",
   "execution_count": 24,
   "metadata": {},
   "outputs": [
    {
     "name": "stdout",
     "output_type": "stream",
     "text": [
      "y is: \n",
      " [[0. 0.]\n",
      " [0. 0.]\n",
      " [0. 0.]] \n",
      "\n",
      "The shape of y is: (3, 2) \n",
      "\n",
      "y_t is: \n",
      " [[0. 0. 0.]\n",
      " [0. 0. 0.]] \n",
      "\n",
      "The shape of y_t is: (2, 3) \n",
      "\n"
     ]
    }
   ],
   "source": [
    "y = np.zeros((3, 2))\n",
    "print('y is: \\n', y, '\\n')\n",
    "print('The shape of y is:', y.shape,'\\n')\n",
    "y_t = np.transpose(y)\n",
    "print('y_t is: \\n', y_t, '\\n')\n",
    "print('The shape of y_t is:', y_t.shape,'\\n')"
   ]
  },
  {
   "cell_type": "markdown",
   "metadata": {},
   "source": [
    "## 3. Exercise <a id='exc' />"
   ]
  },
  {
   "cell_type": "markdown",
   "metadata": {},
   "source": [
    "1. Provide an example of 0D tensor, 1D tensor, 2D tensor and 3D tensor respectively."
   ]
  },
  {
   "cell_type": "code",
   "execution_count": 25,
   "metadata": {},
   "outputs": [
    {
     "name": "stdout",
     "output_type": "stream",
     "text": [
      "x = \n",
      " 10 \n",
      "\n",
      "The dimension of x is:  0\n",
      "The shape of x is:  ()\n"
     ]
    }
   ],
   "source": [
    "#Task 1: 0D tensor\n",
    "x = np.array(10)\n",
    "print('x = \\n', x, '\\n')\n",
    "print('The dimension of x is: ', x.ndim)\n",
    "print('The shape of x is: ', x.shape)"
   ]
  },
  {
   "cell_type": "code",
   "execution_count": 26,
   "metadata": {},
   "outputs": [
    {
     "name": "stdout",
     "output_type": "stream",
     "text": [
      "x = \n",
      " [10  5  6  4 11] \n",
      "\n",
      "The dimension of x is:  1\n",
      "The shape of x is:  (5,)\n"
     ]
    }
   ],
   "source": [
    "#Task 2: 1D tensor\n",
    "x = np.array([10,5,6,4,11])\n",
    "print('x = \\n', x, '\\n')\n",
    "print('The dimension of x is: ', x.ndim)\n",
    "print('The shape of x is: ', x.shape)"
   ]
  },
  {
   "cell_type": "code",
   "execution_count": 27,
   "metadata": {},
   "outputs": [
    {
     "name": "stdout",
     "output_type": "stream",
     "text": [
      "x = \n",
      " [[10  5  6  4 11]\n",
      " [10  5  6  4 11]\n",
      " [10  5  6  4 11]] \n",
      "\n",
      "The dimension of x is:  2\n",
      "The shape of x is:  (3, 5)\n"
     ]
    }
   ],
   "source": [
    "#Task 3: 2D tensor\n",
    "x = np.array([[10,5,6,4,11],\n",
    "             [10,5,6,4,11],\n",
    "             [10,5,6,4,11]])\n",
    "print('x = \\n', x, '\\n')\n",
    "print('The dimension of x is: ', x.ndim)\n",
    "print('The shape of x is: ', x.shape)"
   ]
  },
  {
   "cell_type": "code",
   "execution_count": 28,
   "metadata": {},
   "outputs": [
    {
     "name": "stdout",
     "output_type": "stream",
     "text": [
      "x = \n",
      " [[[10  5  6  4 11]\n",
      "  [10  5  6  4 11]\n",
      "  [10  5  6  4 11]]\n",
      "\n",
      " [[10  5  6  4 11]\n",
      "  [10  5  6  4 11]\n",
      "  [10  5  6  4 11]]\n",
      "\n",
      " [[10  5  6  4 11]\n",
      "  [10  5  6  4 11]\n",
      "  [10  5  6  4 11]]] \n",
      "\n",
      "The dimension of x is:  3\n",
      "The shape of x is:  (3, 3, 5)\n"
     ]
    }
   ],
   "source": [
    "#Task 4: 3D tensor\n",
    "x = np.array([[[10,5,6,4,11],\n",
    "             [10,5,6,4,11],\n",
    "             [10,5,6,4,11]],\n",
    "             [[10,5,6,4,11],\n",
    "             [10,5,6,4,11],\n",
    "             [10,5,6,4,11]],\n",
    "             [[10,5,6,4,11],\n",
    "             [10,5,6,4,11],\n",
    "             [10,5,6,4,11]]])\n",
    "print('x = \\n', x, '\\n')\n",
    "print('The dimension of x is: ', x.ndim)\n",
    "print('The shape of x is: ', x.shape)"
   ]
  },
  {
   "cell_type": "markdown",
   "metadata": {},
   "source": [
    "2. Provide a Tensor Slicing Example. "
   ]
  },
  {
   "cell_type": "code",
   "execution_count": 29,
   "metadata": {},
   "outputs": [
    {
     "name": "stdout",
     "output_type": "stream",
     "text": [
      "(90, 28, 28)\n"
     ]
    }
   ],
   "source": [
    "# Task 1: Tensor Slicing\n",
    "my_slice = train_images[10:100]\n",
    "print(my_slice.shape)"
   ]
  },
  {
   "cell_type": "markdown",
   "metadata": {},
   "source": [
    "3. Provide an example for each tensor operation learnt in this Practical."
   ]
  },
  {
   "cell_type": "code",
   "execution_count": 30,
   "metadata": {},
   "outputs": [
    {
     "name": "stdout",
     "output_type": "stream",
     "text": [
      "x is: \n",
      " [[[10  5  6  4 11]\n",
      "  [10  5  6  4 11]\n",
      "  [10  5  6  4 11]]\n",
      "\n",
      " [[10  5  6  4 11]\n",
      "  [10  5  6  4 11]\n",
      "  [10  5  6  4 11]]\n",
      "\n",
      " [[10  5  6  4 11]\n",
      "  [10  5  6  4 11]\n",
      "  [10  5  6  4 11]]]\n",
      "\n",
      "==Element-wise substraction==\n",
      "         y = x - 6          \n",
      "y is: \n",
      " [[[ 4 -1  0 -2  5]\n",
      "  [ 4 -1  0 -2  5]\n",
      "  [ 4 -1  0 -2  5]]\n",
      "\n",
      " [[ 4 -1  0 -2  5]\n",
      "  [ 4 -1  0 -2  5]\n",
      "  [ 4 -1  0 -2  5]]\n",
      "\n",
      " [[ 4 -1  0 -2  5]\n",
      "  [ 4 -1  0 -2  5]\n",
      "  [ 4 -1  0 -2  5]]]\n",
      "\n",
      "==Element-wise addition==\n",
      "         z = x + y          \n",
      "z is: \n",
      " [[[14  4  6  2 16]\n",
      "  [14  4  6  2 16]\n",
      "  [14  4  6  2 16]]\n",
      "\n",
      " [[14  4  6  2 16]\n",
      "  [14  4  6  2 16]\n",
      "  [14  4  6  2 16]]\n",
      "\n",
      " [[14  4  6  2 16]\n",
      "  [14  4  6  2 16]\n",
      "  [14  4  6  2 16]]]\n",
      "\n",
      "==Element-wise relu==\n",
      "z2 is: \n",
      " [[[14.  4.  6.  2. 16.]\n",
      "  [14.  4.  6.  2. 16.]\n",
      "  [14.  4.  6.  2. 16.]]\n",
      "\n",
      " [[14.  4.  6.  2. 16.]\n",
      "  [14.  4.  6.  2. 16.]\n",
      "  [14.  4.  6.  2. 16.]]\n",
      "\n",
      " [[14.  4.  6.  2. 16.]\n",
      "  [14.  4.  6.  2. 16.]\n",
      "  [14.  4.  6.  2. 16.]]]\n"
     ]
    }
   ],
   "source": [
    "# Task 1: Element Wise Operation\n",
    "import numpy as np\n",
    "print('x is: \\n', x)\n",
    "#Element-wise substraction\n",
    "print(\"\\n==Element-wise substraction==\")\n",
    "print('{:^28}'.format(\"y = x - 6\"))\n",
    "y = x - 6 \n",
    "print('y is: \\n', y)\n",
    "\n",
    "#Element-wise addition\n",
    "print(\"\\n==Element-wise addition==\")\n",
    "print('{:^28}'.format(\"z = x + y\"))\n",
    "z = x + y\n",
    "print('z is: \\n', z)\n",
    "\n",
    "#Element-wise relu\n",
    "print(\"\\n==Element-wise relu==\")\n",
    "z2 = np.maximum(z, 0.)\n",
    "print('z2 is: \\n', z2)"
   ]
  },
  {
   "cell_type": "code",
   "execution_count": 31,
   "metadata": {},
   "outputs": [
    {
     "name": "stdout",
     "output_type": "stream",
     "text": [
      "x is: \n",
      " [[[8 4 4 1 8 4 0]\n",
      "  [0 9 2 9 4 5 8]\n",
      "  [0 3 3 6 4 4 0]]\n",
      "\n",
      " [[0 2 9 0 8 5 0]\n",
      "  [4 3 4 4 8 0 9]\n",
      "  [4 9 3 4 7 8 7]]\n",
      "\n",
      " [[7 5 2 5 7 8 4]\n",
      "  [1 0 6 0 3 4 9]\n",
      "  [5 2 9 6 6 8 5]]] \n",
      "\n",
      "y is: \n",
      " [[4 3 3 1 5 7 7]\n",
      " [6 0 8 2 4 2 8]\n",
      " [0 0 7 7 3 5 0]] \n",
      "\n",
      "z is: \n",
      " [[[12  7  7  2 13 11  7]\n",
      "  [ 6  9 10 11  8  7 16]\n",
      "  [ 0  3 10 13  7  9  0]]\n",
      "\n",
      " [[ 4  5 12  1 13 12  7]\n",
      "  [10  3 12  6 12  2 17]\n",
      "  [ 4  9 10 11 10 13  7]]\n",
      "\n",
      " [[11  8  5  6 12 15 11]\n",
      "  [ 7  0 14  2  7  6 17]\n",
      "  [ 5  2 16 13  9 13  5]]]\n"
     ]
    }
   ],
   "source": [
    "# Task 2: Broadcasting\n",
    "import numpy as np\n",
    "#Generate random numbers from 0 to 9 into a 3 x 3 x 7 array\n",
    "x = np.random.randint(10, size=(3, 3, 7))\n",
    "print('x is: \\n', x, '\\n')\n",
    "#Generate random numbers from 0 to 9 into a 3 x 7 array\n",
    "y = np.random.randint(10, size=(3, 7))\n",
    "print('y is: \\n', y, '\\n')\n",
    "z = x + y\n",
    "print('z is: \\n', z)"
   ]
  },
  {
   "cell_type": "code",
   "execution_count": 32,
   "metadata": {},
   "outputs": [
    {
     "name": "stdout",
     "output_type": "stream",
     "text": [
      "x is: \n",
      " [[9 0 9 4 7 9]\n",
      " [7 8 8 0 1 4]\n",
      " [0 9 3 6 3 5]] \n",
      "\n",
      "y is: \n",
      " [[3 6 7]\n",
      " [7 7 8]\n",
      " [0 5 8]\n",
      " [9 4 5]\n",
      " [4 2 4]\n",
      " [0 4 2]] \n",
      "\n",
      "z is: \n",
      " [[ 91 165 201]\n",
      " [ 81 156 189]\n",
      " [129 128 148]]\n"
     ]
    }
   ],
   "source": [
    "# Task 3: Tensor Dot\n",
    "import numpy as np\n",
    "x = np.random.randint(10, size=(3, 6))\n",
    "print('x is: \\n', x, '\\n')\n",
    "y = np.random.randint(10, size=(6, 3))\n",
    "print('y is: \\n', y, '\\n')\n",
    "# Dot multiplication just like in math matrix\n",
    "z = np.dot(x, y)\n",
    "print('z is: \\n', z)"
   ]
  },
  {
   "cell_type": "code",
   "execution_count": 33,
   "metadata": {},
   "outputs": [
    {
     "name": "stdout",
     "output_type": "stream",
     "text": [
      "[[0. 1.]\n",
      " [2. 3.]\n",
      " [4. 5.]\n",
      " [6. 7.]] \n",
      "\n",
      "The shape of x is: (4, 2) \n",
      "\n",
      "[[0. 1. 2. 3.]\n",
      " [4. 5. 6. 7.]] \n",
      "\n",
      "The shape of x is: (2, 4)\n"
     ]
    }
   ],
   "source": [
    "# Task 4: Tensor Reshaping\n",
    "x = np.array([[0., 1.],\n",
    "              [2., 3.],\n",
    "              [4., 5.],\n",
    "              [6., 7.]])\n",
    "print(x, '\\n')\n",
    "print('The shape of x is:', x.shape, '\\n')\n",
    "x = x.reshape((2, 4))\n",
    "print(x, '\\n')\n",
    "print('The shape of x is:', x.shape)"
   ]
  }
 ],
 "metadata": {
  "kernelspec": {
   "display_name": "Python 3",
   "language": "python",
   "name": "python3"
  },
  "language_info": {
   "codemirror_mode": {
    "name": "ipython",
    "version": 3
   },
   "file_extension": ".py",
   "mimetype": "text/x-python",
   "name": "python",
   "nbconvert_exporter": "python",
   "pygments_lexer": "ipython3",
   "version": "3.7.7"
  }
 },
 "nbformat": 4,
 "nbformat_minor": 2
}
