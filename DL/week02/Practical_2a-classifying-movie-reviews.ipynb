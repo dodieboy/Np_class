{
 "cells": [
  {
   "cell_type": "markdown",
   "metadata": {},
   "source": [
    "<table class=\"table table-bordered\">\n",
    "    <tr>\n",
    "        <th style=\"text-align:center; width:25%\"><img src='https://www.np.edu.sg/PublishingImages/Pages/default/odp/ICT.jpg' style=\"width: 250px; height: 125px; \"></th>\n",
    "        <th style=\"text-align:center;\"><h1>Deep Learning</h1><h2>Practical 2a - Classifying Movie Reviews</h2><h3>AY2020/21 Semester</h3></th>\n",
    "    </tr>\n",
    "</table>"
   ]
  },
  {
   "cell_type": "code",
   "execution_count": 1,
   "metadata": {
    "scrolled": true
   },
   "outputs": [
    {
     "name": "stdout",
     "output_type": "stream",
     "text": [
      "keras:  2.2.4-tf\n"
     ]
    }
   ],
   "source": [
    "from tensorflow import keras\n",
    "print('keras: ', keras.__version__)"
   ]
  },
  {
   "cell_type": "code",
   "execution_count": 2,
   "metadata": {
    "scrolled": true
   },
   "outputs": [
    {
     "data": {
      "text/html": [
       "<style>.container { width:95% !important; }</style>"
      ],
      "text/plain": [
       "<IPython.core.display.HTML object>"
      ]
     },
     "metadata": {},
     "output_type": "display_data"
    }
   ],
   "source": [
    "from IPython.core.display import display, HTML\n",
    "display(HTML(\"<style>.container { width:95% !important; }</style>\"))"
   ]
  },
  {
   "cell_type": "markdown",
   "metadata": {},
   "source": [
    "## Objectives\n",
    "After completing this practical exercise, students should be able to:\n",
    "1. [Build a neural network model to classify movie reviews ](#demo)\n",
    "2. [Exercise- tuning several model parameters](#exc)"
   ]
  },
  {
   "cell_type": "markdown",
   "metadata": {},
   "source": [
    "## 1. Classifying movie reviews (a binary classification example)  <a id='demo' />\n",
    "\n",
    "In this example, we will learn to classify movie reviews into \"positive\" reviews and \"negative\" reviews, just based on the text content of the reviews."
   ]
  },
  {
   "cell_type": "markdown",
   "metadata": {},
   "source": [
    "### 1.1 The IMDB dataset\n",
    "\n",
    "The IMDB dataset has a set of 50,000 highly-polarized reviews from the Internet Movie Database. They are split into 25,000 \n",
    "reviews for training and 25,000 reviews for testing, each set consisting in 50% negative and 50% positive reviews.\n",
    "\n",
    "The IMDB dataset comes packaged with Keras. It has already been preprocessed: the reviews (sequences of words) \n",
    "have been turned into sequences of integers, where each integer stands for a specific word in a dictionary.\n",
    "\n",
    "The following code will load the dataset (when you run it for the first time, about 80MB of data will be downloaded to your machine):"
   ]
  },
  {
   "cell_type": "code",
   "execution_count": 3,
   "metadata": {
    "scrolled": true
   },
   "outputs": [],
   "source": [
    "from tensorflow.keras.datasets import imdb\n",
    "\n",
    "(train_data, train_labels), (test_data, test_labels) = imdb.load_data(num_words=10000)"
   ]
  },
  {
   "cell_type": "markdown",
   "metadata": {},
   "source": [
    "\n",
    "The argument `num_words=10000` means that we will only keep the top 10,000 most frequently occurring words in the training data. Rare words \n",
    "will be discarded. This allows us to work with vector data of manageable size.\n",
    "\n",
    "The variables `train_data` and `test_data` are lists of reviews, each review being a list of word indices (encoding a sequence of words). \n",
    "`train_labels` and `test_labels` are lists of 0s and 1s, where 0 stands for \"negative\" and 1 stands for \"positive\":"
   ]
  },
  {
   "cell_type": "code",
   "execution_count": 4,
   "metadata": {
    "scrolled": true
   },
   "outputs": [
    {
     "name": "stdout",
     "output_type": "stream",
     "text": [
      "[1, 13, 244, 6, 87, 337, 7, 628, 2219, 5, 28, 285, 15, 240, 93, 23, 288, 549, 18, 1455, 673, 4, 241, 534, 3635, 8448, 20, 38, 54, 13, 258, 46, 44, 14, 13, 1241, 7258, 12, 5, 5, 51, 9, 14, 45, 6, 762, 7, 2, 1309, 328, 5, 428, 2473, 15, 26, 1292, 5, 3939, 6728, 5, 1960, 279, 13, 92, 124, 803, 52, 21, 279, 14, 9, 43, 6, 762, 7, 595, 15, 16, 2, 23, 4, 1071, 467, 4, 403, 7, 628, 2219, 8, 97, 6, 171, 3596, 99, 387, 72, 97, 12, 788, 15, 13, 161, 459, 44, 4, 3939, 1101, 173, 21, 69, 8, 401, 2, 4, 481, 88, 61, 4731, 238, 28, 32, 11, 32, 14, 9, 6, 545, 1332, 766, 5, 203, 73, 28, 43, 77, 317, 11, 4, 2, 953, 270, 17, 6, 3616, 13, 545, 386, 25, 92, 1142, 129, 278, 23, 14, 241, 46, 7, 158]\n",
      "\n",
      "the length of this training sample is:  158\n"
     ]
    }
   ],
   "source": [
    "import numpy as np\n",
    "\n",
    "print(train_data[100])\n",
    "print('\\nthe length of this training sample is: ',len(train_data[100]))"
   ]
  },
  {
   "cell_type": "code",
   "execution_count": 5,
   "metadata": {
    "scrolled": true
   },
   "outputs": [
    {
     "data": {
      "text/plain": [
       "0"
      ]
     },
     "execution_count": 5,
     "metadata": {},
     "output_type": "execute_result"
    }
   ],
   "source": [
    "train_labels[100]\n"
   ]
  },
  {
   "cell_type": "markdown",
   "metadata": {},
   "source": [
    "Since we restricted ourselves to the top 10,000 most frequent words, no word index will exceed 10,000:"
   ]
  },
  {
   "cell_type": "code",
   "execution_count": 6,
   "metadata": {
    "scrolled": true
   },
   "outputs": [
    {
     "data": {
      "text/plain": [
       "9999"
      ]
     },
     "execution_count": 6,
     "metadata": {},
     "output_type": "execute_result"
    }
   ],
   "source": [
    "max(np.array([max(sequence) for sequence in train_data]))\n"
   ]
  },
  {
   "cell_type": "markdown",
   "metadata": {},
   "source": [
    "For kicks, here's how you can quickly decode one of these reviews back to English words:"
   ]
  },
  {
   "cell_type": "code",
   "execution_count": 7,
   "metadata": {
    "scrolled": true
   },
   "outputs": [],
   "source": [
    "# word_index is a dictionary mapping words to an integer index\n",
    "word_index = imdb.get_word_index()\n",
    "# We reverse it, mapping integer indices to words\n",
    "reverse_word_index = dict([(value, key) for (key, value) in word_index.items()])\n",
    "# We decode the review; note that our indices were offset by 3\n",
    "# because 0, 1 and 2 are reserved indices for \"padding\", \"start of sequence\", and \"unknown\".\n",
    "decoded_review = ' '.join([reverse_word_index.get(i - 3, '?') for i in train_data[100]])"
   ]
  },
  {
   "cell_type": "code",
   "execution_count": 8,
   "metadata": {
    "scrolled": true
   },
   "outputs": [
    {
     "data": {
      "text/plain": [
       "\"? i am a great fan of david lynch and have everything that he's made on dvd except for hotel room the 2 hour twin peaks movie so when i found out about this i immediately grabbed it and and what is this it's a bunch of ? drawn black and white cartoons that are loud and foul mouthed and unfunny maybe i don't know what's good but maybe this is just a bunch of crap that was ? on the public under the name of david lynch to make a few bucks too let me make it clear that i didn't care about the foul language part but had to keep ? the sound because my neighbors might have all in all this is a highly disappointing release and may well have just been left in the ? box set as a curiosity i highly recommend you don't spend your money on this 2 out of 10\""
      ]
     },
     "execution_count": 8,
     "metadata": {},
     "output_type": "execute_result"
    }
   ],
   "source": [
    "decoded_review"
   ]
  },
  {
   "cell_type": "markdown",
   "metadata": {},
   "source": [
    "### 1.2 Preparing the data\n",
    "\n",
    "\n",
    "We cannot feed lists of integers into a neural network. We have to turn our lists into tensors. We use one-hot-encode to turn our lists into vectors of 0s and 1s.\n",
    "For example, turning the sequence `[3, 5]` into a 10,000-dimensional vector that would be all-zeros except for indices 3 and 5, which would be ones. \n",
    "Let's vectorize our data, which we will do manually for maximum clarity:"
   ]
  },
  {
   "cell_type": "code",
   "execution_count": 9,
   "metadata": {
    "scrolled": true
   },
   "outputs": [],
   "source": [
    "import numpy as np\n",
    "\n",
    "def vectorize_sequences(sequences, dimension=10000):\n",
    "    # Create an all-zero matrix of shape (len(sequences), dimension)\n",
    "    results = np.zeros((len(sequences), dimension))\n",
    "    for i, sequence in enumerate(sequences):\n",
    "        results[i, sequence] = 1.  # set specific indices of results[i] to 1s\n",
    "    return results\n",
    "\n",
    "# Our vectorized training data\n",
    "x_train = vectorize_sequences(train_data)\n",
    "# Our vectorized test data\n",
    "x_test = vectorize_sequences(test_data)"
   ]
  },
  {
   "cell_type": "markdown",
   "metadata": {},
   "source": [
    "Here's what our samples look like now:"
   ]
  },
  {
   "cell_type": "code",
   "execution_count": 10,
   "metadata": {
    "scrolled": true
   },
   "outputs": [
    {
     "data": {
      "text/plain": [
       "(25000, 10000)"
      ]
     },
     "execution_count": 10,
     "metadata": {},
     "output_type": "execute_result"
    }
   ],
   "source": [
    "x_train.shape"
   ]
  },
  {
   "cell_type": "code",
   "execution_count": 11,
   "metadata": {
    "scrolled": true
   },
   "outputs": [
    {
     "data": {
      "text/plain": [
       "array([0., 1., 1., ..., 0., 0., 0.])"
      ]
     },
     "execution_count": 11,
     "metadata": {},
     "output_type": "execute_result"
    }
   ],
   "source": [
    "x_train[100]"
   ]
  },
  {
   "cell_type": "code",
   "execution_count": 12,
   "metadata": {
    "scrolled": true
   },
   "outputs": [
    {
     "name": "stdout",
     "output_type": "stream",
     "text": [
      "train_data[100] is: \n",
      " [1, 13, 244, 6, 87, 337, 7, 628, 2219, 5, 28, 285, 15, 240, 93, 23, 288, 549, 18, 1455, 673, 4, 241, 534, 3635, 8448, 20, 38, 54, 13, 258, 46, 44, 14, 13, 1241, 7258, 12, 5, 5, 51, 9, 14, 45, 6, 762, 7, 2, 1309, 328, 5, 428, 2473, 15, 26, 1292, 5, 3939, 6728, 5, 1960, 279, 13, 92, 124, 803, 52, 21, 279, 14, 9, 43, 6, 762, 7, 595, 15, 16, 2, 23, 4, 1071, 467, 4, 403, 7, 628, 2219, 8, 97, 6, 171, 3596, 99, 387, 72, 97, 12, 788, 15, 13, 161, 459, 44, 4, 3939, 1101, 173, 21, 69, 8, 401, 2, 4, 481, 88, 61, 4731, 238, 28, 32, 11, 32, 14, 9, 6, 545, 1332, 766, 5, 203, 73, 28, 43, 77, 317, 11, 4, 2, 953, 270, 17, 6, 3616, 13, 545, 386, 25, 92, 1142, 129, 278, 23, 14, 241, 46, 7, 158]\n",
      "\n",
      " After one-hot-encode, train_data[100] is encoded to x_train[100]: \n",
      " [0. 1. 1. ... 0. 0. 0.]\n",
      "\n",
      " The index of non-zero elements in x_train[100] are : \n",
      " (array([   1,    2,    4,    5,    6,    7,    8,    9,   11,   12,   13,\n",
      "         14,   15,   16,   17,   18,   20,   21,   23,   25,   26,   28,\n",
      "         32,   38,   43,   44,   45,   46,   51,   52,   54,   61,   69,\n",
      "         72,   73,   77,   87,   88,   92,   93,   97,   99,  124,  129,\n",
      "        158,  161,  171,  173,  203,  238,  240,  241,  244,  258,  270,\n",
      "        278,  279,  285,  288,  317,  328,  337,  386,  387,  401,  403,\n",
      "        428,  459,  467,  481,  534,  545,  549,  595,  628,  673,  762,\n",
      "        766,  788,  803,  953, 1071, 1101, 1142, 1241, 1292, 1309, 1332,\n",
      "       1455, 1960, 2219, 2473, 3596, 3616, 3635, 3939, 4731, 6728, 7258,\n",
      "       8448], dtype=int64),)\n"
     ]
    }
   ],
   "source": [
    "print('train_data[100] is: \\n', train_data[100])\n",
    "print('\\n After one-hot-encode, train_data[100] is encoded to x_train[100]: \\n', x_train[100])\n",
    "print('\\n The index of non-zero elements in x_train[100] are : \\n', np.nonzero(x_train[100]))"
   ]
  },
  {
   "cell_type": "markdown",
   "metadata": {},
   "source": [
    "We should also vectorize our labels, which is straightforward:"
   ]
  },
  {
   "cell_type": "code",
   "execution_count": 13,
   "metadata": {
    "scrolled": true
   },
   "outputs": [
    {
     "data": {
      "text/plain": [
       "0"
      ]
     },
     "execution_count": 13,
     "metadata": {},
     "output_type": "execute_result"
    }
   ],
   "source": [
    "train_labels[100]"
   ]
  },
  {
   "cell_type": "code",
   "execution_count": 14,
   "metadata": {
    "scrolled": true
   },
   "outputs": [],
   "source": [
    "# Our vectorized labels\n",
    "y_train = np.asarray(train_labels).astype('float32')\n",
    "y_test = np.asarray(test_labels).astype('float32')"
   ]
  },
  {
   "cell_type": "code",
   "execution_count": 15,
   "metadata": {
    "scrolled": true
   },
   "outputs": [
    {
     "data": {
      "text/plain": [
       "0.0"
      ]
     },
     "execution_count": 15,
     "metadata": {},
     "output_type": "execute_result"
    }
   ],
   "source": [
    "y_train[100]"
   ]
  },
  {
   "cell_type": "markdown",
   "metadata": {},
   "source": [
    "Now our data is ready to be fed into a neural network."
   ]
  },
  {
   "cell_type": "markdown",
   "metadata": {},
   "source": [
    "### 1.3 Building our network\n",
    "\n",
    "\n",
    "Our input data is simply vectors, and our labels are scalars (1s and 0s). Let's implement it in Keras."
   ]
  },
  {
   "cell_type": "code",
   "execution_count": 16,
   "metadata": {
    "scrolled": true
   },
   "outputs": [],
   "source": [
    "from tensorflow.keras import models\n",
    "from tensorflow.keras import layers\n",
    "\n",
    "model = models.Sequential()\n",
    "model.add(layers.Dense(16, activation='relu', input_shape=(10000,)))\n",
    "model.add(layers.Dense(16, activation='relu'))\n",
    "model.add(layers.Dense(1, activation='sigmoid'))"
   ]
  },
  {
   "cell_type": "code",
   "execution_count": 17,
   "metadata": {
    "scrolled": true
   },
   "outputs": [
    {
     "name": "stdout",
     "output_type": "stream",
     "text": [
      "Model: \"sequential\"\n",
      "_________________________________________________________________\n",
      "Layer (type)                 Output Shape              Param #   \n",
      "=================================================================\n",
      "dense (Dense)                (None, 16)                160016    \n",
      "_________________________________________________________________\n",
      "dense_1 (Dense)              (None, 16)                272       \n",
      "_________________________________________________________________\n",
      "dense_2 (Dense)              (None, 1)                 17        \n",
      "=================================================================\n",
      "Total params: 160,305\n",
      "Trainable params: 160,305\n",
      "Non-trainable params: 0\n",
      "_________________________________________________________________\n"
     ]
    }
   ],
   "source": [
    "model.summary()"
   ]
  },
  {
   "cell_type": "markdown",
   "metadata": {},
   "source": [
    "\n",
    "Lastly, we configure our model with the `rmsprop` optimizer and the `binary_crossentropy` loss function. Note that we will \n",
    "also monitor accuracy during training."
   ]
  },
  {
   "cell_type": "code",
   "execution_count": 18,
   "metadata": {
    "scrolled": true
   },
   "outputs": [],
   "source": [
    "model.compile(optimizer='rmsprop',\n",
    "              loss='binary_crossentropy',\n",
    "              metrics=['accuracy'])"
   ]
  },
  {
   "cell_type": "markdown",
   "metadata": {},
   "source": [
    "We are passing our optimizer, loss function and metrics as strings, which is possible because `rmsprop`, `binary_crossentropy` and `accuracy` are packaged as part of Keras. "
   ]
  },
  {
   "cell_type": "markdown",
   "metadata": {},
   "source": [
    "### 1.4 Validating our approach\n",
    "\n",
    "In order to monitor during training the accuracy of the model on data that it has never seen before, we will create a \"validation set\" by \n",
    "setting apart 10,000 samples from the original training data:"
   ]
  },
  {
   "cell_type": "code",
   "execution_count": 19,
   "metadata": {
    "scrolled": true
   },
   "outputs": [],
   "source": [
    "x_val = x_train[:10000]\n",
    "partial_x_train = x_train[10000:]\n",
    "\n",
    "y_val = y_train[:10000]\n",
    "partial_y_train = y_train[10000:]"
   ]
  },
  {
   "cell_type": "markdown",
   "metadata": {
    "collapsed": true
   },
   "source": [
    "We will now train our model for 20 epochs, in mini-batches of 512 samples. At same time we will monitor loss and accuracy on the 10,000 samples that we set apart. This is done by passing the validation data as the `validation_data` argument:"
   ]
  },
  {
   "cell_type": "code",
   "execution_count": 20,
   "metadata": {
    "scrolled": true
   },
   "outputs": [
    {
     "name": "stdout",
     "output_type": "stream",
     "text": [
      "Train on 15000 samples, validate on 10000 samples\n",
      "Epoch 1/20\n",
      "15000/15000 [==============================] - 2s 146us/sample - loss: 0.5170 - accuracy: 0.7813 - val_loss: 0.3860 - val_accuracy: 0.8537\n",
      "Epoch 2/20\n",
      "15000/15000 [==============================] - 1s 67us/sample - loss: 0.2994 - accuracy: 0.9035 - val_loss: 0.3290 - val_accuracy: 0.8647\n",
      "Epoch 3/20\n",
      "15000/15000 [==============================] - 1s 69us/sample - loss: 0.2164 - accuracy: 0.9285 - val_loss: 0.2769 - val_accuracy: 0.8906\n",
      "Epoch 4/20\n",
      "15000/15000 [==============================] - 1s 67us/sample - loss: 0.1678 - accuracy: 0.9464 - val_loss: 0.2809 - val_accuracy: 0.8871\n",
      "Epoch 5/20\n",
      "15000/15000 [==============================] - 1s 68us/sample - loss: 0.1360 - accuracy: 0.9549 - val_loss: 0.2885 - val_accuracy: 0.8868\n",
      "Epoch 6/20\n",
      "15000/15000 [==============================] - 1s 67us/sample - loss: 0.1078 - accuracy: 0.9677 - val_loss: 0.3410 - val_accuracy: 0.8765\n",
      "Epoch 7/20\n",
      "15000/15000 [==============================] - 1s 67us/sample - loss: 0.0914 - accuracy: 0.9727 - val_loss: 0.3214 - val_accuracy: 0.8820\n",
      "Epoch 8/20\n",
      "15000/15000 [==============================] - 1s 72us/sample - loss: 0.0736 - accuracy: 0.9786 - val_loss: 0.3505 - val_accuracy: 0.8757\n",
      "Epoch 9/20\n",
      "15000/15000 [==============================] - 1s 68us/sample - loss: 0.0608 - accuracy: 0.9843 - val_loss: 0.3662 - val_accuracy: 0.8798\n",
      "Epoch 10/20\n",
      "15000/15000 [==============================] - 1s 68us/sample - loss: 0.0497 - accuracy: 0.9876 - val_loss: 0.4049 - val_accuracy: 0.8781\n",
      "Epoch 11/20\n",
      "15000/15000 [==============================] - 1s 68us/sample - loss: 0.0387 - accuracy: 0.9916 - val_loss: 0.4793 - val_accuracy: 0.8592\n",
      "Epoch 12/20\n",
      "15000/15000 [==============================] - 1s 70us/sample - loss: 0.0320 - accuracy: 0.9940 - val_loss: 0.5239 - val_accuracy: 0.8556\n",
      "Epoch 13/20\n",
      "15000/15000 [==============================] - 1s 67us/sample - loss: 0.0287 - accuracy: 0.9937 - val_loss: 0.4849 - val_accuracy: 0.8695\n",
      "Epoch 14/20\n",
      "15000/15000 [==============================] - 1s 68us/sample - loss: 0.0232 - accuracy: 0.9946 - val_loss: 0.5078 - val_accuracy: 0.8711\n",
      "Epoch 15/20\n",
      "15000/15000 [==============================] - 1s 67us/sample - loss: 0.0126 - accuracy: 0.9992 - val_loss: 0.6186 - val_accuracy: 0.8643\n",
      "Epoch 16/20\n",
      "15000/15000 [==============================] - 1s 68us/sample - loss: 0.0170 - accuracy: 0.9963 - val_loss: 0.5776 - val_accuracy: 0.8659\n",
      "Epoch 17/20\n",
      "15000/15000 [==============================] - 1s 69us/sample - loss: 0.0070 - accuracy: 0.9996 - val_loss: 0.6675 - val_accuracy: 0.8675\n",
      "Epoch 18/20\n",
      "15000/15000 [==============================] - 1s 68us/sample - loss: 0.0102 - accuracy: 0.9982 - val_loss: 0.6493 - val_accuracy: 0.8670\n",
      "Epoch 19/20\n",
      "15000/15000 [==============================] - 1s 66us/sample - loss: 0.0084 - accuracy: 0.9983 - val_loss: 0.6893 - val_accuracy: 0.8668\n",
      "Epoch 20/20\n",
      "15000/15000 [==============================] - 1s 67us/sample - loss: 0.0031 - accuracy: 0.9999 - val_loss: 0.7071 - val_accuracy: 0.8649\n"
     ]
    }
   ],
   "source": [
    "history = model.fit(partial_x_train,\n",
    "                    partial_y_train,\n",
    "                    epochs=20,\n",
    "                    batch_size=512,\n",
    "                    validation_data=(x_val, y_val))"
   ]
  },
  {
   "cell_type": "markdown",
   "metadata": {},
   "source": [
    "Note that the call to `model.fit()` returns a `history` object. This object has a member `history`, which is a dictionary containing data about everything that happened during training. Let's take a look at it:"
   ]
  },
  {
   "cell_type": "code",
   "execution_count": 21,
   "metadata": {
    "scrolled": true
   },
   "outputs": [
    {
     "data": {
      "text/plain": [
       "dict_keys(['loss', 'accuracy', 'val_loss', 'val_accuracy'])"
      ]
     },
     "execution_count": 21,
     "metadata": {},
     "output_type": "execute_result"
    }
   ],
   "source": [
    "history_dict = history.history\n",
    "history_dict.keys()"
   ]
  },
  {
   "cell_type": "markdown",
   "metadata": {},
   "source": [
    "It contains 4 entries: one per metric that was being monitored, during training and during validation. Let's use Matplotlib to plot the \n",
    "training and validation loss side by side, as well as the training and validation accuracy:"
   ]
  },
  {
   "cell_type": "code",
   "execution_count": 22,
   "metadata": {
    "scrolled": true
   },
   "outputs": [
    {
     "data": {
      "image/png": "[encoded data removed]",
      "text/plain": [
       "<Figure size 432x288 with 1 Axes>"
      ]
     },
     "metadata": {
      "needs_background": "light"
     },
     "output_type": "display_data"
    }
   ],
   "source": [
    "import matplotlib.pyplot as plt\n",
    "%matplotlib inline\n",
    "\n",
    "acc = history.history['accuracy']\n",
    "val_acc = history.history['val_accuracy']\n",
    "loss = history.history['loss']\n",
    "val_loss = history.history['val_loss']\n",
    "\n",
    "epochs = range(1, len(acc) + 1)\n",
    "\n",
    "# \"bo\" is for \"blue dot\"\n",
    "plt.plot(epochs, loss, 'bo', label='Training loss')\n",
    "# b is for \"solid blue line\"\n",
    "plt.plot(epochs, val_loss, 'b', label='Validation loss')\n",
    "plt.title('Training and validation loss')\n",
    "plt.xlabel('Epochs')\n",
    "plt.ylabel('Loss')\n",
    "plt.legend()\n",
    "plt.show()"
   ]
  },
  {
   "cell_type": "code",
   "execution_count": 23,
   "metadata": {
    "scrolled": true
   },
   "outputs": [
    {
     "data": {
      "image/png": "[encoded data removed]",
      "text/plain": [
       "<Figure size 432x288 with 1 Axes>"
      ]
     },
     "metadata": {
      "needs_background": "light"
     },
     "output_type": "display_data"
    }
   ],
   "source": [
    "plt.clf()   # clear figure\n",
    "plt.plot(epochs, acc, 'bo', label='Training acc')\n",
    "plt.plot(epochs, val_acc, 'b', label='Validation acc')\n",
    "plt.title('Training and validation accuracy')\n",
    "plt.xlabel('Epochs')\n",
    "plt.ylabel('Loss')\n",
    "plt.legend()\n",
    "\n",
    "plt.show()"
   ]
  },
  {
   "cell_type": "markdown",
   "metadata": {},
   "source": [
    "\n",
    "The dots are the training loss and accuracy, while the solid lines are the validation loss and accuracy. As you can see, the training loss decreases with every epoch and the training accuracy increases with every epoch. That's what you would \n",
    "expect when running gradient descent optimization -- the quantity you are trying to minimize should get lower with every iteration. But that isn't the case for the validation loss and accuracy: they seem to peak at the fourth epoch. A model that performs better on the training data isn't necessarily a model that will do better on data it has never seen before. What you are seeing is \"overfitting\": after the second epoch, we are over-optimizing on the training data, and we ended up learning representations that are specific to the training data and do not generalize to data outside of the training set.\n",
    "\n",
    "In this case, to prevent overfitting, we could simply stop training after three epochs. Let's train a new network from scratch for four epochs, then evaluate it on our test data:"
   ]
  },
  {
   "cell_type": "code",
   "execution_count": 24,
   "metadata": {
    "scrolled": true
   },
   "outputs": [
    {
     "name": "stdout",
     "output_type": "stream",
     "text": [
      "Train on 25000 samples\n",
      "Epoch 1/4\n",
      "25000/25000 [==============================] - 2s 63us/sample - loss: 0.4690 - accuracy: 0.8162s - loss: 0\n",
      "Epoch 2/4\n",
      "25000/25000 [==============================] - 1s 40us/sample - loss: 0.2627 - accuracy: 0.9105\n",
      "Epoch 3/4\n",
      "25000/25000 [==============================] - 1s 39us/sample - loss: 0.2008 - accuracy: 0.9295\n",
      "Epoch 4/4\n",
      "25000/25000 [==============================] - 1s 39us/sample - loss: 0.1674 - accuracy: 0.9419\n"
     ]
    },
    {
     "data": {
      "text/plain": [
       "<tensorflow.python.keras.callbacks.History at 0x279800b49c8>"
      ]
     },
     "execution_count": 24,
     "metadata": {},
     "output_type": "execute_result"
    }
   ],
   "source": [
    "model = models.Sequential()\n",
    "model.add(layers.Dense(16, activation='relu', input_shape=(10000,)))\n",
    "model.add(layers.Dense(16, activation='relu'))\n",
    "model.add(layers.Dense(1, activation='sigmoid'))\n",
    "\n",
    "model.compile(optimizer='rmsprop',\n",
    "              loss='binary_crossentropy',\n",
    "              metrics=['accuracy'])\n",
    "\n",
    "model.fit(x_train, y_train, epochs=4, batch_size=512)\n"
   ]
  },
  {
   "cell_type": "code",
   "execution_count": 25,
   "metadata": {
    "scrolled": true
   },
   "outputs": [
    {
     "name": "stdout",
     "output_type": "stream",
     "text": [
      "25000/25000 - 3s - loss: 0.2934 - accuracy: 0.8842\n"
     ]
    },
    {
     "data": {
      "text/plain": [
       "[0.293376243929863, 0.88416]"
      ]
     },
     "execution_count": 25,
     "metadata": {},
     "output_type": "execute_result"
    }
   ],
   "source": [
    "results = model.evaluate(x_test, y_test, verbose=2)\n",
    "results # returns the loss value and accuracy"
   ]
  },
  {
   "cell_type": "markdown",
   "metadata": {},
   "source": [
    "Our fairly naive approach achieves an accuracy of 88%. With state-of-the-art approaches, one should be able to get close to 95%."
   ]
  },
  {
   "cell_type": "markdown",
   "metadata": {},
   "source": [
    "### 1.5 Using a trained network to generate predictions on new data\n",
    "\n",
    "After having trained a network, you will want to use it in a practical setting. You can generate the likelihood of reviews being positive \n",
    "by using the `predict` method:"
   ]
  },
  {
   "cell_type": "code",
   "execution_count": 26,
   "metadata": {
    "scrolled": true
   },
   "outputs": [
    {
     "data": {
      "text/plain": [
       "array([[0., 1., 1., ..., 0., 0., 0.],\n",
       "       [0., 1., 1., ..., 0., 0., 0.],\n",
       "       [0., 1., 1., ..., 0., 0., 0.],\n",
       "       ...,\n",
       "       [0., 1., 1., ..., 0., 0., 0.],\n",
       "       [0., 1., 1., ..., 0., 0., 0.],\n",
       "       [0., 1., 1., ..., 0., 0., 0.]])"
      ]
     },
     "execution_count": 26,
     "metadata": {},
     "output_type": "execute_result"
    }
   ],
   "source": [
    "x_test"
   ]
  },
  {
   "cell_type": "code",
   "execution_count": 27,
   "metadata": {
    "scrolled": true
   },
   "outputs": [
    {
     "data": {
      "text/plain": [
       "array([[0.16981816],\n",
       "       [0.99965847],\n",
       "       [0.9018786 ],\n",
       "       ...,\n",
       "       [0.11867354],\n",
       "       [0.0884532 ],\n",
       "       [0.6952767 ]], dtype=float32)"
      ]
     },
     "execution_count": 27,
     "metadata": {},
     "output_type": "execute_result"
    }
   ],
   "source": [
    "model.predict(x_test)"
   ]
  },
  {
   "cell_type": "markdown",
   "metadata": {},
   "source": [
    "As you can see, the network is very confident for some samples (0.99 or more, or 0.01 or less) but less confident for others (0.6, 0.4). \n"
   ]
  },
  {
   "cell_type": "markdown",
   "metadata": {},
   "source": [
    "## 2. Exercise - tuning model parameters <a id='demo' />\n",
    "Please try below two scenerios, make changes on the model, train the models for 20 epochs (keep the same optimizer, loss, metrics and batch size). \n",
    "\n",
    "**Scenerio A**:\n",
    "* In the first two layers, change activation function from \"relu\" to \"sigmoid\".\n",
    "\n",
    "**Scenerio B**:\n",
    "* Remove one hidden layer\n",
    "* Only use 2 units in the first layer\n",
    "\n",
    "Observe the training and validation loss & accuracy curves for both scenerios. \n",
    "\n",
    "Provide your codes & comments in the below boxes."
   ]
  },
  {
   "cell_type": "markdown",
   "metadata": {},
   "source": [
    "### 2.1 Scenerio A"
   ]
  },
  {
   "cell_type": "code",
   "execution_count": 28,
   "metadata": {},
   "outputs": [],
   "source": [
    "#Task 1: Build the model and change activation function from \"relu\" to \"sigmoid\"\n",
    "from tensorflow.keras.datasets import imdb\n",
    "import numpy as np\n",
    "\n",
    "(train_data, train_labels), (test_data, test_labels) = imdb.load_data(num_words=10000)\n",
    "def vectorize_sequences(sequences, dimension=10000):\n",
    "    # Create an all-zero matrix of shape (len(sequences), dimension)\n",
    "    results = np.zeros((len(sequences), dimension))\n",
    "    for i, sequence in enumerate(sequences):\n",
    "        results[i, sequence] = 1.  # set specific indices of results[i] to 1s\n",
    "    return results\n",
    "\n",
    "x_train = vectorize_sequences(train_data)\n",
    "x_test = vectorize_sequences(test_data)\n",
    "y_train = np.asarray(train_labels).astype('float32')\n",
    "y_test = np.asarray(test_labels).astype('float32')\n",
    "\n",
    "\n",
    "\n",
    "from tensorflow.keras import models\n",
    "from tensorflow.keras import layers\n",
    "\n",
    "model = models.Sequential()\n",
    "model.add(layers.Dense(16, activation='sigmoid', input_shape=(10000,)))\n",
    "model.add(layers.Dense(16, activation='sigmoid'))\n",
    "model.add(layers.Dense(1, activation='sigmoid'))"
   ]
  },
  {
   "cell_type": "code",
   "execution_count": 29,
   "metadata": {},
   "outputs": [
    {
     "name": "stdout",
     "output_type": "stream",
     "text": [
      "Train on 15000 samples, validate on 10000 samples\n",
      "Epoch 1/20\n",
      "15000/15000 [==============================] - 2s 140us/sample - loss: 0.7157 - accuracy: 0.5035 - val_loss: 0.6840 - val_accuracy: 0.4948\n",
      "Epoch 2/20\n",
      "15000/15000 [==============================] - 1s 69us/sample - loss: 0.6486 - accuracy: 0.5863 - val_loss: 0.6173 - val_accuracy: 0.6640\n",
      "Epoch 3/20\n",
      "15000/15000 [==============================] - 1s 68us/sample - loss: 0.5745 - accuracy: 0.8042 - val_loss: 0.5494 - val_accuracy: 0.8320\n",
      "Epoch 4/20\n",
      "15000/15000 [==============================] - 1s 67us/sample - loss: 0.5024 - accuracy: 0.8759 - val_loss: 0.4854 - val_accuracy: 0.8650\n",
      "Epoch 5/20\n",
      "15000/15000 [==============================] - 1s 67us/sample - loss: 0.4348 - accuracy: 0.8935 - val_loss: 0.4304 - val_accuracy: 0.8721\n",
      "Epoch 6/20\n",
      "15000/15000 [==============================] - 1s 67us/sample - loss: 0.3745 - accuracy: 0.9075 - val_loss: 0.3823 - val_accuracy: 0.8814\n",
      "Epoch 7/20\n",
      "15000/15000 [==============================] - 1s 70us/sample - loss: 0.3226 - accuracy: 0.9175 - val_loss: 0.3448 - val_accuracy: 0.8855\n",
      "Epoch 8/20\n",
      "15000/15000 [==============================] - 1s 71us/sample - loss: 0.2794 - accuracy: 0.9264 - val_loss: 0.3202 - val_accuracy: 0.8858\n",
      "Epoch 9/20\n",
      "15000/15000 [==============================] - 1s 68us/sample - loss: 0.2447 - accuracy: 0.9322 - val_loss: 0.2982 - val_accuracy: 0.8903\n",
      "Epoch 10/20\n",
      "15000/15000 [==============================] - 1s 67us/sample - loss: 0.2154 - accuracy: 0.9398 - val_loss: 0.2834 - val_accuracy: 0.8919\n",
      "Epoch 11/20\n",
      "15000/15000 [==============================] - 1s 70us/sample - loss: 0.1907 - accuracy: 0.9454 - val_loss: 0.2749 - val_accuracy: 0.8930\n",
      "Epoch 12/20\n",
      "15000/15000 [==============================] - 1s 70us/sample - loss: 0.1693 - accuracy: 0.9518 - val_loss: 0.2710 - val_accuracy: 0.8921\n",
      "Epoch 13/20\n",
      "15000/15000 [==============================] - 1s 70us/sample - loss: 0.1512 - accuracy: 0.9568 - val_loss: 0.2721 - val_accuracy: 0.8913\n",
      "Epoch 14/20\n",
      "15000/15000 [==============================] - 1s 70us/sample - loss: 0.1359 - accuracy: 0.9611 - val_loss: 0.2724 - val_accuracy: 0.8908\n",
      "Epoch 15/20\n",
      "15000/15000 [==============================] - 1s 71us/sample - loss: 0.1223 - accuracy: 0.9657 - val_loss: 0.2754 - val_accuracy: 0.8898\n",
      "Epoch 16/20\n",
      "15000/15000 [==============================] - 1s 70us/sample - loss: 0.1099 - accuracy: 0.9706 - val_loss: 0.2846 - val_accuracy: 0.8875\n",
      "Epoch 17/20\n",
      "15000/15000 [==============================] - 1s 70us/sample - loss: 0.0999 - accuracy: 0.9741 - val_loss: 0.2922 - val_accuracy: 0.8876\n",
      "Epoch 18/20\n",
      "15000/15000 [==============================] - 1s 70us/sample - loss: 0.0909 - accuracy: 0.9766 - val_loss: 0.2966 - val_accuracy: 0.8861\n",
      "Epoch 19/20\n",
      "15000/15000 [==============================] - 1s 70us/sample - loss: 0.0826 - accuracy: 0.9797 - val_loss: 0.3063 - val_accuracy: 0.8855\n",
      "Epoch 20/20\n",
      "15000/15000 [==============================] - 1s 69us/sample - loss: 0.0753 - accuracy: 0.9824 - val_loss: 0.3163 - val_accuracy: 0.8859\n"
     ]
    }
   ],
   "source": [
    "#Task 2: Compile and Fit the model \n",
    "model.compile(optimizer='rmsprop', loss='binary_crossentropy', metrics=['accuracy'])\n",
    "\n",
    "x_val = x_train[:10000]\n",
    "partial_x_train = x_train[10000:]\n",
    "\n",
    "y_val = y_train[:10000]\n",
    "partial_y_train = y_train[10000:]\n",
    "\n",
    "history = model.fit(partial_x_train, partial_y_train, epochs=20, batch_size=512, validation_data=(x_val, y_val))\n",
    "\n",
    "import matplotlib.pyplot as plt\n",
    "%matplotlib inline\n",
    "\n",
    "acc = history.history['accuracy']\n",
    "val_acc = history.history['val_accuracy']\n",
    "loss = history.history['loss']\n",
    "val_loss = history.history['val_loss']\n",
    "\n",
    "epochs = range(1, len(acc) + 1)"
   ]
  },
  {
   "cell_type": "code",
   "execution_count": 30,
   "metadata": {
    "scrolled": false
   },
   "outputs": [
    {
     "data": {
      "image/png": "[encoded data removed]",
      "text/plain": [
       "<Figure size 432x288 with 1 Axes>"
      ]
     },
     "metadata": {
      "needs_background": "light"
     },
     "output_type": "display_data"
    },
    {
     "data": {
      "image/png": "[encoded data removed]",
      "text/plain": [
       "<Figure size 432x288 with 1 Axes>"
      ]
     },
     "metadata": {
      "needs_background": "light"
     },
     "output_type": "display_data"
    }
   ],
   "source": [
    "#Task 3: Plot the loss (train & test) and accuracy (train & test) curves\n",
    "plt.plot(epochs, loss, 'bo', label='Training loss')\n",
    "plt.plot(epochs, val_loss, 'b', label='Validation loss')\n",
    "plt.title('Training and validation loss')\n",
    "plt.xlabel('Epochs')\n",
    "plt.ylabel('Loss')\n",
    "plt.legend()\n",
    "plt.show()\n",
    "\n",
    "plt.clf()   # clear figure\n",
    "plt.plot(epochs, acc, 'bo', label='Training acc')\n",
    "plt.plot(epochs, val_acc, 'b', label='Validation acc')\n",
    "plt.title('Training and validation accuracy')\n",
    "plt.xlabel('Epochs')\n",
    "plt.ylabel('Accuracy')\n",
    "plt.legend()\n",
    "plt.show()"
   ]
  },
  {
   "cell_type": "markdown",
   "metadata": {},
   "source": [
    "#Task 4: Comment on your model\n",
    "Compare to the model on top, change activation function from \"relu\" to 'Sigmoid', there is no over fitting and we can see that it take more epochs to see the different in the loss and accuracy(start to see at 7.5 epoch), which also mean user need to use more computer power and resourse if user want to use Sigmoid compare to relu"
   ]
  },
  {
   "cell_type": "markdown",
   "metadata": {},
   "source": [
    "### 2.2 Scenerio B"
   ]
  },
  {
   "cell_type": "code",
   "execution_count": 35,
   "metadata": {},
   "outputs": [],
   "source": [
    "#Task 1: Build the model, remove one hidden layer and Only use 2 units in the first layer\n",
    "from tensorflow.keras.datasets import imdb\n",
    "import numpy as np\n",
    "\n",
    "(train_data, train_labels), (test_data, test_labels) = imdb.load_data(num_words=10000)\n",
    "def vectorize_sequences(sequences, dimension=10000):\n",
    "    # Create an all-zero matrix of shape (len(sequences), dimension)\n",
    "    results = np.zeros((len(sequences), dimension))\n",
    "    for i, sequence in enumerate(sequences):\n",
    "        results[i, sequence] = 1.  # set specific indices of results[i] to 1s\n",
    "    return results\n",
    "\n",
    "x_train = vectorize_sequences(train_data)\n",
    "x_test = vectorize_sequences(test_data)\n",
    "y_train = np.asarray(train_labels).astype('float32')\n",
    "y_test = np.asarray(test_labels).astype('float32')\n",
    "\n",
    "\n",
    "\n",
    "from tensorflow.keras import models\n",
    "from tensorflow.keras import layers\n",
    "\n",
    "model = models.Sequential()\n",
    "model.add(layers.Dense(2, activation='relu', input_shape=(10000,)))\n",
    "model.add(layers.Dense(1, activation='sigmoid'))"
   ]
  },
  {
   "cell_type": "code",
   "execution_count": 36,
   "metadata": {},
   "outputs": [
    {
     "name": "stdout",
     "output_type": "stream",
     "text": [
      "Train on 15000 samples, validate on 10000 samples\n",
      "Epoch 1/20\n",
      "15000/15000 [==============================] - 1s 100us/sample - loss: 0.6440 - accuracy: 0.6592 - val_loss: 0.5982 - val_accuracy: 0.6969\n",
      "Epoch 2/20\n",
      "15000/15000 [==============================] - 1s 66us/sample - loss: 0.5683 - accuracy: 0.7639 - val_loss: 0.5551 - val_accuracy: 0.7632\n",
      "Epoch 3/20\n",
      "15000/15000 [==============================] - 1s 66us/sample - loss: 0.5258 - accuracy: 0.8128 - val_loss: 0.5301 - val_accuracy: 0.7657\n",
      "Epoch 4/20\n",
      "15000/15000 [==============================] - 1s 67us/sample - loss: 0.4942 - accuracy: 0.8428 - val_loss: 0.5053 - val_accuracy: 0.8296\n",
      "Epoch 5/20\n",
      "15000/15000 [==============================] - 1s 67us/sample - loss: 0.4687 - accuracy: 0.8693 - val_loss: 0.4989 - val_accuracy: 0.7942\n",
      "Epoch 6/20\n",
      "15000/15000 [==============================] - 1s 65us/sample - loss: 0.4472 - accuracy: 0.8864 - val_loss: 0.4795 - val_accuracy: 0.8342\n",
      "Epoch 7/20\n",
      "15000/15000 [==============================] - 1s 66us/sample - loss: 0.4287 - accuracy: 0.8993 - val_loss: 0.4687 - val_accuracy: 0.8439\n",
      "Epoch 8/20\n",
      "15000/15000 [==============================] - 1s 66us/sample - loss: 0.4119 - accuracy: 0.9113 - val_loss: 0.4630 - val_accuracy: 0.8427\n",
      "Epoch 9/20\n",
      "15000/15000 [==============================] - 1s 66us/sample - loss: 0.3966 - accuracy: 0.9210 - val_loss: 0.4550 - val_accuracy: 0.8485\n",
      "Epoch 10/20\n",
      "15000/15000 [==============================] - 1s 69us/sample - loss: 0.3827 - accuracy: 0.9275 - val_loss: 0.4500 - val_accuracy: 0.8507\n",
      "Epoch 11/20\n",
      "15000/15000 [==============================] - 1s 67us/sample - loss: 0.3698 - accuracy: 0.9337 - val_loss: 0.4439 - val_accuracy: 0.8567\n",
      "Epoch 12/20\n",
      "15000/15000 [==============================] - 1s 68us/sample - loss: 0.3575 - accuracy: 0.9424 - val_loss: 0.4361 - val_accuracy: 0.8639\n",
      "Epoch 13/20\n",
      "15000/15000 [==============================] - 1s 70us/sample - loss: 0.3460 - accuracy: 0.9467 - val_loss: 0.4275 - val_accuracy: 0.8744\n",
      "Epoch 14/20\n",
      "15000/15000 [==============================] - 1s 67us/sample - loss: 0.3351 - accuracy: 0.9519 - val_loss: 0.4384 - val_accuracy: 0.8587\n",
      "Epoch 15/20\n",
      "15000/15000 [==============================] - 1s 69us/sample - loss: 0.3245 - accuracy: 0.9570 - val_loss: 0.4211 - val_accuracy: 0.8754\n",
      "Epoch 16/20\n",
      "15000/15000 [==============================] - 1s 67us/sample - loss: 0.3145 - accuracy: 0.9605 - val_loss: 0.4241 - val_accuracy: 0.8699\n",
      "Epoch 17/20\n",
      "15000/15000 [==============================] - 1s 67us/sample - loss: 0.3047 - accuracy: 0.9632 - val_loss: 0.4250 - val_accuracy: 0.8678\n",
      "Epoch 18/20\n",
      "15000/15000 [==============================] - 1s 67us/sample - loss: 0.2958 - accuracy: 0.9675 - val_loss: 0.4383 - val_accuracy: 0.8584\n",
      "Epoch 19/20\n",
      "15000/15000 [==============================] - 1s 68us/sample - loss: 0.2868 - accuracy: 0.9697 - val_loss: 0.4137 - val_accuracy: 0.8759\n",
      "Epoch 20/20\n",
      "15000/15000 [==============================] - 1s 67us/sample - loss: 0.2784 - accuracy: 0.9731 - val_loss: 0.4336 - val_accuracy: 0.8614\n"
     ]
    }
   ],
   "source": [
    "#Task 2: Compile and Fit the model\n",
    "model.compile(optimizer='rmsprop', loss='binary_crossentropy', metrics=['accuracy'])\n",
    "\n",
    "x_val = x_train[:10000]\n",
    "partial_x_train = x_train[10000:]\n",
    "\n",
    "y_val = y_train[:10000]\n",
    "partial_y_train = y_train[10000:]\n",
    "\n",
    "history = model.fit(partial_x_train, partial_y_train, epochs=20, batch_size=512, validation_data=(x_val, y_val))\n",
    "\n",
    "import matplotlib.pyplot as plt\n",
    "%matplotlib inline\n",
    "\n",
    "acc = history.history['accuracy']\n",
    "val_acc = history.history['val_accuracy']\n",
    "loss = history.history['loss']\n",
    "val_loss = history.history['val_loss']\n",
    "\n",
    "epochs = range(1, len(acc) + 1)"
   ]
  },
  {
   "cell_type": "code",
   "execution_count": 37,
   "metadata": {
    "scrolled": false
   },
   "outputs": [
    {
     "data": {
      "image/png": "[encoded data removed]",
      "text/plain": [
       "<Figure size 432x288 with 1 Axes>"
      ]
     },
     "metadata": {
      "needs_background": "light"
     },
     "output_type": "display_data"
    },
    {
     "data": {
      "image/png": "[encoded data removed]",
      "text/plain": [
       "<Figure size 432x288 with 1 Axes>"
      ]
     },
     "metadata": {
      "needs_background": "light"
     },
     "output_type": "display_data"
    }
   ],
   "source": [
    "#Task 3: Plot the loss (train & test) and accuracy (train & test) curves\n",
    "plt.plot(epochs, loss, 'bo', label='Training loss')\n",
    "plt.plot(epochs, val_loss, 'b', label='Validation loss')\n",
    "plt.title('Training and validation loss')\n",
    "plt.xlabel('Epochs')\n",
    "plt.ylabel('Loss')\n",
    "plt.legend()\n",
    "plt.show()\n",
    "\n",
    "plt.clf()   # clear figure\n",
    "plt.plot(epochs, acc, 'bo', label='Training acc')\n",
    "plt.plot(epochs, val_acc, 'b', label='Validation acc')\n",
    "plt.title('Training and validation accuracy')\n",
    "plt.xlabel('Epochs')\n",
    "plt.ylabel('Accuracy')\n",
    "plt.legend()\n",
    "plt.show()"
   ]
  },
  {
   "cell_type": "markdown",
   "metadata": {
    "scrolled": true
   },
   "source": [
    "#Task 4: Comment on your model\n",
    "After remove a layer, it make the network easier to learn making the training and validation cruve closer/similar to each other "
   ]
  }
 ],
 "metadata": {
  "kernelspec": {
   "display_name": "Python 3",
   "language": "python",
   "name": "python3"
  },
  "language_info": {
   "codemirror_mode": {
    "name": "ipython",
    "version": 3
   },
   "file_extension": ".py",
   "mimetype": "text/x-python",
   "name": "python",
   "nbconvert_exporter": "python",
   "pygments_lexer": "ipython3",
   "version": "3.7.7"
  }
 },
 "nbformat": 4,
 "nbformat_minor": 2
}
