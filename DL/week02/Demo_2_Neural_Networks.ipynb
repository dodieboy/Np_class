{
 "cells": [
  {
   "cell_type": "markdown",
   "metadata": {},
   "source": [
    "<table class=\"table table-bordered\">\n",
    "    <tr>\n",
    "        <th style=\"text-align:center; width:25%\"><img src='https://www.np.edu.sg/PublishingImages/Pages/default/odp/ICT.jpg' style=\"width: 250px; height: 125px; \"></th>\n",
    "        <th style=\"text-align:center;\"><h1>Deep Learning</h1><h2>Demo 2 - Neural Networks</h2><h3>AY2020/21 Semester</h3></th>\n",
    "    </tr>\n",
    "</table>"
   ]
  },
  {
   "cell_type": "markdown",
   "metadata": {},
   "source": [
    "## What is a Neural Network (NN)?"
   ]
  },
  {
   "cell_type": "markdown",
   "metadata": {},
   "source": [
    "A good way to think of an NN is as a composite function. You give it some input and it gives you some output.\n",
    "There are 3 parts that make up the architecture of a basic NN. These are:\n",
    "* Units / Neurons.\n",
    "* Connections Weights / Parameters.\n",
    "* Biases / Parameters.\n",
    "\n",
    "Below is a simple NN with three inputs:\n",
    "\n",
    "<img src=\"./img/nn.jpg\">"
   ]
  },
  {
   "cell_type": "markdown",
   "metadata": {},
   "source": [
    "### 1. What does a neuron do ?\n",
    "The operations done by each neurons are pretty simple :\n",
    "<img src=\"./img/neron.jpeg\">"
   ]
  },
  {
   "cell_type": "markdown",
   "metadata": {},
   "source": [
    "### 2. Activation Functions\n",
    "Here are some common activation functions:\n",
    "<img src=\"./img/activation.jpg\">"
   ]
  },
  {
   "cell_type": "markdown",
   "metadata": {},
   "source": [
    "### 3. Now let's calculate the output of the above simple NN\n",
    "Assume: \n",
    "* H1 & H2 is using ReLu activation\n",
    "* O1 is using Sigmoid activation\n",
    "* True Target `Y` is 1.0\n",
    "\n",
    "The model output `O1` can be calculated per below:"
   ]
  },
  {
   "cell_type": "code",
   "execution_count": 2,
   "metadata": {},
   "outputs": [
    {
     "data": {
      "text/plain": [
       "-0.33"
      ]
     },
     "execution_count": 2,
     "metadata": {},
     "output_type": "execute_result"
    }
   ],
   "source": [
    "0.5*0.1+0.3*0.2+0.2*0.3-0.5"
   ]
  },
  {
   "cell_type": "code",
   "execution_count": 3,
   "metadata": {},
   "outputs": [
    {
     "data": {
      "text/plain": [
       "0.4800000000000001"
      ]
     },
     "execution_count": 3,
     "metadata": {},
     "output_type": "execute_result"
    }
   ],
   "source": [
    "0.5*0.6+0.3*0.4+0.2*0.8-0.1"
   ]
  },
  {
   "cell_type": "code",
   "execution_count": 5,
   "metadata": {},
   "outputs": [
    {
     "data": {
      "text/plain": [
       "0.13200000000000012"
      ]
     },
     "execution_count": 5,
     "metadata": {},
     "output_type": "execute_result"
    }
   ],
   "source": [
    "H1*0.7+H2*0.9-0.3"
   ]
  },
  {
   "cell_type": "code",
   "execution_count": 6,
   "metadata": {},
   "outputs": [
    {
     "data": {
      "text/plain": [
       "0.5329521673418951"
      ]
     },
     "execution_count": 6,
     "metadata": {},
     "output_type": "execute_result"
    }
   ],
   "source": [
    "1/(1+math.exp(-0.132))"
   ]
  },
  {
   "cell_type": "code",
   "execution_count": 4,
   "metadata": {},
   "outputs": [
    {
     "name": "stdout",
     "output_type": "stream",
     "text": [
      "0.5329521673418951\n"
     ]
    }
   ],
   "source": [
    "import numpy as np\n",
    "import math\n",
    "\n",
    "H1= np.maximum(0.5*0.1+0.3*0.2+0.2*0.3-0.5, 0.)\n",
    "H2= np.maximum(0.5*0.6+0.3*0.4+0.2*0.8-0.1, 0.)\n",
    "O1=1/(1+math.exp(-(H1*0.7+H2*0.9-0.3)))\n",
    "print(O1)"
   ]
  },
  {
   "cell_type": "markdown",
   "metadata": {},
   "source": [
    "So it means the Model Prediction `Y'= O1 = 0.5329`. \n",
    "\n",
    "Assume:\n",
    "* Loss Function = `Y' - Y`\n",
    "\n",
    "We can get a loss score of 0.4671\n",
    "\n",
    "Details are shown per below:\n",
    "\n",
    "<img src=\"./img/nn0.jpg\">"
   ]
  },
  {
   "cell_type": "markdown",
   "metadata": {},
   "source": [
    "### 4. Next let's update the NN model\n",
    "Assume after we feedback the loss score 0.4671 into the optimizer: \n",
    "* Optimizer suggests to increase all the parametars (weights and bias) by 0.1\n",
    "\n",
    "Then we get an updated NN model per below: \n",
    "\n",
    "<img src=\"./img/nn1.jpg\">"
   ]
  },
  {
   "cell_type": "markdown",
   "metadata": {},
   "source": [
    "Let's calculate the updated output `O1`:"
   ]
  },
  {
   "cell_type": "code",
   "execution_count": 3,
   "metadata": {},
   "outputs": [
    {
     "name": "stdout",
     "output_type": "stream",
     "text": [
      "0.617747874769249\n"
     ]
    }
   ],
   "source": [
    "H1= np.maximum(0.5*0.2+0.3*0.3+0.2*0.4-0.4, 0.)\n",
    "H2= np.maximum(0.5*0.7+0.3*0.5+0.2*0.9+0.0, 0.)\n",
    "O1=1/(1+math.exp(-(H1*0.8+H2*1.0-0.2)))\n",
    "print(O1)"
   ]
  },
  {
   "cell_type": "markdown",
   "metadata": {},
   "source": [
    "We can see that after one iteration of model update, the model output is getting closer to true target `Y=1`."
   ]
  },
  {
   "cell_type": "markdown",
   "metadata": {},
   "source": [
    "In this simple example, we are only training the model using one sample for one iteration. In the real practice, we will be using a batch of samples to train the model for many iterations before we get satisfactory results. "
   ]
  },
  {
   "cell_type": "code",
   "execution_count": null,
   "metadata": {},
   "outputs": [],
   "source": []
  }
 ],
 "metadata": {
  "kernelspec": {
   "display_name": "Python 3",
   "language": "python",
   "name": "python3"
  },
  "language_info": {
   "codemirror_mode": {
    "name": "ipython",
    "version": 3
   },
   "file_extension": ".py",
   "mimetype": "text/x-python",
   "name": "python",
   "nbconvert_exporter": "python",
   "pygments_lexer": "ipython3",
   "version": "3.7.4"
  }
 },
 "nbformat": 4,
 "nbformat_minor": 2
}
