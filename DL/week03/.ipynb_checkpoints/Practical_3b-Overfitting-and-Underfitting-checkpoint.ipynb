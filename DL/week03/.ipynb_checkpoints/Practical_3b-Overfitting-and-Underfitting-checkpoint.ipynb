{
 "cells": [
  {
   "cell_type": "markdown",
   "metadata": {},
   "source": [
    "<table class=\"table table-bordered\">\n",
    "    <tr>\n",
    "        <th style=\"text-align:center; width:25%\"><img src='https://www.np.edu.sg/PublishingImages/Pages/default/odp/ICT.jpg' style=\"width: 250px; height: 125px; \"></th>\n",
    "        <th style=\"text-align:center;\"><h1>Deep Learning</h1><h2>Practical 3b - Overfitting and Underfitting</h2><h3>AY2020/21 Semester</h3></th>\n",
    "    </tr>\n",
    "</table>"
   ]
  },
  {
   "cell_type": "code",
   "execution_count": 1,
   "metadata": {},
   "outputs": [
    {
     "name": "stdout",
     "output_type": "stream",
     "text": [
      "keras:  2.2.4-tf\n"
     ]
    }
   ],
   "source": [
    "from tensorflow import keras\n",
    "print('keras: ', keras.__version__)"
   ]
  },
  {
   "cell_type": "code",
   "execution_count": 2,
   "metadata": {},
   "outputs": [
    {
     "data": {
      "text/html": [
       "<style>.container { width:95% !important; }</style>"
      ],
      "text/plain": [
       "<IPython.core.display.HTML object>"
      ]
     },
     "metadata": {},
     "output_type": "display_data"
    }
   ],
   "source": [
    "from IPython.core.display import display, HTML\n",
    "display(HTML(\"<style>.container { width:95% !important; }</style>\"))"
   ]
  },
  {
   "cell_type": "markdown",
   "metadata": {},
   "source": [
    "## Objectives\n",
    "After completing this practical exercise, students should be able to:\n",
    "1. [Understand how to prevent overfitting in Neural Networks](#over)\n",
    "2. [Exercise - Develop your own model and try to avoid overfitting](#exc)"
   ]
  },
  {
   "cell_type": "markdown",
   "metadata": {},
   "source": [
    "### Load Data"
   ]
  },
  {
   "cell_type": "markdown",
   "metadata": {},
   "source": [
    "Note: in this notebook we will be using the IMDB test set as our validation set. It doesn't matter in this context.\n",
    "\n",
    "Let's prepare the data using the code from Practical 2:"
   ]
  },
  {
   "cell_type": "code",
   "execution_count": 3,
   "metadata": {},
   "outputs": [],
   "source": [
    "from tensorflow.keras.datasets import imdb\n",
    "import numpy as np\n",
    "\n",
    "(train_data, train_labels), (test_data, test_labels) = imdb.load_data(num_words=10000)\n",
    "\n",
    "def vectorize_sequences(sequences, dimension=10000):\n",
    "    # Create an all-zero matrix of shape (len(sequences), dimension)\n",
    "    results = np.zeros((len(sequences), dimension))\n",
    "    for i, sequence in enumerate(sequences):\n",
    "        results[i, sequence] = 1.  # set specific indices of results[i] to 1s\n",
    "    return results\n",
    "\n",
    "# Our vectorized training data\n",
    "x_train = vectorize_sequences(train_data)\n",
    "# Our vectorized test data\n",
    "x_test = vectorize_sequences(test_data)\n",
    "# Our vectorized labels\n",
    "y_train = np.asarray(train_labels).astype('float32')\n",
    "y_test = np.asarray(test_labels).astype('float32')"
   ]
  },
  {
   "cell_type": "markdown",
   "metadata": {},
   "source": [
    "## 1. How to prevent overfitting in Neural Networks <a id='over' />"
   ]
  },
  {
   "cell_type": "markdown",
   "metadata": {},
   "source": [
    "### 1.1 Reducing the network's size \n",
    "\n",
    "Our original network was as such:"
   ]
  },
  {
   "cell_type": "code",
   "execution_count": 4,
   "metadata": {},
   "outputs": [],
   "source": [
    "from tensorflow.keras import models\n",
    "from tensorflow.keras import layers\n",
    "\n",
    "original_model = models.Sequential()\n",
    "original_model.add(layers.Dense(16, activation='relu', input_shape=(10000,)))\n",
    "original_model.add(layers.Dense(16, activation='relu'))\n",
    "original_model.add(layers.Dense(1, activation='sigmoid'))\n",
    "\n",
    "original_model.compile(optimizer='rmsprop',\n",
    "                       loss='binary_crossentropy',\n",
    "                       metrics=['acc'])"
   ]
  },
  {
   "cell_type": "markdown",
   "metadata": {},
   "source": [
    "Now let's try to replace it with this smaller network:"
   ]
  },
  {
   "cell_type": "code",
   "execution_count": 5,
   "metadata": {},
   "outputs": [],
   "source": [
    "smaller_model = models.Sequential()\n",
    "smaller_model.add(layers.Dense(4, activation='relu', input_shape=(10000,)))\n",
    "smaller_model.add(layers.Dense(4, activation='relu'))\n",
    "smaller_model.add(layers.Dense(1, activation='sigmoid'))\n",
    "\n",
    "smaller_model.compile(optimizer='rmsprop',\n",
    "                      loss='binary_crossentropy',\n",
    "                      metrics=['acc'])"
   ]
  },
  {
   "cell_type": "code",
   "execution_count": 6,
   "metadata": {},
   "outputs": [
    {
     "name": "stdout",
     "output_type": "stream",
     "text": [
      "Train on 25000 samples, validate on 25000 samples\n",
      "Epoch 1/20\n",
      "25000/25000 [==============================] - 4s 145us/sample - loss: 0.4500 - acc: 0.8268 - val_loss: 0.3355 - val_acc: 0.8819\n",
      "Epoch 2/20\n",
      "25000/25000 [==============================] - 2s 78us/sample - loss: 0.2608 - acc: 0.9088 - val_loss: 0.2841 - val_acc: 0.8890\n",
      "Epoch 3/20\n",
      "25000/25000 [==============================] - 2s 78us/sample - loss: 0.2014 - acc: 0.9293 - val_loss: 0.2852 - val_acc: 0.8870\n",
      "Epoch 4/20\n",
      "25000/25000 [==============================] - 2s 77us/sample - loss: 0.1670 - acc: 0.9415 - val_loss: 0.2934 - val_acc: 0.8838\n",
      "Epoch 5/20\n",
      "25000/25000 [==============================] - 2s 78us/sample - loss: 0.1448 - acc: 0.9494 - val_loss: 0.3200 - val_acc: 0.8776\n",
      "Epoch 6/20\n",
      "25000/25000 [==============================] - 2s 79us/sample - loss: 0.1257 - acc: 0.9561 - val_loss: 0.3814 - val_acc: 0.8612\n",
      "Epoch 7/20\n",
      "25000/25000 [==============================] - 2s 79us/sample - loss: 0.1117 - acc: 0.9613 - val_loss: 0.3579 - val_acc: 0.8721\n",
      "Epoch 8/20\n",
      "25000/25000 [==============================] - 2s 77us/sample - loss: 0.0990 - acc: 0.9665 - val_loss: 0.3793 - val_acc: 0.8699\n",
      "Epoch 9/20\n",
      "25000/25000 [==============================] - 2s 78us/sample - loss: 0.0881 - acc: 0.9698 - val_loss: 0.4100 - val_acc: 0.8657\n",
      "Epoch 10/20\n",
      "25000/25000 [==============================] - 2s 77us/sample - loss: 0.0763 - acc: 0.9747 - val_loss: 0.4561 - val_acc: 0.8586\n",
      "Epoch 11/20\n",
      "25000/25000 [==============================] - 2s 77us/sample - loss: 0.0685 - acc: 0.9779 - val_loss: 0.4624 - val_acc: 0.8623\n",
      "Epoch 12/20\n",
      "25000/25000 [==============================] - 2s 79us/sample - loss: 0.0588 - acc: 0.9822 - val_loss: 0.5240 - val_acc: 0.8570\n",
      "Epoch 13/20\n",
      "25000/25000 [==============================] - 2s 81us/sample - loss: 0.0516 - acc: 0.9839 - val_loss: 0.5278 - val_acc: 0.8582\n",
      "Epoch 14/20\n",
      "25000/25000 [==============================] - 2s 81us/sample - loss: 0.0438 - acc: 0.9875 - val_loss: 0.5616 - val_acc: 0.8588\n",
      "Epoch 15/20\n",
      "25000/25000 [==============================] - 2s 77us/sample - loss: 0.0387 - acc: 0.9885 - val_loss: 0.5961 - val_acc: 0.8565\n",
      "Epoch 16/20\n",
      "25000/25000 [==============================] - 2s 77us/sample - loss: 0.0345 - acc: 0.9905 - val_loss: 0.6311 - val_acc: 0.8545\n",
      "Epoch 17/20\n",
      "25000/25000 [==============================] - 2s 80us/sample - loss: 0.0278 - acc: 0.9921 - val_loss: 0.6656 - val_acc: 0.8533\n",
      "Epoch 18/20\n",
      "25000/25000 [==============================] - 2s 78us/sample - loss: 0.0235 - acc: 0.9939 - val_loss: 0.7219 - val_acc: 0.8484\n",
      "Epoch 19/20\n",
      "25000/25000 [==============================] - 2s 77us/sample - loss: 0.0196 - acc: 0.9952 - val_loss: 0.7790 - val_acc: 0.8491\n",
      "Epoch 20/20\n",
      "25000/25000 [==============================] - 2s 78us/sample - loss: 0.0175 - acc: 0.9956 - val_loss: 0.7980 - val_acc: 0.8484\n"
     ]
    }
   ],
   "source": [
    "original_hist = original_model.fit(x_train, y_train,\n",
    "                                   epochs=20,\n",
    "                                   batch_size=512,\n",
    "                                   validation_data=(x_test, y_test))"
   ]
  },
  {
   "cell_type": "code",
   "execution_count": 7,
   "metadata": {},
   "outputs": [
    {
     "name": "stdout",
     "output_type": "stream",
     "text": [
      "Train on 25000 samples, validate on 25000 samples\n",
      "Epoch 1/20\n",
      "25000/25000 [==============================] - 3s 109us/sample - loss: 0.5992 - acc: 0.7374 - val_loss: 0.5259 - val_acc: 0.8147\n",
      "Epoch 2/20\n",
      "25000/25000 [==============================] - 2s 77us/sample - loss: 0.4438 - acc: 0.8807 - val_loss: 0.4109 - val_acc: 0.8770\n",
      "Epoch 3/20\n",
      "25000/25000 [==============================] - 2s 77us/sample - loss: 0.3370 - acc: 0.9067 - val_loss: 0.3415 - val_acc: 0.8859\n",
      "Epoch 4/20\n",
      "25000/25000 [==============================] - 2s 77us/sample - loss: 0.2702 - acc: 0.9176 - val_loss: 0.3048 - val_acc: 0.8894\n",
      "Epoch 5/20\n",
      "25000/25000 [==============================] - 2s 77us/sample - loss: 0.2275 - acc: 0.9272 - val_loss: 0.2871 - val_acc: 0.8912\n",
      "Epoch 6/20\n",
      "25000/25000 [==============================] - 2s 79us/sample - loss: 0.1988 - acc: 0.9345 - val_loss: 0.2896 - val_acc: 0.8846\n",
      "Epoch 7/20\n",
      "25000/25000 [==============================] - 2s 78us/sample - loss: 0.1775 - acc: 0.9412 - val_loss: 0.2824 - val_acc: 0.8879\n",
      "Epoch 8/20\n",
      "25000/25000 [==============================] - 2s 79us/sample - loss: 0.1605 - acc: 0.9463 - val_loss: 0.2856 - val_acc: 0.8871\n",
      "Epoch 9/20\n",
      "25000/25000 [==============================] - 2s 77us/sample - loss: 0.1476 - acc: 0.9512 - val_loss: 0.3061 - val_acc: 0.8796\n",
      "Epoch 10/20\n",
      "25000/25000 [==============================] - 2s 81us/sample - loss: 0.1361 - acc: 0.9555 - val_loss: 0.3029 - val_acc: 0.8820\n",
      "Epoch 11/20\n",
      "25000/25000 [==============================] - 2s 77us/sample - loss: 0.1268 - acc: 0.9584 - val_loss: 0.3216 - val_acc: 0.8773\n",
      "Epoch 12/20\n",
      "25000/25000 [==============================] - 2s 79us/sample - loss: 0.1180 - acc: 0.9624 - val_loss: 0.3259 - val_acc: 0.8780\n",
      "Epoch 13/20\n",
      "25000/25000 [==============================] - 2s 81us/sample - loss: 0.1103 - acc: 0.9654 - val_loss: 0.3377 - val_acc: 0.8754\n",
      "Epoch 14/20\n",
      "25000/25000 [==============================] - 2s 80us/sample - loss: 0.1030 - acc: 0.9677 - val_loss: 0.3502 - val_acc: 0.8742\n",
      "Epoch 15/20\n",
      "25000/25000 [==============================] - 2s 77us/sample - loss: 0.0966 - acc: 0.9704 - val_loss: 0.3738 - val_acc: 0.8691\n",
      "Epoch 16/20\n",
      "25000/25000 [==============================] - 2s 78us/sample - loss: 0.0904 - acc: 0.9725 - val_loss: 0.3933 - val_acc: 0.8671\n",
      "Epoch 17/20\n",
      "25000/25000 [==============================] - 2s 76us/sample - loss: 0.0852 - acc: 0.9750 - val_loss: 0.3978 - val_acc: 0.8676\n",
      "Epoch 18/20\n",
      "25000/25000 [==============================] - 2s 77us/sample - loss: 0.0803 - acc: 0.9760 - val_loss: 0.4128 - val_acc: 0.8656\n",
      "Epoch 19/20\n",
      "25000/25000 [==============================] - 2s 80us/sample - loss: 0.0754 - acc: 0.9783 - val_loss: 0.4335 - val_acc: 0.8645\n",
      "Epoch 20/20\n",
      "25000/25000 [==============================] - 2s 77us/sample - loss: 0.0704 - acc: 0.9806 - val_loss: 0.4442 - val_acc: 0.8635\n"
     ]
    }
   ],
   "source": [
    "smaller_model_hist = smaller_model.fit(x_train, y_train,\n",
    "                                       epochs=20,\n",
    "                                       batch_size=512,\n",
    "                                       validation_data=(x_test, y_test))"
   ]
  },
  {
   "cell_type": "code",
   "execution_count": 8,
   "metadata": {},
   "outputs": [],
   "source": [
    "epochs = range(1, 21)\n",
    "original_val_loss = original_hist.history['val_loss']\n",
    "smaller_model_val_loss = smaller_model_hist.history['val_loss']"
   ]
  },
  {
   "cell_type": "markdown",
   "metadata": {},
   "source": [
    "Here's a comparison of the validation losses of the original network and the smaller network. The dots are the validation loss values of \n",
    "the smaller network, and the crosses are the initial network (remember: a lower validation loss signals a better model)."
   ]
  },
  {
   "cell_type": "code",
   "execution_count": 9,
   "metadata": {},
   "outputs": [
    {
     "data": {
      "image/png": "[encoded data removed]",
      "text/plain": [
       "<Figure size 432x288 with 1 Axes>"
      ]
     },
     "metadata": {
      "needs_background": "light"
     },
     "output_type": "display_data"
    }
   ],
   "source": [
    "import matplotlib.pyplot as plt\n",
    "%matplotlib inline\n",
    "\n",
    "# b+ is for \"blue cross\"\n",
    "plt.plot(epochs, original_val_loss, 'b+', label='Original model')\n",
    "# \"bo\" is for \"blue dot\"\n",
    "plt.plot(epochs, smaller_model_val_loss, 'bo', label='Smaller model')\n",
    "plt.xlabel('Epochs')\n",
    "plt.ylabel('Validation loss')\n",
    "plt.legend()\n",
    "\n",
    "plt.show()"
   ]
  },
  {
   "cell_type": "markdown",
   "metadata": {},
   "source": [
    "\n",
    "As you can see, the smaller network starts overfitting later than the reference one (after 6 epochs rather than 4) and its performance \n",
    "degrades much more slowly once it starts overfitting.\n",
    "\n",
    "Now, for kicks, let's add to this benchmark a network that has much more capacity, far more than the problem would warrant:"
   ]
  },
  {
   "cell_type": "code",
   "execution_count": 10,
   "metadata": {},
   "outputs": [],
   "source": [
    "bigger_model = models.Sequential()\n",
    "bigger_model.add(layers.Dense(512, activation='relu', input_shape=(10000,)))\n",
    "bigger_model.add(layers.Dense(512, activation='relu'))\n",
    "bigger_model.add(layers.Dense(1, activation='sigmoid'))\n",
    "\n",
    "bigger_model.compile(optimizer='rmsprop',\n",
    "                     loss='binary_crossentropy',\n",
    "                     metrics=['acc'])"
   ]
  },
  {
   "cell_type": "code",
   "execution_count": 11,
   "metadata": {},
   "outputs": [
    {
     "name": "stdout",
     "output_type": "stream",
     "text": [
      "Train on 25000 samples, validate on 25000 samples\n",
      "Epoch 1/20\n",
      "25000/25000 [==============================] - 3s 136us/sample - loss: 0.4540 - acc: 0.8048 - val_loss: 0.3156 - val_acc: 0.8700\n",
      "Epoch 2/20\n",
      "25000/25000 [==============================] - 3s 111us/sample - loss: 0.2152 - acc: 0.9151 - val_loss: 0.2851 - val_acc: 0.8861\n",
      "Epoch 3/20\n",
      "25000/25000 [==============================] - 3s 113us/sample - loss: 0.1211 - acc: 0.9566 - val_loss: 0.3766 - val_acc: 0.8795\n",
      "Epoch 4/20\n",
      "25000/25000 [==============================] - 3s 112us/sample - loss: 0.0619 - acc: 0.9812 - val_loss: 0.4692 - val_acc: 0.8771\n",
      "Epoch 5/20\n",
      "25000/25000 [==============================] - 3s 112us/sample - loss: 0.0967 - acc: 0.9860 - val_loss: 0.4731 - val_acc: 0.8826\n",
      "Epoch 6/20\n",
      "25000/25000 [==============================] - 3s 112us/sample - loss: 0.0021 - acc: 0.9998 - val_loss: 0.6848 - val_acc: 0.8807\n",
      "Epoch 7/20\n",
      "25000/25000 [==============================] - 3s 112us/sample - loss: 0.0064 - acc: 0.9982 - val_loss: 6.9062 - val_acc: 0.5725\n",
      "Epoch 8/20\n",
      "25000/25000 [==============================] - 3s 113us/sample - loss: 0.1314 - acc: 0.9900 - val_loss: 0.7243 - val_acc: 0.8779\n",
      "Epoch 9/20\n",
      "25000/25000 [==============================] - 3s 112us/sample - loss: 0.0946 - acc: 0.9886 - val_loss: 0.6390 - val_acc: 0.8728\n",
      "Epoch 10/20\n",
      "25000/25000 [==============================] - 3s 112us/sample - loss: 6.2269e-04 - acc: 1.0000 - val_loss: 0.7479 - val_acc: 0.8762\n",
      "Epoch 11/20\n",
      "25000/25000 [==============================] - 3s 112us/sample - loss: 8.5402e-05 - acc: 1.0000 - val_loss: 0.9231 - val_acc: 0.8776\n",
      "Epoch 12/20\n",
      "25000/25000 [==============================] - 3s 112us/sample - loss: 1.0244e-05 - acc: 1.0000 - val_loss: 1.0830 - val_acc: 0.8769\n",
      "Epoch 13/20\n",
      "25000/25000 [==============================] - 3s 111us/sample - loss: 0.1878 - acc: 0.9882 - val_loss: 1.0194 - val_acc: 0.8458\n",
      "Epoch 14/20\n",
      "25000/25000 [==============================] - 3s 113us/sample - loss: 1.9075e-04 - acc: 1.0000 - val_loss: 0.8731 - val_acc: 0.8759\n",
      "Epoch 15/20\n",
      "25000/25000 [==============================] - 3s 112us/sample - loss: 1.0745e-05 - acc: 1.0000 - val_loss: 0.9380 - val_acc: 0.8772\n",
      "Epoch 16/20\n",
      "25000/25000 [==============================] - 3s 112us/sample - loss: 3.2527e-06 - acc: 1.0000 - val_loss: 1.0512 - val_acc: 0.8778\n",
      "Epoch 17/20\n",
      "25000/25000 [==============================] - 3s 112us/sample - loss: 7.6814e-07 - acc: 1.0000 - val_loss: 1.2047 - val_acc: 0.8772\n",
      "Epoch 18/20\n",
      "25000/25000 [==============================] - 3s 112us/sample - loss: 1.6102e-07 - acc: 1.0000 - val_loss: 1.3396 - val_acc: 0.8771\n",
      "Epoch 19/20\n",
      "25000/25000 [==============================] - 3s 111us/sample - loss: 4.6715e-08 - acc: 1.0000 - val_loss: 1.4337 - val_acc: 0.8767\n",
      "Epoch 20/20\n",
      "25000/25000 [==============================] - 3s 112us/sample - loss: 2.0680e-08 - acc: 1.0000 - val_loss: 1.4844 - val_acc: 0.8764\n"
     ]
    }
   ],
   "source": [
    "bigger_model_hist = bigger_model.fit(x_train, y_train,\n",
    "                                     epochs=20,\n",
    "                                     batch_size=512,\n",
    "                                     validation_data=(x_test, y_test))"
   ]
  },
  {
   "cell_type": "markdown",
   "metadata": {},
   "source": [
    "Here's how the bigger network fares compared to the reference one. The dots are the validation loss values of the bigger network, and the \n",
    "crosses are the initial network."
   ]
  },
  {
   "cell_type": "code",
   "execution_count": 12,
   "metadata": {},
   "outputs": [
    {
     "data": {
      "image/png": "[encoded data removed]",
      "text/plain": [
       "<Figure size 432x288 with 1 Axes>"
      ]
     },
     "metadata": {
      "needs_background": "light"
     },
     "output_type": "display_data"
    }
   ],
   "source": [
    "bigger_model_val_loss = bigger_model_hist.history['val_loss']\n",
    "\n",
    "plt.plot(epochs, original_val_loss, 'b+', label='Original model')\n",
    "plt.plot(epochs, bigger_model_val_loss, 'bo', label='Bigger model')\n",
    "plt.xlabel('Epochs')\n",
    "plt.ylabel('Validation loss')\n",
    "plt.legend()\n",
    "\n",
    "plt.show()"
   ]
  },
  {
   "cell_type": "markdown",
   "metadata": {},
   "source": [
    "\n",
    "The bigger network starts overfitting almost right away, after just one epoch, and overfits much more severely. Its validation loss is also \n",
    "more noisy.\n",
    "\n",
    "Meanwhile, here are the training losses for our two networks:"
   ]
  },
  {
   "cell_type": "code",
   "execution_count": 13,
   "metadata": {},
   "outputs": [
    {
     "data": {
      "image/png": "[encoded data removed]",
      "text/plain": [
       "<Figure size 432x288 with 1 Axes>"
      ]
     },
     "metadata": {
      "needs_background": "light"
     },
     "output_type": "display_data"
    }
   ],
   "source": [
    "original_train_loss = original_hist.history['loss']\n",
    "bigger_model_train_loss = bigger_model_hist.history['loss']\n",
    "\n",
    "plt.plot(epochs, original_train_loss, 'b+', label='Original model')\n",
    "plt.plot(epochs, bigger_model_train_loss, 'bo', label='Bigger model')\n",
    "plt.xlabel('Epochs')\n",
    "plt.ylabel('Training loss')\n",
    "plt.legend()\n",
    "\n",
    "plt.show()"
   ]
  },
  {
   "cell_type": "markdown",
   "metadata": {},
   "source": [
    "As you can see, the bigger network gets its training loss near zero very quickly. The more capacity the network has, the quicker it will be \n",
    "able to model the training data (resulting in a low training loss), but the more susceptible it is to overfitting (resulting in a large \n",
    "difference between the training and validation loss)."
   ]
  },
  {
   "cell_type": "markdown",
   "metadata": {},
   "source": [
    "### 1.2 Adding weight regularization\n",
    "\n",
    "In Keras, weight regularization is added by passing _weight regularizer instances_ to layers as keyword arguments. Let's add L2 weight regularization to our movie review classification network:"
   ]
  },
  {
   "cell_type": "code",
   "execution_count": 14,
   "metadata": {},
   "outputs": [],
   "source": [
    "from tensorflow.keras import regularizers\n",
    "\n",
    "l2_model = models.Sequential()\n",
    "l2_model.add(layers.Dense(16, kernel_regularizer=regularizers.l2(0.001),\n",
    "                          activation='relu', input_shape=(10000,)))\n",
    "l2_model.add(layers.Dense(16, kernel_regularizer=regularizers.l2(0.001),\n",
    "                          activation='relu'))\n",
    "l2_model.add(layers.Dense(1, activation='sigmoid'))"
   ]
  },
  {
   "cell_type": "code",
   "execution_count": 15,
   "metadata": {},
   "outputs": [],
   "source": [
    "l2_model.compile(optimizer='rmsprop',\n",
    "                 loss='binary_crossentropy',\n",
    "                 metrics=['acc'])"
   ]
  },
  {
   "cell_type": "markdown",
   "metadata": {},
   "source": [
    "`l2(0.001)` means that every coefficient in the weight matrix of the layer will add `0.001 * weight_coefficient_value` to the total loss of the network. \n",
    "\n",
    "Here's the impact of our L2 regularization penalty:"
   ]
  },
  {
   "cell_type": "code",
   "execution_count": 16,
   "metadata": {},
   "outputs": [
    {
     "name": "stdout",
     "output_type": "stream",
     "text": [
      "Train on 25000 samples, validate on 25000 samples\n",
      "Epoch 1/20\n",
      "25000/25000 [==============================] - 3s 114us/sample - loss: 0.5023 - acc: 0.8191 - val_loss: 0.3942 - val_acc: 0.8735\n",
      "Epoch 2/20\n",
      "25000/25000 [==============================] - 2s 80us/sample - loss: 0.3250 - acc: 0.9037 - val_loss: 0.3452 - val_acc: 0.8825\n",
      "Epoch 3/20\n",
      "25000/25000 [==============================] - 2s 80us/sample - loss: 0.2769 - acc: 0.9199 - val_loss: 0.3621 - val_acc: 0.8723\n",
      "Epoch 4/20\n",
      "25000/25000 [==============================] - 2s 78us/sample - loss: 0.2576 - acc: 0.9256 - val_loss: 0.3332 - val_acc: 0.8868\n",
      "Epoch 5/20\n",
      "25000/25000 [==============================] - 2s 79us/sample - loss: 0.2444 - acc: 0.9312 - val_loss: 0.3426 - val_acc: 0.8835\n",
      "Epoch 6/20\n",
      "25000/25000 [==============================] - 2s 79us/sample - loss: 0.2370 - acc: 0.9337 - val_loss: 0.3449 - val_acc: 0.8836\n",
      "Epoch 7/20\n",
      "25000/25000 [==============================] - 2s 79us/sample - loss: 0.2274 - acc: 0.9378 - val_loss: 0.3560 - val_acc: 0.8800\n",
      "Epoch 8/20\n",
      "25000/25000 [==============================] - 2s 81us/sample - loss: 0.2244 - acc: 0.9376 - val_loss: 0.3747 - val_acc: 0.8729\n",
      "Epoch 9/20\n",
      "25000/25000 [==============================] - 2s 80us/sample - loss: 0.2207 - acc: 0.9405 - val_loss: 0.3756 - val_acc: 0.8752\n",
      "Epoch 10/20\n",
      "25000/25000 [==============================] - 2s 79us/sample - loss: 0.2136 - acc: 0.9436 - val_loss: 0.3713 - val_acc: 0.8762\n",
      "Epoch 11/20\n",
      "25000/25000 [==============================] - 2s 81us/sample - loss: 0.2141 - acc: 0.9429 - val_loss: 0.3858 - val_acc: 0.8735\n",
      "Epoch 12/20\n",
      "25000/25000 [==============================] - 2s 79us/sample - loss: 0.2093 - acc: 0.9460 - val_loss: 0.3820 - val_acc: 0.8743\n",
      "Epoch 13/20\n",
      "25000/25000 [==============================] - 2s 80us/sample - loss: 0.2073 - acc: 0.9449 - val_loss: 0.3871 - val_acc: 0.8735\n",
      "Epoch 14/20\n",
      "25000/25000 [==============================] - 2s 79us/sample - loss: 0.2030 - acc: 0.9463 - val_loss: 0.4201 - val_acc: 0.8654\n",
      "Epoch 15/20\n",
      "25000/25000 [==============================] - 2s 80us/sample - loss: 0.2049 - acc: 0.9474 - val_loss: 0.4478 - val_acc: 0.8578\n",
      "Epoch 16/20\n",
      "25000/25000 [==============================] - 2s 79us/sample - loss: 0.1987 - acc: 0.9480 - val_loss: 0.4101 - val_acc: 0.8678\n",
      "Epoch 17/20\n",
      "25000/25000 [==============================] - 2s 78us/sample - loss: 0.2011 - acc: 0.9458 - val_loss: 0.4033 - val_acc: 0.8700\n",
      "Epoch 18/20\n",
      "25000/25000 [==============================] - 2s 81us/sample - loss: 0.1985 - acc: 0.9488 - val_loss: 0.5092 - val_acc: 0.8434\n",
      "Epoch 19/20\n",
      "25000/25000 [==============================] - 2s 81us/sample - loss: 0.1978 - acc: 0.9481 - val_loss: 0.4294 - val_acc: 0.8652\n",
      "Epoch 20/20\n",
      "25000/25000 [==============================] - 2s 78us/sample - loss: 0.1966 - acc: 0.9488 - val_loss: 0.4418 - val_acc: 0.8626\n"
     ]
    }
   ],
   "source": [
    "l2_model_hist = l2_model.fit(x_train, y_train,\n",
    "                             epochs=20,\n",
    "                             batch_size=512,\n",
    "                             validation_data=(x_test, y_test))"
   ]
  },
  {
   "cell_type": "code",
   "execution_count": 17,
   "metadata": {},
   "outputs": [
    {
     "data": {
      "image/png": "[encoded data removed]",
      "text/plain": [
       "<Figure size 432x288 with 1 Axes>"
      ]
     },
     "metadata": {
      "needs_background": "light"
     },
     "output_type": "display_data"
    }
   ],
   "source": [
    "l2_model_val_loss = l2_model_hist.history['val_loss']\n",
    "\n",
    "plt.plot(epochs, original_val_loss, 'b+', label='Original model')\n",
    "plt.plot(epochs, l2_model_val_loss, 'bo', label='L2-regularized model')\n",
    "plt.xlabel('Epochs')\n",
    "plt.ylabel('Validation loss')\n",
    "plt.legend()\n",
    "\n",
    "plt.show()"
   ]
  },
  {
   "cell_type": "markdown",
   "metadata": {},
   "source": [
    "\n",
    "\n",
    "As you can see, the model with L2 regularization (dots) has become much more resistant to overfitting than the reference model (crosses), \n",
    "even though both models have the same number of parameters.\n",
    "\n",
    "As alternatives to L2 regularization, you could use one of the following Keras weight regularizers:"
   ]
  },
  {
   "cell_type": "code",
   "execution_count": 18,
   "metadata": {},
   "outputs": [
    {
     "data": {
      "text/plain": [
       "<tensorflow.python.keras.regularizers.L1L2 at 0x25ffeae1488>"
      ]
     },
     "execution_count": 18,
     "metadata": {},
     "output_type": "execute_result"
    }
   ],
   "source": [
    "from tensorflow.keras import regularizers\n",
    "\n",
    "# L1 regularization\n",
    "regularizers.l1(0.001)\n",
    "\n",
    "# L1 and L2 regularization at the same time\n",
    "regularizers.l1_l2(l1=0.001, l2=0.001)"
   ]
  },
  {
   "cell_type": "markdown",
   "metadata": {},
   "source": [
    "### 1.3 Adding dropout\n",
    "\n",
    "In Keras you can introduce dropout in a network via the `Dropout` layer, which gets applied to the output of layer right before it. Let's add two `Dropout` layers in our IMDB network to see how well they do at reducing overfitting:"
   ]
  },
  {
   "cell_type": "code",
   "execution_count": 19,
   "metadata": {},
   "outputs": [],
   "source": [
    "dpt_model = models.Sequential()\n",
    "dpt_model.add(layers.Dense(16, activation='relu', input_shape=(10000,)))\n",
    "dpt_model.add(layers.Dropout(0.5))\n",
    "dpt_model.add(layers.Dense(16, activation='relu'))\n",
    "dpt_model.add(layers.Dropout(0.5))\n",
    "dpt_model.add(layers.Dense(1, activation='sigmoid'))\n",
    "\n",
    "dpt_model.compile(optimizer='rmsprop',\n",
    "                  loss='binary_crossentropy',\n",
    "                  metrics=['acc'])"
   ]
  },
  {
   "cell_type": "code",
   "execution_count": 20,
   "metadata": {},
   "outputs": [
    {
     "name": "stdout",
     "output_type": "stream",
     "text": [
      "Train on 25000 samples, validate on 25000 samples\n",
      "Epoch 1/20\n",
      "25000/25000 [==============================] - 3s 108us/sample - loss: 0.6254 - acc: 0.6417 - val_loss: 0.5041 - val_acc: 0.8556\n",
      "Epoch 2/20\n",
      "25000/25000 [==============================] - 2s 81us/sample - loss: 0.4907 - acc: 0.7758 - val_loss: 0.3836 - val_acc: 0.8763\n",
      "Epoch 3/20\n",
      "25000/25000 [==============================] - 2s 80us/sample - loss: 0.4006 - acc: 0.8413 - val_loss: 0.3155 - val_acc: 0.8864\n",
      "Epoch 4/20\n",
      "25000/25000 [==============================] - 2s 82us/sample - loss: 0.3400 - acc: 0.8725 - val_loss: 0.2850 - val_acc: 0.8880\n",
      "Epoch 5/20\n",
      "25000/25000 [==============================] - 2s 79us/sample - loss: 0.2921 - acc: 0.8930 - val_loss: 0.2807 - val_acc: 0.8868\n",
      "Epoch 6/20\n",
      "25000/25000 [==============================] - 2s 81us/sample - loss: 0.2624 - acc: 0.9050 - val_loss: 0.2860 - val_acc: 0.8887\n",
      "Epoch 7/20\n",
      "25000/25000 [==============================] - 2s 80us/sample - loss: 0.2370 - acc: 0.9162 - val_loss: 0.2910 - val_acc: 0.8866\n",
      "Epoch 8/20\n",
      "25000/25000 [==============================] - 2s 78us/sample - loss: 0.2176 - acc: 0.9231 - val_loss: 0.3104 - val_acc: 0.8859\n",
      "Epoch 9/20\n",
      "25000/25000 [==============================] - 2s 81us/sample - loss: 0.1985 - acc: 0.9287 - val_loss: 0.3257 - val_acc: 0.8835\n",
      "Epoch 10/20\n",
      "25000/25000 [==============================] - 2s 80us/sample - loss: 0.1861 - acc: 0.9335 - val_loss: 0.3427 - val_acc: 0.8849\n",
      "Epoch 11/20\n",
      "25000/25000 [==============================] - 2s 81us/sample - loss: 0.1737 - acc: 0.9382 - val_loss: 0.3654 - val_acc: 0.8822\n",
      "Epoch 12/20\n",
      "25000/25000 [==============================] - 2s 79us/sample - loss: 0.1645 - acc: 0.9425 - val_loss: 0.3826 - val_acc: 0.8805\n",
      "Epoch 13/20\n",
      "25000/25000 [==============================] - 2s 79us/sample - loss: 0.1586 - acc: 0.9428 - val_loss: 0.4007 - val_acc: 0.8812\n",
      "Epoch 14/20\n",
      "25000/25000 [==============================] - 2s 84us/sample - loss: 0.1490 - acc: 0.9444 - val_loss: 0.4146 - val_acc: 0.8777\n",
      "Epoch 15/20\n",
      "25000/25000 [==============================] - 2s 81us/sample - loss: 0.1406 - acc: 0.9478 - val_loss: 0.4446 - val_acc: 0.8764\n",
      "Epoch 16/20\n",
      "25000/25000 [==============================] - 2s 80us/sample - loss: 0.1394 - acc: 0.9489 - val_loss: 0.4677 - val_acc: 0.8768\n",
      "Epoch 17/20\n",
      "25000/25000 [==============================] - 2s 80us/sample - loss: 0.1332 - acc: 0.9501 - val_loss: 0.4943 - val_acc: 0.8726\n",
      "Epoch 18/20\n",
      "25000/25000 [==============================] - 2s 82us/sample - loss: 0.1328 - acc: 0.9503 - val_loss: 0.5041 - val_acc: 0.8741\n",
      "Epoch 19/20\n",
      "25000/25000 [==============================] - 2s 82us/sample - loss: 0.1254 - acc: 0.9519 - val_loss: 0.5325 - val_acc: 0.8735\n",
      "Epoch 20/20\n",
      "25000/25000 [==============================] - 2s 80us/sample - loss: 0.1286 - acc: 0.9527 - val_loss: 0.5447 - val_acc: 0.8723\n"
     ]
    }
   ],
   "source": [
    "dpt_model_hist = dpt_model.fit(x_train, y_train,\n",
    "                               epochs=20,\n",
    "                               batch_size=512,\n",
    "                               validation_data=(x_test, y_test))"
   ]
  },
  {
   "cell_type": "markdown",
   "metadata": {},
   "source": [
    "Let's plot the results:"
   ]
  },
  {
   "cell_type": "code",
   "execution_count": 21,
   "metadata": {},
   "outputs": [
    {
     "data": {
      "image/png": "[encoded data removed]",
      "text/plain": [
       "<Figure size 432x288 with 1 Axes>"
      ]
     },
     "metadata": {
      "needs_background": "light"
     },
     "output_type": "display_data"
    }
   ],
   "source": [
    "dpt_model_val_loss = dpt_model_hist.history['val_loss']\n",
    "\n",
    "plt.plot(epochs, original_val_loss, 'b+', label='Original model')\n",
    "plt.plot(epochs, dpt_model_val_loss, 'bo', label='Dropout-regularized model')\n",
    "plt.xlabel('Epochs')\n",
    "plt.ylabel('Validation loss')\n",
    "plt.legend()\n",
    "\n",
    "plt.show()"
   ]
  },
  {
   "cell_type": "markdown",
   "metadata": {},
   "source": [
    "\n",
    "Again, a clear improvement over the reference network.\n",
    "\n",
    "To recap: here the most common ways to prevent overfitting in neural networks:\n",
    "\n",
    "* Getting more training data.\n",
    "* Reducing the capacity of the network.\n",
    "* Adding weight regularization.\n",
    "* Adding dropout."
   ]
  },
  {
   "cell_type": "markdown",
   "metadata": {},
   "source": [
    "## 2. Exercise <a id='exc' />\n",
    "Please develop your own model for IMDB review classification problem following \"The Universal Workflow of Machine Learning\" and try to maximize the validation accuracy. When you are regularizing the model you can utilize the below tecniques:\n",
    "* Add dropout\n",
    "* Try different architectures: add or remove layers, increase or decrease the number of units per layer\n",
    "* Add L1 and / or L2 regularization\n",
    "* Adjust the hyperparameters, e.g. the learning rate of the optimizer, the number of epochs, batch_size and etc.\n",
    "\n",
    "Provide your codes and comments in the below boxes."
   ]
  },
  {
   "cell_type": "code",
   "execution_count": 2,
   "metadata": {},
   "outputs": [],
   "source": [
    "# Task 1: Build and Compile the model. \n",
    "# Remember to use the above mentioned regularization techniques\n",
    "from tensorflow.keras.datasets import imdb\n",
    "import numpy as np\n",
    "from tensorflow.keras import models\n",
    "from tensorflow.keras import layers\n",
    "\n",
    "(train_data, train_labels), (test_data, test_labels) = imdb.load_data(num_words=10000)\n",
    "\n",
    "def vectorize_sequences(sequences, dimension=10000):\n",
    "    # Create an all-zero matrix of shape (len(sequences), dimension)\n",
    "    results = np.zeros((len(sequences), dimension))\n",
    "    for i, sequence in enumerate(sequences):\n",
    "        results[i, sequence] = 1.  # set specific indices of results[i] to 1s\n",
    "    return results\n",
    "\n",
    "# Our vectorized training data\n",
    "x_train = vectorize_sequences(train_data)\n",
    "# Our vectorized test data\n",
    "x_test = vectorize_sequences(test_data)\n",
    "# Our vectorized labels\n",
    "y_train = np.asarray(train_labels).astype('float32')\n",
    "y_test = np.asarray(test_labels).astype('float32')\n",
    "#normal\n",
    "model = models.Sequential()\n",
    "model.add(layers.Dense(8, activation='relu', input_shape=(10000,)))\n",
    "model.add(layers.Dense(8, activation='relu'))\n",
    "model.add(layers.Dense(8, activation='relu'))\n",
    "model.add(layers.Dense(1, activation='sigmoid'))\n",
    "\n",
    "model.compile(optimizer='rmsprop',\n",
    "                       loss='binary_crossentropy',\n",
    "                       metrics=['acc'])\n",
    "#add dropout\n",
    "dpt_model = models.Sequential()\n",
    "dpt_model.add(layers.Dense(8, activation='relu', input_shape=(10000,)))\n",
    "dpt_model.add(layers.Dropout(0.5))\n",
    "dpt_model.add(layers.Dense(8, activation='relu'))\n",
    "dpt_model.add(layers.Dropout(0.5))\n",
    "dpt_model.add(layers.Dense(8, activation='relu'))\n",
    "dpt_model.add(layers.Dropout(0.5))\n",
    "dpt_model.add(layers.Dense(1, activation='sigmoid'))\n",
    "\n",
    "dpt_model.compile(optimizer='rmsprop',\n",
    "                  loss='binary_crossentropy',\n",
    "                  metrics=['acc'])\n",
    "\n",
    "from tensorflow.keras import regularizers\n",
    "#L1\n",
    "l1_model = models.Sequential()\n",
    "l1_model.add(layers.Dense(8, kernel_regularizer=regularizers.l1(0.001),\n",
    "                          activation='relu', input_shape=(10000,)))\n",
    "l1_model.add(layers.Dense(8, kernel_regularizer=regularizers.l1(0.001),\n",
    "                          activation='relu'))\n",
    "l1_model.add(layers.Dense(8, kernel_regularizer=regularizers.l1(0.001),\n",
    "                          activation='relu'))\n",
    "l1_model.add(layers.Dense(1, activation='sigmoid'))\n",
    "\n",
    "l1_model.compile(optimizer='rmsprop',\n",
    "                 loss='binary_crossentropy',\n",
    "                 metrics=['acc'])\n",
    "#L2\n",
    "l2_model = models.Sequential()\n",
    "l2_model.add(layers.Dense(8, kernel_regularizer=regularizers.l2(0.001),\n",
    "                          activation='relu', input_shape=(10000,)))\n",
    "l2_model.add(layers.Dense(8, kernel_regularizer=regularizers.l2(0.001),\n",
    "                          activation='relu'))\n",
    "l2_model.add(layers.Dense(8, kernel_regularizer=regularizers.l2(0.001),\n",
    "                          activation='relu'))\n",
    "l2_model.add(layers.Dense(1, activation='sigmoid'))\n",
    "\n",
    "l2_model.compile(optimizer='rmsprop',\n",
    "                 loss='binary_crossentropy',\n",
    "                 metrics=['acc'])"
   ]
  },
  {
   "cell_type": "code",
   "execution_count": 3,
   "metadata": {
    "scrolled": true
   },
   "outputs": [
    {
     "name": "stdout",
     "output_type": "stream",
     "text": [
      "Train on 25000 samples, validate on 25000 samples\n",
      "Epoch 1/50\n",
      "25000/25000 [==============================] - 4s 158us/sample - loss: 0.5775 - acc: 0.7215 - val_loss: 0.5066 - val_acc: 0.8660\n",
      "Epoch 2/50\n",
      "25000/25000 [==============================] - 2s 97us/sample - loss: 0.4464 - acc: 0.8887 - val_loss: 0.4455 - val_acc: 0.8742\n",
      "Epoch 3/50\n",
      "25000/25000 [==============================] - 2s 97us/sample - loss: 0.3718 - acc: 0.9224 - val_loss: 0.3977 - val_acc: 0.8809\n",
      "Epoch 4/50\n",
      "25000/25000 [==============================] - 2s 97us/sample - loss: 0.2636 - acc: 0.9378 - val_loss: 0.3289 - val_acc: 0.8799\n",
      "Epoch 5/50\n",
      "25000/25000 [==============================] - 2s 97us/sample - loss: 0.1820 - acc: 0.9473 - val_loss: 0.3328 - val_acc: 0.8742\n",
      "Epoch 6/50\n",
      "25000/25000 [==============================] - 2s 97us/sample - loss: 0.1516 - acc: 0.9547 - val_loss: 0.3509 - val_acc: 0.8750\n",
      "Epoch 7/50\n",
      "25000/25000 [==============================] - 2s 98us/sample - loss: 0.1311 - acc: 0.9609 - val_loss: 0.3723 - val_acc: 0.8701\n",
      "Epoch 8/50\n",
      "25000/25000 [==============================] - 2s 97us/sample - loss: 0.1162 - acc: 0.9654 - val_loss: 0.4200 - val_acc: 0.8664\n",
      "Epoch 9/50\n",
      "25000/25000 [==============================] - 2s 97us/sample - loss: 0.1029 - acc: 0.9697 - val_loss: 0.4331 - val_acc: 0.8634\n",
      "Epoch 10/50\n",
      "25000/25000 [==============================] - 2s 97us/sample - loss: 0.0935 - acc: 0.9725 - val_loss: 0.5592 - val_acc: 0.8502\n",
      "Epoch 11/50\n",
      "25000/25000 [==============================] - 2s 97us/sample - loss: 0.0826 - acc: 0.9766 - val_loss: 0.5014 - val_acc: 0.8583\n",
      "Epoch 12/50\n",
      "25000/25000 [==============================] - 2s 97us/sample - loss: 0.0739 - acc: 0.9791 - val_loss: 0.5748 - val_acc: 0.8544\n",
      "Epoch 13/50\n",
      "25000/25000 [==============================] - 2s 97us/sample - loss: 0.0645 - acc: 0.9827 - val_loss: 0.5529 - val_acc: 0.8517\n",
      "Epoch 14/50\n",
      "25000/25000 [==============================] - 2s 97us/sample - loss: 0.0560 - acc: 0.9855 - val_loss: 0.6068 - val_acc: 0.8454\n",
      "Epoch 15/50\n",
      "25000/25000 [==============================] - 2s 98us/sample - loss: 0.0490 - acc: 0.9877 - val_loss: 0.6806 - val_acc: 0.8498\n",
      "Epoch 16/50\n",
      "25000/25000 [==============================] - 2s 97us/sample - loss: 0.0416 - acc: 0.9896 - val_loss: 0.7050 - val_acc: 0.8486\n",
      "Epoch 17/50\n",
      "25000/25000 [==============================] - 2s 99us/sample - loss: 0.0366 - acc: 0.9907 - val_loss: 0.7375 - val_acc: 0.8465\n",
      "Epoch 18/50\n",
      "25000/25000 [==============================] - 3s 112us/sample - loss: 0.0299 - acc: 0.9935 - val_loss: 1.0065 - val_acc: 0.8384\n",
      "Epoch 19/50\n",
      "25000/25000 [==============================] - 3s 114us/sample - loss: 0.0270 - acc: 0.9934 - val_loss: 0.8857 - val_acc: 0.8457\n",
      "Epoch 20/50\n",
      "25000/25000 [==============================] - 3s 107us/sample - loss: 0.0206 - acc: 0.9957 - val_loss: 1.0947 - val_acc: 0.8410\n",
      "Epoch 21/50\n",
      "25000/25000 [==============================] - 2s 97us/sample - loss: 0.0180 - acc: 0.9964 - val_loss: 1.0785 - val_acc: 0.8435\n",
      "Epoch 22/50\n",
      "25000/25000 [==============================] - 2s 98us/sample - loss: 0.0148 - acc: 0.9968 - val_loss: 1.1584 - val_acc: 0.8431\n",
      "Epoch 23/50\n",
      "25000/25000 [==============================] - 3s 114us/sample - loss: 0.0121 - acc: 0.9976 - val_loss: 1.0526 - val_acc: 0.8347\n",
      "Epoch 24/50\n",
      "25000/25000 [==============================] - 3s 118us/sample - loss: 0.0102 - acc: 0.9978 - val_loss: 1.1831 - val_acc: 0.8397\n",
      "Epoch 25/50\n",
      "25000/25000 [==============================] - 2s 99us/sample - loss: 0.0088 - acc: 0.9982 - val_loss: 1.2796 - val_acc: 0.8400\n",
      "Epoch 26/50\n",
      "25000/25000 [==============================] - 3s 109us/sample - loss: 0.0072 - acc: 0.9984 - val_loss: 1.4115 - val_acc: 0.8393\n",
      "Epoch 27/50\n",
      "25000/25000 [==============================] - 2s 97us/sample - loss: 0.0060 - acc: 0.9986 - val_loss: 1.4568 - val_acc: 0.8381\n",
      "Epoch 28/50\n",
      "25000/25000 [==============================] - 2s 98us/sample - loss: 0.0045 - acc: 0.9989 - val_loss: 1.7757 - val_acc: 0.8348\n",
      "Epoch 29/50\n",
      "25000/25000 [==============================] - 3s 113us/sample - loss: 0.0034 - acc: 0.9992 - val_loss: 1.6299 - val_acc: 0.8377\n",
      "Epoch 30/50\n",
      "25000/25000 [==============================] - 3s 117us/sample - loss: 0.0032 - acc: 0.9991 - val_loss: 1.7129 - val_acc: 0.8383\n",
      "Epoch 31/50\n",
      "25000/25000 [==============================] - 2s 98us/sample - loss: 0.0016 - acc: 0.9997 - val_loss: 1.8217 - val_acc: 0.8363\n",
      "Epoch 32/50\n",
      "25000/25000 [==============================] - 3s 113us/sample - loss: 0.0015 - acc: 0.9997 - val_loss: 1.9167 - val_acc: 0.8373\n",
      "Epoch 33/50\n",
      "25000/25000 [==============================] - 2s 98us/sample - loss: 0.0012 - acc: 0.9998 - val_loss: 1.9977 - val_acc: 0.8371\n",
      "Epoch 34/50\n",
      "25000/25000 [==============================] - 3s 105us/sample - loss: 9.0643e-04 - acc: 0.9998 - val_loss: 2.0551 - val_acc: 0.8372\n",
      "Epoch 35/50\n",
      "25000/25000 [==============================] - 2s 97us/sample - loss: 5.7580e-04 - acc: 0.9998 - val_loss: 2.0914 - val_acc: 0.8369\n",
      "Epoch 36/50\n",
      "25000/25000 [==============================] - 2s 97us/sample - loss: 5.0021e-04 - acc: 0.9999 - val_loss: 2.2178 - val_acc: 0.8372\n",
      "Epoch 37/50\n",
      "25000/25000 [==============================] - 2s 97us/sample - loss: 7.4185e-04 - acc: 0.9998 - val_loss: 2.2518 - val_acc: 0.8367\n",
      "Epoch 38/50\n",
      "25000/25000 [==============================] - 3s 103us/sample - loss: 3.8876e-05 - acc: 1.0000 - val_loss: 2.3620 - val_acc: 0.8366\n",
      "Epoch 39/50\n",
      "25000/25000 [==============================] - 2s 97us/sample - loss: 5.7053e-04 - acc: 0.9998 - val_loss: 2.4773 - val_acc: 0.8368\n",
      "Epoch 40/50\n",
      "25000/25000 [==============================] - 2s 97us/sample - loss: 5.9285e-04 - acc: 0.9997 - val_loss: 2.5389 - val_acc: 0.8367\n",
      "Epoch 41/50\n",
      "25000/25000 [==============================] - 2s 98us/sample - loss: 7.6676e-06 - acc: 1.0000 - val_loss: 2.6009 - val_acc: 0.8365\n",
      "Epoch 42/50\n",
      "25000/25000 [==============================] - 2s 97us/sample - loss: 0.0016 - acc: 0.9997 - val_loss: 2.7061 - val_acc: 0.8353\n",
      "Epoch 43/50\n",
      "25000/25000 [==============================] - 3s 120us/sample - loss: 6.0893e-06 - acc: 1.0000 - val_loss: 2.7205 - val_acc: 0.8365\n",
      "Epoch 44/50\n",
      "25000/25000 [==============================] - 3s 108us/sample - loss: 4.7352e-04 - acc: 0.9998 - val_loss: 2.8400 - val_acc: 0.8365\n",
      "Epoch 45/50\n",
      "25000/25000 [==============================] - 2s 97us/sample - loss: 2.0287e-06 - acc: 1.0000 - val_loss: 2.8823 - val_acc: 0.8358\n",
      "Epoch 46/50\n",
      "25000/25000 [==============================] - 2s 97us/sample - loss: 5.4470e-04 - acc: 0.9998 - val_loss: 3.0229 - val_acc: 0.8358\n",
      "Epoch 47/50\n",
      "25000/25000 [==============================] - 2s 97us/sample - loss: 1.3780e-06 - acc: 1.0000 - val_loss: 3.0552 - val_acc: 0.8350\n",
      "Epoch 48/50\n",
      "25000/25000 [==============================] - 2s 98us/sample - loss: 3.7216e-05 - acc: 1.0000 - val_loss: 3.0546 - val_acc: 0.8377\n",
      "Epoch 49/50\n",
      "25000/25000 [==============================] - 2s 97us/sample - loss: 5.6044e-07 - acc: 1.0000 - val_loss: 3.1447 - val_acc: 0.8364\n",
      "Epoch 50/50\n",
      "25000/25000 [==============================] - 2s 97us/sample - loss: 4.6661e-04 - acc: 0.9999 - val_loss: 3.1950 - val_acc: 0.8356\n",
      "Train on 25000 samples, validate on 25000 samples\n",
      "Epoch 1/50\n",
      "25000/25000 [==============================] - 3s 124us/sample - loss: 0.6824 - acc: 0.5566 - val_loss: 0.6515 - val_acc: 0.7734\n",
      "Epoch 2/50\n",
      "25000/25000 [==============================] - 2s 99us/sample - loss: 0.6331 - acc: 0.6628 - val_loss: 0.5714 - val_acc: 0.8575\n",
      "Epoch 3/50\n",
      "25000/25000 [==============================] - 3s 111us/sample - loss: 0.5862 - acc: 0.7158 - val_loss: 0.4928 - val_acc: 0.8698\n",
      "Epoch 4/50\n",
      "25000/25000 [==============================] - 3s 101us/sample - loss: 0.5440 - acc: 0.7496 - val_loss: 0.4491 - val_acc: 0.8664\n",
      "Epoch 5/50\n",
      "25000/25000 [==============================] - 3s 114us/sample - loss: 0.5138 - acc: 0.7724 - val_loss: 0.4145 - val_acc: 0.8651\n",
      "Epoch 6/50\n",
      "25000/25000 [==============================] - 3s 115us/sample - loss: 0.4917 - acc: 0.7874 - val_loss: 0.4009 - val_acc: 0.8675\n",
      "Epoch 7/50\n",
      "25000/25000 [==============================] - 3s 119us/sample - loss: 0.4715 - acc: 0.8019 - val_loss: 0.3942 - val_acc: 0.8638\n",
      "Epoch 8/50\n"
     ]
    },
    {
     "name": "stdout",
     "output_type": "stream",
     "text": [
      "25000/25000 [==============================] - 2s 97us/sample - loss: 0.4579 - acc: 0.8098 - val_loss: 0.3986 - val_acc: 0.8609\n",
      "Epoch 9/50\n",
      "25000/25000 [==============================] - 2s 97us/sample - loss: 0.4428 - acc: 0.8198 - val_loss: 0.4100 - val_acc: 0.8620\n",
      "Epoch 10/50\n",
      "25000/25000 [==============================] - 2s 97us/sample - loss: 0.4357 - acc: 0.8219 - val_loss: 0.4231 - val_acc: 0.8579\n",
      "Epoch 11/50\n",
      "25000/25000 [==============================] - 2s 97us/sample - loss: 0.4244 - acc: 0.8280 - val_loss: 0.4283 - val_acc: 0.8512\n",
      "Epoch 12/50\n",
      "25000/25000 [==============================] - 2s 98us/sample - loss: 0.4310 - acc: 0.8246 - val_loss: 0.4386 - val_acc: 0.8504\n",
      "Epoch 13/50\n",
      "25000/25000 [==============================] - 2s 97us/sample - loss: 0.4097 - acc: 0.8366 - val_loss: 0.4521 - val_acc: 0.8513\n",
      "Epoch 14/50\n",
      "25000/25000 [==============================] - 2s 97us/sample - loss: 0.4022 - acc: 0.8415 - val_loss: 0.4742 - val_acc: 0.8506\n",
      "Epoch 15/50\n",
      "25000/25000 [==============================] - 2s 97us/sample - loss: 0.3897 - acc: 0.8490 - val_loss: 0.4917 - val_acc: 0.8522\n",
      "Epoch 16/50\n",
      "25000/25000 [==============================] - 2s 98us/sample - loss: 0.3759 - acc: 0.8546 - val_loss: 0.5033 - val_acc: 0.8462\n",
      "Epoch 17/50\n",
      "25000/25000 [==============================] - 2s 97us/sample - loss: 0.3685 - acc: 0.8608 - val_loss: 0.5431 - val_acc: 0.8475\n",
      "Epoch 18/50\n",
      "25000/25000 [==============================] - 2s 97us/sample - loss: 0.3683 - acc: 0.8598 - val_loss: 0.5657 - val_acc: 0.8451\n",
      "Epoch 19/50\n",
      "25000/25000 [==============================] - 2s 97us/sample - loss: 0.3670 - acc: 0.8625 - val_loss: 0.5954 - val_acc: 0.8438\n",
      "Epoch 20/50\n",
      "25000/25000 [==============================] - 2s 97us/sample - loss: 0.3598 - acc: 0.8649 - val_loss: 0.5910 - val_acc: 0.8453\n",
      "Epoch 21/50\n",
      "25000/25000 [==============================] - 2s 97us/sample - loss: 0.3527 - acc: 0.8646 - val_loss: 0.6294 - val_acc: 0.8438\n",
      "Epoch 22/50\n",
      "25000/25000 [==============================] - 2s 97us/sample - loss: 0.3415 - acc: 0.8716 - val_loss: 0.6689 - val_acc: 0.8480\n",
      "Epoch 23/50\n",
      "25000/25000 [==============================] - 2s 97us/sample - loss: 0.3411 - acc: 0.8735 - val_loss: 0.6830 - val_acc: 0.8413\n",
      "Epoch 24/50\n",
      "25000/25000 [==============================] - 2s 97us/sample - loss: 0.3343 - acc: 0.8772 - val_loss: 0.6666 - val_acc: 0.8498\n",
      "Epoch 25/50\n",
      "25000/25000 [==============================] - 2s 98us/sample - loss: 0.3309 - acc: 0.8789 - val_loss: 0.7363 - val_acc: 0.8470\n",
      "Epoch 26/50\n",
      "25000/25000 [==============================] - 2s 97us/sample - loss: 0.3290 - acc: 0.8791 - val_loss: 0.7515 - val_acc: 0.8442\n",
      "Epoch 27/50\n",
      "25000/25000 [==============================] - 2s 98us/sample - loss: 0.3225 - acc: 0.8817 - val_loss: 0.8022 - val_acc: 0.8462\n",
      "Epoch 28/50\n",
      "25000/25000 [==============================] - 2s 97us/sample - loss: 0.3196 - acc: 0.8842 - val_loss: 0.8374 - val_acc: 0.8433\n",
      "Epoch 29/50\n",
      "25000/25000 [==============================] - 2s 97us/sample - loss: 0.3142 - acc: 0.8862 - val_loss: 0.8622 - val_acc: 0.8431\n",
      "Epoch 30/50\n",
      "25000/25000 [==============================] - 2s 97us/sample - loss: 0.3118 - acc: 0.8855 - val_loss: 0.8487 - val_acc: 0.8434\n",
      "Epoch 31/50\n",
      "25000/25000 [==============================] - 2s 97us/sample - loss: 0.3180 - acc: 0.8854 - val_loss: 0.9232 - val_acc: 0.8431\n",
      "Epoch 32/50\n",
      "25000/25000 [==============================] - 2s 98us/sample - loss: 0.3177 - acc: 0.8834 - val_loss: 1.0080 - val_acc: 0.8452\n",
      "Epoch 33/50\n",
      "25000/25000 [==============================] - 2s 97us/sample - loss: 0.3142 - acc: 0.8866 - val_loss: 0.9835 - val_acc: 0.8404\n",
      "Epoch 34/50\n",
      "25000/25000 [==============================] - 2s 97us/sample - loss: 0.3049 - acc: 0.8893 - val_loss: 1.0185 - val_acc: 0.8376\n",
      "Epoch 35/50\n",
      "25000/25000 [==============================] - 2s 98us/sample - loss: 0.3095 - acc: 0.8890 - val_loss: 1.0767 - val_acc: 0.8388\n",
      "Epoch 36/50\n",
      "25000/25000 [==============================] - 3s 118us/sample - loss: 0.3051 - acc: 0.8910 - val_loss: 1.1210 - val_acc: 0.8288\n",
      "Epoch 37/50\n",
      "25000/25000 [==============================] - 2s 97us/sample - loss: 0.3080 - acc: 0.8890 - val_loss: 1.2001 - val_acc: 0.8368\n",
      "Epoch 38/50\n",
      "25000/25000 [==============================] - 2s 97us/sample - loss: 0.3040 - acc: 0.8916 - val_loss: 1.2257 - val_acc: 0.8326\n",
      "Epoch 39/50\n",
      "25000/25000 [==============================] - 2s 98us/sample - loss: 0.3055 - acc: 0.8892 - val_loss: 1.3578 - val_acc: 0.8337\n",
      "Epoch 40/50\n",
      "25000/25000 [==============================] - 2s 100us/sample - loss: 0.3070 - acc: 0.8888 - val_loss: 1.3508 - val_acc: 0.8278\n",
      "Epoch 41/50\n",
      "25000/25000 [==============================] - 2s 99us/sample - loss: 0.3119 - acc: 0.8868 - val_loss: 1.4902 - val_acc: 0.8288\n",
      "Epoch 42/50\n",
      "25000/25000 [==============================] - 3s 118us/sample - loss: 0.3053 - acc: 0.8904 - val_loss: 1.4845 - val_acc: 0.8276\n",
      "Epoch 43/50\n",
      "25000/25000 [==============================] - 3s 103us/sample - loss: 0.3025 - acc: 0.8892 - val_loss: 1.4929 - val_acc: 0.8282\n",
      "Epoch 44/50\n",
      "25000/25000 [==============================] - 3s 108us/sample - loss: 0.2978 - acc: 0.8911 - val_loss: 1.6922 - val_acc: 0.8298\n",
      "Epoch 45/50\n",
      "25000/25000 [==============================] - 2s 99us/sample - loss: 0.3025 - acc: 0.8884 - val_loss: 1.6908 - val_acc: 0.8206\n",
      "Epoch 46/50\n",
      "25000/25000 [==============================] - 3s 100us/sample - loss: 0.3057 - acc: 0.8892 - val_loss: 1.6421 - val_acc: 0.8231\n",
      "Epoch 47/50\n",
      "25000/25000 [==============================] - 2s 97us/sample - loss: 0.2999 - acc: 0.8904 - val_loss: 1.7302 - val_acc: 0.8185\n",
      "Epoch 48/50\n",
      "25000/25000 [==============================] - 2s 97us/sample - loss: 0.3009 - acc: 0.8900 - val_loss: 1.8623 - val_acc: 0.8255\n",
      "Epoch 49/50\n",
      "25000/25000 [==============================] - 2s 97us/sample - loss: 0.3061 - acc: 0.8866 - val_loss: 1.8970 - val_acc: 0.8205\n",
      "Epoch 50/50\n",
      "25000/25000 [==============================] - 2s 96us/sample - loss: 0.3159 - acc: 0.8849 - val_loss: 1.8723 - val_acc: 0.8188\n",
      "Train on 25000 samples, validate on 25000 samples\n",
      "Epoch 1/50\n",
      "25000/25000 [==============================] - 3s 123us/sample - loss: 0.7373 - acc: 0.7599 - val_loss: 0.6040 - val_acc: 0.8552\n",
      "Epoch 2/50\n",
      "25000/25000 [==============================] - 3s 123us/sample - loss: 0.5399 - acc: 0.8598 - val_loss: 0.5188 - val_acc: 0.8529\n",
      "Epoch 3/50\n",
      "25000/25000 [==============================] - 2s 100us/sample - loss: 0.4762 - acc: 0.8739 - val_loss: 0.4685 - val_acc: 0.8744\n",
      "Epoch 4/50\n",
      "25000/25000 [==============================] - 2s 100us/sample - loss: 0.4507 - acc: 0.8820 - val_loss: 0.4581 - val_acc: 0.8760\n",
      "Epoch 5/50\n",
      "25000/25000 [==============================] - 2s 96us/sample - loss: 0.4346 - acc: 0.8868 - val_loss: 0.4427 - val_acc: 0.8802\n",
      "Epoch 6/50\n",
      "25000/25000 [==============================] - 2s 97us/sample - loss: 0.4226 - acc: 0.8899 - val_loss: 0.4515 - val_acc: 0.8736\n",
      "Epoch 7/50\n",
      "25000/25000 [==============================] - 3s 112us/sample - loss: 0.4157 - acc: 0.8933 - val_loss: 0.4383 - val_acc: 0.8776\n",
      "Epoch 8/50\n",
      "25000/25000 [==============================] - 2s 96us/sample - loss: 0.4096 - acc: 0.8945 - val_loss: 0.4336 - val_acc: 0.8825\n",
      "Epoch 9/50\n",
      "25000/25000 [==============================] - 2s 97us/sample - loss: 0.4036 - acc: 0.8980 - val_loss: 0.4561 - val_acc: 0.8689\n",
      "Epoch 10/50\n",
      "25000/25000 [==============================] - 2s 96us/sample - loss: 0.3996 - acc: 0.8997 - val_loss: 0.4477 - val_acc: 0.8779\n",
      "Epoch 11/50\n",
      "25000/25000 [==============================] - 3s 111us/sample - loss: 0.3980 - acc: 0.8981 - val_loss: 0.4383 - val_acc: 0.8782\n",
      "Epoch 12/50\n",
      "25000/25000 [==============================] - 2s 98us/sample - loss: 0.3920 - acc: 0.9033 - val_loss: 0.4456 - val_acc: 0.8731\n",
      "Epoch 13/50\n",
      "25000/25000 [==============================] - 3s 111us/sample - loss: 0.3896 - acc: 0.9026 - val_loss: 0.4405 - val_acc: 0.8773\n",
      "Epoch 14/50\n",
      "25000/25000 [==============================] - 3s 114us/sample - loss: 0.3893 - acc: 0.9039 - val_loss: 0.4450 - val_acc: 0.8762\n",
      "Epoch 15/50\n",
      "25000/25000 [==============================] - 3s 110us/sample - loss: 0.3864 - acc: 0.9062 - val_loss: 0.4378 - val_acc: 0.8802\n",
      "Epoch 16/50\n"
     ]
    },
    {
     "name": "stdout",
     "output_type": "stream",
     "text": [
      "25000/25000 [==============================] - 3s 108us/sample - loss: 0.3839 - acc: 0.9073 - val_loss: 0.4358 - val_acc: 0.8804\n",
      "Epoch 17/50\n",
      "25000/25000 [==============================] - 3s 103us/sample - loss: 0.3819 - acc: 0.9078 - val_loss: 0.4431 - val_acc: 0.8761\n",
      "Epoch 18/50\n",
      "25000/25000 [==============================] - 2s 97us/sample - loss: 0.3787 - acc: 0.9098 - val_loss: 0.4473 - val_acc: 0.8792\n",
      "Epoch 19/50\n",
      "25000/25000 [==============================] - 2s 96us/sample - loss: 0.3781 - acc: 0.9088 - val_loss: 0.4419 - val_acc: 0.8790\n",
      "Epoch 20/50\n",
      "25000/25000 [==============================] - 2s 97us/sample - loss: 0.3755 - acc: 0.9105 - val_loss: 0.4570 - val_acc: 0.8766\n",
      "Epoch 21/50\n",
      "25000/25000 [==============================] - 2s 96us/sample - loss: 0.3735 - acc: 0.9116 - val_loss: 0.4402 - val_acc: 0.8813\n",
      "Epoch 22/50\n",
      "25000/25000 [==============================] - 2s 97us/sample - loss: 0.3732 - acc: 0.9107 - val_loss: 0.5440 - val_acc: 0.8342\n",
      "Epoch 23/50\n",
      "25000/25000 [==============================] - 2s 97us/sample - loss: 0.3708 - acc: 0.9116 - val_loss: 0.4435 - val_acc: 0.8805\n",
      "Epoch 24/50\n",
      "25000/25000 [==============================] - 2s 96us/sample - loss: 0.3704 - acc: 0.9147 - val_loss: 0.4451 - val_acc: 0.8794\n",
      "Epoch 25/50\n",
      "25000/25000 [==============================] - 2s 96us/sample - loss: 0.3686 - acc: 0.9129 - val_loss: 0.4544 - val_acc: 0.8773\n",
      "Epoch 26/50\n",
      "25000/25000 [==============================] - 2s 96us/sample - loss: 0.3683 - acc: 0.9147 - val_loss: 0.4541 - val_acc: 0.8749\n",
      "Epoch 27/50\n",
      "25000/25000 [==============================] - 2s 97us/sample - loss: 0.3642 - acc: 0.9165 - val_loss: 0.4451 - val_acc: 0.8794\n",
      "Epoch 28/50\n",
      "25000/25000 [==============================] - 2s 96us/sample - loss: 0.3638 - acc: 0.9172 - val_loss: 0.4503 - val_acc: 0.8785\n",
      "Epoch 29/50\n",
      "25000/25000 [==============================] - 2s 97us/sample - loss: 0.3605 - acc: 0.9173 - val_loss: 0.4482 - val_acc: 0.8775\n",
      "Epoch 30/50\n",
      "25000/25000 [==============================] - 3s 127us/sample - loss: 0.3604 - acc: 0.9189 - val_loss: 0.4487 - val_acc: 0.8777\n",
      "Epoch 31/50\n",
      "25000/25000 [==============================] - 3s 101us/sample - loss: 0.3602 - acc: 0.9160 - val_loss: 0.4815 - val_acc: 0.8687\n",
      "Epoch 32/50\n",
      "25000/25000 [==============================] - 2s 96us/sample - loss: 0.3577 - acc: 0.9179 - val_loss: 0.4514 - val_acc: 0.8781\n",
      "Epoch 33/50\n",
      "25000/25000 [==============================] - 2s 97us/sample - loss: 0.3575 - acc: 0.9186 - val_loss: 0.4550 - val_acc: 0.8753\n",
      "Epoch 34/50\n",
      "25000/25000 [==============================] - 3s 116us/sample - loss: 0.3562 - acc: 0.9184 - val_loss: 0.4530 - val_acc: 0.8763\n",
      "Epoch 35/50\n",
      "25000/25000 [==============================] - 2s 97us/sample - loss: 0.3556 - acc: 0.9203 - val_loss: 0.4943 - val_acc: 0.8642\n",
      "Epoch 36/50\n",
      "25000/25000 [==============================] - 2s 96us/sample - loss: 0.3532 - acc: 0.9213 - val_loss: 0.4689 - val_acc: 0.8690\n",
      "Epoch 37/50\n",
      "25000/25000 [==============================] - 2s 97us/sample - loss: 0.3570 - acc: 0.9180 - val_loss: 0.4806 - val_acc: 0.8707\n",
      "Epoch 38/50\n",
      "25000/25000 [==============================] - 2s 97us/sample - loss: 0.3528 - acc: 0.9207 - val_loss: 0.4776 - val_acc: 0.8716\n",
      "Epoch 39/50\n",
      "25000/25000 [==============================] - 3s 113us/sample - loss: 0.3513 - acc: 0.9196 - val_loss: 0.4832 - val_acc: 0.8628\n",
      "Epoch 40/50\n",
      "25000/25000 [==============================] - 2s 97us/sample - loss: 0.3486 - acc: 0.9217 - val_loss: 0.4539 - val_acc: 0.8772\n",
      "Epoch 41/50\n",
      "25000/25000 [==============================] - 3s 102us/sample - loss: 0.3504 - acc: 0.9214 - val_loss: 0.4569 - val_acc: 0.8749\n",
      "Epoch 42/50\n",
      "25000/25000 [==============================] - 2s 96us/sample - loss: 0.3495 - acc: 0.9222 - val_loss: 0.4578 - val_acc: 0.8748\n",
      "Epoch 43/50\n",
      "25000/25000 [==============================] - 2s 96us/sample - loss: 0.3497 - acc: 0.9206 - val_loss: 0.4603 - val_acc: 0.8757\n",
      "Epoch 44/50\n",
      "25000/25000 [==============================] - 2s 96us/sample - loss: 0.3470 - acc: 0.9239 - val_loss: 0.4550 - val_acc: 0.8763\n",
      "Epoch 45/50\n",
      "25000/25000 [==============================] - 2s 97us/sample - loss: 0.3481 - acc: 0.9223 - val_loss: 0.4607 - val_acc: 0.8751\n",
      "Epoch 46/50\n",
      "25000/25000 [==============================] - 3s 113us/sample - loss: 0.3469 - acc: 0.9241 - val_loss: 0.4722 - val_acc: 0.8700\n",
      "Epoch 47/50\n",
      "25000/25000 [==============================] - 3s 106us/sample - loss: 0.3441 - acc: 0.9237 - val_loss: 0.4581 - val_acc: 0.8741\n",
      "Epoch 48/50\n",
      "25000/25000 [==============================] - 2s 96us/sample - loss: 0.3446 - acc: 0.9229 - val_loss: 0.4868 - val_acc: 0.8638\n",
      "Epoch 49/50\n",
      "25000/25000 [==============================] - 2s 97us/sample - loss: 0.3425 - acc: 0.9249 - val_loss: 0.4631 - val_acc: 0.8746\n",
      "Epoch 50/50\n",
      "25000/25000 [==============================] - 3s 120us/sample - loss: 0.3437 - acc: 0.9238 - val_loss: 0.4618 - val_acc: 0.8726\n",
      "Train on 25000 samples, validate on 25000 samples\n",
      "Epoch 1/50\n",
      "25000/25000 [==============================] - 3s 123us/sample - loss: 0.5313 - acc: 0.8112 - val_loss: 0.4028 - val_acc: 0.8817\n",
      "Epoch 2/50\n",
      "25000/25000 [==============================] - 2s 97us/sample - loss: 0.3166 - acc: 0.9048 - val_loss: 0.3364 - val_acc: 0.8855\n",
      "Epoch 3/50\n",
      "25000/25000 [==============================] - 2s 96us/sample - loss: 0.2520 - acc: 0.9251 - val_loss: 0.3295 - val_acc: 0.8838\n",
      "Epoch 4/50\n",
      "25000/25000 [==============================] - 2s 99us/sample - loss: 0.2309 - acc: 0.9324 - val_loss: 0.3395 - val_acc: 0.8828\n",
      "Epoch 5/50\n",
      "25000/25000 [==============================] - 2s 98us/sample - loss: 0.2184 - acc: 0.9382 - val_loss: 0.3518 - val_acc: 0.8802\n",
      "Epoch 6/50\n",
      "25000/25000 [==============================] - 2s 96us/sample - loss: 0.2083 - acc: 0.9419 - val_loss: 0.4218 - val_acc: 0.8565\n",
      "Epoch 7/50\n",
      "25000/25000 [==============================] - 2s 97us/sample - loss: 0.2033 - acc: 0.9435 - val_loss: 0.4463 - val_acc: 0.8586\n",
      "Epoch 8/50\n",
      "25000/25000 [==============================] - 2s 97us/sample - loss: 0.1992 - acc: 0.9471 - val_loss: 0.3970 - val_acc: 0.8662\n",
      "Epoch 9/50\n",
      "25000/25000 [==============================] - 2s 98us/sample - loss: 0.1949 - acc: 0.9462 - val_loss: 0.4009 - val_acc: 0.8681\n",
      "Epoch 10/50\n",
      "25000/25000 [==============================] - 3s 113us/sample - loss: 0.1919 - acc: 0.9476 - val_loss: 0.4095 - val_acc: 0.8654\n",
      "Epoch 11/50\n",
      "25000/25000 [==============================] - 2s 97us/sample - loss: 0.1864 - acc: 0.9502 - val_loss: 0.4104 - val_acc: 0.8679\n",
      "Epoch 12/50\n",
      "25000/25000 [==============================] - 2s 97us/sample - loss: 0.1846 - acc: 0.9504 - val_loss: 0.4194 - val_acc: 0.8679\n",
      "Epoch 13/50\n",
      "25000/25000 [==============================] - 2s 96us/sample - loss: 0.1835 - acc: 0.9489 - val_loss: 0.4386 - val_acc: 0.8659\n",
      "Epoch 14/50\n",
      "25000/25000 [==============================] - 4s 146us/sample - loss: 0.1798 - acc: 0.9502 - val_loss: 0.4494 - val_acc: 0.8656\n",
      "Epoch 15/50\n",
      "25000/25000 [==============================] - 2s 97us/sample - loss: 0.1801 - acc: 0.9511 - val_loss: 0.4390 - val_acc: 0.8650\n",
      "Epoch 16/50\n",
      "25000/25000 [==============================] - 2s 97us/sample - loss: 0.1760 - acc: 0.9530 - val_loss: 0.4573 - val_acc: 0.8630\n",
      "Epoch 17/50\n",
      "25000/25000 [==============================] - 2s 96us/sample - loss: 0.1734 - acc: 0.9543 - val_loss: 0.4433 - val_acc: 0.8650\n",
      "Epoch 18/50\n",
      "25000/25000 [==============================] - 2s 96us/sample - loss: 0.1712 - acc: 0.9536 - val_loss: 0.5033 - val_acc: 0.8451\n",
      "Epoch 19/50\n",
      "25000/25000 [==============================] - 2s 98us/sample - loss: 0.1671 - acc: 0.9567 - val_loss: 0.4615 - val_acc: 0.8604\n",
      "Epoch 20/50\n",
      "25000/25000 [==============================] - 3s 108us/sample - loss: 0.1653 - acc: 0.9580 - val_loss: 0.4739 - val_acc: 0.8575\n",
      "Epoch 21/50\n",
      "25000/25000 [==============================] - 3s 101us/sample - loss: 0.1633 - acc: 0.9574 - val_loss: 0.4706 - val_acc: 0.8601\n",
      "Epoch 22/50\n",
      "25000/25000 [==============================] - 3s 104us/sample - loss: 0.1596 - acc: 0.9585 - val_loss: 0.4778 - val_acc: 0.8582\n",
      "Epoch 23/50\n",
      "25000/25000 [==============================] - 3s 108us/sample - loss: 0.1602 - acc: 0.9578 - val_loss: 0.4967 - val_acc: 0.8528\n",
      "Epoch 24/50\n"
     ]
    },
    {
     "name": "stdout",
     "output_type": "stream",
     "text": [
      "25000/25000 [==============================] - 2s 98us/sample - loss: 0.1578 - acc: 0.9584 - val_loss: 0.4909 - val_acc: 0.8612\n",
      "Epoch 25/50\n",
      "25000/25000 [==============================] - 3s 130us/sample - loss: 0.1510 - acc: 0.9612 - val_loss: 0.4920 - val_acc: 0.8581\n",
      "Epoch 26/50\n",
      "25000/25000 [==============================] - 3s 105us/sample - loss: 0.1520 - acc: 0.9607 - val_loss: 0.4939 - val_acc: 0.8593\n",
      "Epoch 27/50\n",
      "25000/25000 [==============================] - 2s 97us/sample - loss: 0.1473 - acc: 0.9628 - val_loss: 0.5034 - val_acc: 0.8592\n",
      "Epoch 28/50\n",
      "25000/25000 [==============================] - 2s 97us/sample - loss: 0.1498 - acc: 0.9619 - val_loss: 0.5212 - val_acc: 0.8508\n",
      "Epoch 29/50\n",
      "25000/25000 [==============================] - 2s 97us/sample - loss: 0.1399 - acc: 0.9670 - val_loss: 0.5458 - val_acc: 0.8564\n",
      "Epoch 30/50\n",
      "25000/25000 [==============================] - 2s 98us/sample - loss: 0.1421 - acc: 0.9642 - val_loss: 0.5414 - val_acc: 0.8485\n",
      "Epoch 31/50\n",
      "25000/25000 [==============================] - 3s 112us/sample - loss: 0.1351 - acc: 0.9687 - val_loss: 0.5247 - val_acc: 0.8572\n",
      "Epoch 32/50\n",
      "25000/25000 [==============================] - 2s 97us/sample - loss: 0.1379 - acc: 0.9663 - val_loss: 0.5298 - val_acc: 0.8580\n",
      "Epoch 33/50\n",
      "25000/25000 [==============================] - 2s 98us/sample - loss: 0.1311 - acc: 0.9700 - val_loss: 0.5861 - val_acc: 0.8408\n",
      "Epoch 34/50\n",
      "25000/25000 [==============================] - 3s 118us/sample - loss: 0.1309 - acc: 0.9694 - val_loss: 0.5462 - val_acc: 0.8588\n",
      "Epoch 35/50\n",
      "25000/25000 [==============================] - 2s 97us/sample - loss: 0.1251 - acc: 0.9718 - val_loss: 0.5445 - val_acc: 0.8540\n",
      "Epoch 36/50\n",
      "25000/25000 [==============================] - 2s 97us/sample - loss: 0.1233 - acc: 0.9723 - val_loss: 0.6222 - val_acc: 0.8507\n",
      "Epoch 37/50\n",
      "25000/25000 [==============================] - 2s 97us/sample - loss: 0.1184 - acc: 0.9754 - val_loss: 0.5594 - val_acc: 0.8560\n",
      "Epoch 38/50\n",
      "25000/25000 [==============================] - 3s 129us/sample - loss: 0.1235 - acc: 0.9722 - val_loss: 0.5745 - val_acc: 0.8557\n",
      "Epoch 39/50\n",
      "25000/25000 [==============================] - 3s 102us/sample - loss: 0.1140 - acc: 0.9761 - val_loss: 0.5738 - val_acc: 0.8531\n",
      "Epoch 40/50\n",
      "25000/25000 [==============================] - 2s 97us/sample - loss: 0.1144 - acc: 0.9770 - val_loss: 0.5946 - val_acc: 0.8493\n",
      "Epoch 41/50\n",
      "25000/25000 [==============================] - 2s 98us/sample - loss: 0.1097 - acc: 0.9794 - val_loss: 0.6360 - val_acc: 0.8548\n",
      "Epoch 42/50\n",
      "25000/25000 [==============================] - 3s 111us/sample - loss: 0.1099 - acc: 0.9776 - val_loss: 0.6550 - val_acc: 0.8373\n",
      "Epoch 43/50\n",
      "25000/25000 [==============================] - 3s 113us/sample - loss: 0.1120 - acc: 0.9778 - val_loss: 0.6127 - val_acc: 0.8552\n",
      "Epoch 44/50\n",
      "25000/25000 [==============================] - 2s 97us/sample - loss: 0.1053 - acc: 0.9804 - val_loss: 0.6141 - val_acc: 0.8511\n",
      "Epoch 45/50\n",
      "25000/25000 [==============================] - 2s 97us/sample - loss: 0.1070 - acc: 0.9795 - val_loss: 0.6190 - val_acc: 0.8531\n",
      "Epoch 46/50\n",
      "25000/25000 [==============================] - 2s 97us/sample - loss: 0.1037 - acc: 0.9813 - val_loss: 0.6274 - val_acc: 0.8548\n",
      "Epoch 47/50\n",
      "25000/25000 [==============================] - 2s 97us/sample - loss: 0.1055 - acc: 0.9804 - val_loss: 0.6231 - val_acc: 0.8557\n",
      "Epoch 48/50\n",
      "25000/25000 [==============================] - 2s 97us/sample - loss: 0.0984 - acc: 0.9822 - val_loss: 0.6595 - val_acc: 0.8431\n",
      "Epoch 49/50\n",
      "25000/25000 [==============================] - 2s 97us/sample - loss: 0.1032 - acc: 0.9802 - val_loss: 0.6842 - val_acc: 0.8512\n",
      "Epoch 50/50\n",
      "25000/25000 [==============================] - 2s 96us/sample - loss: 0.0974 - acc: 0.9837 - val_loss: 0.7059 - val_acc: 0.8343\n"
     ]
    }
   ],
   "source": [
    "# Task 2: Compile and Fit the model\n",
    "# You can adjust the number of epochs, the batch size, the learning rate of the optimizer and etc.\n",
    "model_hist = model.fit(x_train, y_train,\n",
    "                               epochs=50,\n",
    "                               batch_size=256,\n",
    "                               validation_data=(x_test, y_test))\n",
    "dpt_model_hist = dpt_model.fit(x_train, y_train,\n",
    "                               epochs=50,\n",
    "                               batch_size=256,\n",
    "                               validation_data=(x_test, y_test))\n",
    "l1_model_hist = l1_model.fit(x_train, y_train,\n",
    "                               epochs=50,\n",
    "                               batch_size=256,\n",
    "                               validation_data=(x_test, y_test))\n",
    "l2_model_hist = l2_model.fit(x_train, y_train,\n",
    "                               epochs=50,\n",
    "                               batch_size=256,\n",
    "                               validation_data=(x_test, y_test))"
   ]
  },
  {
   "cell_type": "code",
   "execution_count": 4,
   "metadata": {},
   "outputs": [
    {
     "data": {
      "image/png": "[encoded data removed]",
      "text/plain": [
       "<Figure size 432x288 with 1 Axes>"
      ]
     },
     "metadata": {
      "needs_background": "light"
     },
     "output_type": "display_data"
    },
    {
     "data": {
      "image/png": "[encoded data removed]",
      "text/plain": [
       "<Figure size 432x288 with 1 Axes>"
      ]
     },
     "metadata": {
      "needs_background": "light"
     },
     "output_type": "display_data"
    },
    {
     "data": {
      "image/png": "[encoded data removed]",
      "text/plain": [
       "<Figure size 432x288 with 1 Axes>"
      ]
     },
     "metadata": {
      "needs_background": "light"
     },
     "output_type": "display_data"
    }
   ],
   "source": [
    "# Task 3: Plot the training and validation accuracy\n",
    "import matplotlib.pyplot as plt\n",
    "%matplotlib inline\n",
    "\n",
    "epochs = range(1, 51)\n",
    "model_train_accuracy = model_hist.history['acc']\n",
    "dpt_model_train_accuracy = dpt_model_hist.history['acc']\n",
    "l1_model_hist_train_accuracy = l1_model_hist.history['acc']\n",
    "l2_model_hist_train_accuracy = l2_model_hist.history['acc']\n",
    "\n",
    "model_val_accuracy = model_hist.history['val_acc']\n",
    "dpt_model_val_accuracy = dpt_model_hist.history['val_acc']\n",
    "l1_model_hist_val_accuracy = l1_model_hist.history['val_acc']\n",
    "l2_model_hist_val_accuracy = l2_model_hist.history['val_acc']\n",
    "\n",
    "plt.plot(epochs, model_train_accuracy, label='Original train model')\n",
    "plt.plot(epochs, dpt_model_train_accuracy, label='DPT train model')\n",
    "\n",
    "plt.plot(epochs, model_val_accuracy, label='Original val model')\n",
    "plt.plot(epochs, dpt_model_val_accuracy, label='DPT val model')\n",
    "\n",
    "plt.title('Oridinal vs DPT')\n",
    "plt.xlabel('Epochs')\n",
    "plt.ylabel('Train & Val accuracy')\n",
    "plt.legend()\n",
    "\n",
    "plt.show()\n",
    "\n",
    "plt.plot(epochs, model_train_accuracy, label='Original train model')\n",
    "plt.plot(epochs, l1_model_hist_train_accuracy, label='l1 train model')\n",
    "\n",
    "plt.plot(epochs, model_val_accuracy, label='Original val model')\n",
    "plt.plot(epochs, l1_model_hist_val_accuracy, label='l1 val model')\n",
    "\n",
    "plt.title('Oridinal vs L1')\n",
    "plt.xlabel('Epochs')\n",
    "plt.ylabel('Train & Val accuracy')\n",
    "plt.legend()\n",
    "\n",
    "plt.show()\n",
    "\n",
    "plt.plot(epochs, model_train_accuracy, label='Original train model')\n",
    "plt.plot(epochs, l2_model_hist_train_accuracy, label='l2 train model')\n",
    "\n",
    "plt.plot(epochs, model_val_accuracy, label='Original val model')\n",
    "plt.plot(epochs, l2_model_hist_val_accuracy, label='l2 val model')\n",
    "\n",
    "plt.title('Oridinal vs L2')\n",
    "plt.xlabel('Epochs')\n",
    "plt.ylabel('Train & Val accuracy')\n",
    "plt.legend()\n",
    "\n",
    "plt.show()"
   ]
  },
  {
   "cell_type": "markdown",
   "metadata": {},
   "source": [
    "# Task 4: Comments\n",
    "DPT reduced overflowing but looking at the training accuracy, it start to slow down at 30 epochs and do not rise much after that. The DPT validation accuracy do not have much of a change.\n",
    "For L1, the training accuracy rise at a stable rate, the validation accuracy is better than original but it is less stable, at epochs 22, there is a sudden drop of 0.05 accuracy.\n",
    "For L2, the training accuracy is high and rising at a stable rate. The validation accuracy have increase a bit too.\n",
    "\n",
    "To summary, DPT, L1 and L2 can help in overflowing but L1 and L2 do a better join as it improve the validation metric. But this also resulted in traning accuracy to drop, making it need more resurce(epochs) to get the data needed"
   ]
  }
 ],
 "metadata": {
  "kernelspec": {
   "display_name": "Python 3",
   "language": "python",
   "name": "python3"
  },
  "language_info": {
   "codemirror_mode": {
    "name": "ipython",
    "version": 3
   },
   "file_extension": ".py",
   "mimetype": "text/x-python",
   "name": "python",
   "nbconvert_exporter": "python",
   "pygments_lexer": "ipython3",
   "version": "3.7.7"
  }
 },
 "nbformat": 4,
 "nbformat_minor": 2
}
