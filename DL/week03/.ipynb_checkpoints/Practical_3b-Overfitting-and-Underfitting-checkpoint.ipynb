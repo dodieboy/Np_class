{
 "cells": [
  {
   "cell_type": "markdown",
   "metadata": {},
   "source": [
    "<table class=\"table table-bordered\">\n",
    "    <tr>\n",
    "        <th style=\"text-align:center; width:25%\"><img src='https://www.np.edu.sg/PublishingImages/Pages/default/odp/ICT.jpg' style=\"width: 250px; height: 125px; \"></th>\n",
    "        <th style=\"text-align:center;\"><h1>Deep Learning</h1><h2>Practical 3b - Overfitting and Underfitting</h2><h3>AY2020/21 Semester</h3></th>\n",
    "    </tr>\n",
    "</table>"
   ]
  },
  {
   "cell_type": "code",
   "execution_count": 1,
   "metadata": {},
   "outputs": [
    {
     "name": "stdout",
     "output_type": "stream",
     "text": [
      "keras:  2.2.4-tf\n"
     ]
    }
   ],
   "source": [
    "from tensorflow import keras\n",
    "print('keras: ', keras.__version__)"
   ]
  },
  {
   "cell_type": "code",
   "execution_count": 2,
   "metadata": {},
   "outputs": [
    {
     "data": {
      "text/html": [
       "<style>.container { width:95% !important; }</style>"
      ],
      "text/plain": [
       "<IPython.core.display.HTML object>"
      ]
     },
     "metadata": {},
     "output_type": "display_data"
    }
   ],
   "source": [
    "from IPython.core.display import display, HTML\n",
    "display(HTML(\"<style>.container { width:95% !important; }</style>\"))"
   ]
  },
  {
   "cell_type": "markdown",
   "metadata": {},
   "source": [
    "## Objectives\n",
    "After completing this practical exercise, students should be able to:\n",
    "1. [Understand how to prevent overfitting in Neural Networks](#over)\n",
    "2. [Exercise - Develop your own model and try to avoid overfitting](#exc)"
   ]
  },
  {
   "cell_type": "markdown",
   "metadata": {},
   "source": [
    "### Load Data"
   ]
  },
  {
   "cell_type": "markdown",
   "metadata": {},
   "source": [
    "Note: in this notebook we will be using the IMDB test set as our validation set. It doesn't matter in this context.\n",
    "\n",
    "Let's prepare the data using the code from Practical 2:"
   ]
  },
  {
   "cell_type": "code",
   "execution_count": 3,
   "metadata": {},
   "outputs": [],
   "source": [
    "from tensorflow.keras.datasets import imdb\n",
    "import numpy as np\n",
    "\n",
    "(train_data, train_labels), (test_data, test_labels) = imdb.load_data(num_words=10000)\n",
    "\n",
    "def vectorize_sequences(sequences, dimension=10000):\n",
    "    # Create an all-zero matrix of shape (len(sequences), dimension)\n",
    "    results = np.zeros((len(sequences), dimension))\n",
    "    for i, sequence in enumerate(sequences):\n",
    "        results[i, sequence] = 1.  # set specific indices of results[i] to 1s\n",
    "    return results\n",
    "\n",
    "# Our vectorized training data\n",
    "x_train = vectorize_sequences(train_data)\n",
    "# Our vectorized test data\n",
    "x_test = vectorize_sequences(test_data)\n",
    "# Our vectorized labels\n",
    "y_train = np.asarray(train_labels).astype('float32')\n",
    "y_test = np.asarray(test_labels).astype('float32')"
   ]
  },
  {
   "cell_type": "markdown",
   "metadata": {},
   "source": [
    "## 1. How to prevent overfitting in Neural Networks <a id='over' />"
   ]
  },
  {
   "cell_type": "markdown",
   "metadata": {},
   "source": [
    "### 1.1 Reducing the network's size \n",
    "\n",
    "Our original network was as such:"
   ]
  },
  {
   "cell_type": "code",
   "execution_count": 4,
   "metadata": {},
   "outputs": [],
   "source": [
    "from tensorflow.keras import models\n",
    "from tensorflow.keras import layers\n",
    "\n",
    "original_model = models.Sequential()\n",
    "original_model.add(layers.Dense(16, activation='relu', input_shape=(10000,)))\n",
    "original_model.add(layers.Dense(16, activation='relu'))\n",
    "original_model.add(layers.Dense(1, activation='sigmoid'))\n",
    "\n",
    "original_model.compile(optimizer='rmsprop',\n",
    "                       loss='binary_crossentropy',\n",
    "                       metrics=['acc'])"
   ]
  },
  {
   "cell_type": "markdown",
   "metadata": {},
   "source": [
    "Now let's try to replace it with this smaller network:"
   ]
  },
  {
   "cell_type": "code",
   "execution_count": 5,
   "metadata": {},
   "outputs": [],
   "source": [
    "smaller_model = models.Sequential()\n",
    "smaller_model.add(layers.Dense(4, activation='relu', input_shape=(10000,)))\n",
    "smaller_model.add(layers.Dense(4, activation='relu'))\n",
    "smaller_model.add(layers.Dense(1, activation='sigmoid'))\n",
    "\n",
    "smaller_model.compile(optimizer='rmsprop',\n",
    "                      loss='binary_crossentropy',\n",
    "                      metrics=['acc'])"
   ]
  },
  {
   "cell_type": "code",
   "execution_count": 6,
   "metadata": {},
   "outputs": [
    {
     "name": "stdout",
     "output_type": "stream",
     "text": [
      "Train on 25000 samples, validate on 25000 samples\n",
      "Epoch 1/20\n",
      "25000/25000 [==============================] - 4s 145us/sample - loss: 0.4500 - acc: 0.8268 - val_loss: 0.3355 - val_acc: 0.8819\n",
      "Epoch 2/20\n",
      "25000/25000 [==============================] - 2s 78us/sample - loss: 0.2608 - acc: 0.9088 - val_loss: 0.2841 - val_acc: 0.8890\n",
      "Epoch 3/20\n",
      "25000/25000 [==============================] - 2s 78us/sample - loss: 0.2014 - acc: 0.9293 - val_loss: 0.2852 - val_acc: 0.8870\n",
      "Epoch 4/20\n",
      "25000/25000 [==============================] - 2s 77us/sample - loss: 0.1670 - acc: 0.9415 - val_loss: 0.2934 - val_acc: 0.8838\n",
      "Epoch 5/20\n",
      "25000/25000 [==============================] - 2s 78us/sample - loss: 0.1448 - acc: 0.9494 - val_loss: 0.3200 - val_acc: 0.8776\n",
      "Epoch 6/20\n",
      "25000/25000 [==============================] - 2s 79us/sample - loss: 0.1257 - acc: 0.9561 - val_loss: 0.3814 - val_acc: 0.8612\n",
      "Epoch 7/20\n",
      "25000/25000 [==============================] - 2s 79us/sample - loss: 0.1117 - acc: 0.9613 - val_loss: 0.3579 - val_acc: 0.8721\n",
      "Epoch 8/20\n",
      "25000/25000 [==============================] - 2s 77us/sample - loss: 0.0990 - acc: 0.9665 - val_loss: 0.3793 - val_acc: 0.8699\n",
      "Epoch 9/20\n",
      "25000/25000 [==============================] - 2s 78us/sample - loss: 0.0881 - acc: 0.9698 - val_loss: 0.4100 - val_acc: 0.8657\n",
      "Epoch 10/20\n",
      "25000/25000 [==============================] - 2s 77us/sample - loss: 0.0763 - acc: 0.9747 - val_loss: 0.4561 - val_acc: 0.8586\n",
      "Epoch 11/20\n",
      "25000/25000 [==============================] - 2s 77us/sample - loss: 0.0685 - acc: 0.9779 - val_loss: 0.4624 - val_acc: 0.8623\n",
      "Epoch 12/20\n",
      "25000/25000 [==============================] - 2s 79us/sample - loss: 0.0588 - acc: 0.9822 - val_loss: 0.5240 - val_acc: 0.8570\n",
      "Epoch 13/20\n",
      "25000/25000 [==============================] - 2s 81us/sample - loss: 0.0516 - acc: 0.9839 - val_loss: 0.5278 - val_acc: 0.8582\n",
      "Epoch 14/20\n",
      "25000/25000 [==============================] - 2s 81us/sample - loss: 0.0438 - acc: 0.9875 - val_loss: 0.5616 - val_acc: 0.8588\n",
      "Epoch 15/20\n",
      "25000/25000 [==============================] - 2s 77us/sample - loss: 0.0387 - acc: 0.9885 - val_loss: 0.5961 - val_acc: 0.8565\n",
      "Epoch 16/20\n",
      "25000/25000 [==============================] - 2s 77us/sample - loss: 0.0345 - acc: 0.9905 - val_loss: 0.6311 - val_acc: 0.8545\n",
      "Epoch 17/20\n",
      "25000/25000 [==============================] - 2s 80us/sample - loss: 0.0278 - acc: 0.9921 - val_loss: 0.6656 - val_acc: 0.8533\n",
      "Epoch 18/20\n",
      "25000/25000 [==============================] - 2s 78us/sample - loss: 0.0235 - acc: 0.9939 - val_loss: 0.7219 - val_acc: 0.8484\n",
      "Epoch 19/20\n",
      "25000/25000 [==============================] - 2s 77us/sample - loss: 0.0196 - acc: 0.9952 - val_loss: 0.7790 - val_acc: 0.8491\n",
      "Epoch 20/20\n",
      "25000/25000 [==============================] - 2s 78us/sample - loss: 0.0175 - acc: 0.9956 - val_loss: 0.7980 - val_acc: 0.8484\n"
     ]
    }
   ],
   "source": [
    "original_hist = original_model.fit(x_train, y_train,\n",
    "                                   epochs=20,\n",
    "                                   batch_size=512,\n",
    "                                   validation_data=(x_test, y_test))"
   ]
  },
  {
   "cell_type": "code",
   "execution_count": 7,
   "metadata": {},
   "outputs": [
    {
     "name": "stdout",
     "output_type": "stream",
     "text": [
      "Train on 25000 samples, validate on 25000 samples\n",
      "Epoch 1/20\n",
      "25000/25000 [==============================] - 3s 109us/sample - loss: 0.5992 - acc: 0.7374 - val_loss: 0.5259 - val_acc: 0.8147\n",
      "Epoch 2/20\n",
      "25000/25000 [==============================] - 2s 77us/sample - loss: 0.4438 - acc: 0.8807 - val_loss: 0.4109 - val_acc: 0.8770\n",
      "Epoch 3/20\n",
      "25000/25000 [==============================] - 2s 77us/sample - loss: 0.3370 - acc: 0.9067 - val_loss: 0.3415 - val_acc: 0.8859\n",
      "Epoch 4/20\n",
      "25000/25000 [==============================] - 2s 77us/sample - loss: 0.2702 - acc: 0.9176 - val_loss: 0.3048 - val_acc: 0.8894\n",
      "Epoch 5/20\n",
      "25000/25000 [==============================] - 2s 77us/sample - loss: 0.2275 - acc: 0.9272 - val_loss: 0.2871 - val_acc: 0.8912\n",
      "Epoch 6/20\n",
      "25000/25000 [==============================] - 2s 79us/sample - loss: 0.1988 - acc: 0.9345 - val_loss: 0.2896 - val_acc: 0.8846\n",
      "Epoch 7/20\n",
      "25000/25000 [==============================] - 2s 78us/sample - loss: 0.1775 - acc: 0.9412 - val_loss: 0.2824 - val_acc: 0.8879\n",
      "Epoch 8/20\n",
      "25000/25000 [==============================] - 2s 79us/sample - loss: 0.1605 - acc: 0.9463 - val_loss: 0.2856 - val_acc: 0.8871\n",
      "Epoch 9/20\n",
      "25000/25000 [==============================] - 2s 77us/sample - loss: 0.1476 - acc: 0.9512 - val_loss: 0.3061 - val_acc: 0.8796\n",
      "Epoch 10/20\n",
      "25000/25000 [==============================] - 2s 81us/sample - loss: 0.1361 - acc: 0.9555 - val_loss: 0.3029 - val_acc: 0.8820\n",
      "Epoch 11/20\n",
      "25000/25000 [==============================] - 2s 77us/sample - loss: 0.1268 - acc: 0.9584 - val_loss: 0.3216 - val_acc: 0.8773\n",
      "Epoch 12/20\n",
      "25000/25000 [==============================] - 2s 79us/sample - loss: 0.1180 - acc: 0.9624 - val_loss: 0.3259 - val_acc: 0.8780\n",
      "Epoch 13/20\n",
      "25000/25000 [==============================] - 2s 81us/sample - loss: 0.1103 - acc: 0.9654 - val_loss: 0.3377 - val_acc: 0.8754\n",
      "Epoch 14/20\n",
      "25000/25000 [==============================] - 2s 80us/sample - loss: 0.1030 - acc: 0.9677 - val_loss: 0.3502 - val_acc: 0.8742\n",
      "Epoch 15/20\n",
      "25000/25000 [==============================] - 2s 77us/sample - loss: 0.0966 - acc: 0.9704 - val_loss: 0.3738 - val_acc: 0.8691\n",
      "Epoch 16/20\n",
      "25000/25000 [==============================] - 2s 78us/sample - loss: 0.0904 - acc: 0.9725 - val_loss: 0.3933 - val_acc: 0.8671\n",
      "Epoch 17/20\n",
      "25000/25000 [==============================] - 2s 76us/sample - loss: 0.0852 - acc: 0.9750 - val_loss: 0.3978 - val_acc: 0.8676\n",
      "Epoch 18/20\n",
      "25000/25000 [==============================] - 2s 77us/sample - loss: 0.0803 - acc: 0.9760 - val_loss: 0.4128 - val_acc: 0.8656\n",
      "Epoch 19/20\n",
      "25000/25000 [==============================] - 2s 80us/sample - loss: 0.0754 - acc: 0.9783 - val_loss: 0.4335 - val_acc: 0.8645\n",
      "Epoch 20/20\n",
      "25000/25000 [==============================] - 2s 77us/sample - loss: 0.0704 - acc: 0.9806 - val_loss: 0.4442 - val_acc: 0.8635\n"
     ]
    }
   ],
   "source": [
    "smaller_model_hist = smaller_model.fit(x_train, y_train,\n",
    "                                       epochs=20,\n",
    "                                       batch_size=512,\n",
    "                                       validation_data=(x_test, y_test))"
   ]
  },
  {
   "cell_type": "code",
   "execution_count": 8,
   "metadata": {},
   "outputs": [],
   "source": [
    "epochs = range(1, 21)\n",
    "original_val_loss = original_hist.history['val_loss']\n",
    "smaller_model_val_loss = smaller_model_hist.history['val_loss']"
   ]
  },
  {
   "cell_type": "markdown",
   "metadata": {},
   "source": [
    "Here's a comparison of the validation losses of the original network and the smaller network. The dots are the validation loss values of \n",
    "the smaller network, and the crosses are the initial network (remember: a lower validation loss signals a better model)."
   ]
  },
  {
   "cell_type": "code",
   "execution_count": 9,
   "metadata": {},
   "outputs": [
    {
     "data": {
      "image/png": "[encoded data removed]",
      "text/plain": [
       "<Figure size 432x288 with 1 Axes>"
      ]
     },
     "metadata": {
      "needs_background": "light"
     },
     "output_type": "display_data"
    }
   ],
   "source": [
    "import matplotlib.pyplot as plt\n",
    "%matplotlib inline\n",
    "\n",
    "# b+ is for \"blue cross\"\n",
    "plt.plot(epochs, original_val_loss, 'b+', label='Original model')\n",
    "# \"bo\" is for \"blue dot\"\n",
    "plt.plot(epochs, smaller_model_val_loss, 'bo', label='Smaller model')\n",
    "plt.xlabel('Epochs')\n",
    "plt.ylabel('Validation loss')\n",
    "plt.legend()\n",
    "\n",
    "plt.show()"
   ]
  },
  {
   "cell_type": "markdown",
   "metadata": {},
   "source": [
    "\n",
    "As you can see, the smaller network starts overfitting later than the reference one (after 6 epochs rather than 4) and its performance \n",
    "degrades much more slowly once it starts overfitting.\n",
    "\n",
    "Now, for kicks, let's add to this benchmark a network that has much more capacity, far more than the problem would warrant:"
   ]
  },
  {
   "cell_type": "code",
   "execution_count": 10,
   "metadata": {},
   "outputs": [],
   "source": [
    "bigger_model = models.Sequential()\n",
    "bigger_model.add(layers.Dense(512, activation='relu', input_shape=(10000,)))\n",
    "bigger_model.add(layers.Dense(512, activation='relu'))\n",
    "bigger_model.add(layers.Dense(1, activation='sigmoid'))\n",
    "\n",
    "bigger_model.compile(optimizer='rmsprop',\n",
    "                     loss='binary_crossentropy',\n",
    "                     metrics=['acc'])"
   ]
  },
  {
   "cell_type": "code",
   "execution_count": null,
   "metadata": {},
   "outputs": [
    {
     "name": "stdout",
     "output_type": "stream",
     "text": [
      "Train on 25000 samples, validate on 25000 samples\n",
      "Epoch 1/20\n",
      "25000/25000 [==============================] - 3s 136us/sample - loss: 0.4540 - acc: 0.8048 - val_loss: 0.3156 - val_acc: 0.8700\n",
      "Epoch 2/20\n",
      "25000/25000 [==============================] - 3s 111us/sample - loss: 0.2152 - acc: 0.9151 - val_loss: 0.2851 - val_acc: 0.8861\n",
      "Epoch 3/20\n",
      "25000/25000 [==============================] - 3s 113us/sample - loss: 0.1211 - acc: 0.9566 - val_loss: 0.3766 - val_acc: 0.8795\n",
      "Epoch 4/20\n",
      "25000/25000 [==============================] - 3s 112us/sample - loss: 0.0619 - acc: 0.9812 - val_loss: 0.4692 - val_acc: 0.8771\n",
      "Epoch 5/20\n",
      "25000/25000 [==============================] - 3s 112us/sample - loss: 0.0967 - acc: 0.9860 - val_loss: 0.4731 - val_acc: 0.8826\n",
      "Epoch 6/20\n",
      "25000/25000 [==============================] - 3s 112us/sample - loss: 0.0021 - acc: 0.9998 - val_loss: 0.6848 - val_acc: 0.8807\n",
      "Epoch 7/20\n",
      "12800/25000 [==============>...............] - ETA: 0s - loss: 3.5657e-04 - acc: 0.9999"
     ]
    }
   ],
   "source": [
    "bigger_model_hist = bigger_model.fit(x_train, y_train,\n",
    "                                     epochs=20,\n",
    "                                     batch_size=512,\n",
    "                                     validation_data=(x_test, y_test))"
   ]
  },
  {
   "cell_type": "markdown",
   "metadata": {},
   "source": [
    "Here's how the bigger network fares compared to the reference one. The dots are the validation loss values of the bigger network, and the \n",
    "crosses are the initial network."
   ]
  },
  {
   "cell_type": "code",
   "execution_count": null,
   "metadata": {},
   "outputs": [],
   "source": [
    "bigger_model_val_loss = bigger_model_hist.history['val_loss']\n",
    "\n",
    "plt.plot(epochs, original_val_loss, 'b+', label='Original model')\n",
    "plt.plot(epochs, bigger_model_val_loss, 'bo', label='Bigger model')\n",
    "plt.xlabel('Epochs')\n",
    "plt.ylabel('Validation loss')\n",
    "plt.legend()\n",
    "\n",
    "plt.show()"
   ]
  },
  {
   "cell_type": "markdown",
   "metadata": {},
   "source": [
    "\n",
    "The bigger network starts overfitting almost right away, after just one epoch, and overfits much more severely. Its validation loss is also \n",
    "more noisy.\n",
    "\n",
    "Meanwhile, here are the training losses for our two networks:"
   ]
  },
  {
   "cell_type": "code",
   "execution_count": null,
   "metadata": {},
   "outputs": [],
   "source": [
    "original_train_loss = original_hist.history['loss']\n",
    "bigger_model_train_loss = bigger_model_hist.history['loss']\n",
    "\n",
    "plt.plot(epochs, original_train_loss, 'b+', label='Original model')\n",
    "plt.plot(epochs, bigger_model_train_loss, 'bo', label='Bigger model')\n",
    "plt.xlabel('Epochs')\n",
    "plt.ylabel('Training loss')\n",
    "plt.legend()\n",
    "\n",
    "plt.show()"
   ]
  },
  {
   "cell_type": "markdown",
   "metadata": {},
   "source": [
    "As you can see, the bigger network gets its training loss near zero very quickly. The more capacity the network has, the quicker it will be \n",
    "able to model the training data (resulting in a low training loss), but the more susceptible it is to overfitting (resulting in a large \n",
    "difference between the training and validation loss)."
   ]
  },
  {
   "cell_type": "markdown",
   "metadata": {},
   "source": [
    "### 1.2 Adding weight regularization\n",
    "\n",
    "In Keras, weight regularization is added by passing _weight regularizer instances_ to layers as keyword arguments. Let's add L2 weight regularization to our movie review classification network:"
   ]
  },
  {
   "cell_type": "code",
   "execution_count": null,
   "metadata": {},
   "outputs": [],
   "source": [
    "from tensorflow.keras import regularizers\n",
    "\n",
    "l2_model = models.Sequential()\n",
    "l2_model.add(layers.Dense(16, kernel_regularizer=regularizers.l2(0.001),\n",
    "                          activation='relu', input_shape=(10000,)))\n",
    "l2_model.add(layers.Dense(16, kernel_regularizer=regularizers.l2(0.001),\n",
    "                          activation='relu'))\n",
    "l2_model.add(layers.Dense(1, activation='sigmoid'))"
   ]
  },
  {
   "cell_type": "code",
   "execution_count": null,
   "metadata": {},
   "outputs": [],
   "source": [
    "l2_model.compile(optimizer='rmsprop',\n",
    "                 loss='binary_crossentropy',\n",
    "                 metrics=['acc'])"
   ]
  },
  {
   "cell_type": "markdown",
   "metadata": {},
   "source": [
    "`l2(0.001)` means that every coefficient in the weight matrix of the layer will add `0.001 * weight_coefficient_value` to the total loss of the network. \n",
    "\n",
    "Here's the impact of our L2 regularization penalty:"
   ]
  },
  {
   "cell_type": "code",
   "execution_count": null,
   "metadata": {},
   "outputs": [],
   "source": [
    "l2_model_hist = l2_model.fit(x_train, y_train,\n",
    "                             epochs=20,\n",
    "                             batch_size=512,\n",
    "                             validation_data=(x_test, y_test))"
   ]
  },
  {
   "cell_type": "code",
   "execution_count": null,
   "metadata": {},
   "outputs": [],
   "source": [
    "l2_model_val_loss = l2_model_hist.history['val_loss']\n",
    "\n",
    "plt.plot(epochs, original_val_loss, 'b+', label='Original model')\n",
    "plt.plot(epochs, l2_model_val_loss, 'bo', label='L2-regularized model')\n",
    "plt.xlabel('Epochs')\n",
    "plt.ylabel('Validation loss')\n",
    "plt.legend()\n",
    "\n",
    "plt.show()"
   ]
  },
  {
   "cell_type": "markdown",
   "metadata": {},
   "source": [
    "\n",
    "\n",
    "As you can see, the model with L2 regularization (dots) has become much more resistant to overfitting than the reference model (crosses), \n",
    "even though both models have the same number of parameters.\n",
    "\n",
    "As alternatives to L2 regularization, you could use one of the following Keras weight regularizers:"
   ]
  },
  {
   "cell_type": "code",
   "execution_count": null,
   "metadata": {},
   "outputs": [],
   "source": [
    "from tensorflow.keras import regularizers\n",
    "\n",
    "# L1 regularization\n",
    "regularizers.l1(0.001)\n",
    "\n",
    "# L1 and L2 regularization at the same time\n",
    "regularizers.l1_l2(l1=0.001, l2=0.001)"
   ]
  },
  {
   "cell_type": "markdown",
   "metadata": {},
   "source": [
    "### 1.3 Adding dropout\n",
    "\n",
    "In Keras you can introduce dropout in a network via the `Dropout` layer, which gets applied to the output of layer right before it. Let's add two `Dropout` layers in our IMDB network to see how well they do at reducing overfitting:"
   ]
  },
  {
   "cell_type": "code",
   "execution_count": null,
   "metadata": {},
   "outputs": [],
   "source": [
    "dpt_model = models.Sequential()\n",
    "dpt_model.add(layers.Dense(16, activation='relu', input_shape=(10000,)))\n",
    "dpt_model.add(layers.Dropout(0.5))\n",
    "dpt_model.add(layers.Dense(16, activation='relu'))\n",
    "dpt_model.add(layers.Dropout(0.5))\n",
    "dpt_model.add(layers.Dense(1, activation='sigmoid'))\n",
    "\n",
    "dpt_model.compile(optimizer='rmsprop',\n",
    "                  loss='binary_crossentropy',\n",
    "                  metrics=['acc'])"
   ]
  },
  {
   "cell_type": "code",
   "execution_count": null,
   "metadata": {},
   "outputs": [],
   "source": [
    "dpt_model_hist = dpt_model.fit(x_train, y_train,\n",
    "                               epochs=20,\n",
    "                               batch_size=512,\n",
    "                               validation_data=(x_test, y_test))"
   ]
  },
  {
   "cell_type": "markdown",
   "metadata": {},
   "source": [
    "Let's plot the results:"
   ]
  },
  {
   "cell_type": "code",
   "execution_count": null,
   "metadata": {},
   "outputs": [],
   "source": [
    "dpt_model_val_loss = dpt_model_hist.history['val_loss']\n",
    "\n",
    "plt.plot(epochs, original_val_loss, 'b+', label='Original model')\n",
    "plt.plot(epochs, dpt_model_val_loss, 'bo', label='Dropout-regularized model')\n",
    "plt.xlabel('Epochs')\n",
    "plt.ylabel('Validation loss')\n",
    "plt.legend()\n",
    "\n",
    "plt.show()"
   ]
  },
  {
   "cell_type": "markdown",
   "metadata": {},
   "source": [
    "\n",
    "Again, a clear improvement over the reference network.\n",
    "\n",
    "To recap: here the most common ways to prevent overfitting in neural networks:\n",
    "\n",
    "* Getting more training data.\n",
    "* Reducing the capacity of the network.\n",
    "* Adding weight regularization.\n",
    "* Adding dropout."
   ]
  },
  {
   "cell_type": "markdown",
   "metadata": {},
   "source": [
    "## 2. Exercise <a id='exc' />\n",
    "Please develop your own model for IMDB review classification problem following \"The Universal Workflow of Machine Learning\" and try to maximize the validation accuracy. When you are regularizing the model you can utilize the below tecniques:\n",
    "* Add dropout\n",
    "* Try different architectures: add or remove layers, increase or decrease the number of units per layer\n",
    "* Add L1 and / or L2 regularization\n",
    "* Adjust the hyperparameters, e.g. the learning rate of the optimizer, the number of epochs, batch_size and etc.\n",
    "\n",
    "Provide your codes and comments in the below boxes."
   ]
  },
  {
   "cell_type": "code",
   "execution_count": null,
   "metadata": {},
   "outputs": [],
   "source": [
    "# Task 1: Build and Compile the model. \n",
    "# Remember to use the above mentioned regularization techniques\n"
   ]
  },
  {
   "cell_type": "code",
   "execution_count": null,
   "metadata": {},
   "outputs": [],
   "source": [
    "# Task 2: Compile and Fit the model\n",
    "# You can adjust the number of epochs, the batch size, the learning rate of the optimizer and etc.\n"
   ]
  },
  {
   "cell_type": "code",
   "execution_count": null,
   "metadata": {},
   "outputs": [],
   "source": [
    "# Task 3: Plot the training and validation accuracy\n"
   ]
  },
  {
   "cell_type": "code",
   "execution_count": null,
   "metadata": {},
   "outputs": [],
   "source": [
    "# Task 4: Comments\n"
   ]
  }
 ],
 "metadata": {
  "kernelspec": {
   "display_name": "Python 3",
   "language": "python",
   "name": "python3"
  },
  "language_info": {
   "codemirror_mode": {
    "name": "ipython",
    "version": 3
   },
   "file_extension": ".py",
   "mimetype": "text/x-python",
   "name": "python",
   "nbconvert_exporter": "python",
   "pygments_lexer": "ipython3",
   "version": "3.7.7"
  }
 },
 "nbformat": 4,
 "nbformat_minor": 2
}
