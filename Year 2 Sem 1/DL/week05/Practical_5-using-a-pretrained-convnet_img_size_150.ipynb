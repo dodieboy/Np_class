{
 "cells": [
  {
   "cell_type": "markdown",
   "metadata": {},
   "source": [
    "<table class=\"table table-bordered\">\n",
    "    <tr>\n",
    "        <th style=\"text-align:center; width:25%\"><img src='https://www.np.edu.sg/PublishingImages/Pages/default/odp/ICT.jpg' style=\"width: 250px; height: 125px; \"></th>\n",
    "        <th style=\"text-align:center;\"><h1>Deep Learning</h1><h2>Practical 5 - Using a Pre-trained Convnet</h2><h3>AY2020/21 Semester</h3></th>\n",
    "    </tr>\n",
    "</table>"
   ]
  },
  {
   "cell_type": "code",
   "execution_count": 1,
   "metadata": {},
   "outputs": [
    {
     "name": "stdout",
     "output_type": "stream",
     "text": [
      "keras:  2.2.4-tf\n"
     ]
    }
   ],
   "source": [
    "from tensorflow import keras\n",
    "print('keras: ', keras.__version__)\n",
    "\n",
    "from IPython.core.display import display, HTML\n",
    "\n",
    "import tensorflow as tf\n",
    "physical_devices = tf.config.experimental.list_physical_devices('GPU')\n",
    "tf.config.experimental.set_memory_growth(physical_devices[0], True)"
   ]
  },
  {
   "cell_type": "markdown",
   "metadata": {},
   "source": [
    "## Objectives\n",
    "After completing this practical exercise, students should be able to:\n",
    "1. [Perform feature extraction on a pre-trained convnet without and with data augmentation](#fea)\n",
    "2. [Perform fine tuning on a pre-trained convnet](#fine)\n",
    "3. [Exercise: Fine tune and train another pre-trained model](#exc)"
   ]
  },
  {
   "cell_type": "markdown",
   "metadata": {},
   "source": [
    "## 1. Feature extraction <a id='fea' />\n",
    "\n",
    "Feature extraction consists of using the representations learned by a previous network to extract interesting features from new samples. These features are then run through a new classifier, which is trained from scratch."
   ]
  },
  {
   "cell_type": "markdown",
   "metadata": {},
   "source": [
    "In our case, we use the convolutional base of the VGG16 network, trained on ImageNet, to extract interesting features from \n",
    "our cat and dog images, and then training a cat vs. dog classifier on top of these features.\n",
    "\n",
    "The VGG16 model, among others, comes pre-packaged with Keras. You can import it from the `tensorflow.keras.applications` module. Here's the list of image classification models (all pre-trained on the ImageNet dataset) that are available as part of `tensorflow.keras.applications`:\n",
    "\n",
    "* Xception\n",
    "* InceptionV3\n",
    "* ResNet50\n",
    "* VGG16\n",
    "* VGG19\n",
    "* MobileNet\n",
    "\n",
    "Let's instantiate the VGG16 model:"
   ]
  },
  {
   "cell_type": "code",
   "execution_count": 2,
   "metadata": {},
   "outputs": [],
   "source": [
    "from tensorflow.keras.applications import VGG16\n",
    "img_size = 150\n",
    "\n",
    "conv_base = VGG16(weights='imagenet',\n",
    "                  include_top=False,\n",
    "                  input_shape=(img_size, img_size, 3))"
   ]
  },
  {
   "cell_type": "markdown",
   "metadata": {},
   "source": [
    "We passed three arguments to the constructor:\n",
    "\n",
    "* `weights`, to specify which weight checkpoint to initialize the model from\n",
    "* `include_top`, which refers to including or not the densely-connected classifier on top of the network. By default, this \n",
    "densely-connected classifier would correspond to the 1000 classes from ImageNet. Since we intend to use our own densely-connected \n",
    "classifier (with only two classes, cat and dog), we don't need to include it.\n",
    "* `input_shape`, the shape of the image tensors that we will feed to the network. This argument is purely optional: if we don't pass it, \n",
    "then the network will be able to process inputs of any size.\n",
    "\n",
    "Here's the detail of the architecture of the VGG16 convolutional base: it's very similar to the simple convnets that you are already \n",
    "familiar with."
   ]
  },
  {
   "cell_type": "code",
   "execution_count": 3,
   "metadata": {},
   "outputs": [
    {
     "name": "stdout",
     "output_type": "stream",
     "text": [
      "Model: \"vgg16\"\n",
      "_________________________________________________________________\n",
      "Layer (type)                 Output Shape              Param #   \n",
      "=================================================================\n",
      "input_1 (InputLayer)         [(None, 150, 150, 3)]     0         \n",
      "_________________________________________________________________\n",
      "block1_conv1 (Conv2D)        (None, 150, 150, 64)      1792      \n",
      "_________________________________________________________________\n",
      "block1_conv2 (Conv2D)        (None, 150, 150, 64)      36928     \n",
      "_________________________________________________________________\n",
      "block1_pool (MaxPooling2D)   (None, 75, 75, 64)        0         \n",
      "_________________________________________________________________\n",
      "block2_conv1 (Conv2D)        (None, 75, 75, 128)       73856     \n",
      "_________________________________________________________________\n",
      "block2_conv2 (Conv2D)        (None, 75, 75, 128)       147584    \n",
      "_________________________________________________________________\n",
      "block2_pool (MaxPooling2D)   (None, 37, 37, 128)       0         \n",
      "_________________________________________________________________\n",
      "block3_conv1 (Conv2D)        (None, 37, 37, 256)       295168    \n",
      "_________________________________________________________________\n",
      "block3_conv2 (Conv2D)        (None, 37, 37, 256)       590080    \n",
      "_________________________________________________________________\n",
      "block3_conv3 (Conv2D)        (None, 37, 37, 256)       590080    \n",
      "_________________________________________________________________\n",
      "block3_pool (MaxPooling2D)   (None, 18, 18, 256)       0         \n",
      "_________________________________________________________________\n",
      "block4_conv1 (Conv2D)        (None, 18, 18, 512)       1180160   \n",
      "_________________________________________________________________\n",
      "block4_conv2 (Conv2D)        (None, 18, 18, 512)       2359808   \n",
      "_________________________________________________________________\n",
      "block4_conv3 (Conv2D)        (None, 18, 18, 512)       2359808   \n",
      "_________________________________________________________________\n",
      "block4_pool (MaxPooling2D)   (None, 9, 9, 512)         0         \n",
      "_________________________________________________________________\n",
      "block5_conv1 (Conv2D)        (None, 9, 9, 512)         2359808   \n",
      "_________________________________________________________________\n",
      "block5_conv2 (Conv2D)        (None, 9, 9, 512)         2359808   \n",
      "_________________________________________________________________\n",
      "block5_conv3 (Conv2D)        (None, 9, 9, 512)         2359808   \n",
      "_________________________________________________________________\n",
      "block5_pool (MaxPooling2D)   (None, 4, 4, 512)         0         \n",
      "=================================================================\n",
      "Total params: 14,714,688\n",
      "Trainable params: 14,714,688\n",
      "Non-trainable params: 0\n",
      "_________________________________________________________________\n"
     ]
    }
   ],
   "source": [
    "conv_base.summary()"
   ]
  },
  {
   "cell_type": "markdown",
   "metadata": {},
   "source": [
    "The final feature map has shape `(4, 4, 512)`. That's the feature on top of which we will stick a densely-connected classifier.\n",
    "\n",
    "At this point, there are two ways we could proceed: \n",
    "\n",
    "* Feature extraction without data augmentation:\n",
    "Running the convolutional base over our dataset, recording its output to a Numpy array on disk, then using this data as input to a standalone densely-connected classifier. This solution is very fast and cheap to run, because it only requires running the convolutional base once for every input image, and the convolutional base is by far the most expensive part of the pipeline. However, for the exact same reason, this technique would not allow us to leverage data augmentation at all.\n",
    "\n",
    "* Feature extraction with data augmentation:\n",
    "Extending the model we have (`conv_base`) by adding `Dense` layers on top, and running the whole thing end-to-end on the input data. This allows us to use data augmentation, because every input image is going through the convolutional base every time it is seen by the model. However, for this same reason, this technique is far more expensive than the first one.\n",
    "\n",
    "We will cover both techniques. \n",
    "\n",
    "### 1.1 Feature extraction without data augmentation\n",
    "We will record the output of `conv_base` on our data and using these outputs as inputs to a new model.\n",
    "\n",
    "We will start by simply running instances of the previously-introduced `ImageDataGenerator` to extract images as Numpy arrays as well as their labels. We will extract features from these images simply by calling the `predict` method of the `conv_base` model."
   ]
  },
  {
   "cell_type": "code",
   "execution_count": 4,
   "metadata": {},
   "outputs": [
    {
     "name": "stdout",
     "output_type": "stream",
     "text": [
      "Found 2000 images belonging to 2 classes.\n",
      "Found 1000 images belonging to 2 classes.\n",
      "Found 1000 images belonging to 2 classes.\n"
     ]
    }
   ],
   "source": [
    "import os\n",
    "import numpy as np\n",
    "from tensorflow.keras.preprocessing.image import ImageDataGenerator\n",
    "\n",
    "#update base_dir to path where you saved the cats_and_dogs_small dataset\n",
    "base_dir = 'C:/School/NP/Np_class/DL/week04/cats_and_dogs_small'\n",
    "\n",
    "train_dir = os.path.join(base_dir, 'train')\n",
    "validation_dir = os.path.join(base_dir, 'validation')\n",
    "test_dir = os.path.join(base_dir, 'test')\n",
    "\n",
    "datagen = ImageDataGenerator(rescale=1./255)\n",
    "batch_size = 20\n",
    "\n",
    "def extract_features(directory, sample_count):\n",
    "    features = np.zeros(shape=(sample_count, 4, 4, 512))\n",
    "    labels = np.zeros(shape=(sample_count))\n",
    "    generator = datagen.flow_from_directory(\n",
    "        directory,\n",
    "        target_size=(img_size, img_size),\n",
    "        batch_size=batch_size,\n",
    "        class_mode='binary')\n",
    "    i = 0\n",
    "    for inputs_batch, labels_batch in generator:\n",
    "        features_batch = conv_base.predict(inputs_batch)\n",
    "        features[i * batch_size : (i + 1) * batch_size] = features_batch\n",
    "        labels[i * batch_size : (i + 1) * batch_size] = labels_batch\n",
    "        i += 1\n",
    "        if i * batch_size >= sample_count:\n",
    "            # Note that since generators yield data indefinitely in a loop,\n",
    "            # we must `break` after every image has been seen once.\n",
    "            break\n",
    "    return features, labels\n",
    "\n",
    "train_features, train_labels = extract_features(train_dir, 2000)\n",
    "validation_features, validation_labels = extract_features(validation_dir, 1000)\n",
    "test_features, test_labels = extract_features(test_dir, 1000)"
   ]
  },
  {
   "cell_type": "code",
   "execution_count": 5,
   "metadata": {},
   "outputs": [
    {
     "name": "stdout",
     "output_type": "stream",
     "text": [
      "(2000, 4, 4, 512)\n",
      "(2000,)\n"
     ]
    }
   ],
   "source": [
    "print(train_features.shape)\n",
    "print(train_labels.shape)"
   ]
  },
  {
   "cell_type": "markdown",
   "metadata": {},
   "source": [
    "The extracted features are currently of shape `(samples, 4, 4, 512)`. We will feed them to a densely-connected classifier, so first we must \n",
    "flatten them to `(samples, 4 * 4 * 512)`:"
   ]
  },
  {
   "cell_type": "code",
   "execution_count": 6,
   "metadata": {},
   "outputs": [],
   "source": [
    "train_features = np.reshape(train_features, (2000, 4 * 4 * 512))\n",
    "validation_features = np.reshape(validation_features, (1000, 4 * 4 * 512))\n",
    "test_features = np.reshape(test_features, (1000, 4 * 4 * 512))"
   ]
  },
  {
   "cell_type": "markdown",
   "metadata": {},
   "source": [
    "At this point, we can define our densely-connected classifier (note the use of dropout for regularization), and train it on the data and \n",
    "labels that we just recorded:"
   ]
  },
  {
   "cell_type": "code",
   "execution_count": 7,
   "metadata": {},
   "outputs": [
    {
     "name": "stdout",
     "output_type": "stream",
     "text": [
      "Model: \"sequential\"\n",
      "_________________________________________________________________\n",
      "Layer (type)                 Output Shape              Param #   \n",
      "=================================================================\n",
      "dense (Dense)                (None, 256)               2097408   \n",
      "_________________________________________________________________\n",
      "dropout (Dropout)            (None, 256)               0         \n",
      "_________________________________________________________________\n",
      "dense_1 (Dense)              (None, 1)                 257       \n",
      "=================================================================\n",
      "Total params: 2,097,665\n",
      "Trainable params: 2,097,665\n",
      "Non-trainable params: 0\n",
      "_________________________________________________________________\n"
     ]
    }
   ],
   "source": [
    "from tensorflow.keras import models\n",
    "from tensorflow.keras import layers\n",
    "from tensorflow.keras import optimizers\n",
    "\n",
    "model = models.Sequential()\n",
    "model.add(layers.Dense(256, activation='relu', input_shape=(4 * 4 * 512,)))\n",
    "model.add(layers.Dropout(0.5))\n",
    "model.add(layers.Dense(1, activation='sigmoid'))\n",
    "\n",
    "model.summary()"
   ]
  },
  {
   "cell_type": "code",
   "execution_count": 8,
   "metadata": {},
   "outputs": [
    {
     "name": "stdout",
     "output_type": "stream",
     "text": [
      "Train on 2000 samples, validate on 1000 samples\n",
      "Epoch 1/30\n",
      "2000/2000 [==============================] - 1s 533us/sample - loss: 0.5920 - acc: 0.6820 - val_loss: 0.4315 - val_acc: 0.8330\n",
      "Epoch 2/30\n",
      "2000/2000 [==============================] - 1s 302us/sample - loss: 0.4179 - acc: 0.8110 - val_loss: 0.3559 - val_acc: 0.8620\n",
      "Epoch 3/30\n",
      "2000/2000 [==============================] - 1s 299us/sample - loss: 0.3582 - acc: 0.8475 - val_loss: 0.3190 - val_acc: 0.8750\n",
      "Epoch 4/30\n",
      "2000/2000 [==============================] - 1s 299us/sample - loss: 0.3117 - acc: 0.8685 - val_loss: 0.2972 - val_acc: 0.8790\n",
      "Epoch 5/30\n",
      "2000/2000 [==============================] - 1s 299us/sample - loss: 0.2898 - acc: 0.8815 - val_loss: 0.2939 - val_acc: 0.8780\n",
      "Epoch 6/30\n",
      "2000/2000 [==============================] - 1s 303us/sample - loss: 0.2645 - acc: 0.8905 - val_loss: 0.2765 - val_acc: 0.8910\n",
      "Epoch 7/30\n",
      "2000/2000 [==============================] - 1s 306us/sample - loss: 0.2465 - acc: 0.9015 - val_loss: 0.2671 - val_acc: 0.8950\n",
      "Epoch 8/30\n",
      "2000/2000 [==============================] - 1s 300us/sample - loss: 0.2282 - acc: 0.9115 - val_loss: 0.2607 - val_acc: 0.8950\n",
      "Epoch 9/30\n",
      "2000/2000 [==============================] - 1s 299us/sample - loss: 0.2191 - acc: 0.9185 - val_loss: 0.2589 - val_acc: 0.8970\n",
      "Epoch 10/30\n",
      "2000/2000 [==============================] - 1s 303us/sample - loss: 0.2000 - acc: 0.9220 - val_loss: 0.2564 - val_acc: 0.8930\n",
      "Epoch 11/30\n",
      "2000/2000 [==============================] - 1s 307us/sample - loss: 0.1973 - acc: 0.9260 - val_loss: 0.2482 - val_acc: 0.9020\n",
      "Epoch 12/30\n",
      "2000/2000 [==============================] - 1s 301us/sample - loss: 0.1844 - acc: 0.9310 - val_loss: 0.2462 - val_acc: 0.9010\n",
      "Epoch 13/30\n",
      "2000/2000 [==============================] - 1s 298us/sample - loss: 0.1738 - acc: 0.9400 - val_loss: 0.2444 - val_acc: 0.9020\n",
      "Epoch 14/30\n",
      "2000/2000 [==============================] - 1s 299us/sample - loss: 0.1698 - acc: 0.9385 - val_loss: 0.2431 - val_acc: 0.9040\n",
      "Epoch 15/30\n",
      "2000/2000 [==============================] - 1s 310us/sample - loss: 0.1579 - acc: 0.9460 - val_loss: 0.2421 - val_acc: 0.9050\n",
      "Epoch 16/30\n",
      "2000/2000 [==============================] - 1s 302us/sample - loss: 0.1551 - acc: 0.9470 - val_loss: 0.2413 - val_acc: 0.9020\n",
      "Epoch 17/30\n",
      "2000/2000 [==============================] - 1s 303us/sample - loss: 0.1464 - acc: 0.9520 - val_loss: 0.2434 - val_acc: 0.9000\n",
      "Epoch 18/30\n",
      "2000/2000 [==============================] - 1s 298us/sample - loss: 0.1346 - acc: 0.9530 - val_loss: 0.2418 - val_acc: 0.9010\n",
      "Epoch 19/30\n",
      "2000/2000 [==============================] - 1s 300us/sample - loss: 0.1358 - acc: 0.9550 - val_loss: 0.2377 - val_acc: 0.9020\n",
      "Epoch 20/30\n",
      "2000/2000 [==============================] - 1s 300us/sample - loss: 0.1299 - acc: 0.9580 - val_loss: 0.2370 - val_acc: 0.9050\n",
      "Epoch 21/30\n",
      "2000/2000 [==============================] - 1s 299us/sample - loss: 0.1239 - acc: 0.9550 - val_loss: 0.2475 - val_acc: 0.8990\n",
      "Epoch 22/30\n",
      "2000/2000 [==============================] - 1s 300us/sample - loss: 0.1179 - acc: 0.9645 - val_loss: 0.2454 - val_acc: 0.9030\n",
      "Epoch 23/30\n",
      "2000/2000 [==============================] - 1s 299us/sample - loss: 0.1127 - acc: 0.9665 - val_loss: 0.2397 - val_acc: 0.9000\n",
      "Epoch 24/30\n",
      "2000/2000 [==============================] - 1s 301us/sample - loss: 0.1055 - acc: 0.9635 - val_loss: 0.2386 - val_acc: 0.9020\n",
      "Epoch 25/30\n",
      "2000/2000 [==============================] - 1s 299us/sample - loss: 0.1053 - acc: 0.9665 - val_loss: 0.2505 - val_acc: 0.9030\n",
      "Epoch 26/30\n",
      "2000/2000 [==============================] - 1s 300us/sample - loss: 0.1045 - acc: 0.9650 - val_loss: 0.2525 - val_acc: 0.8980\n",
      "Epoch 27/30\n",
      "2000/2000 [==============================] - 1s 310us/sample - loss: 0.1017 - acc: 0.9655 - val_loss: 0.2388 - val_acc: 0.9020\n",
      "Epoch 28/30\n",
      "2000/2000 [==============================] - 1s 301us/sample - loss: 0.0915 - acc: 0.9725 - val_loss: 0.2380 - val_acc: 0.9010\n",
      "Epoch 29/30\n",
      "2000/2000 [==============================] - 1s 305us/sample - loss: 0.0864 - acc: 0.9755 - val_loss: 0.2410 - val_acc: 0.9000\n",
      "Epoch 30/30\n",
      "2000/2000 [==============================] - 1s 299us/sample - loss: 0.0878 - acc: 0.9745 - val_loss: 0.2489 - val_acc: 0.9050\n"
     ]
    }
   ],
   "source": [
    "model.compile(optimizer=optimizers.RMSprop(lr=2e-5),\n",
    "              loss='binary_crossentropy',\n",
    "              metrics=['acc'])\n",
    "\n",
    "history = model.fit(train_features, train_labels,\n",
    "                    epochs=30,\n",
    "                    batch_size=20,\n",
    "                    validation_data=(validation_features, validation_labels))"
   ]
  },
  {
   "cell_type": "markdown",
   "metadata": {},
   "source": [
    "Training is very fast, since we only have to deal with two `Dense` layers -- an epoch takes less than one second even on CPU.\n",
    "\n",
    "Let's take a look at the loss and accuracy curves during training:"
   ]
  },
  {
   "cell_type": "code",
   "execution_count": 9,
   "metadata": {},
   "outputs": [
    {
     "data": {
      "image/png": "[encoded data removed]",
      "text/plain": [
       "<Figure size 432x288 with 1 Axes>"
      ]
     },
     "metadata": {
      "needs_background": "light"
     },
     "output_type": "display_data"
    },
    {
     "data": {
      "image/png": "[encoded data removed]",
      "text/plain": [
       "<Figure size 432x288 with 1 Axes>"
      ]
     },
     "metadata": {
      "needs_background": "light"
     },
     "output_type": "display_data"
    }
   ],
   "source": [
    "import matplotlib.pyplot as plt\n",
    "%matplotlib inline\n",
    "\n",
    "acc = history.history['acc']\n",
    "val_acc = history.history['val_acc']\n",
    "loss = history.history['loss']\n",
    "val_loss = history.history['val_loss']\n",
    "\n",
    "epochs = range(len(acc))\n",
    "\n",
    "plt.plot(epochs, acc, 'bo', label='Training acc')\n",
    "plt.plot(epochs, val_acc, 'b', label='Validation acc')\n",
    "plt.title('Training and validation accuracy')\n",
    "plt.legend()\n",
    "\n",
    "plt.figure()\n",
    "\n",
    "plt.plot(epochs, loss, 'bo', label='Training loss')\n",
    "plt.plot(epochs, val_loss, 'b', label='Validation loss')\n",
    "plt.title('Training and validation loss')\n",
    "plt.legend()\n",
    "\n",
    "plt.show()"
   ]
  },
  {
   "cell_type": "markdown",
   "metadata": {},
   "source": [
    "\n",
    "We reach a validation accuracy of about 90%, much better than what we could achieve previously with our small model trained from \n",
    "scratch. However, our plots also indicate that we are overfitting almost from the start -- despite using dropout with a fairly large rate. \n",
    "This is because this technique does not leverage data augmentation, which is essential to preventing overfitting with small image datasets.\n",
    "\n",
    "### 1.2 Feature extraction with data augmentation\n",
    "\n",
    "Now, let's review the second technique we mentioned for doing feature extraction, which is much slower and more expensive, but which allows us to leverage data augmentation during training: extending the `conv_base` model and running it end-to-end on the inputs. Note that this technique is very computationally expensive and the below program may take very long time to complete.\n",
    "\n",
    "Because models behave just like layers, you can add a model (like our `conv_base`) to a `Sequential` model just like you would add a layer. \n",
    "So you can do the following:"
   ]
  },
  {
   "cell_type": "code",
   "execution_count": 10,
   "metadata": {},
   "outputs": [],
   "source": [
    "from tensorflow.keras import models\n",
    "from tensorflow.keras import layers\n",
    "\n",
    "model = models.Sequential()\n",
    "model.add(conv_base)\n",
    "model.add(layers.Flatten())\n",
    "model.add(layers.Dense(256, activation='relu'))\n",
    "model.add(layers.Dense(1, activation='sigmoid'))"
   ]
  },
  {
   "cell_type": "markdown",
   "metadata": {},
   "source": [
    "This is what our model looks like now:"
   ]
  },
  {
   "cell_type": "code",
   "execution_count": 11,
   "metadata": {},
   "outputs": [
    {
     "name": "stdout",
     "output_type": "stream",
     "text": [
      "Model: \"sequential_1\"\n",
      "_________________________________________________________________\n",
      "Layer (type)                 Output Shape              Param #   \n",
      "=================================================================\n",
      "vgg16 (Model)                (None, 4, 4, 512)         14714688  \n",
      "_________________________________________________________________\n",
      "flatten (Flatten)            (None, 8192)              0         \n",
      "_________________________________________________________________\n",
      "dense_2 (Dense)              (None, 256)               2097408   \n",
      "_________________________________________________________________\n",
      "dense_3 (Dense)              (None, 1)                 257       \n",
      "=================================================================\n",
      "Total params: 16,812,353\n",
      "Trainable params: 16,812,353\n",
      "Non-trainable params: 0\n",
      "_________________________________________________________________\n"
     ]
    }
   ],
   "source": [
    "model.summary()"
   ]
  },
  {
   "cell_type": "markdown",
   "metadata": {},
   "source": [
    "As you can see, the convolutional base of VGG16 has 14,714,688 parameters, which is very large. The classifier we are adding on top has 2 \n",
    "million parameters.\n",
    "\n",
    "Before we compile and train our model, a very important thing to do is to freeze the convolutional base. \"Freezing\" a layer or set of \n",
    "layers means preventing their weights from getting updated during training. If we don't do this, then the representations that were \n",
    "previously learned by the convolutional base would get modified during training. Since the `Dense` layers on top are randomly initialized, \n",
    "very large weight updates would be propagated through the network, effectively destroying the representations previously learned.\n",
    "\n",
    "In Keras, freezing a network is done by setting its `trainable` attribute to `False`:"
   ]
  },
  {
   "cell_type": "code",
   "execution_count": 12,
   "metadata": {},
   "outputs": [],
   "source": [
    "conv_base.trainable = False"
   ]
  },
  {
   "cell_type": "code",
   "execution_count": 13,
   "metadata": {},
   "outputs": [
    {
     "name": "stdout",
     "output_type": "stream",
     "text": [
      "Model: \"sequential_1\"\n",
      "_________________________________________________________________\n",
      "Layer (type)                 Output Shape              Param #   \n",
      "=================================================================\n",
      "vgg16 (Model)                (None, 4, 4, 512)         14714688  \n",
      "_________________________________________________________________\n",
      "flatten (Flatten)            (None, 8192)              0         \n",
      "_________________________________________________________________\n",
      "dense_2 (Dense)              (None, 256)               2097408   \n",
      "_________________________________________________________________\n",
      "dense_3 (Dense)              (None, 1)                 257       \n",
      "=================================================================\n",
      "Total params: 16,812,353\n",
      "Trainable params: 2,097,665\n",
      "Non-trainable params: 14,714,688\n",
      "_________________________________________________________________\n"
     ]
    }
   ],
   "source": [
    "model.summary()"
   ]
  },
  {
   "cell_type": "markdown",
   "metadata": {},
   "source": [
    "With this setup, only the weights from the two `Dense` layers that we added will be trained. Note that in order for these changes to take effect, we must first compile the model. If you ever modify weight trainability after compilation, you should then re-compile the model, or these changes would be ignored.\n",
    "\n",
    "Now we can start training our model, with the same data augmentation configuration that we used in our previous example:"
   ]
  },
  {
   "cell_type": "code",
   "execution_count": 14,
   "metadata": {},
   "outputs": [
    {
     "name": "stdout",
     "output_type": "stream",
     "text": [
      "Found 2000 images belonging to 2 classes.\n",
      "Found 1000 images belonging to 2 classes.\n",
      "WARNING:tensorflow:From <ipython-input-14-5bbe1fa2b259>:41: Model.fit_generator (from tensorflow.python.keras.engine.training) is deprecated and will be removed in a future version.\n",
      "Instructions for updating:\n",
      "Please use Model.fit, which supports generators.\n",
      "WARNING:tensorflow:sample_weight modes were coerced from\n",
      "  ...\n",
      "    to  \n",
      "  ['...']\n",
      "WARNING:tensorflow:sample_weight modes were coerced from\n",
      "  ...\n",
      "    to  \n",
      "  ['...']\n",
      "Train for 100 steps, validate for 50 steps\n",
      "Epoch 1/30\n",
      "100/100 [==============================] - 23s 231ms/step - loss: 0.5951 - acc: 0.6920 - val_loss: 0.4663 - val_acc: 0.7950\n",
      "Epoch 2/30\n",
      "100/100 [==============================] - 22s 224ms/step - loss: 0.4765 - acc: 0.7870 - val_loss: 0.3969 - val_acc: 0.8250\n",
      "Epoch 3/30\n",
      "100/100 [==============================] - 23s 233ms/step - loss: 0.4318 - acc: 0.8025 - val_loss: 0.3422 - val_acc: 0.8590\n",
      "Epoch 4/30\n",
      "100/100 [==============================] - 24s 240ms/step - loss: 0.4089 - acc: 0.8240 - val_loss: 0.3138 - val_acc: 0.8710\n",
      "Epoch 5/30\n",
      "100/100 [==============================] - 24s 240ms/step - loss: 0.3825 - acc: 0.8285 - val_loss: 0.3003 - val_acc: 0.8780\n",
      "Epoch 6/30\n",
      "100/100 [==============================] - 24s 241ms/step - loss: 0.3745 - acc: 0.8255 - val_loss: 0.3020 - val_acc: 0.8710\n",
      "Epoch 7/30\n",
      "100/100 [==============================] - 24s 242ms/step - loss: 0.3574 - acc: 0.8430 - val_loss: 0.2831 - val_acc: 0.8820\n",
      "Epoch 8/30\n",
      "100/100 [==============================] - 24s 243ms/step - loss: 0.3542 - acc: 0.8490 - val_loss: 0.2963 - val_acc: 0.8670\n",
      "Epoch 9/30\n",
      "100/100 [==============================] - 24s 243ms/step - loss: 0.3383 - acc: 0.8485 - val_loss: 0.2678 - val_acc: 0.8930\n",
      "Epoch 10/30\n",
      "100/100 [==============================] - 25s 247ms/step - loss: 0.3333 - acc: 0.8525 - val_loss: 0.2654 - val_acc: 0.8950\n",
      "Epoch 11/30\n",
      "100/100 [==============================] - 25s 245ms/step - loss: 0.3365 - acc: 0.8490 - val_loss: 0.2620 - val_acc: 0.8910\n",
      "Epoch 12/30\n",
      "100/100 [==============================] - 24s 243ms/step - loss: 0.3317 - acc: 0.8555 - val_loss: 0.2608 - val_acc: 0.8880\n",
      "Epoch 13/30\n",
      "100/100 [==============================] - 24s 244ms/step - loss: 0.3271 - acc: 0.8535 - val_loss: 0.2576 - val_acc: 0.8910\n",
      "Epoch 14/30\n",
      "100/100 [==============================] - 24s 244ms/step - loss: 0.3247 - acc: 0.8585 - val_loss: 0.2541 - val_acc: 0.8970\n",
      "Epoch 15/30\n",
      "100/100 [==============================] - 25s 246ms/step - loss: 0.3031 - acc: 0.8700 - val_loss: 0.2818 - val_acc: 0.8810\n",
      "Epoch 16/30\n",
      "100/100 [==============================] - 24s 244ms/step - loss: 0.3009 - acc: 0.8680 - val_loss: 0.2748 - val_acc: 0.8880\n",
      "Epoch 17/30\n",
      "100/100 [==============================] - 24s 236ms/step - loss: 0.3052 - acc: 0.8695 - val_loss: 0.2473 - val_acc: 0.9000\n",
      "Epoch 18/30\n",
      "100/100 [==============================] - 24s 242ms/step - loss: 0.3121 - acc: 0.8610 - val_loss: 0.2520 - val_acc: 0.8970\n",
      "Epoch 19/30\n",
      "100/100 [==============================] - 24s 245ms/step - loss: 0.3086 - acc: 0.8700 - val_loss: 0.2451 - val_acc: 0.9000\n",
      "Epoch 20/30\n",
      "100/100 [==============================] - 25s 245ms/step - loss: 0.2982 - acc: 0.8755 - val_loss: 0.2493 - val_acc: 0.8940\n",
      "Epoch 21/30\n",
      "100/100 [==============================] - 25s 252ms/step - loss: 0.2874 - acc: 0.8800 - val_loss: 0.2453 - val_acc: 0.9060\n",
      "Epoch 22/30\n",
      "100/100 [==============================] - 24s 235ms/step - loss: 0.2923 - acc: 0.8660 - val_loss: 0.2540 - val_acc: 0.8990\n",
      "Epoch 23/30\n",
      "100/100 [==============================] - 25s 249ms/step - loss: 0.2893 - acc: 0.8755 - val_loss: 0.2426 - val_acc: 0.9000\n",
      "Epoch 24/30\n",
      "100/100 [==============================] - 25s 254ms/step - loss: 0.2883 - acc: 0.8750 - val_loss: 0.2417 - val_acc: 0.9050\n",
      "Epoch 25/30\n",
      "100/100 [==============================] - 26s 257ms/step - loss: 0.2894 - acc: 0.8735 - val_loss: 0.2421 - val_acc: 0.9020\n",
      "Epoch 26/30\n",
      "100/100 [==============================] - 26s 261ms/step - loss: 0.2855 - acc: 0.8720 - val_loss: 0.2491 - val_acc: 0.9000\n",
      "Epoch 27/30\n",
      "100/100 [==============================] - 26s 259ms/step - loss: 0.2845 - acc: 0.8725 - val_loss: 0.2512 - val_acc: 0.8970\n",
      "Epoch 28/30\n",
      "100/100 [==============================] - 26s 260ms/step - loss: 0.2935 - acc: 0.8755 - val_loss: 0.2447 - val_acc: 0.9000\n",
      "Epoch 29/30\n",
      "100/100 [==============================] - 25s 253ms/step - loss: 0.2871 - acc: 0.8775 - val_loss: 0.2396 - val_acc: 0.9090\n",
      "Epoch 30/30\n",
      "100/100 [==============================] - 26s 260ms/step - loss: 0.2834 - acc: 0.8835 - val_loss: 0.2407 - val_acc: 0.9060\n"
     ]
    }
   ],
   "source": [
    "from tensorflow.keras.preprocessing.image import ImageDataGenerator\n",
    "\n",
    "train_datagen = ImageDataGenerator(\n",
    "      rescale=1./255,\n",
    "      rotation_range=40,\n",
    "      width_shift_range=0.2,\n",
    "      height_shift_range=0.2,\n",
    "      shear_range=0.2,\n",
    "      zoom_range=0.2,\n",
    "      horizontal_flip=True,\n",
    "      fill_mode='nearest')\n",
    "\n",
    "# Note that the validation data should not be augmented!\n",
    "test_datagen = ImageDataGenerator(rescale=1./255)\n",
    "\n",
    "train_generator = train_datagen.flow_from_directory(\n",
    "        # This is the target directory\n",
    "        train_dir,\n",
    "        # All images will be resized to 150x150\n",
    "        target_size=(img_size, img_size),\n",
    "        batch_size=20,\n",
    "        # Since we use binary_crossentropy loss, we need binary labels\n",
    "        class_mode='binary')\n",
    "\n",
    "validation_generator = test_datagen.flow_from_directory(\n",
    "        validation_dir,\n",
    "        target_size=(img_size, img_size),\n",
    "        batch_size=20,\n",
    "        class_mode='binary')\n",
    "\n",
    "model.compile(loss='binary_crossentropy',\n",
    "              optimizer=optimizers.RMSprop(lr=2e-5),\n",
    "              metrics=['acc'])\n",
    "\n",
    "history = model.fit_generator(\n",
    "      train_generator,\n",
    "      steps_per_epoch=100,\n",
    "      epochs=30,\n",
    "      validation_data=validation_generator,\n",
    "      validation_steps=50,\n",
    "      verbose=1)"
   ]
  },
  {
   "cell_type": "code",
   "execution_count": 15,
   "metadata": {},
   "outputs": [],
   "source": [
    "model.save('cats_and_dogs_small_3.h5')"
   ]
  },
  {
   "cell_type": "markdown",
   "metadata": {},
   "source": [
    "Let's plot our results again:"
   ]
  },
  {
   "cell_type": "code",
   "execution_count": 16,
   "metadata": {},
   "outputs": [
    {
     "data": {
      "image/png": "[encoded data removed]",
      "text/plain": [
       "<Figure size 432x288 with 1 Axes>"
      ]
     },
     "metadata": {
      "needs_background": "light"
     },
     "output_type": "display_data"
    },
    {
     "data": {
      "image/png": "[encoded data removed]",
      "text/plain": [
       "<Figure size 432x288 with 1 Axes>"
      ]
     },
     "metadata": {
      "needs_background": "light"
     },
     "output_type": "display_data"
    }
   ],
   "source": [
    "acc = history.history['acc']\n",
    "val_acc = history.history['val_acc']\n",
    "loss = history.history['loss']\n",
    "val_loss = history.history['val_loss']\n",
    "\n",
    "epochs = range(len(acc))\n",
    "\n",
    "plt.plot(epochs, acc, 'bo', label='Training acc')\n",
    "plt.plot(epochs, val_acc, 'b', label='Validation acc')\n",
    "plt.title('Training and validation accuracy')\n",
    "plt.legend()\n",
    "\n",
    "plt.figure()\n",
    "\n",
    "plt.plot(epochs, loss, 'bo', label='Training loss')\n",
    "plt.plot(epochs, val_loss, 'b', label='Validation loss')\n",
    "plt.title('Training and validation loss')\n",
    "plt.legend()\n",
    "\n",
    "plt.show()"
   ]
  },
  {
   "cell_type": "markdown",
   "metadata": {},
   "source": [
    "As you can see, we reach a validation accuracy of about 90%. This is much better than our small convnet trained from scratch."
   ]
  },
  {
   "cell_type": "markdown",
   "metadata": {},
   "source": [
    "## 2. Fine-tuning <a id='fine' />\n",
    "\n",
    "Another widely used technique for model reuse, complementary to feature extraction, is _fine-tuning_. \n",
    "Fine-tuning consists in unfreezing a few of the top layers \n",
    "of a frozen model base used for feature extraction, and jointly training both the newly added part of the model (in our case, the \n",
    "fully-connected classifier) and these top layers. This is called \"fine-tuning\" because it slightly adjusts the more abstract \n",
    "representations of the model being reused, in order to make them more relevant for the problem at hand.\n",
    "\n",
    "![fine-tuning VGG16](https://s3.amazonaws.com/book.keras.io/img/ch5/vgg16_fine_tuning.png)"
   ]
  },
  {
   "cell_type": "markdown",
   "metadata": {},
   "source": [
    "We have stated before that it was necessary to freeze the convolution base of VGG16 in order to be able to train a randomly initialized \n",
    "classifier on top. For the same reason, it is only possible to fine-tune the top layers of the convolutional base once the classifier on \n",
    "top has already been trained. If the classified wasn't already trained, then the error signal propagating through the network during \n",
    "training would be too large, and the representations previously learned by the layers being fine-tuned would be destroyed. Thus the steps \n",
    "for fine-tuning a network are as follow:\n",
    "\n",
    "* 1) Add your custom network on top of an already trained base network.\n",
    "* 2) Freeze the base network.\n",
    "* 3) Train the part you added.\n",
    "* 4) Unfreeze some layers in the base network.\n",
    "* 5) Jointly train both these layers and the part you added.\n",
    "\n",
    "We have already completed the first 3 steps when doing feature extraction. Let's proceed with the 4th step: we will unfreeze our `conv_base`, \n",
    "and then freeze individual layers inside of it.\n",
    "\n",
    "As a reminder, this is what our convolutional base looks like:"
   ]
  },
  {
   "cell_type": "code",
   "execution_count": 17,
   "metadata": {},
   "outputs": [
    {
     "name": "stdout",
     "output_type": "stream",
     "text": [
      "Model: \"vgg16\"\n",
      "_________________________________________________________________\n",
      "Layer (type)                 Output Shape              Param #   \n",
      "=================================================================\n",
      "input_1 (InputLayer)         [(None, 150, 150, 3)]     0         \n",
      "_________________________________________________________________\n",
      "block1_conv1 (Conv2D)        (None, 150, 150, 64)      1792      \n",
      "_________________________________________________________________\n",
      "block1_conv2 (Conv2D)        (None, 150, 150, 64)      36928     \n",
      "_________________________________________________________________\n",
      "block1_pool (MaxPooling2D)   (None, 75, 75, 64)        0         \n",
      "_________________________________________________________________\n",
      "block2_conv1 (Conv2D)        (None, 75, 75, 128)       73856     \n",
      "_________________________________________________________________\n",
      "block2_conv2 (Conv2D)        (None, 75, 75, 128)       147584    \n",
      "_________________________________________________________________\n",
      "block2_pool (MaxPooling2D)   (None, 37, 37, 128)       0         \n",
      "_________________________________________________________________\n",
      "block3_conv1 (Conv2D)        (None, 37, 37, 256)       295168    \n",
      "_________________________________________________________________\n",
      "block3_conv2 (Conv2D)        (None, 37, 37, 256)       590080    \n",
      "_________________________________________________________________\n",
      "block3_conv3 (Conv2D)        (None, 37, 37, 256)       590080    \n",
      "_________________________________________________________________\n",
      "block3_pool (MaxPooling2D)   (None, 18, 18, 256)       0         \n",
      "_________________________________________________________________\n",
      "block4_conv1 (Conv2D)        (None, 18, 18, 512)       1180160   \n",
      "_________________________________________________________________\n",
      "block4_conv2 (Conv2D)        (None, 18, 18, 512)       2359808   \n",
      "_________________________________________________________________\n",
      "block4_conv3 (Conv2D)        (None, 18, 18, 512)       2359808   \n",
      "_________________________________________________________________\n",
      "block4_pool (MaxPooling2D)   (None, 9, 9, 512)         0         \n",
      "_________________________________________________________________\n",
      "block5_conv1 (Conv2D)        (None, 9, 9, 512)         2359808   \n",
      "_________________________________________________________________\n",
      "block5_conv2 (Conv2D)        (None, 9, 9, 512)         2359808   \n",
      "_________________________________________________________________\n",
      "block5_conv3 (Conv2D)        (None, 9, 9, 512)         2359808   \n",
      "_________________________________________________________________\n",
      "block5_pool (MaxPooling2D)   (None, 4, 4, 512)         0         \n",
      "=================================================================\n",
      "Total params: 14,714,688\n",
      "Trainable params: 0\n",
      "Non-trainable params: 14,714,688\n",
      "_________________________________________________________________\n"
     ]
    }
   ],
   "source": [
    "conv_base.summary()"
   ]
  },
  {
   "cell_type": "markdown",
   "metadata": {},
   "source": [
    "\n",
    "We will fine-tune the last 3 convolutional layers, which means that all layers up until `block4_pool` should be frozen, and the layers \n",
    "`block5_conv1`, `block5_conv2` and `block5_conv3` should be trainable.\n",
    "\n",
    "Why not fine-tune more layers? Why not fine-tune the entire convolutional base? We could. However, we need to consider that:\n",
    "\n",
    "* Earlier layers in the convolutional base encode more generic, reusable features, while layers higher up encode more specialized features. It is \n",
    "more useful to fine-tune the more specialized features, as these are the ones that need to be repurposed on our new problem. There would \n",
    "be fast-decreasing returns in fine-tuning lower layers.\n",
    "* The more parameters we are training, the more we are at risk of overfitting. The convolutional base has 15M parameters, so it would be \n",
    "risky to attempt to train it on our small dataset.\n",
    "\n",
    "Thus, in our situation, it is a good strategy to only fine-tune the top 2 to 3 layers in the convolutional base.\n",
    "\n",
    "Let's set this up, starting from where we left off in the previous example:"
   ]
  },
  {
   "cell_type": "code",
   "execution_count": 18,
   "metadata": {},
   "outputs": [
    {
     "name": "stdout",
     "output_type": "stream",
     "text": [
      "Model: \"sequential_1\"\n",
      "_________________________________________________________________\n",
      "Layer (type)                 Output Shape              Param #   \n",
      "=================================================================\n",
      "vgg16 (Model)                (None, 4, 4, 512)         14714688  \n",
      "_________________________________________________________________\n",
      "flatten (Flatten)            (None, 8192)              0         \n",
      "_________________________________________________________________\n",
      "dense_2 (Dense)              (None, 256)               2097408   \n",
      "_________________________________________________________________\n",
      "dense_3 (Dense)              (None, 1)                 257       \n",
      "=================================================================\n",
      "Total params: 16,812,353\n",
      "Trainable params: 9,177,089\n",
      "Non-trainable params: 7,635,264\n",
      "_________________________________________________________________\n"
     ]
    }
   ],
   "source": [
    "conv_base.trainable = True\n",
    "\n",
    "set_trainable = False\n",
    "for layer in conv_base.layers:\n",
    "    if layer.name == 'block5_conv1':\n",
    "        set_trainable = True # after black5_conv1, set_trainable becomes True\n",
    "    if set_trainable:\n",
    "        layer.trainable = True\n",
    "    else:\n",
    "        layer.trainable = False\n",
    "        \n",
    "        \n",
    "model.compile(loss='binary_crossentropy',\n",
    "              optimizer=optimizers.RMSprop(lr=1e-5),\n",
    "              metrics=['acc'])        \n",
    "model.summary()"
   ]
  },
  {
   "cell_type": "markdown",
   "metadata": {},
   "source": [
    "Now we can start fine-tuning our network. We will do this with the RMSprop optimizer, using a very low learning rate. The reason for using \n",
    "a low learning rate is that we want to limit the magnitude of the modifications we make to the representations of the 3 layers that we are \n",
    "fine-tuning. Updates that are too large may harm these representations.\n",
    "\n",
    "Now let's proceed with fine-tuning:"
   ]
  },
  {
   "cell_type": "code",
   "execution_count": 19,
   "metadata": {},
   "outputs": [
    {
     "name": "stdout",
     "output_type": "stream",
     "text": [
      "WARNING:tensorflow:sample_weight modes were coerced from\n",
      "  ...\n",
      "    to  \n",
      "  ['...']\n",
      "WARNING:tensorflow:sample_weight modes were coerced from\n",
      "  ...\n",
      "    to  \n",
      "  ['...']\n",
      "Train for 100 steps, validate for 50 steps\n",
      "Epoch 1/100\n",
      "100/100 [==============================] - 29s 293ms/step - loss: 0.2938 - acc: 0.8745 - val_loss: 0.2308 - val_acc: 0.9080\n",
      "Epoch 2/100\n",
      "100/100 [==============================] - 27s 269ms/step - loss: 0.2548 - acc: 0.8890 - val_loss: 0.2237 - val_acc: 0.9140\n",
      "Epoch 3/100\n",
      "100/100 [==============================] - 28s 275ms/step - loss: 0.2453 - acc: 0.8990 - val_loss: 0.2002 - val_acc: 0.9180\n",
      "Epoch 4/100\n",
      "100/100 [==============================] - 27s 274ms/step - loss: 0.2141 - acc: 0.9105 - val_loss: 0.2062 - val_acc: 0.9220\n",
      "Epoch 5/100\n",
      "100/100 [==============================] - 28s 280ms/step - loss: 0.2003 - acc: 0.9095 - val_loss: 0.2253 - val_acc: 0.9180\n",
      "Epoch 6/100\n",
      "100/100 [==============================] - 28s 280ms/step - loss: 0.1831 - acc: 0.9265 - val_loss: 0.1984 - val_acc: 0.9220\n",
      "Epoch 7/100\n",
      "100/100 [==============================] - 28s 280ms/step - loss: 0.1660 - acc: 0.9365 - val_loss: 0.2007 - val_acc: 0.9220\n",
      "Epoch 8/100\n",
      "100/100 [==============================] - 28s 279ms/step - loss: 0.1692 - acc: 0.9355 - val_loss: 0.1914 - val_acc: 0.9250\n",
      "Epoch 9/100\n",
      "100/100 [==============================] - 28s 280ms/step - loss: 0.1672 - acc: 0.9330 - val_loss: 0.2187 - val_acc: 0.9220\n",
      "Epoch 10/100\n",
      "100/100 [==============================] - 28s 281ms/step - loss: 0.1542 - acc: 0.9375 - val_loss: 0.1925 - val_acc: 0.9300\n",
      "Epoch 11/100\n",
      "100/100 [==============================] - 28s 284ms/step - loss: 0.1567 - acc: 0.9380 - val_loss: 0.1805 - val_acc: 0.9290\n",
      "Epoch 12/100\n",
      "100/100 [==============================] - 28s 278ms/step - loss: 0.1473 - acc: 0.9420 - val_loss: 0.3072 - val_acc: 0.8990\n",
      "Epoch 13/100\n",
      "100/100 [==============================] - 28s 282ms/step - loss: 0.1297 - acc: 0.9515 - val_loss: 0.2135 - val_acc: 0.9260\n",
      "Epoch 14/100\n",
      "100/100 [==============================] - 28s 279ms/step - loss: 0.1355 - acc: 0.9435 - val_loss: 0.1771 - val_acc: 0.9340\n",
      "Epoch 15/100\n",
      "100/100 [==============================] - 28s 281ms/step - loss: 0.1240 - acc: 0.9505 - val_loss: 0.1857 - val_acc: 0.9260\n",
      "Epoch 16/100\n",
      "100/100 [==============================] - 28s 279ms/step - loss: 0.1041 - acc: 0.9640 - val_loss: 0.2115 - val_acc: 0.9280\n",
      "Epoch 17/100\n",
      "100/100 [==============================] - 28s 281ms/step - loss: 0.1078 - acc: 0.9605 - val_loss: 0.1971 - val_acc: 0.9320\n",
      "Epoch 18/100\n",
      "100/100 [==============================] - 28s 281ms/step - loss: 0.1026 - acc: 0.9600 - val_loss: 0.2222 - val_acc: 0.9280\n",
      "Epoch 19/100\n",
      "100/100 [==============================] - 28s 278ms/step - loss: 0.1034 - acc: 0.9620 - val_loss: 0.2045 - val_acc: 0.9250\n",
      "Epoch 20/100\n",
      "100/100 [==============================] - 30s 296ms/step - loss: 0.0954 - acc: 0.9640 - val_loss: 0.1904 - val_acc: 0.9330\n",
      "Epoch 21/100\n",
      "100/100 [==============================] - 28s 278ms/step - loss: 0.0893 - acc: 0.9660 - val_loss: 0.4281 - val_acc: 0.8860\n",
      "Epoch 22/100\n",
      "100/100 [==============================] - 28s 276ms/step - loss: 0.0903 - acc: 0.9630 - val_loss: 0.2248 - val_acc: 0.9270\n",
      "Epoch 23/100\n",
      "100/100 [==============================] - 27s 275ms/step - loss: 0.0783 - acc: 0.9705 - val_loss: 0.2022 - val_acc: 0.9330\n",
      "Epoch 24/100\n",
      "100/100 [==============================] - 28s 278ms/step - loss: 0.0905 - acc: 0.9660 - val_loss: 0.1839 - val_acc: 0.9320\n",
      "Epoch 25/100\n",
      "100/100 [==============================] - 27s 273ms/step - loss: 0.0807 - acc: 0.9720 - val_loss: 0.2182 - val_acc: 0.9240\n",
      "Epoch 26/100\n",
      "100/100 [==============================] - 26s 260ms/step - loss: 0.0724 - acc: 0.9695 - val_loss: 0.2041 - val_acc: 0.9300ss: 0.0682 - acc\n",
      "Epoch 27/100\n",
      "100/100 [==============================] - 27s 273ms/step - loss: 0.0804 - acc: 0.9700 - val_loss: 0.2042 - val_acc: 0.9350\n",
      "Epoch 28/100\n",
      "100/100 [==============================] - 27s 272ms/step - loss: 0.0704 - acc: 0.9690 - val_loss: 0.1919 - val_acc: 0.9310\n",
      "Epoch 29/100\n",
      "100/100 [==============================] - 28s 279ms/step - loss: 0.0577 - acc: 0.9780 - val_loss: 0.2031 - val_acc: 0.9290\n",
      "Epoch 30/100\n",
      "100/100 [==============================] - 28s 276ms/step - loss: 0.0760 - acc: 0.9700 - val_loss: 0.2270 - val_acc: 0.9240\n",
      "Epoch 31/100\n",
      "100/100 [==============================] - 28s 276ms/step - loss: 0.0700 - acc: 0.9705 - val_loss: 0.3697 - val_acc: 0.9060\n",
      "Epoch 32/100\n",
      "100/100 [==============================] - 28s 281ms/step - loss: 0.0647 - acc: 0.9755 - val_loss: 0.2524 - val_acc: 0.9220\n",
      "Epoch 33/100\n",
      "100/100 [==============================] - 28s 281ms/step - loss: 0.0813 - acc: 0.9670 - val_loss: 0.2296 - val_acc: 0.9250\n",
      "Epoch 34/100\n",
      "100/100 [==============================] - 28s 279ms/step - loss: 0.0533 - acc: 0.9790 - val_loss: 0.4752 - val_acc: 0.8960\n",
      "Epoch 35/100\n",
      "100/100 [==============================] - 27s 267ms/step - loss: 0.0584 - acc: 0.9795 - val_loss: 0.2256 - val_acc: 0.9300\n",
      "Epoch 36/100\n",
      "100/100 [==============================] - 27s 269ms/step - loss: 0.0556 - acc: 0.9815 - val_loss: 0.2073 - val_acc: 0.9340\n",
      "Epoch 37/100\n",
      "100/100 [==============================] - 28s 283ms/step - loss: 0.0540 - acc: 0.9800 - val_loss: 0.2295 - val_acc: 0.9310\n",
      "Epoch 38/100\n",
      "100/100 [==============================] - 28s 281ms/step - loss: 0.0498 - acc: 0.9815 - val_loss: 0.2571 - val_acc: 0.9260\n",
      "Epoch 39/100\n",
      "100/100 [==============================] - 29s 285ms/step - loss: 0.0487 - acc: 0.9805 - val_loss: 0.2066 - val_acc: 0.9310\n",
      "Epoch 40/100\n",
      "100/100 [==============================] - 26s 260ms/step - loss: 0.0500 - acc: 0.9850 - val_loss: 0.2757 - val_acc: 0.9240\n",
      "Epoch 41/100\n",
      "100/100 [==============================] - 26s 263ms/step - loss: 0.0567 - acc: 0.9785 - val_loss: 0.2171 - val_acc: 0.9330\n",
      "Epoch 42/100\n",
      "100/100 [==============================] - 28s 279ms/step - loss: 0.0447 - acc: 0.9780 - val_loss: 0.2946 - val_acc: 0.9250\n",
      "Epoch 43/100\n",
      "100/100 [==============================] - 29s 285ms/step - loss: 0.0473 - acc: 0.9845 - val_loss: 0.2972 - val_acc: 0.9290 0s - loss: 0.0476 - acc: 0.9\n",
      "Epoch 44/100\n",
      "100/100 [==============================] - 29s 288ms/step - loss: 0.0569 - acc: 0.9830 - val_loss: 0.2340 - val_acc: 0.9340\n",
      "Epoch 45/100\n",
      "100/100 [==============================] - 28s 281ms/step - loss: 0.0521 - acc: 0.9805 - val_loss: 0.2157 - val_acc: 0.9340\n",
      "Epoch 46/100\n",
      "100/100 [==============================] - 27s 271ms/step - loss: 0.0432 - acc: 0.9840 - val_loss: 0.2879 - val_acc: 0.9190\n",
      "Epoch 47/100\n",
      "100/100 [==============================] - 28s 276ms/step - loss: 0.0423 - acc: 0.9855 - val_loss: 0.2314 - val_acc: 0.9370\n",
      "Epoch 48/100\n",
      "100/100 [==============================] - 28s 284ms/step - loss: 0.0405 - acc: 0.9860 - val_loss: 0.2998 - val_acc: 0.9240\n",
      "Epoch 49/100\n",
      "100/100 [==============================] - 28s 277ms/step - loss: 0.0372 - acc: 0.9845 - val_loss: 0.2606 - val_acc: 0.9270\n",
      "Epoch 50/100\n",
      "100/100 [==============================] - 27s 267ms/step - loss: 0.0523 - acc: 0.9815 - val_loss: 0.2198 - val_acc: 0.9370\n",
      "Epoch 51/100\n",
      "100/100 [==============================] - 28s 282ms/step - loss: 0.0371 - acc: 0.9870 - val_loss: 0.2356 - val_acc: 0.9330\n",
      "Epoch 52/100\n",
      "100/100 [==============================] - 28s 277ms/step - loss: 0.0318 - acc: 0.9885 - val_loss: 0.1952 - val_acc: 0.9400\n",
      "Epoch 53/100\n",
      "100/100 [==============================] - 28s 283ms/step - loss: 0.0453 - acc: 0.9835 - val_loss: 0.2125 - val_acc: 0.9430\n",
      "Epoch 54/100\n",
      "100/100 [==============================] - 28s 285ms/step - loss: 0.0381 - acc: 0.9840 - val_loss: 0.2472 - val_acc: 0.9350\n",
      "Epoch 55/100\n",
      "100/100 [==============================] - 28s 282ms/step - loss: 0.0361 - acc: 0.9865 - val_loss: 0.2638 - val_acc: 0.9320\n",
      "Epoch 56/100\n",
      "100/100 [==============================] - 28s 281ms/step - loss: 0.0341 - acc: 0.9900 - val_loss: 0.2434 - val_acc: 0.9370\n",
      "Epoch 57/100\n",
      "100/100 [==============================] - 28s 275ms/step - loss: 0.0351 - acc: 0.9865 - val_loss: 0.2310 - val_acc: 0.9360\n",
      "Epoch 58/100\n",
      "100/100 [==============================] - 28s 280ms/step - loss: 0.0302 - acc: 0.9875 - val_loss: 0.2822 - val_acc: 0.9260\n",
      "Epoch 59/100\n"
     ]
    },
    {
     "name": "stdout",
     "output_type": "stream",
     "text": [
      "100/100 [==============================] - 27s 274ms/step - loss: 0.0272 - acc: 0.9895 - val_loss: 0.2463 - val_acc: 0.9330\n",
      "Epoch 60/100\n",
      "100/100 [==============================] - 26s 261ms/step - loss: 0.0343 - acc: 0.9885 - val_loss: 0.2164 - val_acc: 0.9370\n",
      "Epoch 61/100\n",
      "100/100 [==============================] - 28s 277ms/step - loss: 0.0385 - acc: 0.9860 - val_loss: 0.2231 - val_acc: 0.9360\n",
      "Epoch 62/100\n",
      "100/100 [==============================] - 27s 275ms/step - loss: 0.0380 - acc: 0.9870 - val_loss: 0.2194 - val_acc: 0.9350\n",
      "Epoch 63/100\n",
      "100/100 [==============================] - 28s 281ms/step - loss: 0.0248 - acc: 0.9910 - val_loss: 0.2352 - val_acc: 0.9370\n",
      "Epoch 64/100\n",
      "100/100 [==============================] - 28s 275ms/step - loss: 0.0289 - acc: 0.9880 - val_loss: 0.3944 - val_acc: 0.9200\n",
      "Epoch 65/100\n",
      "100/100 [==============================] - 28s 280ms/step - loss: 0.0320 - acc: 0.9895 - val_loss: 0.2812 - val_acc: 0.9330\n",
      "Epoch 66/100\n",
      "100/100 [==============================] - 28s 279ms/step - loss: 0.0244 - acc: 0.9905 - val_loss: 0.2600 - val_acc: 0.9340\n",
      "Epoch 67/100\n",
      "100/100 [==============================] - 28s 283ms/step - loss: 0.0329 - acc: 0.9895 - val_loss: 0.2453 - val_acc: 0.9410\n",
      "Epoch 68/100\n",
      "100/100 [==============================] - 28s 284ms/step - loss: 0.0255 - acc: 0.9895 - val_loss: 0.2859 - val_acc: 0.9320\n",
      "Epoch 69/100\n",
      "100/100 [==============================] - 26s 260ms/step - loss: 0.0213 - acc: 0.9945 - val_loss: 0.2472 - val_acc: 0.9390\n",
      "Epoch 70/100\n",
      "100/100 [==============================] - 27s 269ms/step - loss: 0.0239 - acc: 0.9910 - val_loss: 0.3004 - val_acc: 0.9350\n",
      "Epoch 71/100\n",
      "100/100 [==============================] - 26s 260ms/step - loss: 0.0206 - acc: 0.9925 - val_loss: 0.2327 - val_acc: 0.9400\n",
      "Epoch 72/100\n",
      "100/100 [==============================] - 28s 283ms/step - loss: 0.0226 - acc: 0.9915 - val_loss: 0.2646 - val_acc: 0.9290\n",
      "Epoch 73/100\n",
      "100/100 [==============================] - 28s 276ms/step - loss: 0.0219 - acc: 0.9910 - val_loss: 0.3031 - val_acc: 0.9320\n",
      "Epoch 74/100\n",
      "100/100 [==============================] - 27s 273ms/step - loss: 0.0280 - acc: 0.9925 - val_loss: 0.4394 - val_acc: 0.9160\n",
      "Epoch 75/100\n",
      "100/100 [==============================] - 27s 268ms/step - loss: 0.0290 - acc: 0.9915 - val_loss: 0.2896 - val_acc: 0.9360\n",
      "Epoch 76/100\n",
      "100/100 [==============================] - 27s 273ms/step - loss: 0.0288 - acc: 0.9925 - val_loss: 0.2839 - val_acc: 0.9360\n",
      "Epoch 77/100\n",
      "100/100 [==============================] - 26s 260ms/step - loss: 0.0275 - acc: 0.9900 - val_loss: 0.2403 - val_acc: 0.9350\n",
      "Epoch 78/100\n",
      "100/100 [==============================] - 28s 277ms/step - loss: 0.0211 - acc: 0.9915 - val_loss: 0.2598 - val_acc: 0.9310\n",
      "Epoch 79/100\n",
      "100/100 [==============================] - 27s 275ms/step - loss: 0.0188 - acc: 0.9940 - val_loss: 0.2515 - val_acc: 0.9340\n",
      "Epoch 80/100\n",
      "100/100 [==============================] - 28s 276ms/step - loss: 0.0276 - acc: 0.9925 - val_loss: 0.2862 - val_acc: 0.9330\n",
      "Epoch 81/100\n",
      "100/100 [==============================] - 28s 281ms/step - loss: 0.0224 - acc: 0.9930 - val_loss: 0.2728 - val_acc: 0.9380\n",
      "Epoch 82/100\n",
      "100/100 [==============================] - 28s 281ms/step - loss: 0.0246 - acc: 0.9915 - val_loss: 0.3013 - val_acc: 0.9230\n",
      "Epoch 83/100\n",
      "100/100 [==============================] - 27s 271ms/step - loss: 0.0210 - acc: 0.9925 - val_loss: 0.2630 - val_acc: 0.9380\n",
      "Epoch 84/100\n",
      "100/100 [==============================] - 26s 262ms/step - loss: 0.0190 - acc: 0.9930 - val_loss: 0.3010 - val_acc: 0.9350\n",
      "Epoch 85/100\n",
      "100/100 [==============================] - 27s 271ms/step - loss: 0.0368 - acc: 0.9880 - val_loss: 0.2718 - val_acc: 0.9350\n",
      "Epoch 86/100\n",
      "100/100 [==============================] - 27s 266ms/step - loss: 0.0238 - acc: 0.9925 - val_loss: 0.2973 - val_acc: 0.9370\n",
      "Epoch 87/100\n",
      "100/100 [==============================] - 27s 271ms/step - loss: 0.0250 - acc: 0.9905 - val_loss: 0.2627 - val_acc: 0.9330\n",
      "Epoch 88/100\n",
      "100/100 [==============================] - 27s 272ms/step - loss: 0.0145 - acc: 0.9950 - val_loss: 0.2692 - val_acc: 0.9370\n",
      "Epoch 89/100\n",
      "100/100 [==============================] - 32s 318ms/step - loss: 0.0217 - acc: 0.9925 - val_loss: 0.2841 - val_acc: 0.9350\n",
      "Epoch 90/100\n",
      "100/100 [==============================] - 32s 317ms/step - loss: 0.0191 - acc: 0.9940 - val_loss: 0.2439 - val_acc: 0.9370\n",
      "Epoch 91/100\n",
      "100/100 [==============================] - 28s 280ms/step - loss: 0.0243 - acc: 0.9905 - val_loss: 0.2509 - val_acc: 0.9310\n",
      "Epoch 92/100\n",
      "100/100 [==============================] - 30s 301ms/step - loss: 0.0190 - acc: 0.9935 - val_loss: 0.3145 - val_acc: 0.9360\n",
      "Epoch 93/100\n",
      "100/100 [==============================] - 30s 304ms/step - loss: 0.0190 - acc: 0.9940 - val_loss: 0.3532 - val_acc: 0.9250\n",
      "Epoch 94/100\n",
      "100/100 [==============================] - 29s 288ms/step - loss: 0.0320 - acc: 0.9885 - val_loss: 0.2683 - val_acc: 0.9420\n",
      "Epoch 95/100\n",
      "100/100 [==============================] - 29s 289ms/step - loss: 0.0217 - acc: 0.9925 - val_loss: 0.3977 - val_acc: 0.9200\n",
      "Epoch 96/100\n",
      "100/100 [==============================] - 37s 373ms/step - loss: 0.0155 - acc: 0.9935 - val_loss: 0.2490 - val_acc: 0.9410\n",
      "Epoch 97/100\n",
      "100/100 [==============================] - 27s 269ms/step - loss: 0.0234 - acc: 0.9905 - val_loss: 0.4044 - val_acc: 0.9260\n",
      "Epoch 98/100\n",
      "100/100 [==============================] - 28s 278ms/step - loss: 0.0243 - acc: 0.9905 - val_loss: 0.3072 - val_acc: 0.9360\n",
      "Epoch 99/100\n",
      "100/100 [==============================] - 29s 289ms/step - loss: 0.0186 - acc: 0.9955 - val_loss: 0.4090 - val_acc: 0.9290\n",
      "Epoch 100/100\n",
      "100/100 [==============================] - 27s 265ms/step - loss: 0.0175 - acc: 0.9925 - val_loss: 0.2567 - val_acc: 0.9360\n"
     ]
    }
   ],
   "source": [
    "model.compile(loss='binary_crossentropy',\n",
    "              optimizer=optimizers.RMSprop(lr=1e-5),\n",
    "              metrics=['acc'])\n",
    "\n",
    "history = model.fit_generator(\n",
    "      train_generator,\n",
    "      steps_per_epoch=100,\n",
    "      epochs=100,\n",
    "      validation_data=validation_generator,\n",
    "      validation_steps=50)"
   ]
  },
  {
   "cell_type": "code",
   "execution_count": 20,
   "metadata": {},
   "outputs": [],
   "source": [
    "model.save('cats_and_dogs_small_4.h5')"
   ]
  },
  {
   "cell_type": "markdown",
   "metadata": {},
   "source": [
    "Let's plot our results using the same plotting code as before:"
   ]
  },
  {
   "cell_type": "code",
   "execution_count": 21,
   "metadata": {},
   "outputs": [
    {
     "data": {
      "image/png": "[encoded data removed]",
      "text/plain": [
       "<Figure size 432x288 with 1 Axes>"
      ]
     },
     "metadata": {
      "needs_background": "light"
     },
     "output_type": "display_data"
    },
    {
     "data": {
      "image/png": "[encoded data removed]",
      "text/plain": [
       "<Figure size 432x288 with 1 Axes>"
      ]
     },
     "metadata": {
      "needs_background": "light"
     },
     "output_type": "display_data"
    }
   ],
   "source": [
    "acc = history.history['acc']\n",
    "val_acc = history.history['val_acc']\n",
    "loss = history.history['loss']\n",
    "val_loss = history.history['val_loss']\n",
    "\n",
    "epochs = range(len(acc))\n",
    "\n",
    "plt.plot(epochs, acc, 'bo', label='Training acc')\n",
    "plt.plot(epochs, val_acc, 'b', label='Validation acc')\n",
    "plt.title('Training and validation accuracy')\n",
    "plt.legend()\n",
    "\n",
    "plt.figure()\n",
    "\n",
    "plt.plot(epochs, loss, 'bo', label='Training loss')\n",
    "plt.plot(epochs, val_loss, 'b', label='Validation loss')\n",
    "plt.title('Training and validation loss')\n",
    "plt.legend()\n",
    "\n",
    "plt.show()"
   ]
  },
  {
   "cell_type": "markdown",
   "metadata": {},
   "source": [
    "The model acuracy is now improved further to be around 95%.\n",
    "\n",
    "We can now finally evaluate this model on the test data:"
   ]
  },
  {
   "cell_type": "code",
   "execution_count": 22,
   "metadata": {},
   "outputs": [
    {
     "name": "stdout",
     "output_type": "stream",
     "text": [
      "Found 1000 images belonging to 2 classes.\n",
      "WARNING:tensorflow:From <ipython-input-22-045f6020024c>:7: Model.evaluate_generator (from tensorflow.python.keras.engine.training) is deprecated and will be removed in a future version.\n",
      "Instructions for updating:\n",
      "Please use Model.evaluate, which supports generators.\n",
      "WARNING:tensorflow:sample_weight modes were coerced from\n",
      "  ...\n",
      "    to  \n",
      "  ['...']\n",
      "test acc: 0.939\n"
     ]
    }
   ],
   "source": [
    "test_generator = test_datagen.flow_from_directory(\n",
    "        test_dir,\n",
    "        target_size=(img_size, img_size),\n",
    "        batch_size=20,\n",
    "        class_mode='binary')\n",
    "\n",
    "test_loss, test_acc = model.evaluate_generator(test_generator, steps=50)\n",
    "print('test acc:', test_acc)"
   ]
  },
  {
   "cell_type": "markdown",
   "metadata": {},
   "source": [
    "\n",
    "Here we get a test accuracy of 94%. In the original Kaggle competition around this dataset, this would have been one of the top results. \n",
    "However, using modern deep learning techniques, we managed to reach this result using only a very small fraction of the training data \n",
    "available (about 10%). There is a huge difference between being able to train on 20,000 samples compared to 2,000 samples!"
   ]
  },
  {
   "cell_type": "markdown",
   "metadata": {},
   "source": [
    "## 3. Exercise - utilize another pretrained model <a id='exc' />\n",
    "\n",
    "Please utilize another pretrained model, e.g:\n",
    "(refer https://keras.io/applications/ for details)\n",
    "\n",
    "* Xception\n",
    "* InceptionV3\n",
    "* ResNet50\n",
    "* VGG19\n",
    "* MobileNet\n",
    "* DenseNet\n",
    "* NASNet\n",
    "\n",
    "Implement the feature extraction, feature extraction with data augmentation and fine-tuning you learned through this practical. \n",
    "\n",
    "Observe the traning and validation accuracy curves. \n",
    "\n",
    "Provide your codes & comments in the below boxes."
   ]
  },
  {
   "cell_type": "code",
   "execution_count": 23,
   "metadata": {},
   "outputs": [],
   "source": [
    "# Task 1: Feature Extraction without data augmentation\n"
   ]
  },
  {
   "cell_type": "code",
   "execution_count": 24,
   "metadata": {},
   "outputs": [],
   "source": [
    "# Task 2: Feature Extraction with data augmentation\n"
   ]
  },
  {
   "cell_type": "code",
   "execution_count": 25,
   "metadata": {},
   "outputs": [],
   "source": [
    "# Task 3: Fine tuning\n"
   ]
  },
  {
   "cell_type": "code",
   "execution_count": 26,
   "metadata": {},
   "outputs": [],
   "source": [
    "# Task 4: Comments\n"
   ]
  }
 ],
 "metadata": {
  "kernelspec": {
   "display_name": "Python 3",
   "language": "python",
   "name": "python3"
  },
  "language_info": {
   "codemirror_mode": {
    "name": "ipython",
    "version": 3
   },
   "file_extension": ".py",
   "mimetype": "text/x-python",
   "name": "python",
   "nbconvert_exporter": "python",
   "pygments_lexer": "ipython3",
   "version": "3.7.7"
  }
 },
 "nbformat": 4,
 "nbformat_minor": 2
}
