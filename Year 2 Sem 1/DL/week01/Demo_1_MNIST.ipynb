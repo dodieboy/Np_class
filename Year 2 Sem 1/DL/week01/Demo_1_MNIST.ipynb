{
 "cells": [
  {
   "cell_type": "code",
   "execution_count": 1,
   "metadata": {},
   "outputs": [
    {
     "ename": "SyntaxError",
     "evalue": "invalid syntax (<ipython-input-1-593e504611bb>, line 1)",
     "output_type": "error",
     "traceback": [
      "\u001b[1;36m  File \u001b[1;32m\"<ipython-input-1-593e504611bb>\"\u001b[1;36m, line \u001b[1;32m1\u001b[0m\n\u001b[1;33m    <table class=\"table table-bordered\">\u001b[0m\n\u001b[1;37m    ^\u001b[0m\n\u001b[1;31mSyntaxError\u001b[0m\u001b[1;31m:\u001b[0m invalid syntax\n"
     ]
    }
   ],
   "source": [
    "<table class=\"table table-bordered\">\n",
    "    <tr>\n",
    "        <th style=\"text-align:center; width:25%\"><img src='https://www.np.edu.sg/PublishingImages/Pages/default/odp/ICT.jpg' style=\"width: 250px; height: 125px; \"></th>\n",
    "        <th style=\"text-align:center;\"><h1>Deep Learning</h1><h2>Demo 1 - MNIST</h2><h3>AY2020/21 Semester</h3></th>\n",
    "    </tr>\n",
    "</table>"
   ]
  },
  {
   "cell_type": "code",
   "execution_count": 2,
   "metadata": {},
   "outputs": [
    {
     "name": "stdout",
     "output_type": "stream",
     "text": [
      "keras:  2.2.4-tf\n"
     ]
    }
   ],
   "source": [
    "from tensorflow import keras\n",
    "print('keras: ', keras.__version__)"
   ]
  },
  {
   "cell_type": "markdown",
   "metadata": {},
   "source": [
    "# A first look at a neural network\n",
    "\n",
    "We will now take a look at a first concrete example of a neural network, which makes use of the Python library Keras to learn to classify hand-written digits. \n",
    "\n",
    "The problem we are trying to solve here is to classify grayscale images of handwritten digits (28 pixels by 28 pixels), into their 10 categories (0 to 9). The dataset we will use is the MNIST dataset, a classic dataset in the machine learning community, which has been around for almost as long as the field itself and has been very intensively studied. It's a set of 60,000 training images, plus 10,000 test images, assembled by the National Institute of Standards and Technology (the NIST in MNIST) in the 1980s. "
   ]
  },
  {
   "cell_type": "markdown",
   "metadata": {},
   "source": [
    "The MNIST dataset comes pre-loaded in Keras, in the form of a set of four Numpy arrays:"
   ]
  },
  {
   "cell_type": "code",
   "execution_count": 3,
   "metadata": {},
   "outputs": [],
   "source": [
    "from tensorflow.keras.datasets import mnist\n",
    "\n",
    "(train_images, train_labels), (test_images, test_labels) = mnist.load_data()"
   ]
  },
  {
   "cell_type": "markdown",
   "metadata": {},
   "source": [
    "`train_images` and `train_labels` form the \"training set\", the data that the model will learn from. The model will then be tested on the \n",
    "\"test set\", `test_images` and `test_labels`. Our images are encoded as Numpy arrays, and the labels are simply an array of digits, ranging \n",
    "from 0 to 9. There is a one-to-one correspondence between the images and the labels.\n",
    "\n",
    "Let's have a look at the training data:"
   ]
  },
  {
   "cell_type": "code",
   "execution_count": 4,
   "metadata": {},
   "outputs": [
    {
     "data": {
      "text/plain": [
       "(60000, 28, 28)"
      ]
     },
     "execution_count": 4,
     "metadata": {},
     "output_type": "execute_result"
    }
   ],
   "source": [
    "train_images.shape"
   ]
  },
  {
   "cell_type": "code",
   "execution_count": 5,
   "metadata": {},
   "outputs": [
    {
     "data": {
      "image/png": "[encoded data removed]",
      "text/plain": [
       "<Figure size 432x288 with 1 Axes>"
      ]
     },
     "metadata": {
      "needs_background": "light"
     },
     "output_type": "display_data"
    }
   ],
   "source": [
    "import matplotlib.pyplot as plt\n",
    "%matplotlib inline\n",
    "\n",
    "plt.imshow(train_images[0], cmap=plt.cm.binary)\n",
    "plt.show()"
   ]
  },
  {
   "cell_type": "code",
   "execution_count": 6,
   "metadata": {},
   "outputs": [
    {
     "name": "stdout",
     "output_type": "stream",
     "text": [
      "(60000,)\n",
      "60000\n"
     ]
    }
   ],
   "source": [
    "print(train_labels.shape)\n",
    "print(len(train_labels))"
   ]
  },
  {
   "cell_type": "markdown",
   "metadata": {},
   "source": [
    "Let's have a look at the test data:"
   ]
  },
  {
   "cell_type": "code",
   "execution_count": 7,
   "metadata": {},
   "outputs": [
    {
     "data": {
      "text/plain": [
       "(10000, 28, 28)"
      ]
     },
     "execution_count": 7,
     "metadata": {},
     "output_type": "execute_result"
    }
   ],
   "source": [
    "test_images.shape"
   ]
  },
  {
   "cell_type": "code",
   "execution_count": 8,
   "metadata": {},
   "outputs": [
    {
     "name": "stdout",
     "output_type": "stream",
     "text": [
      "[7 2 1 ... 4 5 6]\n",
      "10000\n"
     ]
    }
   ],
   "source": [
    "print(test_labels)\n",
    "print(len(test_labels))"
   ]
  },
  {
   "cell_type": "markdown",
   "metadata": {},
   "source": [
    "Our workflow will be as follow: first we will present our neural network with the training data, `train_images` and `train_labels`. The \n",
    "network will then learn to associate images and labels. Finally, we will ask the network to produce predictions for `test_images`, and we \n",
    "will verify if these predictions match the labels from `test_labels`.\n",
    "\n",
    "Let's build our network."
   ]
  },
  {
   "cell_type": "code",
   "execution_count": 9,
   "metadata": {},
   "outputs": [
    {
     "name": "stdout",
     "output_type": "stream",
     "text": [
      "Model: \"sequential\"\n",
      "_________________________________________________________________\n",
      "Layer (type)                 Output Shape              Param #   \n",
      "=================================================================\n",
      "dense (Dense)                (None, 512)               401920    \n",
      "_________________________________________________________________\n",
      "dense_1 (Dense)              (None, 10)                5130      \n",
      "=================================================================\n",
      "Total params: 407,050\n",
      "Trainable params: 407,050\n",
      "Non-trainable params: 0\n",
      "_________________________________________________________________\n"
     ]
    }
   ],
   "source": [
    "from tensorflow.keras import models\n",
    "from tensorflow.keras import layers\n",
    "\n",
    "network = models.Sequential()\n",
    "network.add(layers.Dense(512, activation='relu', input_shape=(28 * 28,)))\n",
    "network.add(layers.Dense(10, activation='softmax'))\n",
    "network.summary()"
   ]
  },
  {
   "cell_type": "markdown",
   "metadata": {},
   "source": [
    "Here our network consists of a sequence of two `Dense` layers, which are densely-connected (also called \"fully-connected\") neural layers. \n",
    "The second (and last) layer is a 10-way \"softmax\" layer, which means it will return an array of 10 probability scores (summing to 1). Each \n",
    "score will be the probability that the current digit image belongs to one of our 10 digit classes.\n",
    "\n",
    "To make our network ready for training, we need to pick three more things, as part of \"compilation\" step:\n",
    "\n",
    "* A loss function: this is how the network will be able to measure how good a job it is doing on its training data, and thus how it will be \n",
    "able to steer itself in the right direction.\n",
    "* An optimizer: this is the mechanism through which the network will update itself based on the data it sees and its loss function.\n",
    "* Metrics to monitor during training and testing. Here we will only care about accuracy (the fraction of the images that were correctly \n",
    "classified).\n"
   ]
  },
  {
   "cell_type": "code",
   "execution_count": 10,
   "metadata": {},
   "outputs": [],
   "source": [
    "network.compile(optimizer='rmsprop',\n",
    "                loss='categorical_crossentropy',\n",
    "                metrics=['accuracy'])"
   ]
  },
  {
   "cell_type": "markdown",
   "metadata": {},
   "source": [
    "\n",
    "Before training, we will preprocess our data by reshaping it into the shape that the network expects, and scaling it so that all values are in \n",
    "the `[0, 1]` interval. Previously, our training images for instance were stored in an array of shape `(60000, 28, 28)` of type `uint8` with \n",
    "values in the `[0, 255]` interval. We transform it into a `float32` array of shape `(60000, 28 * 28)` with values between 0 and 1."
   ]
  },
  {
   "cell_type": "code",
   "execution_count": 11,
   "metadata": {},
   "outputs": [],
   "source": [
    "x_train = train_images.reshape((60000, 28 * 28))\n",
    "x_train = x_train.astype('float32') / 255\n",
    "\n",
    "x_test = test_images.reshape((10000, 28 * 28))\n",
    "x_test = x_test.astype('float32') / 255"
   ]
  },
  {
   "cell_type": "markdown",
   "metadata": {},
   "source": [
    "We also need to categorically encode the labels:"
   ]
  },
  {
   "cell_type": "code",
   "execution_count": 12,
   "metadata": {},
   "outputs": [
    {
     "data": {
      "text/plain": [
       "5"
      ]
     },
     "execution_count": 12,
     "metadata": {},
     "output_type": "execute_result"
    }
   ],
   "source": [
    "train_labels[0]"
   ]
  },
  {
   "cell_type": "code",
   "execution_count": 13,
   "metadata": {},
   "outputs": [],
   "source": [
    "from tensorflow.keras.utils import to_categorical\n",
    "\n",
    "y_train = to_categorical(train_labels)\n",
    "y_test = to_categorical(test_labels)"
   ]
  },
  {
   "cell_type": "code",
   "execution_count": 14,
   "metadata": {},
   "outputs": [
    {
     "data": {
      "text/plain": [
       "array([0., 0., 0., 0., 0., 1., 0., 0., 0., 0.], dtype=float32)"
      ]
     },
     "execution_count": 14,
     "metadata": {},
     "output_type": "execute_result"
    }
   ],
   "source": [
    "y_train[0]"
   ]
  },
  {
   "cell_type": "markdown",
   "metadata": {},
   "source": [
    "We are now ready to train our network, which in Keras it is done via a call to the `fit` method of the network: \n",
    "we \"fit\" the model to its training data."
   ]
  },
  {
   "cell_type": "code",
   "execution_count": 16,
   "metadata": {},
   "outputs": [
    {
     "name": "stdout",
     "output_type": "stream",
     "text": [
      "Train on 60000 samples\n",
      "Epoch 1/50\n",
      "60000/60000 [==============================] - 2s 32us/sample - loss: 0.0281 - accuracy: 0.9919\n",
      "Epoch 2/50\n",
      "60000/60000 [==============================] - 2s 26us/sample - loss: 0.0217 - accuracy: 0.9938\n",
      "Epoch 3/50\n",
      "60000/60000 [==============================] - 2s 27us/sample - loss: 0.0158 - accuracy: 0.9952\n",
      "Epoch 4/50\n",
      "60000/60000 [==============================] - 2s 27us/sample - loss: 0.0133 - accuracy: 0.9962\n",
      "Epoch 5/50\n",
      "60000/60000 [==============================] - 2s 27us/sample - loss: 0.0102 - accuracy: 0.9970\n",
      "Epoch 6/50\n",
      "60000/60000 [==============================] - 2s 26us/sample - loss: 0.0079 - accuracy: 0.9979\n",
      "Epoch 7/50\n",
      "60000/60000 [==============================] - 2s 26us/sample - loss: 0.0062 - accuracy: 0.9983\n",
      "Epoch 8/50\n",
      "60000/60000 [==============================] - 2s 27us/sample - loss: 0.0046 - accuracy: 0.9987\n",
      "Epoch 9/50\n",
      "60000/60000 [==============================] - 1s 24us/sample - loss: 0.0038 - accuracy: 0.9991\n",
      "Epoch 10/50\n",
      "60000/60000 [==============================] - 2s 28us/sample - loss: 0.0030 - accuracy: 0.9991\n",
      "Epoch 11/50\n",
      "60000/60000 [==============================] - 2s 28us/sample - loss: 0.0022 - accuracy: 0.9994\n",
      "Epoch 12/50\n",
      "60000/60000 [==============================] - 2s 25us/sample - loss: 0.0020 - accuracy: 0.9995\n",
      "Epoch 13/50\n",
      "60000/60000 [==============================] - 1s 24us/sample - loss: 0.0016 - accuracy: 0.9996\n",
      "Epoch 14/50\n",
      "60000/60000 [==============================] - 2s 28us/sample - loss: 0.0012 - accuracy: 0.9997\n",
      "Epoch 15/50\n",
      "60000/60000 [==============================] - 2s 28us/sample - loss: 0.0011 - accuracy: 0.9998\n",
      "Epoch 16/50\n",
      "60000/60000 [==============================] - 2s 27us/sample - loss: 6.3200e-04 - accuracy: 0.9998\n",
      "Epoch 17/50\n",
      "60000/60000 [==============================] - ETA: 0s - loss: 5.2387e-04 - accuracy: 0.99 - 2s 27us/sample - loss: 5.1987e-04 - accuracy: 0.9999\n",
      "Epoch 18/50\n",
      "60000/60000 [==============================] - 2s 26us/sample - loss: 4.5837e-04 - accuracy: 0.9999\n",
      "Epoch 19/50\n",
      "60000/60000 [==============================] - 1s 25us/sample - loss: 4.9658e-04 - accuracy: 0.9998\n",
      "Epoch 20/50\n",
      "60000/60000 [==============================] - 2s 27us/sample - loss: 4.4333e-04 - accuracy: 0.9998\n",
      "Epoch 21/50\n",
      "60000/60000 [==============================] - 2s 26us/sample - loss: 2.6219e-04 - accuracy: 0.9999\n",
      "Epoch 22/50\n",
      "60000/60000 [==============================] - 2s 27us/sample - loss: 4.0653e-04 - accuracy: 0.9999\n",
      "Epoch 23/50\n",
      "60000/60000 [==============================] - 2s 26us/sample - loss: 2.0610e-04 - accuracy: 0.9999\n",
      "Epoch 24/50\n",
      "60000/60000 [==============================] - 2s 27us/sample - loss: 3.1383e-04 - accuracy: 0.9999\n",
      "Epoch 25/50\n",
      "60000/60000 [==============================] - 1s 24us/sample - loss: 1.1938e-04 - accuracy: 1.0000\n",
      "Epoch 26/50\n",
      "60000/60000 [==============================] - 2s 25us/sample - loss: 1.6936e-04 - accuracy: 0.9999\n",
      "Epoch 27/50\n",
      "60000/60000 [==============================] - 2s 28us/sample - loss: 1.0703e-04 - accuracy: 1.0000\n",
      "Epoch 28/50\n",
      "60000/60000 [==============================] - 2s 29us/sample - loss: 5.7465e-05 - accuracy: 1.0000\n",
      "Epoch 29/50\n",
      "60000/60000 [==============================] - 2s 38us/sample - loss: 4.0993e-05 - accuracy: 1.0000\n",
      "Epoch 30/50\n",
      "60000/60000 [==============================] - 2s 28us/sample - loss: 2.3513e-05 - accuracy: 1.0000\n",
      "Epoch 31/50\n",
      "60000/60000 [==============================] - 2s 33us/sample - loss: 4.9545e-05 - accuracy: 1.0000\n",
      "Epoch 32/50\n",
      "60000/60000 [==============================] - 2s 26us/sample - loss: 1.4122e-05 - accuracy: 1.0000\n",
      "Epoch 33/50\n",
      "60000/60000 [==============================] - 2s 28us/sample - loss: 7.5010e-05 - accuracy: 0.9999\n",
      "Epoch 34/50\n",
      "60000/60000 [==============================] - 2s 30us/sample - loss: 1.0164e-04 - accuracy: 1.0000\n",
      "Epoch 35/50\n",
      "60000/60000 [==============================] - 2s 30us/sample - loss: 2.1674e-06 - accuracy: 1.0000\n",
      "Epoch 36/50\n",
      "60000/60000 [==============================] - 2s 26us/sample - loss: 2.5524e-05 - accuracy: 1.0000\n",
      "Epoch 37/50\n",
      "60000/60000 [==============================] - 2s 26us/sample - loss: 2.1797e-06 - accuracy: 1.0000\n",
      "Epoch 38/50\n",
      "60000/60000 [==============================] - 2s 26us/sample - loss: 1.0103e-07 - accuracy: 1.0000\n",
      "Epoch 39/50\n",
      "60000/60000 [==============================] - 2s 27us/sample - loss: 9.9903e-07 - accuracy: 1.0000\n",
      "Epoch 40/50\n",
      "60000/60000 [==============================] - 2s 28us/sample - loss: 3.6843e-08 - accuracy: 1.0000\n",
      "Epoch 41/50\n",
      "60000/60000 [==============================] - 2s 25us/sample - loss: 2.4760e-08 - accuracy: 1.0000\n",
      "Epoch 42/50\n",
      "60000/60000 [==============================] - 2s 26us/sample - loss: 1.9753e-08 - accuracy: 1.0000\n",
      "Epoch 43/50\n",
      "60000/60000 [==============================] - 2s 26us/sample - loss: 1.7701e-08 - accuracy: 1.0000\n",
      "Epoch 44/50\n",
      "60000/60000 [==============================] - 2s 26us/sample - loss: 1.6163e-08 - accuracy: 1.0000\n",
      "Epoch 45/50\n",
      "60000/60000 [==============================] - 2s 26us/sample - loss: 1.4836e-08 - accuracy: 1.0000\n",
      "Epoch 46/50\n",
      "60000/60000 [==============================] - 2s 25us/sample - loss: 1.3840e-08 - accuracy: 1.0000\n",
      "Epoch 47/50\n",
      "60000/60000 [==============================] - 2s 25us/sample - loss: 1.2823e-08 - accuracy: 1.0000\n",
      "Epoch 48/50\n",
      "60000/60000 [==============================] - 2s 29us/sample - loss: 1.2285e-08 - accuracy: 1.0000\n",
      "Epoch 49/50\n",
      "60000/60000 [==============================] - 2s 26us/sample - loss: 1.1585e-08 - accuracy: 1.0000\n",
      "Epoch 50/50\n",
      "60000/60000 [==============================] - 2s 27us/sample - loss: 1.1120e-08 - accuracy: 1.0000\n"
     ]
    },
    {
     "data": {
      "text/plain": [
       "<tensorflow.python.keras.callbacks.History at 0x1a2fa51fcc8>"
      ]
     },
     "execution_count": 16,
     "metadata": {},
     "output_type": "execute_result"
    }
   ],
   "source": [
    "network.fit(x_train, y_train, epochs=50, batch_size=128)"
   ]
  },
  {
   "cell_type": "markdown",
   "metadata": {},
   "source": [
    "Two quantities are being displayed during training: the \"loss\" of the network over the training data, and the accuracy of the network over \n",
    "the training data.\n",
    "\n",
    "We quickly reach an accuracy of 0.989 (i.e. 98.9%) on the training data. Now let's check that our model performs well on the test set too:"
   ]
  },
  {
   "cell_type": "code",
   "execution_count": 15,
   "metadata": {},
   "outputs": [
    {
     "name": "stdout",
     "output_type": "stream",
     "text": [
      "10000/10000 - 0s - loss: 0.0696 - acc: 0.9798\n"
     ]
    }
   ],
   "source": [
    "test_loss, test_acc = network.evaluate(x_test, y_test, verbose=2)"
   ]
  },
  {
   "cell_type": "code",
   "execution_count": 16,
   "metadata": {},
   "outputs": [
    {
     "name": "stdout",
     "output_type": "stream",
     "text": [
      "test_acc: 0.9798\n"
     ]
    }
   ],
   "source": [
    "print('test_acc:', test_acc)"
   ]
  },
  {
   "cell_type": "markdown",
   "metadata": {},
   "source": [
    "\n",
    "Our test set accuracy turns out to be about 98% -- that's quite a bit lower than the training set accuracy. \n",
    "This gap between training accuracy and test accuracy is an example of \"overfitting\", \n",
    "the fact that machine learning models tend to perform worse on new data than on their training data. \n",
    "\n",
    "This concludes our very first example -- you just saw how we could build and train a neural network to classify handwritten digits, in \n",
    "less than 20 lines of Python code. "
   ]
  },
  {
   "cell_type": "markdown",
   "metadata": {},
   "source": [
    "Pick a test image by choosing index number and take a look at how the model make the prediction. "
   ]
  },
  {
   "cell_type": "code",
   "execution_count": 17,
   "metadata": {},
   "outputs": [
    {
     "data": {
      "image/png": "[encoded data removed]",
      "text/plain": [
       "<Figure size 432x288 with 1 Axes>"
      ]
     },
     "metadata": {
      "needs_background": "light"
     },
     "output_type": "display_data"
    }
   ],
   "source": [
    "import matplotlib.pyplot as plt\n",
    "%matplotlib inline\n",
    "\n",
    "index = 105 # 0 to 9999\n",
    "plt.imshow(test_images[index], cmap=plt.cm.binary)\n",
    "plt.show()"
   ]
  },
  {
   "cell_type": "code",
   "execution_count": 18,
   "metadata": {},
   "outputs": [
    {
     "name": "stdout",
     "output_type": "stream",
     "text": [
      "the digit is:  9\n",
      "detailed probability outputs:  [[2.08993281e-10 7.93297112e-12 9.54165245e-08 7.54764042e-05\n",
      "  2.95573671e-04 1.38229516e-05 1.02517085e-10 7.98809560e-06\n",
      "  7.26222288e-06 9.99599755e-01]]\n"
     ]
    }
   ],
   "source": [
    "pred = network.predict(x_test[index].reshape(1,28*28,))\n",
    "print('the digit is: ', pred.argmax())\n",
    "print('detailed probability outputs: ', pred)"
   ]
  }
 ],
 "metadata": {
  "kernelspec": {
   "display_name": "Python 3",
   "language": "python",
   "name": "python3"
  },
  "language_info": {
   "codemirror_mode": {
    "name": "ipython",
    "version": 3
   },
   "file_extension": ".py",
   "mimetype": "text/x-python",
   "name": "python",
   "nbconvert_exporter": "python",
   "pygments_lexer": "ipython3",
   "version": "3.7.7"
  }
 },
 "nbformat": 4,
 "nbformat_minor": 2
}
